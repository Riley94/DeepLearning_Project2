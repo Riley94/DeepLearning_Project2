{
  "cells": [
    {
      "cell_type": "code",
      "execution_count": 13,
      "metadata": {
        "id": "hASLpyncBmvt"
      },
      "outputs": [],
      "source": [
        "!pip install -U portalocker>=2.0.0 optuna-integration matplotlib plotly scikit-learn nbformat>=4.2.0 pandas"
      ]
    },
    {
      "cell_type": "markdown",
      "metadata": {
        "id": "jum_uBK3SA8Q"
      },
      "source": [
        "## Task - 1\n",
        "\n",
        "### PyTorch FC ANN MNIST Implementation."
      ]
    },
    {
      "cell_type": "code",
      "execution_count": 72,
      "metadata": {
        "id": "1AShoC94SHM6"
      },
      "outputs": [],
      "source": [
        "import torch\n",
        "import torch.nn as nn\n",
        "import torch.optim as optim\n",
        "import torchvision\n",
        "import torchvision.transforms as transforms\n",
        "import matplotlib.pyplot as plt\n",
        "import numpy as np\n",
        "import optuna\n",
        "import os\n",
        "from tqdm import tqdm\n",
        "from torch.utils.data import random_split, DataLoader\n",
        "from optuna.integration import PyTorchLightningPruningCallback\n",
        "from torch.optim.lr_scheduler import ReduceLROnPlateau\n",
        "import keras\n",
        "from keras.datasets import fashion_mnist\n",
        "from keras.models import Sequential\n",
        "from keras.layers import Conv2D, MaxPooling2D, Dense, Flatten, Dropout, Input\n",
        "from keras.optimizers import SGD, Adam, RMSprop\n",
        "from keras.utils import to_categorical\n",
        "from keras.callbacks import EarlyStopping\n",
        "from keras.callbacks import ReduceLROnPlateau as ReduceLROnPlateauKeras\n",
        "from keras.regularizers import l2\n",
        "from sklearn.model_selection import train_test_split"
      ]
    },
    {
      "cell_type": "code",
      "execution_count": 49,
      "metadata": {
        "id": "YDg8ZzyzSKpu"
      },
      "outputs": [],
      "source": [
        "transform = transforms.Compose([\n",
        "    transforms.ToTensor(),\n",
        "    transforms.Normalize((0.5,), (0.5,))\n",
        "])\n",
        "\n",
        "batch_size = 64\n",
        "train_val_split = 0.8\n",
        "\n",
        "# This dataset is already \"sorted\" as part of the import method, but no \"validation\" set has been selected in this case\n",
        "# Loading the FashionMNIST dataset\n",
        "train_dataset = torchvision.datasets.MNIST(root='./data', train=True, download=True, transform=transform)\n",
        "test_dataset = torchvision.datasets.MNIST(root='./data', train=False, download=True, transform=transform)\n",
        "\n",
        "# Calculate sizes\n",
        "train_size = int(train_val_split * len(train_dataset))\n",
        "val_size = len(train_dataset) - train_size\n",
        "\n",
        "# Split the dataset\n",
        "train_subset, val_subset = random_split(train_dataset, [train_size, val_size])"
      ]
    },
    {
      "cell_type": "code",
      "execution_count": 5,
      "metadata": {
        "id": "3DRu0tGPS0dy"
      },
      "outputs": [],
      "source": [
        "# Mapping the labels for the MNIST dataset -- later we'll see that this using the \"keras to_categorical\" method as discussed in class\n",
        "labels_map = {\n",
        "    0: \"0\", 1: \"1\", 2: \"2\", 3: \"3\", 4: \"4\",\n",
        "    5: \"5\", 6: \"6\", 7: \"7\", 8: \"8\", 9: \"9\"\n",
        "}"
      ]
    },
    {
      "cell_type": "code",
      "execution_count": 6,
      "metadata": {
        "id": "_z_Aj5LWS_-f"
      },
      "outputs": [],
      "source": [
        "# Here we define the model parameters -- the general strucutre as provided here will produce a fully connected network [28x28] --> 32 --> 16 --> 10\n",
        "class MLP(nn.Module): # MLP stands for \"Multi-Layer Perceptron\"\n",
        "    def __init__(self, layer_sizes, activation_functions): # this initializes the structure of the network\n",
        "        super(MLP, self).__init__()\n",
        "        self.layers = nn.ModuleList()\n",
        "        self.norms = nn.ModuleList()\n",
        "        self.drops = nn.ModuleList()\n",
        "        input_size = 28 * 28 ## 28*28 input features and 32 outputs\n",
        "        for size in layer_sizes:\n",
        "            self.layers.append(nn.Linear(input_size, size))\n",
        "            self.norms.append(nn.BatchNorm1d(size))\n",
        "            self.drops.append(nn.Dropout(0.2))\n",
        "            input_size = size\n",
        "        \n",
        "        self.activation_functions = activation_functions\n",
        "        self.output_layer = nn.Linear(input_size, 10) ## 10 output features because MNIST has 10 target classes\n",
        "\n",
        "    def forward(self, x): # this modifies the elements of the intial structure defined above\n",
        "        x = x.view(-1, 28 * 28)  # Flatten the input\n",
        "        for layer, activation, norm, drop in zip(self.layers, self.activation_functions, self.norms, self.drops):\n",
        "            x = activation(layer(x))\n",
        "            x = norm(x)\n",
        "            x = drop(x)\n",
        "        x = self.output_layer(x)\n",
        "        return x"
      ]
    },
    {
      "cell_type": "code",
      "execution_count": 7,
      "metadata": {},
      "outputs": [],
      "source": [
        "def objective(trial):\n",
        "    num_layers = trial.suggest_int('num_layers', 1, 3)\n",
        "    layer_sizes = []\n",
        "    activation_functions = []\n",
        "    activations = {\n",
        "        'relu': nn.ReLU(),\n",
        "        'sigmoid': nn.Sigmoid(),\n",
        "        'tanh': nn.Tanh(),\n",
        "        'gelu': nn.GELU(),\n",
        "        'leaky_relu': nn.LeakyReLU(),\n",
        "        'silu': nn.SiLU(),\n",
        "    }\n",
        "\n",
        "    optimizers = {\n",
        "        'SGD': optim.SGD,\n",
        "        'Adam': optim.Adam,\n",
        "        'RMSprop': optim.RMSprop,\n",
        "    }\n",
        "\n",
        "    for i in range(num_layers):\n",
        "        layer_size = trial.suggest_categorical(f'layer_size_{i}', [16, 32, 64, 128, 256, 512])\n",
        "        activation_name = trial.suggest_categorical(f'activation_{i}', ['relu', 'sigmoid', 'tanh', 'gelu', 'leaky_relu', 'silu'])\n",
        "        layer_sizes.append(layer_size)\n",
        "        activation_functions.append(activations[activation_name])\n",
        "\n",
        "    # Suggest optimizer\n",
        "    optimizer_name = trial.suggest_categorical('optimizer', ['SGD', 'Adam', 'RMSprop'])\n",
        "\n",
        "    # Suggest learning rate\n",
        "    lr = trial.suggest_float('lr', 1e-5, 1e-1, log=True)\n",
        "\n",
        "    # Suggest batch size\n",
        "    batch_size = trial.suggest_categorical('batch_size', [32, 64, 128])\n",
        "\n",
        "    # Initialize the model\n",
        "    model = MLP(layer_sizes, activation_functions)\n",
        "    criterion = nn.CrossEntropyLoss()\n",
        "\n",
        "    # Create optimizer\n",
        "    optimizer_class = optimizers[optimizer_name]\n",
        "    optimizer = optimizer_class(model.parameters(), lr=lr, weight_decay=1e-4)\n",
        "\n",
        "    # Data loaders with suggested batch size\n",
        "    train_loader = DataLoader(train_subset, batch_size=batch_size, shuffle=True, num_workers=4)\n",
        "    val_loader = DataLoader(val_subset, batch_size=batch_size, shuffle=False, num_workers=4)\n",
        "\n",
        "    # Training loop\n",
        "    num_epochs = 10\n",
        "    for epoch in range(num_epochs):\n",
        "        model.train()\n",
        "        for images, labels in train_loader:\n",
        "            optimizer.zero_grad()\n",
        "            outputs = model(images)\n",
        "            loss = criterion(outputs, labels)\n",
        "            loss.backward()\n",
        "            optimizer.step()\n",
        "\n",
        "        # Validation at the end of each epoch\n",
        "        model.eval()\n",
        "        correct = 0\n",
        "        total = 0\n",
        "        val_loss = 0.0\n",
        "        with torch.no_grad():\n",
        "            for images, labels in val_loader:\n",
        "                outputs = model(images)\n",
        "                loss = criterion(outputs, labels)\n",
        "                val_loss += loss.item()\n",
        "                _, predicted = torch.max(outputs.data, 1)\n",
        "                total += labels.size(0)\n",
        "                correct += (predicted == labels).sum().item()\n",
        "        accuracy = correct / total\n",
        "\n",
        "        # Report intermediate objective value to the trial\n",
        "        trial.report(accuracy, epoch)\n",
        "\n",
        "        # Handle pruning based on the intermediate value\n",
        "        if trial.should_prune():\n",
        "            raise optuna.exceptions.TrialPruned()\n",
        "\n",
        "    return accuracy"
      ]
    },
    {
      "cell_type": "code",
      "execution_count": 8,
      "metadata": {},
      "outputs": [],
      "source": [
        "def run_studies(study_name, db_name, n_trials, resume=False):\n",
        "    pruner = optuna.pruners.MedianPruner()\n",
        "    db_url = 'sqlite:///' + db_name\n",
        "    study = None\n",
        "    if os.path.exists(db_name) and not resume:\n",
        "        study = optuna.load_study(study_name=study_name, storage=db_url, pruner=pruner)\n",
        "    else:\n",
        "        study = optuna.create_study(\n",
        "            study_name=study_name,\n",
        "            storage=db_url,\n",
        "            load_if_exists=True,\n",
        "            direction='maximize',\n",
        "            pruner=pruner\n",
        "        )\n",
        "        study.optimize(objective, n_trials=n_trials)\n",
        "\n",
        "\n",
        "    print('Best hyperparameters:', study.best_params)\n",
        "    return study"
      ]
    },
    {
      "cell_type": "code",
      "execution_count": 35,
      "metadata": {},
      "outputs": [
        {
          "name": "stdout",
          "output_type": "stream",
          "text": [
            "Best hyperparameters: {'num_layers': 1, 'layer_size_0': 128, 'activation_0': 'silu', 'optimizer': 'SGD', 'lr': 0.09472452556756873, 'batch_size': 64}\n"
          ]
        }
      ],
      "source": [
        "mnist_study = run_studies('mnist_study', 'mnist_study.db', 100)"
      ]
    },
    {
      "cell_type": "code",
      "execution_count": 10,
      "metadata": {},
      "outputs": [
        {
          "data": {
            "text/html": [
              "<div>\n",
              "<style scoped>\n",
              "    .dataframe tbody tr th:only-of-type {\n",
              "        vertical-align: middle;\n",
              "    }\n",
              "\n",
              "    .dataframe tbody tr th {\n",
              "        vertical-align: top;\n",
              "    }\n",
              "\n",
              "    .dataframe thead th {\n",
              "        text-align: right;\n",
              "    }\n",
              "</style>\n",
              "<table border=\"1\" class=\"dataframe\">\n",
              "  <thead>\n",
              "    <tr style=\"text-align: right;\">\n",
              "      <th></th>\n",
              "      <th>number</th>\n",
              "      <th>value</th>\n",
              "      <th>datetime_start</th>\n",
              "      <th>datetime_complete</th>\n",
              "      <th>duration</th>\n",
              "      <th>params_activation_0</th>\n",
              "      <th>params_activation_1</th>\n",
              "      <th>params_activation_2</th>\n",
              "      <th>params_batch_size</th>\n",
              "      <th>params_layer_size_0</th>\n",
              "      <th>params_layer_size_1</th>\n",
              "      <th>params_layer_size_2</th>\n",
              "      <th>params_lr</th>\n",
              "      <th>params_num_layers</th>\n",
              "      <th>params_optimizer</th>\n",
              "      <th>state</th>\n",
              "    </tr>\n",
              "  </thead>\n",
              "  <tbody>\n",
              "    <tr>\n",
              "      <th>0</th>\n",
              "      <td>0</td>\n",
              "      <td>0.928083</td>\n",
              "      <td>2024-10-26 09:06:50.444934</td>\n",
              "      <td>2024-10-26 09:10:27.817575</td>\n",
              "      <td>0 days 00:03:37.372641</td>\n",
              "      <td>leaky_relu</td>\n",
              "      <td>gelu</td>\n",
              "      <td>relu</td>\n",
              "      <td>128</td>\n",
              "      <td>32</td>\n",
              "      <td>32.0</td>\n",
              "      <td>256.0</td>\n",
              "      <td>0.001778</td>\n",
              "      <td>3</td>\n",
              "      <td>Adam</td>\n",
              "      <td>COMPLETE</td>\n",
              "    </tr>\n",
              "    <tr>\n",
              "      <th>1</th>\n",
              "      <td>1</td>\n",
              "      <td>0.856500</td>\n",
              "      <td>2024-10-26 09:10:27.849171</td>\n",
              "      <td>2024-10-26 09:14:03.870207</td>\n",
              "      <td>0 days 00:03:36.021036</td>\n",
              "      <td>leaky_relu</td>\n",
              "      <td>silu</td>\n",
              "      <td>tanh</td>\n",
              "      <td>128</td>\n",
              "      <td>16</td>\n",
              "      <td>64.0</td>\n",
              "      <td>128.0</td>\n",
              "      <td>0.000022</td>\n",
              "      <td>3</td>\n",
              "      <td>RMSprop</td>\n",
              "      <td>COMPLETE</td>\n",
              "    </tr>\n",
              "    <tr>\n",
              "      <th>2</th>\n",
              "      <td>2</td>\n",
              "      <td>0.900167</td>\n",
              "      <td>2024-10-26 09:14:03.884601</td>\n",
              "      <td>2024-10-26 09:17:42.078555</td>\n",
              "      <td>0 days 00:03:38.193954</td>\n",
              "      <td>leaky_relu</td>\n",
              "      <td>gelu</td>\n",
              "      <td>sigmoid</td>\n",
              "      <td>64</td>\n",
              "      <td>32</td>\n",
              "      <td>512.0</td>\n",
              "      <td>64.0</td>\n",
              "      <td>0.001389</td>\n",
              "      <td>3</td>\n",
              "      <td>SGD</td>\n",
              "      <td>COMPLETE</td>\n",
              "    </tr>\n",
              "    <tr>\n",
              "      <th>3</th>\n",
              "      <td>3</td>\n",
              "      <td>0.090583</td>\n",
              "      <td>2024-10-26 09:17:42.091372</td>\n",
              "      <td>2024-10-26 09:21:23.680864</td>\n",
              "      <td>0 days 00:03:41.589492</td>\n",
              "      <td>gelu</td>\n",
              "      <td>relu</td>\n",
              "      <td>tanh</td>\n",
              "      <td>64</td>\n",
              "      <td>512</td>\n",
              "      <td>512.0</td>\n",
              "      <td>16.0</td>\n",
              "      <td>0.008522</td>\n",
              "      <td>3</td>\n",
              "      <td>RMSprop</td>\n",
              "      <td>COMPLETE</td>\n",
              "    </tr>\n",
              "    <tr>\n",
              "      <th>4</th>\n",
              "      <td>4</td>\n",
              "      <td>0.905333</td>\n",
              "      <td>2024-10-26 09:21:23.697584</td>\n",
              "      <td>2024-10-26 09:25:00.670021</td>\n",
              "      <td>0 days 00:03:36.972437</td>\n",
              "      <td>relu</td>\n",
              "      <td>gelu</td>\n",
              "      <td>silu</td>\n",
              "      <td>128</td>\n",
              "      <td>32</td>\n",
              "      <td>128.0</td>\n",
              "      <td>64.0</td>\n",
              "      <td>0.003468</td>\n",
              "      <td>3</td>\n",
              "      <td>SGD</td>\n",
              "      <td>COMPLETE</td>\n",
              "    </tr>\n",
              "  </tbody>\n",
              "</table>\n",
              "</div>"
            ],
            "text/plain": [
              "   number     value             datetime_start          datetime_complete  \\\n",
              "0       0  0.928083 2024-10-26 09:06:50.444934 2024-10-26 09:10:27.817575   \n",
              "1       1  0.856500 2024-10-26 09:10:27.849171 2024-10-26 09:14:03.870207   \n",
              "2       2  0.900167 2024-10-26 09:14:03.884601 2024-10-26 09:17:42.078555   \n",
              "3       3  0.090583 2024-10-26 09:17:42.091372 2024-10-26 09:21:23.680864   \n",
              "4       4  0.905333 2024-10-26 09:21:23.697584 2024-10-26 09:25:00.670021   \n",
              "\n",
              "                duration params_activation_0 params_activation_1  \\\n",
              "0 0 days 00:03:37.372641          leaky_relu                gelu   \n",
              "1 0 days 00:03:36.021036          leaky_relu                silu   \n",
              "2 0 days 00:03:38.193954          leaky_relu                gelu   \n",
              "3 0 days 00:03:41.589492                gelu                relu   \n",
              "4 0 days 00:03:36.972437                relu                gelu   \n",
              "\n",
              "  params_activation_2  params_batch_size  params_layer_size_0  \\\n",
              "0                relu                128                   32   \n",
              "1                tanh                128                   16   \n",
              "2             sigmoid                 64                   32   \n",
              "3                tanh                 64                  512   \n",
              "4                silu                128                   32   \n",
              "\n",
              "   params_layer_size_1  params_layer_size_2  params_lr  params_num_layers  \\\n",
              "0                 32.0                256.0   0.001778                  3   \n",
              "1                 64.0                128.0   0.000022                  3   \n",
              "2                512.0                 64.0   0.001389                  3   \n",
              "3                512.0                 16.0   0.008522                  3   \n",
              "4                128.0                 64.0   0.003468                  3   \n",
              "\n",
              "  params_optimizer     state  \n",
              "0             Adam  COMPLETE  \n",
              "1          RMSprop  COMPLETE  \n",
              "2              SGD  COMPLETE  \n",
              "3          RMSprop  COMPLETE  \n",
              "4              SGD  COMPLETE  "
            ]
          },
          "execution_count": 10,
          "metadata": {},
          "output_type": "execute_result"
        }
      ],
      "source": [
        "mnist_study_df = mnist_study.trials_dataframe()\n",
        "mnist_study_df.head()"
      ]
    },
    {
      "cell_type": "code",
      "execution_count": 11,
      "metadata": {},
      "outputs": [
        {
          "data": {
            "text/html": [
              "<div>\n",
              "<style scoped>\n",
              "    .dataframe tbody tr th:only-of-type {\n",
              "        vertical-align: middle;\n",
              "    }\n",
              "\n",
              "    .dataframe tbody tr th {\n",
              "        vertical-align: top;\n",
              "    }\n",
              "\n",
              "    .dataframe thead th {\n",
              "        text-align: right;\n",
              "    }\n",
              "</style>\n",
              "<table border=\"1\" class=\"dataframe\">\n",
              "  <thead>\n",
              "    <tr style=\"text-align: right;\">\n",
              "      <th></th>\n",
              "      <th>number</th>\n",
              "      <th>value</th>\n",
              "      <th>datetime_start</th>\n",
              "      <th>datetime_complete</th>\n",
              "      <th>duration</th>\n",
              "      <th>params_batch_size</th>\n",
              "      <th>params_layer_size_0</th>\n",
              "      <th>params_layer_size_1</th>\n",
              "      <th>params_layer_size_2</th>\n",
              "      <th>params_lr</th>\n",
              "      <th>params_num_layers</th>\n",
              "    </tr>\n",
              "  </thead>\n",
              "  <tbody>\n",
              "    <tr>\n",
              "      <th>count</th>\n",
              "      <td>47.000000</td>\n",
              "      <td>46.000000</td>\n",
              "      <td>47</td>\n",
              "      <td>47</td>\n",
              "      <td>47</td>\n",
              "      <td>47.000000</td>\n",
              "      <td>47.000000</td>\n",
              "      <td>17.000000</td>\n",
              "      <td>7.000000</td>\n",
              "      <td>47.000000</td>\n",
              "      <td>47.000000</td>\n",
              "    </tr>\n",
              "    <tr>\n",
              "      <th>mean</th>\n",
              "      <td>23.000000</td>\n",
              "      <td>0.873745</td>\n",
              "      <td>2024-10-26 10:16:17.010326528</td>\n",
              "      <td>2024-10-26 10:18:54.096816384</td>\n",
              "      <td>0 days 00:02:37.086489468</td>\n",
              "      <td>65.361702</td>\n",
              "      <td>140.255319</td>\n",
              "      <td>193.882353</td>\n",
              "      <td>153.142857</td>\n",
              "      <td>0.028809</td>\n",
              "      <td>1.510638</td>\n",
              "    </tr>\n",
              "    <tr>\n",
              "      <th>min</th>\n",
              "      <td>0.000000</td>\n",
              "      <td>0.090583</td>\n",
              "      <td>2024-10-26 09:06:50.444934</td>\n",
              "      <td>2024-10-26 09:10:27.817575</td>\n",
              "      <td>0 days 00:00:21.660344</td>\n",
              "      <td>32.000000</td>\n",
              "      <td>16.000000</td>\n",
              "      <td>16.000000</td>\n",
              "      <td>16.000000</td>\n",
              "      <td>0.000012</td>\n",
              "      <td>1.000000</td>\n",
              "    </tr>\n",
              "    <tr>\n",
              "      <th>25%</th>\n",
              "      <td>11.500000</td>\n",
              "      <td>0.865500</td>\n",
              "      <td>2024-10-26 09:42:39.467578624</td>\n",
              "      <td>2024-10-26 09:46:20.223440640</td>\n",
              "      <td>0 days 00:00:22.106403500</td>\n",
              "      <td>48.000000</td>\n",
              "      <td>64.000000</td>\n",
              "      <td>64.000000</td>\n",
              "      <td>48.000000</td>\n",
              "      <td>0.000458</td>\n",
              "      <td>1.000000</td>\n",
              "    </tr>\n",
              "    <tr>\n",
              "      <th>50%</th>\n",
              "      <td>23.000000</td>\n",
              "      <td>0.951333</td>\n",
              "      <td>2024-10-26 10:21:22.620493056</td>\n",
              "      <td>2024-10-26 10:24:59.588225024</td>\n",
              "      <td>0 days 00:03:36.967732</td>\n",
              "      <td>64.000000</td>\n",
              "      <td>128.000000</td>\n",
              "      <td>256.000000</td>\n",
              "      <td>64.000000</td>\n",
              "      <td>0.011640</td>\n",
              "      <td>1.000000</td>\n",
              "    </tr>\n",
              "    <tr>\n",
              "      <th>75%</th>\n",
              "      <td>34.500000</td>\n",
              "      <td>0.963458</td>\n",
              "      <td>2024-10-26 10:53:11.692732672</td>\n",
              "      <td>2024-10-26 10:55:10.380280064</td>\n",
              "      <td>0 days 00:03:37.880288500</td>\n",
              "      <td>64.000000</td>\n",
              "      <td>128.000000</td>\n",
              "      <td>256.000000</td>\n",
              "      <td>192.000000</td>\n",
              "      <td>0.050797</td>\n",
              "      <td>2.000000</td>\n",
              "    </tr>\n",
              "    <tr>\n",
              "      <th>max</th>\n",
              "      <td>46.000000</td>\n",
              "      <td>0.969250</td>\n",
              "      <td>2024-10-26 11:08:45.723182</td>\n",
              "      <td>2024-10-26 11:09:54.309600</td>\n",
              "      <td>0 days 00:03:43.260054</td>\n",
              "      <td>128.000000</td>\n",
              "      <td>512.000000</td>\n",
              "      <td>512.000000</td>\n",
              "      <td>512.000000</td>\n",
              "      <td>0.099575</td>\n",
              "      <td>3.000000</td>\n",
              "    </tr>\n",
              "    <tr>\n",
              "      <th>std</th>\n",
              "      <td>13.711309</td>\n",
              "      <td>0.186722</td>\n",
              "      <td>NaN</td>\n",
              "      <td>NaN</td>\n",
              "      <td>0 days 00:01:30.721633003</td>\n",
              "      <td>29.808392</td>\n",
              "      <td>130.421135</td>\n",
              "      <td>155.628517</td>\n",
              "      <td>177.654560</td>\n",
              "      <td>0.034097</td>\n",
              "      <td>0.748109</td>\n",
              "    </tr>\n",
              "  </tbody>\n",
              "</table>\n",
              "</div>"
            ],
            "text/plain": [
              "          number      value                 datetime_start  \\\n",
              "count  47.000000  46.000000                             47   \n",
              "mean   23.000000   0.873745  2024-10-26 10:16:17.010326528   \n",
              "min     0.000000   0.090583     2024-10-26 09:06:50.444934   \n",
              "25%    11.500000   0.865500  2024-10-26 09:42:39.467578624   \n",
              "50%    23.000000   0.951333  2024-10-26 10:21:22.620493056   \n",
              "75%    34.500000   0.963458  2024-10-26 10:53:11.692732672   \n",
              "max    46.000000   0.969250     2024-10-26 11:08:45.723182   \n",
              "std    13.711309   0.186722                            NaN   \n",
              "\n",
              "                   datetime_complete                   duration  \\\n",
              "count                             47                         47   \n",
              "mean   2024-10-26 10:18:54.096816384  0 days 00:02:37.086489468   \n",
              "min       2024-10-26 09:10:27.817575     0 days 00:00:21.660344   \n",
              "25%    2024-10-26 09:46:20.223440640  0 days 00:00:22.106403500   \n",
              "50%    2024-10-26 10:24:59.588225024     0 days 00:03:36.967732   \n",
              "75%    2024-10-26 10:55:10.380280064  0 days 00:03:37.880288500   \n",
              "max       2024-10-26 11:09:54.309600     0 days 00:03:43.260054   \n",
              "std                              NaN  0 days 00:01:30.721633003   \n",
              "\n",
              "       params_batch_size  params_layer_size_0  params_layer_size_1  \\\n",
              "count          47.000000            47.000000            17.000000   \n",
              "mean           65.361702           140.255319           193.882353   \n",
              "min            32.000000            16.000000            16.000000   \n",
              "25%            48.000000            64.000000            64.000000   \n",
              "50%            64.000000           128.000000           256.000000   \n",
              "75%            64.000000           128.000000           256.000000   \n",
              "max           128.000000           512.000000           512.000000   \n",
              "std            29.808392           130.421135           155.628517   \n",
              "\n",
              "       params_layer_size_2  params_lr  params_num_layers  \n",
              "count             7.000000  47.000000          47.000000  \n",
              "mean            153.142857   0.028809           1.510638  \n",
              "min              16.000000   0.000012           1.000000  \n",
              "25%              48.000000   0.000458           1.000000  \n",
              "50%              64.000000   0.011640           1.000000  \n",
              "75%             192.000000   0.050797           2.000000  \n",
              "max             512.000000   0.099575           3.000000  \n",
              "std             177.654560   0.034097           0.748109  "
            ]
          },
          "execution_count": 11,
          "metadata": {},
          "output_type": "execute_result"
        }
      ],
      "source": [
        "mnist_study_df.describe()"
      ]
    },
    {
      "cell_type": "code",
      "execution_count": 13,
      "metadata": {},
      "outputs": [
        {
          "data": {
            "text/plain": [
              "state\n",
              "COMPLETE    32\n",
              "PRUNED      14\n",
              "FAIL         1\n",
              "Name: count, dtype: int64"
            ]
          },
          "execution_count": 13,
          "metadata": {},
          "output_type": "execute_result"
        }
      ],
      "source": [
        "mnist_study_df['state'].value_counts()"
      ]
    },
    {
      "cell_type": "code",
      "execution_count": 12,
      "metadata": {},
      "outputs": [
        {
          "data": {
            "text/html": [
              "<div>\n",
              "<style scoped>\n",
              "    .dataframe tbody tr th:only-of-type {\n",
              "        vertical-align: middle;\n",
              "    }\n",
              "\n",
              "    .dataframe tbody tr th {\n",
              "        vertical-align: top;\n",
              "    }\n",
              "\n",
              "    .dataframe thead th {\n",
              "        text-align: right;\n",
              "    }\n",
              "</style>\n",
              "<table border=\"1\" class=\"dataframe\">\n",
              "  <thead>\n",
              "    <tr style=\"text-align: right;\">\n",
              "      <th></th>\n",
              "      <th>value</th>\n",
              "      <th>params_activation_0</th>\n",
              "      <th>params_activation_1</th>\n",
              "      <th>params_activation_2</th>\n",
              "      <th>params_batch_size</th>\n",
              "      <th>params_layer_size_0</th>\n",
              "      <th>params_layer_size_1</th>\n",
              "      <th>params_layer_size_2</th>\n",
              "      <th>params_lr</th>\n",
              "      <th>params_num_layers</th>\n",
              "      <th>params_optimizer</th>\n",
              "    </tr>\n",
              "  </thead>\n",
              "  <tbody>\n",
              "    <tr>\n",
              "      <th>0</th>\n",
              "      <td>0.969250</td>\n",
              "      <td>silu</td>\n",
              "      <td>NaN</td>\n",
              "      <td>NaN</td>\n",
              "      <td>64</td>\n",
              "      <td>128</td>\n",
              "      <td>NaN</td>\n",
              "      <td>NaN</td>\n",
              "      <td>0.094725</td>\n",
              "      <td>1</td>\n",
              "      <td>SGD</td>\n",
              "    </tr>\n",
              "    <tr>\n",
              "      <th>1</th>\n",
              "      <td>0.968000</td>\n",
              "      <td>silu</td>\n",
              "      <td>NaN</td>\n",
              "      <td>NaN</td>\n",
              "      <td>64</td>\n",
              "      <td>128</td>\n",
              "      <td>NaN</td>\n",
              "      <td>NaN</td>\n",
              "      <td>0.056040</td>\n",
              "      <td>1</td>\n",
              "      <td>SGD</td>\n",
              "    </tr>\n",
              "    <tr>\n",
              "      <th>2</th>\n",
              "      <td>0.967000</td>\n",
              "      <td>silu</td>\n",
              "      <td>NaN</td>\n",
              "      <td>NaN</td>\n",
              "      <td>64</td>\n",
              "      <td>128</td>\n",
              "      <td>NaN</td>\n",
              "      <td>NaN</td>\n",
              "      <td>0.097456</td>\n",
              "      <td>1</td>\n",
              "      <td>SGD</td>\n",
              "    </tr>\n",
              "    <tr>\n",
              "      <th>3</th>\n",
              "      <td>0.966167</td>\n",
              "      <td>silu</td>\n",
              "      <td>NaN</td>\n",
              "      <td>NaN</td>\n",
              "      <td>64</td>\n",
              "      <td>128</td>\n",
              "      <td>NaN</td>\n",
              "      <td>NaN</td>\n",
              "      <td>0.076446</td>\n",
              "      <td>1</td>\n",
              "      <td>SGD</td>\n",
              "    </tr>\n",
              "    <tr>\n",
              "      <th>4</th>\n",
              "      <td>0.965917</td>\n",
              "      <td>silu</td>\n",
              "      <td>NaN</td>\n",
              "      <td>NaN</td>\n",
              "      <td>64</td>\n",
              "      <td>128</td>\n",
              "      <td>NaN</td>\n",
              "      <td>NaN</td>\n",
              "      <td>0.095923</td>\n",
              "      <td>1</td>\n",
              "      <td>SGD</td>\n",
              "    </tr>\n",
              "  </tbody>\n",
              "</table>\n",
              "</div>"
            ],
            "text/plain": [
              "      value params_activation_0 params_activation_1 params_activation_2  \\\n",
              "0  0.969250                silu                 NaN                 NaN   \n",
              "1  0.968000                silu                 NaN                 NaN   \n",
              "2  0.967000                silu                 NaN                 NaN   \n",
              "3  0.966167                silu                 NaN                 NaN   \n",
              "4  0.965917                silu                 NaN                 NaN   \n",
              "\n",
              "   params_batch_size  params_layer_size_0  params_layer_size_1  \\\n",
              "0                 64                  128                  NaN   \n",
              "1                 64                  128                  NaN   \n",
              "2                 64                  128                  NaN   \n",
              "3                 64                  128                  NaN   \n",
              "4                 64                  128                  NaN   \n",
              "\n",
              "   params_layer_size_2  params_lr  params_num_layers params_optimizer  \n",
              "0                  NaN   0.094725                  1              SGD  \n",
              "1                  NaN   0.056040                  1              SGD  \n",
              "2                  NaN   0.097456                  1              SGD  \n",
              "3                  NaN   0.076446                  1              SGD  \n",
              "4                  NaN   0.095923                  1              SGD  "
            ]
          },
          "execution_count": 12,
          "metadata": {},
          "output_type": "execute_result"
        }
      ],
      "source": [
        "completed = mnist_study_df[~mnist_study_df['state'].isin(['RUNNING', 'FAIL'])]\n",
        "completed_cleaned = completed.drop(columns=['state', 'datetime_start', 'datetime_complete', 'number', 'duration'])\n",
        "completed_cleaned.sort_values('value', ascending=False, inplace=True, ignore_index=True)\n",
        "completed_cleaned.head()"
      ]
    },
    {
      "cell_type": "code",
      "execution_count": 32,
      "metadata": {},
      "outputs": [
        {
          "data": {
            "text/html": [
              "<div>\n",
              "<style scoped>\n",
              "    .dataframe tbody tr th:only-of-type {\n",
              "        vertical-align: middle;\n",
              "    }\n",
              "\n",
              "    .dataframe tbody tr th {\n",
              "        vertical-align: top;\n",
              "    }\n",
              "\n",
              "    .dataframe thead th {\n",
              "        text-align: right;\n",
              "    }\n",
              "</style>\n",
              "<table border=\"1\" class=\"dataframe\">\n",
              "  <thead>\n",
              "    <tr style=\"text-align: right;\">\n",
              "      <th></th>\n",
              "      <th>value</th>\n",
              "      <th>params_batch_size</th>\n",
              "      <th>params_layer_size_0</th>\n",
              "      <th>params_layer_size_1</th>\n",
              "      <th>params_layer_size_2</th>\n",
              "      <th>params_lr</th>\n",
              "      <th>params_num_layers</th>\n",
              "    </tr>\n",
              "  </thead>\n",
              "  <tbody>\n",
              "    <tr>\n",
              "      <th>count</th>\n",
              "      <td>46.000000</td>\n",
              "      <td>46.000000</td>\n",
              "      <td>46.00000</td>\n",
              "      <td>17.000000</td>\n",
              "      <td>7.000000</td>\n",
              "      <td>46.000000</td>\n",
              "      <td>46.000000</td>\n",
              "    </tr>\n",
              "    <tr>\n",
              "      <th>mean</th>\n",
              "      <td>0.873745</td>\n",
              "      <td>65.391304</td>\n",
              "      <td>137.73913</td>\n",
              "      <td>193.882353</td>\n",
              "      <td>153.142857</td>\n",
              "      <td>0.028979</td>\n",
              "      <td>1.521739</td>\n",
              "    </tr>\n",
              "    <tr>\n",
              "      <th>std</th>\n",
              "      <td>0.186722</td>\n",
              "      <td>30.137078</td>\n",
              "      <td>130.70381</td>\n",
              "      <td>155.628517</td>\n",
              "      <td>177.654560</td>\n",
              "      <td>0.034453</td>\n",
              "      <td>0.752452</td>\n",
              "    </tr>\n",
              "    <tr>\n",
              "      <th>min</th>\n",
              "      <td>0.090583</td>\n",
              "      <td>32.000000</td>\n",
              "      <td>16.00000</td>\n",
              "      <td>16.000000</td>\n",
              "      <td>16.000000</td>\n",
              "      <td>0.000012</td>\n",
              "      <td>1.000000</td>\n",
              "    </tr>\n",
              "    <tr>\n",
              "      <th>25%</th>\n",
              "      <td>0.865500</td>\n",
              "      <td>40.000000</td>\n",
              "      <td>64.00000</td>\n",
              "      <td>64.000000</td>\n",
              "      <td>48.000000</td>\n",
              "      <td>0.000456</td>\n",
              "      <td>1.000000</td>\n",
              "    </tr>\n",
              "    <tr>\n",
              "      <th>50%</th>\n",
              "      <td>0.951333</td>\n",
              "      <td>64.000000</td>\n",
              "      <td>128.00000</td>\n",
              "      <td>256.000000</td>\n",
              "      <td>64.000000</td>\n",
              "      <td>0.010086</td>\n",
              "      <td>1.000000</td>\n",
              "    </tr>\n",
              "    <tr>\n",
              "      <th>75%</th>\n",
              "      <td>0.963458</td>\n",
              "      <td>64.000000</td>\n",
              "      <td>128.00000</td>\n",
              "      <td>256.000000</td>\n",
              "      <td>192.000000</td>\n",
              "      <td>0.051740</td>\n",
              "      <td>2.000000</td>\n",
              "    </tr>\n",
              "    <tr>\n",
              "      <th>max</th>\n",
              "      <td>0.969250</td>\n",
              "      <td>128.000000</td>\n",
              "      <td>512.00000</td>\n",
              "      <td>512.000000</td>\n",
              "      <td>512.000000</td>\n",
              "      <td>0.099575</td>\n",
              "      <td>3.000000</td>\n",
              "    </tr>\n",
              "  </tbody>\n",
              "</table>\n",
              "</div>"
            ],
            "text/plain": [
              "           value  params_batch_size  params_layer_size_0  params_layer_size_1  \\\n",
              "count  46.000000          46.000000             46.00000            17.000000   \n",
              "mean    0.873745          65.391304            137.73913           193.882353   \n",
              "std     0.186722          30.137078            130.70381           155.628517   \n",
              "min     0.090583          32.000000             16.00000            16.000000   \n",
              "25%     0.865500          40.000000             64.00000            64.000000   \n",
              "50%     0.951333          64.000000            128.00000           256.000000   \n",
              "75%     0.963458          64.000000            128.00000           256.000000   \n",
              "max     0.969250         128.000000            512.00000           512.000000   \n",
              "\n",
              "       params_layer_size_2  params_lr  params_num_layers  \n",
              "count             7.000000  46.000000          46.000000  \n",
              "mean            153.142857   0.028979           1.521739  \n",
              "std             177.654560   0.034453           0.752452  \n",
              "min              16.000000   0.000012           1.000000  \n",
              "25%              48.000000   0.000456           1.000000  \n",
              "50%              64.000000   0.010086           1.000000  \n",
              "75%             192.000000   0.051740           2.000000  \n",
              "max             512.000000   0.099575           3.000000  "
            ]
          },
          "execution_count": 32,
          "metadata": {},
          "output_type": "execute_result"
        }
      ],
      "source": [
        "completed_cleaned.describe()"
      ]
    },
    {
      "cell_type": "code",
      "execution_count": 33,
      "metadata": {},
      "outputs": [
        {
          "data": {
            "text/plain": [
              "params_activation_0\n",
              "silu          21\n",
              "sigmoid        7\n",
              "relu           5\n",
              "leaky_relu     5\n",
              "tanh           4\n",
              "gelu           4\n",
              "Name: count, dtype: int64"
            ]
          },
          "execution_count": 33,
          "metadata": {},
          "output_type": "execute_result"
        }
      ],
      "source": [
        "completed_cleaned['params_activation_0'].value_counts()"
      ]
    },
    {
      "cell_type": "code",
      "execution_count": 14,
      "metadata": {},
      "outputs": [
        {
          "data": {
            "application/vnd.plotly.v1+json": {
              "config": {
                "plotlyServerURL": "https://plot.ly"
              },
              "data": [
                {
                  "cliponaxis": false,
                  "hovertemplate": [
                    "lr (FloatDistribution): 0.012277966102432146<extra></extra>",
                    "optimizer (CategoricalDistribution): 0.04407870986239169<extra></extra>",
                    "layer_size_0 (CategoricalDistribution): 0.07301646705019275<extra></extra>",
                    "batch_size (CategoricalDistribution): 0.11617189622404703<extra></extra>",
                    "num_layers (IntDistribution): 0.24466341130652<extra></extra>",
                    "activation_0 (CategoricalDistribution): 0.5097915494544164<extra></extra>"
                  ],
                  "name": "Objective Value",
                  "orientation": "h",
                  "text": [
                    "0.01",
                    "0.04",
                    "0.07",
                    "0.12",
                    "0.24",
                    "0.51"
                  ],
                  "textposition": "outside",
                  "type": "bar",
                  "x": [
                    0.012277966102432146,
                    0.04407870986239169,
                    0.07301646705019275,
                    0.11617189622404703,
                    0.24466341130652,
                    0.5097915494544164
                  ],
                  "y": [
                    "lr",
                    "optimizer",
                    "layer_size_0",
                    "batch_size",
                    "num_layers",
                    "activation_0"
                  ]
                }
              ],
              "layout": {
                "template": {
                  "data": {
                    "bar": [
                      {
                        "error_x": {
                          "color": "#2a3f5f"
                        },
                        "error_y": {
                          "color": "#2a3f5f"
                        },
                        "marker": {
                          "line": {
                            "color": "#E5ECF6",
                            "width": 0.5
                          },
                          "pattern": {
                            "fillmode": "overlay",
                            "size": 10,
                            "solidity": 0.2
                          }
                        },
                        "type": "bar"
                      }
                    ],
                    "barpolar": [
                      {
                        "marker": {
                          "line": {
                            "color": "#E5ECF6",
                            "width": 0.5
                          },
                          "pattern": {
                            "fillmode": "overlay",
                            "size": 10,
                            "solidity": 0.2
                          }
                        },
                        "type": "barpolar"
                      }
                    ],
                    "carpet": [
                      {
                        "aaxis": {
                          "endlinecolor": "#2a3f5f",
                          "gridcolor": "white",
                          "linecolor": "white",
                          "minorgridcolor": "white",
                          "startlinecolor": "#2a3f5f"
                        },
                        "baxis": {
                          "endlinecolor": "#2a3f5f",
                          "gridcolor": "white",
                          "linecolor": "white",
                          "minorgridcolor": "white",
                          "startlinecolor": "#2a3f5f"
                        },
                        "type": "carpet"
                      }
                    ],
                    "choropleth": [
                      {
                        "colorbar": {
                          "outlinewidth": 0,
                          "ticks": ""
                        },
                        "type": "choropleth"
                      }
                    ],
                    "contour": [
                      {
                        "colorbar": {
                          "outlinewidth": 0,
                          "ticks": ""
                        },
                        "colorscale": [
                          [
                            0,
                            "#0d0887"
                          ],
                          [
                            0.1111111111111111,
                            "#46039f"
                          ],
                          [
                            0.2222222222222222,
                            "#7201a8"
                          ],
                          [
                            0.3333333333333333,
                            "#9c179e"
                          ],
                          [
                            0.4444444444444444,
                            "#bd3786"
                          ],
                          [
                            0.5555555555555556,
                            "#d8576b"
                          ],
                          [
                            0.6666666666666666,
                            "#ed7953"
                          ],
                          [
                            0.7777777777777778,
                            "#fb9f3a"
                          ],
                          [
                            0.8888888888888888,
                            "#fdca26"
                          ],
                          [
                            1,
                            "#f0f921"
                          ]
                        ],
                        "type": "contour"
                      }
                    ],
                    "contourcarpet": [
                      {
                        "colorbar": {
                          "outlinewidth": 0,
                          "ticks": ""
                        },
                        "type": "contourcarpet"
                      }
                    ],
                    "heatmap": [
                      {
                        "colorbar": {
                          "outlinewidth": 0,
                          "ticks": ""
                        },
                        "colorscale": [
                          [
                            0,
                            "#0d0887"
                          ],
                          [
                            0.1111111111111111,
                            "#46039f"
                          ],
                          [
                            0.2222222222222222,
                            "#7201a8"
                          ],
                          [
                            0.3333333333333333,
                            "#9c179e"
                          ],
                          [
                            0.4444444444444444,
                            "#bd3786"
                          ],
                          [
                            0.5555555555555556,
                            "#d8576b"
                          ],
                          [
                            0.6666666666666666,
                            "#ed7953"
                          ],
                          [
                            0.7777777777777778,
                            "#fb9f3a"
                          ],
                          [
                            0.8888888888888888,
                            "#fdca26"
                          ],
                          [
                            1,
                            "#f0f921"
                          ]
                        ],
                        "type": "heatmap"
                      }
                    ],
                    "heatmapgl": [
                      {
                        "colorbar": {
                          "outlinewidth": 0,
                          "ticks": ""
                        },
                        "colorscale": [
                          [
                            0,
                            "#0d0887"
                          ],
                          [
                            0.1111111111111111,
                            "#46039f"
                          ],
                          [
                            0.2222222222222222,
                            "#7201a8"
                          ],
                          [
                            0.3333333333333333,
                            "#9c179e"
                          ],
                          [
                            0.4444444444444444,
                            "#bd3786"
                          ],
                          [
                            0.5555555555555556,
                            "#d8576b"
                          ],
                          [
                            0.6666666666666666,
                            "#ed7953"
                          ],
                          [
                            0.7777777777777778,
                            "#fb9f3a"
                          ],
                          [
                            0.8888888888888888,
                            "#fdca26"
                          ],
                          [
                            1,
                            "#f0f921"
                          ]
                        ],
                        "type": "heatmapgl"
                      }
                    ],
                    "histogram": [
                      {
                        "marker": {
                          "pattern": {
                            "fillmode": "overlay",
                            "size": 10,
                            "solidity": 0.2
                          }
                        },
                        "type": "histogram"
                      }
                    ],
                    "histogram2d": [
                      {
                        "colorbar": {
                          "outlinewidth": 0,
                          "ticks": ""
                        },
                        "colorscale": [
                          [
                            0,
                            "#0d0887"
                          ],
                          [
                            0.1111111111111111,
                            "#46039f"
                          ],
                          [
                            0.2222222222222222,
                            "#7201a8"
                          ],
                          [
                            0.3333333333333333,
                            "#9c179e"
                          ],
                          [
                            0.4444444444444444,
                            "#bd3786"
                          ],
                          [
                            0.5555555555555556,
                            "#d8576b"
                          ],
                          [
                            0.6666666666666666,
                            "#ed7953"
                          ],
                          [
                            0.7777777777777778,
                            "#fb9f3a"
                          ],
                          [
                            0.8888888888888888,
                            "#fdca26"
                          ],
                          [
                            1,
                            "#f0f921"
                          ]
                        ],
                        "type": "histogram2d"
                      }
                    ],
                    "histogram2dcontour": [
                      {
                        "colorbar": {
                          "outlinewidth": 0,
                          "ticks": ""
                        },
                        "colorscale": [
                          [
                            0,
                            "#0d0887"
                          ],
                          [
                            0.1111111111111111,
                            "#46039f"
                          ],
                          [
                            0.2222222222222222,
                            "#7201a8"
                          ],
                          [
                            0.3333333333333333,
                            "#9c179e"
                          ],
                          [
                            0.4444444444444444,
                            "#bd3786"
                          ],
                          [
                            0.5555555555555556,
                            "#d8576b"
                          ],
                          [
                            0.6666666666666666,
                            "#ed7953"
                          ],
                          [
                            0.7777777777777778,
                            "#fb9f3a"
                          ],
                          [
                            0.8888888888888888,
                            "#fdca26"
                          ],
                          [
                            1,
                            "#f0f921"
                          ]
                        ],
                        "type": "histogram2dcontour"
                      }
                    ],
                    "mesh3d": [
                      {
                        "colorbar": {
                          "outlinewidth": 0,
                          "ticks": ""
                        },
                        "type": "mesh3d"
                      }
                    ],
                    "parcoords": [
                      {
                        "line": {
                          "colorbar": {
                            "outlinewidth": 0,
                            "ticks": ""
                          }
                        },
                        "type": "parcoords"
                      }
                    ],
                    "pie": [
                      {
                        "automargin": true,
                        "type": "pie"
                      }
                    ],
                    "scatter": [
                      {
                        "fillpattern": {
                          "fillmode": "overlay",
                          "size": 10,
                          "solidity": 0.2
                        },
                        "type": "scatter"
                      }
                    ],
                    "scatter3d": [
                      {
                        "line": {
                          "colorbar": {
                            "outlinewidth": 0,
                            "ticks": ""
                          }
                        },
                        "marker": {
                          "colorbar": {
                            "outlinewidth": 0,
                            "ticks": ""
                          }
                        },
                        "type": "scatter3d"
                      }
                    ],
                    "scattercarpet": [
                      {
                        "marker": {
                          "colorbar": {
                            "outlinewidth": 0,
                            "ticks": ""
                          }
                        },
                        "type": "scattercarpet"
                      }
                    ],
                    "scattergeo": [
                      {
                        "marker": {
                          "colorbar": {
                            "outlinewidth": 0,
                            "ticks": ""
                          }
                        },
                        "type": "scattergeo"
                      }
                    ],
                    "scattergl": [
                      {
                        "marker": {
                          "colorbar": {
                            "outlinewidth": 0,
                            "ticks": ""
                          }
                        },
                        "type": "scattergl"
                      }
                    ],
                    "scattermapbox": [
                      {
                        "marker": {
                          "colorbar": {
                            "outlinewidth": 0,
                            "ticks": ""
                          }
                        },
                        "type": "scattermapbox"
                      }
                    ],
                    "scatterpolar": [
                      {
                        "marker": {
                          "colorbar": {
                            "outlinewidth": 0,
                            "ticks": ""
                          }
                        },
                        "type": "scatterpolar"
                      }
                    ],
                    "scatterpolargl": [
                      {
                        "marker": {
                          "colorbar": {
                            "outlinewidth": 0,
                            "ticks": ""
                          }
                        },
                        "type": "scatterpolargl"
                      }
                    ],
                    "scatterternary": [
                      {
                        "marker": {
                          "colorbar": {
                            "outlinewidth": 0,
                            "ticks": ""
                          }
                        },
                        "type": "scatterternary"
                      }
                    ],
                    "surface": [
                      {
                        "colorbar": {
                          "outlinewidth": 0,
                          "ticks": ""
                        },
                        "colorscale": [
                          [
                            0,
                            "#0d0887"
                          ],
                          [
                            0.1111111111111111,
                            "#46039f"
                          ],
                          [
                            0.2222222222222222,
                            "#7201a8"
                          ],
                          [
                            0.3333333333333333,
                            "#9c179e"
                          ],
                          [
                            0.4444444444444444,
                            "#bd3786"
                          ],
                          [
                            0.5555555555555556,
                            "#d8576b"
                          ],
                          [
                            0.6666666666666666,
                            "#ed7953"
                          ],
                          [
                            0.7777777777777778,
                            "#fb9f3a"
                          ],
                          [
                            0.8888888888888888,
                            "#fdca26"
                          ],
                          [
                            1,
                            "#f0f921"
                          ]
                        ],
                        "type": "surface"
                      }
                    ],
                    "table": [
                      {
                        "cells": {
                          "fill": {
                            "color": "#EBF0F8"
                          },
                          "line": {
                            "color": "white"
                          }
                        },
                        "header": {
                          "fill": {
                            "color": "#C8D4E3"
                          },
                          "line": {
                            "color": "white"
                          }
                        },
                        "type": "table"
                      }
                    ]
                  },
                  "layout": {
                    "annotationdefaults": {
                      "arrowcolor": "#2a3f5f",
                      "arrowhead": 0,
                      "arrowwidth": 1
                    },
                    "autotypenumbers": "strict",
                    "coloraxis": {
                      "colorbar": {
                        "outlinewidth": 0,
                        "ticks": ""
                      }
                    },
                    "colorscale": {
                      "diverging": [
                        [
                          0,
                          "#8e0152"
                        ],
                        [
                          0.1,
                          "#c51b7d"
                        ],
                        [
                          0.2,
                          "#de77ae"
                        ],
                        [
                          0.3,
                          "#f1b6da"
                        ],
                        [
                          0.4,
                          "#fde0ef"
                        ],
                        [
                          0.5,
                          "#f7f7f7"
                        ],
                        [
                          0.6,
                          "#e6f5d0"
                        ],
                        [
                          0.7,
                          "#b8e186"
                        ],
                        [
                          0.8,
                          "#7fbc41"
                        ],
                        [
                          0.9,
                          "#4d9221"
                        ],
                        [
                          1,
                          "#276419"
                        ]
                      ],
                      "sequential": [
                        [
                          0,
                          "#0d0887"
                        ],
                        [
                          0.1111111111111111,
                          "#46039f"
                        ],
                        [
                          0.2222222222222222,
                          "#7201a8"
                        ],
                        [
                          0.3333333333333333,
                          "#9c179e"
                        ],
                        [
                          0.4444444444444444,
                          "#bd3786"
                        ],
                        [
                          0.5555555555555556,
                          "#d8576b"
                        ],
                        [
                          0.6666666666666666,
                          "#ed7953"
                        ],
                        [
                          0.7777777777777778,
                          "#fb9f3a"
                        ],
                        [
                          0.8888888888888888,
                          "#fdca26"
                        ],
                        [
                          1,
                          "#f0f921"
                        ]
                      ],
                      "sequentialminus": [
                        [
                          0,
                          "#0d0887"
                        ],
                        [
                          0.1111111111111111,
                          "#46039f"
                        ],
                        [
                          0.2222222222222222,
                          "#7201a8"
                        ],
                        [
                          0.3333333333333333,
                          "#9c179e"
                        ],
                        [
                          0.4444444444444444,
                          "#bd3786"
                        ],
                        [
                          0.5555555555555556,
                          "#d8576b"
                        ],
                        [
                          0.6666666666666666,
                          "#ed7953"
                        ],
                        [
                          0.7777777777777778,
                          "#fb9f3a"
                        ],
                        [
                          0.8888888888888888,
                          "#fdca26"
                        ],
                        [
                          1,
                          "#f0f921"
                        ]
                      ]
                    },
                    "colorway": [
                      "#636efa",
                      "#EF553B",
                      "#00cc96",
                      "#ab63fa",
                      "#FFA15A",
                      "#19d3f3",
                      "#FF6692",
                      "#B6E880",
                      "#FF97FF",
                      "#FECB52"
                    ],
                    "font": {
                      "color": "#2a3f5f"
                    },
                    "geo": {
                      "bgcolor": "white",
                      "lakecolor": "white",
                      "landcolor": "#E5ECF6",
                      "showlakes": true,
                      "showland": true,
                      "subunitcolor": "white"
                    },
                    "hoverlabel": {
                      "align": "left"
                    },
                    "hovermode": "closest",
                    "mapbox": {
                      "style": "light"
                    },
                    "paper_bgcolor": "white",
                    "plot_bgcolor": "#E5ECF6",
                    "polar": {
                      "angularaxis": {
                        "gridcolor": "white",
                        "linecolor": "white",
                        "ticks": ""
                      },
                      "bgcolor": "#E5ECF6",
                      "radialaxis": {
                        "gridcolor": "white",
                        "linecolor": "white",
                        "ticks": ""
                      }
                    },
                    "scene": {
                      "xaxis": {
                        "backgroundcolor": "#E5ECF6",
                        "gridcolor": "white",
                        "gridwidth": 2,
                        "linecolor": "white",
                        "showbackground": true,
                        "ticks": "",
                        "zerolinecolor": "white"
                      },
                      "yaxis": {
                        "backgroundcolor": "#E5ECF6",
                        "gridcolor": "white",
                        "gridwidth": 2,
                        "linecolor": "white",
                        "showbackground": true,
                        "ticks": "",
                        "zerolinecolor": "white"
                      },
                      "zaxis": {
                        "backgroundcolor": "#E5ECF6",
                        "gridcolor": "white",
                        "gridwidth": 2,
                        "linecolor": "white",
                        "showbackground": true,
                        "ticks": "",
                        "zerolinecolor": "white"
                      }
                    },
                    "shapedefaults": {
                      "line": {
                        "color": "#2a3f5f"
                      }
                    },
                    "ternary": {
                      "aaxis": {
                        "gridcolor": "white",
                        "linecolor": "white",
                        "ticks": ""
                      },
                      "baxis": {
                        "gridcolor": "white",
                        "linecolor": "white",
                        "ticks": ""
                      },
                      "bgcolor": "#E5ECF6",
                      "caxis": {
                        "gridcolor": "white",
                        "linecolor": "white",
                        "ticks": ""
                      }
                    },
                    "title": {
                      "x": 0.05
                    },
                    "xaxis": {
                      "automargin": true,
                      "gridcolor": "white",
                      "linecolor": "white",
                      "ticks": "",
                      "title": {
                        "standoff": 15
                      },
                      "zerolinecolor": "white",
                      "zerolinewidth": 2
                    },
                    "yaxis": {
                      "automargin": true,
                      "gridcolor": "white",
                      "linecolor": "white",
                      "ticks": "",
                      "title": {
                        "standoff": 15
                      },
                      "zerolinecolor": "white",
                      "zerolinewidth": 2
                    }
                  }
                },
                "title": {
                  "text": "Hyperparameter Importances"
                },
                "xaxis": {
                  "title": {
                    "text": "Hyperparameter Importance"
                  }
                },
                "yaxis": {
                  "title": {
                    "text": "Hyperparameter"
                  }
                }
              }
            }
          },
          "metadata": {},
          "output_type": "display_data"
        }
      ],
      "source": [
        "optuna.visualization.plot_param_importances(mnist_study)"
      ]
    },
    {
      "cell_type": "code",
      "execution_count": 36,
      "metadata": {},
      "outputs": [
        {
          "data": {
            "application/vnd.plotly.v1+json": {
              "config": {
                "plotlyServerURL": "https://plot.ly"
              },
              "data": [
                {
                  "mode": "markers",
                  "name": "Objective Value",
                  "type": "scatter",
                  "x": [
                    0,
                    1,
                    2,
                    3,
                    4,
                    7,
                    8,
                    9,
                    10,
                    11,
                    12,
                    13,
                    14,
                    15,
                    17,
                    18,
                    19,
                    20,
                    21,
                    22,
                    23,
                    24,
                    25,
                    26,
                    27,
                    28,
                    31,
                    32,
                    34,
                    41,
                    42,
                    43
                  ],
                  "y": [
                    0.9280833333333334,
                    0.8565,
                    0.9001666666666667,
                    0.09058333333333334,
                    0.9053333333333333,
                    0.9070833333333334,
                    0.953,
                    0.9418333333333333,
                    0.9506666666666667,
                    0.9501666666666667,
                    0.952,
                    0.9569166666666666,
                    0.9588333333333333,
                    0.9573333333333334,
                    0.9598333333333333,
                    0.9603333333333334,
                    0.9635,
                    0.9643333333333334,
                    0.9633333333333334,
                    0.9641666666666666,
                    0.9615833333333333,
                    0.9628333333333333,
                    0.96925,
                    0.9644166666666667,
                    0.9661666666666666,
                    0.967,
                    0.9659166666666666,
                    0.9644166666666667,
                    0.96275,
                    0.9638333333333333,
                    0.9639166666666666,
                    0.968
                  ]
                },
                {
                  "mode": "lines",
                  "name": "Best Value",
                  "type": "scatter",
                  "x": [
                    0,
                    1,
                    2,
                    3,
                    4,
                    5,
                    6,
                    7,
                    8,
                    9,
                    10,
                    11,
                    12,
                    13,
                    14,
                    15,
                    16,
                    17,
                    18,
                    19,
                    20,
                    21,
                    22,
                    23,
                    24,
                    25,
                    26,
                    27,
                    28,
                    29,
                    30,
                    31,
                    32,
                    33,
                    34,
                    35,
                    36,
                    37,
                    38,
                    39,
                    40,
                    41,
                    42,
                    43,
                    44,
                    45,
                    46
                  ],
                  "y": [
                    0.9280833333333334,
                    0.9280833333333334,
                    0.9280833333333334,
                    0.9280833333333334,
                    0.9280833333333334,
                    0.9280833333333334,
                    0.9280833333333334,
                    0.9280833333333334,
                    0.953,
                    0.953,
                    0.953,
                    0.953,
                    0.953,
                    0.9569166666666666,
                    0.9588333333333333,
                    0.9588333333333333,
                    0.9588333333333333,
                    0.9598333333333333,
                    0.9603333333333334,
                    0.9635,
                    0.9643333333333334,
                    0.9643333333333334,
                    0.9643333333333334,
                    0.9643333333333334,
                    0.9643333333333334,
                    0.96925,
                    0.96925,
                    0.96925,
                    0.96925,
                    0.96925,
                    0.96925,
                    0.96925,
                    0.96925,
                    0.96925,
                    0.96925,
                    0.96925,
                    0.96925,
                    0.96925,
                    0.96925,
                    0.96925,
                    0.96925,
                    0.96925,
                    0.96925,
                    0.96925,
                    0.96925,
                    0.96925,
                    0.96925
                  ]
                },
                {
                  "marker": {
                    "color": "#cccccc"
                  },
                  "mode": "markers",
                  "name": "Infeasible Trial",
                  "showlegend": false,
                  "type": "scatter",
                  "x": [],
                  "y": []
                }
              ],
              "layout": {
                "template": {
                  "data": {
                    "bar": [
                      {
                        "error_x": {
                          "color": "#2a3f5f"
                        },
                        "error_y": {
                          "color": "#2a3f5f"
                        },
                        "marker": {
                          "line": {
                            "color": "#E5ECF6",
                            "width": 0.5
                          },
                          "pattern": {
                            "fillmode": "overlay",
                            "size": 10,
                            "solidity": 0.2
                          }
                        },
                        "type": "bar"
                      }
                    ],
                    "barpolar": [
                      {
                        "marker": {
                          "line": {
                            "color": "#E5ECF6",
                            "width": 0.5
                          },
                          "pattern": {
                            "fillmode": "overlay",
                            "size": 10,
                            "solidity": 0.2
                          }
                        },
                        "type": "barpolar"
                      }
                    ],
                    "carpet": [
                      {
                        "aaxis": {
                          "endlinecolor": "#2a3f5f",
                          "gridcolor": "white",
                          "linecolor": "white",
                          "minorgridcolor": "white",
                          "startlinecolor": "#2a3f5f"
                        },
                        "baxis": {
                          "endlinecolor": "#2a3f5f",
                          "gridcolor": "white",
                          "linecolor": "white",
                          "minorgridcolor": "white",
                          "startlinecolor": "#2a3f5f"
                        },
                        "type": "carpet"
                      }
                    ],
                    "choropleth": [
                      {
                        "colorbar": {
                          "outlinewidth": 0,
                          "ticks": ""
                        },
                        "type": "choropleth"
                      }
                    ],
                    "contour": [
                      {
                        "colorbar": {
                          "outlinewidth": 0,
                          "ticks": ""
                        },
                        "colorscale": [
                          [
                            0,
                            "#0d0887"
                          ],
                          [
                            0.1111111111111111,
                            "#46039f"
                          ],
                          [
                            0.2222222222222222,
                            "#7201a8"
                          ],
                          [
                            0.3333333333333333,
                            "#9c179e"
                          ],
                          [
                            0.4444444444444444,
                            "#bd3786"
                          ],
                          [
                            0.5555555555555556,
                            "#d8576b"
                          ],
                          [
                            0.6666666666666666,
                            "#ed7953"
                          ],
                          [
                            0.7777777777777778,
                            "#fb9f3a"
                          ],
                          [
                            0.8888888888888888,
                            "#fdca26"
                          ],
                          [
                            1,
                            "#f0f921"
                          ]
                        ],
                        "type": "contour"
                      }
                    ],
                    "contourcarpet": [
                      {
                        "colorbar": {
                          "outlinewidth": 0,
                          "ticks": ""
                        },
                        "type": "contourcarpet"
                      }
                    ],
                    "heatmap": [
                      {
                        "colorbar": {
                          "outlinewidth": 0,
                          "ticks": ""
                        },
                        "colorscale": [
                          [
                            0,
                            "#0d0887"
                          ],
                          [
                            0.1111111111111111,
                            "#46039f"
                          ],
                          [
                            0.2222222222222222,
                            "#7201a8"
                          ],
                          [
                            0.3333333333333333,
                            "#9c179e"
                          ],
                          [
                            0.4444444444444444,
                            "#bd3786"
                          ],
                          [
                            0.5555555555555556,
                            "#d8576b"
                          ],
                          [
                            0.6666666666666666,
                            "#ed7953"
                          ],
                          [
                            0.7777777777777778,
                            "#fb9f3a"
                          ],
                          [
                            0.8888888888888888,
                            "#fdca26"
                          ],
                          [
                            1,
                            "#f0f921"
                          ]
                        ],
                        "type": "heatmap"
                      }
                    ],
                    "heatmapgl": [
                      {
                        "colorbar": {
                          "outlinewidth": 0,
                          "ticks": ""
                        },
                        "colorscale": [
                          [
                            0,
                            "#0d0887"
                          ],
                          [
                            0.1111111111111111,
                            "#46039f"
                          ],
                          [
                            0.2222222222222222,
                            "#7201a8"
                          ],
                          [
                            0.3333333333333333,
                            "#9c179e"
                          ],
                          [
                            0.4444444444444444,
                            "#bd3786"
                          ],
                          [
                            0.5555555555555556,
                            "#d8576b"
                          ],
                          [
                            0.6666666666666666,
                            "#ed7953"
                          ],
                          [
                            0.7777777777777778,
                            "#fb9f3a"
                          ],
                          [
                            0.8888888888888888,
                            "#fdca26"
                          ],
                          [
                            1,
                            "#f0f921"
                          ]
                        ],
                        "type": "heatmapgl"
                      }
                    ],
                    "histogram": [
                      {
                        "marker": {
                          "pattern": {
                            "fillmode": "overlay",
                            "size": 10,
                            "solidity": 0.2
                          }
                        },
                        "type": "histogram"
                      }
                    ],
                    "histogram2d": [
                      {
                        "colorbar": {
                          "outlinewidth": 0,
                          "ticks": ""
                        },
                        "colorscale": [
                          [
                            0,
                            "#0d0887"
                          ],
                          [
                            0.1111111111111111,
                            "#46039f"
                          ],
                          [
                            0.2222222222222222,
                            "#7201a8"
                          ],
                          [
                            0.3333333333333333,
                            "#9c179e"
                          ],
                          [
                            0.4444444444444444,
                            "#bd3786"
                          ],
                          [
                            0.5555555555555556,
                            "#d8576b"
                          ],
                          [
                            0.6666666666666666,
                            "#ed7953"
                          ],
                          [
                            0.7777777777777778,
                            "#fb9f3a"
                          ],
                          [
                            0.8888888888888888,
                            "#fdca26"
                          ],
                          [
                            1,
                            "#f0f921"
                          ]
                        ],
                        "type": "histogram2d"
                      }
                    ],
                    "histogram2dcontour": [
                      {
                        "colorbar": {
                          "outlinewidth": 0,
                          "ticks": ""
                        },
                        "colorscale": [
                          [
                            0,
                            "#0d0887"
                          ],
                          [
                            0.1111111111111111,
                            "#46039f"
                          ],
                          [
                            0.2222222222222222,
                            "#7201a8"
                          ],
                          [
                            0.3333333333333333,
                            "#9c179e"
                          ],
                          [
                            0.4444444444444444,
                            "#bd3786"
                          ],
                          [
                            0.5555555555555556,
                            "#d8576b"
                          ],
                          [
                            0.6666666666666666,
                            "#ed7953"
                          ],
                          [
                            0.7777777777777778,
                            "#fb9f3a"
                          ],
                          [
                            0.8888888888888888,
                            "#fdca26"
                          ],
                          [
                            1,
                            "#f0f921"
                          ]
                        ],
                        "type": "histogram2dcontour"
                      }
                    ],
                    "mesh3d": [
                      {
                        "colorbar": {
                          "outlinewidth": 0,
                          "ticks": ""
                        },
                        "type": "mesh3d"
                      }
                    ],
                    "parcoords": [
                      {
                        "line": {
                          "colorbar": {
                            "outlinewidth": 0,
                            "ticks": ""
                          }
                        },
                        "type": "parcoords"
                      }
                    ],
                    "pie": [
                      {
                        "automargin": true,
                        "type": "pie"
                      }
                    ],
                    "scatter": [
                      {
                        "fillpattern": {
                          "fillmode": "overlay",
                          "size": 10,
                          "solidity": 0.2
                        },
                        "type": "scatter"
                      }
                    ],
                    "scatter3d": [
                      {
                        "line": {
                          "colorbar": {
                            "outlinewidth": 0,
                            "ticks": ""
                          }
                        },
                        "marker": {
                          "colorbar": {
                            "outlinewidth": 0,
                            "ticks": ""
                          }
                        },
                        "type": "scatter3d"
                      }
                    ],
                    "scattercarpet": [
                      {
                        "marker": {
                          "colorbar": {
                            "outlinewidth": 0,
                            "ticks": ""
                          }
                        },
                        "type": "scattercarpet"
                      }
                    ],
                    "scattergeo": [
                      {
                        "marker": {
                          "colorbar": {
                            "outlinewidth": 0,
                            "ticks": ""
                          }
                        },
                        "type": "scattergeo"
                      }
                    ],
                    "scattergl": [
                      {
                        "marker": {
                          "colorbar": {
                            "outlinewidth": 0,
                            "ticks": ""
                          }
                        },
                        "type": "scattergl"
                      }
                    ],
                    "scattermapbox": [
                      {
                        "marker": {
                          "colorbar": {
                            "outlinewidth": 0,
                            "ticks": ""
                          }
                        },
                        "type": "scattermapbox"
                      }
                    ],
                    "scatterpolar": [
                      {
                        "marker": {
                          "colorbar": {
                            "outlinewidth": 0,
                            "ticks": ""
                          }
                        },
                        "type": "scatterpolar"
                      }
                    ],
                    "scatterpolargl": [
                      {
                        "marker": {
                          "colorbar": {
                            "outlinewidth": 0,
                            "ticks": ""
                          }
                        },
                        "type": "scatterpolargl"
                      }
                    ],
                    "scatterternary": [
                      {
                        "marker": {
                          "colorbar": {
                            "outlinewidth": 0,
                            "ticks": ""
                          }
                        },
                        "type": "scatterternary"
                      }
                    ],
                    "surface": [
                      {
                        "colorbar": {
                          "outlinewidth": 0,
                          "ticks": ""
                        },
                        "colorscale": [
                          [
                            0,
                            "#0d0887"
                          ],
                          [
                            0.1111111111111111,
                            "#46039f"
                          ],
                          [
                            0.2222222222222222,
                            "#7201a8"
                          ],
                          [
                            0.3333333333333333,
                            "#9c179e"
                          ],
                          [
                            0.4444444444444444,
                            "#bd3786"
                          ],
                          [
                            0.5555555555555556,
                            "#d8576b"
                          ],
                          [
                            0.6666666666666666,
                            "#ed7953"
                          ],
                          [
                            0.7777777777777778,
                            "#fb9f3a"
                          ],
                          [
                            0.8888888888888888,
                            "#fdca26"
                          ],
                          [
                            1,
                            "#f0f921"
                          ]
                        ],
                        "type": "surface"
                      }
                    ],
                    "table": [
                      {
                        "cells": {
                          "fill": {
                            "color": "#EBF0F8"
                          },
                          "line": {
                            "color": "white"
                          }
                        },
                        "header": {
                          "fill": {
                            "color": "#C8D4E3"
                          },
                          "line": {
                            "color": "white"
                          }
                        },
                        "type": "table"
                      }
                    ]
                  },
                  "layout": {
                    "annotationdefaults": {
                      "arrowcolor": "#2a3f5f",
                      "arrowhead": 0,
                      "arrowwidth": 1
                    },
                    "autotypenumbers": "strict",
                    "coloraxis": {
                      "colorbar": {
                        "outlinewidth": 0,
                        "ticks": ""
                      }
                    },
                    "colorscale": {
                      "diverging": [
                        [
                          0,
                          "#8e0152"
                        ],
                        [
                          0.1,
                          "#c51b7d"
                        ],
                        [
                          0.2,
                          "#de77ae"
                        ],
                        [
                          0.3,
                          "#f1b6da"
                        ],
                        [
                          0.4,
                          "#fde0ef"
                        ],
                        [
                          0.5,
                          "#f7f7f7"
                        ],
                        [
                          0.6,
                          "#e6f5d0"
                        ],
                        [
                          0.7,
                          "#b8e186"
                        ],
                        [
                          0.8,
                          "#7fbc41"
                        ],
                        [
                          0.9,
                          "#4d9221"
                        ],
                        [
                          1,
                          "#276419"
                        ]
                      ],
                      "sequential": [
                        [
                          0,
                          "#0d0887"
                        ],
                        [
                          0.1111111111111111,
                          "#46039f"
                        ],
                        [
                          0.2222222222222222,
                          "#7201a8"
                        ],
                        [
                          0.3333333333333333,
                          "#9c179e"
                        ],
                        [
                          0.4444444444444444,
                          "#bd3786"
                        ],
                        [
                          0.5555555555555556,
                          "#d8576b"
                        ],
                        [
                          0.6666666666666666,
                          "#ed7953"
                        ],
                        [
                          0.7777777777777778,
                          "#fb9f3a"
                        ],
                        [
                          0.8888888888888888,
                          "#fdca26"
                        ],
                        [
                          1,
                          "#f0f921"
                        ]
                      ],
                      "sequentialminus": [
                        [
                          0,
                          "#0d0887"
                        ],
                        [
                          0.1111111111111111,
                          "#46039f"
                        ],
                        [
                          0.2222222222222222,
                          "#7201a8"
                        ],
                        [
                          0.3333333333333333,
                          "#9c179e"
                        ],
                        [
                          0.4444444444444444,
                          "#bd3786"
                        ],
                        [
                          0.5555555555555556,
                          "#d8576b"
                        ],
                        [
                          0.6666666666666666,
                          "#ed7953"
                        ],
                        [
                          0.7777777777777778,
                          "#fb9f3a"
                        ],
                        [
                          0.8888888888888888,
                          "#fdca26"
                        ],
                        [
                          1,
                          "#f0f921"
                        ]
                      ]
                    },
                    "colorway": [
                      "#636efa",
                      "#EF553B",
                      "#00cc96",
                      "#ab63fa",
                      "#FFA15A",
                      "#19d3f3",
                      "#FF6692",
                      "#B6E880",
                      "#FF97FF",
                      "#FECB52"
                    ],
                    "font": {
                      "color": "#2a3f5f"
                    },
                    "geo": {
                      "bgcolor": "white",
                      "lakecolor": "white",
                      "landcolor": "#E5ECF6",
                      "showlakes": true,
                      "showland": true,
                      "subunitcolor": "white"
                    },
                    "hoverlabel": {
                      "align": "left"
                    },
                    "hovermode": "closest",
                    "mapbox": {
                      "style": "light"
                    },
                    "paper_bgcolor": "white",
                    "plot_bgcolor": "#E5ECF6",
                    "polar": {
                      "angularaxis": {
                        "gridcolor": "white",
                        "linecolor": "white",
                        "ticks": ""
                      },
                      "bgcolor": "#E5ECF6",
                      "radialaxis": {
                        "gridcolor": "white",
                        "linecolor": "white",
                        "ticks": ""
                      }
                    },
                    "scene": {
                      "xaxis": {
                        "backgroundcolor": "#E5ECF6",
                        "gridcolor": "white",
                        "gridwidth": 2,
                        "linecolor": "white",
                        "showbackground": true,
                        "ticks": "",
                        "zerolinecolor": "white"
                      },
                      "yaxis": {
                        "backgroundcolor": "#E5ECF6",
                        "gridcolor": "white",
                        "gridwidth": 2,
                        "linecolor": "white",
                        "showbackground": true,
                        "ticks": "",
                        "zerolinecolor": "white"
                      },
                      "zaxis": {
                        "backgroundcolor": "#E5ECF6",
                        "gridcolor": "white",
                        "gridwidth": 2,
                        "linecolor": "white",
                        "showbackground": true,
                        "ticks": "",
                        "zerolinecolor": "white"
                      }
                    },
                    "shapedefaults": {
                      "line": {
                        "color": "#2a3f5f"
                      }
                    },
                    "ternary": {
                      "aaxis": {
                        "gridcolor": "white",
                        "linecolor": "white",
                        "ticks": ""
                      },
                      "baxis": {
                        "gridcolor": "white",
                        "linecolor": "white",
                        "ticks": ""
                      },
                      "bgcolor": "#E5ECF6",
                      "caxis": {
                        "gridcolor": "white",
                        "linecolor": "white",
                        "ticks": ""
                      }
                    },
                    "title": {
                      "x": 0.05
                    },
                    "xaxis": {
                      "automargin": true,
                      "gridcolor": "white",
                      "linecolor": "white",
                      "ticks": "",
                      "title": {
                        "standoff": 15
                      },
                      "zerolinecolor": "white",
                      "zerolinewidth": 2
                    },
                    "yaxis": {
                      "automargin": true,
                      "gridcolor": "white",
                      "linecolor": "white",
                      "ticks": "",
                      "title": {
                        "standoff": 15
                      },
                      "zerolinecolor": "white",
                      "zerolinewidth": 2
                    }
                  }
                },
                "title": {
                  "text": "Optimization History Plot"
                },
                "xaxis": {
                  "title": {
                    "text": "Trial"
                  }
                },
                "yaxis": {
                  "title": {
                    "text": "Objective Value"
                  }
                }
              }
            }
          },
          "metadata": {},
          "output_type": "display_data"
        }
      ],
      "source": [
        "# view distribution of hyperparameters w.r.t. accuracy\n",
        "optuna.visualization.plot_optimization_history(mnist_study)"
      ]
    },
    {
      "cell_type": "code",
      "execution_count": 37,
      "metadata": {},
      "outputs": [
        {
          "data": {
            "application/vnd.plotly.v1+json": {
              "config": {
                "plotlyServerURL": "https://plot.ly"
              },
              "data": [
                {
                  "marker": {
                    "color": [
                      0,
                      1,
                      2,
                      3,
                      4,
                      7,
                      8,
                      9,
                      10,
                      11,
                      12,
                      13,
                      14,
                      15,
                      17,
                      18,
                      19,
                      20,
                      21,
                      22,
                      23,
                      24,
                      25,
                      26,
                      27,
                      28,
                      31,
                      32,
                      34,
                      41,
                      42,
                      43
                    ],
                    "colorbar": {
                      "title": {
                        "text": "Trial"
                      },
                      "x": 1,
                      "xpad": 40
                    },
                    "colorscale": [
                      [
                        0,
                        "rgb(247,251,255)"
                      ],
                      [
                        0.125,
                        "rgb(222,235,247)"
                      ],
                      [
                        0.25,
                        "rgb(198,219,239)"
                      ],
                      [
                        0.375,
                        "rgb(158,202,225)"
                      ],
                      [
                        0.5,
                        "rgb(107,174,214)"
                      ],
                      [
                        0.625,
                        "rgb(66,146,198)"
                      ],
                      [
                        0.75,
                        "rgb(33,113,181)"
                      ],
                      [
                        0.875,
                        "rgb(8,81,156)"
                      ],
                      [
                        1,
                        "rgb(8,48,107)"
                      ]
                    ],
                    "line": {
                      "color": "Grey",
                      "width": 0.5
                    },
                    "showscale": true
                  },
                  "mode": "markers",
                  "name": "Feasible Trial",
                  "showlegend": false,
                  "type": "scatter",
                  "x": [
                    "leaky_relu",
                    "leaky_relu",
                    "leaky_relu",
                    "gelu",
                    "relu",
                    "gelu",
                    "relu",
                    "tanh",
                    "relu",
                    "relu",
                    "relu",
                    "sigmoid",
                    "sigmoid",
                    "sigmoid",
                    "sigmoid",
                    "sigmoid",
                    "sigmoid",
                    "silu",
                    "silu",
                    "silu",
                    "silu",
                    "silu",
                    "silu",
                    "silu",
                    "silu",
                    "silu",
                    "silu",
                    "silu",
                    "silu",
                    "silu",
                    "silu",
                    "silu"
                  ],
                  "xaxis": "x",
                  "y": [
                    0.9280833333333334,
                    0.8565,
                    0.9001666666666667,
                    0.09058333333333334,
                    0.9053333333333333,
                    0.9070833333333334,
                    0.953,
                    0.9418333333333333,
                    0.9506666666666667,
                    0.9501666666666667,
                    0.952,
                    0.9569166666666666,
                    0.9588333333333333,
                    0.9573333333333334,
                    0.9598333333333333,
                    0.9603333333333334,
                    0.9635,
                    0.9643333333333334,
                    0.9633333333333334,
                    0.9641666666666666,
                    0.9615833333333333,
                    0.9628333333333333,
                    0.96925,
                    0.9644166666666667,
                    0.9661666666666666,
                    0.967,
                    0.9659166666666666,
                    0.9644166666666667,
                    0.96275,
                    0.9638333333333333,
                    0.9639166666666666,
                    0.968
                  ],
                  "yaxis": "y"
                },
                {
                  "marker": {
                    "color": [
                      0,
                      1,
                      2,
                      3,
                      4,
                      7,
                      8,
                      13,
                      14,
                      15,
                      17,
                      18,
                      19
                    ],
                    "colorbar": {
                      "title": {
                        "text": "Trial"
                      },
                      "x": 1,
                      "xpad": 40
                    },
                    "colorscale": [
                      [
                        0,
                        "rgb(247,251,255)"
                      ],
                      [
                        0.125,
                        "rgb(222,235,247)"
                      ],
                      [
                        0.25,
                        "rgb(198,219,239)"
                      ],
                      [
                        0.375,
                        "rgb(158,202,225)"
                      ],
                      [
                        0.5,
                        "rgb(107,174,214)"
                      ],
                      [
                        0.625,
                        "rgb(66,146,198)"
                      ],
                      [
                        0.75,
                        "rgb(33,113,181)"
                      ],
                      [
                        0.875,
                        "rgb(8,81,156)"
                      ],
                      [
                        1,
                        "rgb(8,48,107)"
                      ]
                    ],
                    "line": {
                      "color": "Grey",
                      "width": 0.5
                    },
                    "showscale": false
                  },
                  "mode": "markers",
                  "name": "Feasible Trial",
                  "showlegend": false,
                  "type": "scatter",
                  "x": [
                    "gelu",
                    "silu",
                    "gelu",
                    "relu",
                    "gelu",
                    "tanh",
                    "gelu",
                    "leaky_relu",
                    "leaky_relu",
                    "leaky_relu",
                    "leaky_relu",
                    "leaky_relu",
                    "leaky_relu"
                  ],
                  "xaxis": "x2",
                  "y": [
                    0.9280833333333334,
                    0.8565,
                    0.9001666666666667,
                    0.09058333333333334,
                    0.9053333333333333,
                    0.9070833333333334,
                    0.953,
                    0.9569166666666666,
                    0.9588333333333333,
                    0.9573333333333334,
                    0.9598333333333333,
                    0.9603333333333334,
                    0.9635
                  ],
                  "yaxis": "y2"
                },
                {
                  "marker": {
                    "color": [
                      0,
                      1,
                      2,
                      3,
                      4,
                      7
                    ],
                    "colorbar": {
                      "title": {
                        "text": "Trial"
                      },
                      "x": 1,
                      "xpad": 40
                    },
                    "colorscale": [
                      [
                        0,
                        "rgb(247,251,255)"
                      ],
                      [
                        0.125,
                        "rgb(222,235,247)"
                      ],
                      [
                        0.25,
                        "rgb(198,219,239)"
                      ],
                      [
                        0.375,
                        "rgb(158,202,225)"
                      ],
                      [
                        0.5,
                        "rgb(107,174,214)"
                      ],
                      [
                        0.625,
                        "rgb(66,146,198)"
                      ],
                      [
                        0.75,
                        "rgb(33,113,181)"
                      ],
                      [
                        0.875,
                        "rgb(8,81,156)"
                      ],
                      [
                        1,
                        "rgb(8,48,107)"
                      ]
                    ],
                    "line": {
                      "color": "Grey",
                      "width": 0.5
                    },
                    "showscale": false
                  },
                  "mode": "markers",
                  "name": "Feasible Trial",
                  "showlegend": false,
                  "type": "scatter",
                  "x": [
                    "relu",
                    "tanh",
                    "sigmoid",
                    "tanh",
                    "silu",
                    "sigmoid"
                  ],
                  "xaxis": "x3",
                  "y": [
                    0.9280833333333334,
                    0.8565,
                    0.9001666666666667,
                    0.09058333333333334,
                    0.9053333333333333,
                    0.9070833333333334
                  ],
                  "yaxis": "y3"
                },
                {
                  "marker": {
                    "color": [
                      0,
                      1,
                      2,
                      3,
                      4,
                      7,
                      8,
                      9,
                      10,
                      11,
                      12,
                      13,
                      14,
                      15,
                      17,
                      18,
                      19,
                      20,
                      21,
                      22,
                      23,
                      24,
                      25,
                      26,
                      27,
                      28,
                      31,
                      32,
                      34,
                      41,
                      42,
                      43
                    ],
                    "colorbar": {
                      "title": {
                        "text": "Trial"
                      },
                      "x": 1,
                      "xpad": 40
                    },
                    "colorscale": [
                      [
                        0,
                        "rgb(247,251,255)"
                      ],
                      [
                        0.125,
                        "rgb(222,235,247)"
                      ],
                      [
                        0.25,
                        "rgb(198,219,239)"
                      ],
                      [
                        0.375,
                        "rgb(158,202,225)"
                      ],
                      [
                        0.5,
                        "rgb(107,174,214)"
                      ],
                      [
                        0.625,
                        "rgb(66,146,198)"
                      ],
                      [
                        0.75,
                        "rgb(33,113,181)"
                      ],
                      [
                        0.875,
                        "rgb(8,81,156)"
                      ],
                      [
                        1,
                        "rgb(8,48,107)"
                      ]
                    ],
                    "line": {
                      "color": "Grey",
                      "width": 0.5
                    },
                    "showscale": false
                  },
                  "mode": "markers",
                  "name": "Feasible Trial",
                  "showlegend": false,
                  "type": "scatter",
                  "x": [
                    128,
                    128,
                    64,
                    64,
                    128,
                    32,
                    32,
                    128,
                    32,
                    32,
                    32,
                    32,
                    32,
                    32,
                    32,
                    32,
                    64,
                    64,
                    64,
                    64,
                    64,
                    64,
                    64,
                    64,
                    64,
                    64,
                    64,
                    64,
                    128,
                    64,
                    64,
                    64
                  ],
                  "xaxis": "x4",
                  "y": [
                    0.9280833333333334,
                    0.8565,
                    0.9001666666666667,
                    0.09058333333333334,
                    0.9053333333333333,
                    0.9070833333333334,
                    0.953,
                    0.9418333333333333,
                    0.9506666666666667,
                    0.9501666666666667,
                    0.952,
                    0.9569166666666666,
                    0.9588333333333333,
                    0.9573333333333334,
                    0.9598333333333333,
                    0.9603333333333334,
                    0.9635,
                    0.9643333333333334,
                    0.9633333333333334,
                    0.9641666666666666,
                    0.9615833333333333,
                    0.9628333333333333,
                    0.96925,
                    0.9644166666666667,
                    0.9661666666666666,
                    0.967,
                    0.9659166666666666,
                    0.9644166666666667,
                    0.96275,
                    0.9638333333333333,
                    0.9639166666666666,
                    0.968
                  ],
                  "yaxis": "y4"
                },
                {
                  "marker": {
                    "color": [
                      0,
                      1,
                      2,
                      3,
                      4,
                      7,
                      8,
                      9,
                      10,
                      11,
                      12,
                      13,
                      14,
                      15,
                      17,
                      18,
                      19,
                      20,
                      21,
                      22,
                      23,
                      24,
                      25,
                      26,
                      27,
                      28,
                      31,
                      32,
                      34,
                      41,
                      42,
                      43
                    ],
                    "colorbar": {
                      "title": {
                        "text": "Trial"
                      },
                      "x": 1,
                      "xpad": 40
                    },
                    "colorscale": [
                      [
                        0,
                        "rgb(247,251,255)"
                      ],
                      [
                        0.125,
                        "rgb(222,235,247)"
                      ],
                      [
                        0.25,
                        "rgb(198,219,239)"
                      ],
                      [
                        0.375,
                        "rgb(158,202,225)"
                      ],
                      [
                        0.5,
                        "rgb(107,174,214)"
                      ],
                      [
                        0.625,
                        "rgb(66,146,198)"
                      ],
                      [
                        0.75,
                        "rgb(33,113,181)"
                      ],
                      [
                        0.875,
                        "rgb(8,81,156)"
                      ],
                      [
                        1,
                        "rgb(8,48,107)"
                      ]
                    ],
                    "line": {
                      "color": "Grey",
                      "width": 0.5
                    },
                    "showscale": false
                  },
                  "mode": "markers",
                  "name": "Feasible Trial",
                  "showlegend": false,
                  "type": "scatter",
                  "x": [
                    32,
                    16,
                    32,
                    512,
                    32,
                    512,
                    512,
                    128,
                    256,
                    256,
                    256,
                    64,
                    64,
                    64,
                    64,
                    64,
                    64,
                    128,
                    128,
                    128,
                    128,
                    128,
                    128,
                    128,
                    128,
                    128,
                    128,
                    128,
                    128,
                    128,
                    128,
                    128
                  ],
                  "xaxis": "x5",
                  "y": [
                    0.9280833333333334,
                    0.8565,
                    0.9001666666666667,
                    0.09058333333333334,
                    0.9053333333333333,
                    0.9070833333333334,
                    0.953,
                    0.9418333333333333,
                    0.9506666666666667,
                    0.9501666666666667,
                    0.952,
                    0.9569166666666666,
                    0.9588333333333333,
                    0.9573333333333334,
                    0.9598333333333333,
                    0.9603333333333334,
                    0.9635,
                    0.9643333333333334,
                    0.9633333333333334,
                    0.9641666666666666,
                    0.9615833333333333,
                    0.9628333333333333,
                    0.96925,
                    0.9644166666666667,
                    0.9661666666666666,
                    0.967,
                    0.9659166666666666,
                    0.9644166666666667,
                    0.96275,
                    0.9638333333333333,
                    0.9639166666666666,
                    0.968
                  ],
                  "yaxis": "y5"
                },
                {
                  "marker": {
                    "color": [
                      0,
                      1,
                      2,
                      3,
                      4,
                      7,
                      8,
                      13,
                      14,
                      15,
                      17,
                      18,
                      19
                    ],
                    "colorbar": {
                      "title": {
                        "text": "Trial"
                      },
                      "x": 1,
                      "xpad": 40
                    },
                    "colorscale": [
                      [
                        0,
                        "rgb(247,251,255)"
                      ],
                      [
                        0.125,
                        "rgb(222,235,247)"
                      ],
                      [
                        0.25,
                        "rgb(198,219,239)"
                      ],
                      [
                        0.375,
                        "rgb(158,202,225)"
                      ],
                      [
                        0.5,
                        "rgb(107,174,214)"
                      ],
                      [
                        0.625,
                        "rgb(66,146,198)"
                      ],
                      [
                        0.75,
                        "rgb(33,113,181)"
                      ],
                      [
                        0.875,
                        "rgb(8,81,156)"
                      ],
                      [
                        1,
                        "rgb(8,48,107)"
                      ]
                    ],
                    "line": {
                      "color": "Grey",
                      "width": 0.5
                    },
                    "showscale": false
                  },
                  "mode": "markers",
                  "name": "Feasible Trial",
                  "showlegend": false,
                  "type": "scatter",
                  "x": [
                    32,
                    64,
                    512,
                    512,
                    128,
                    128,
                    32,
                    256,
                    256,
                    256,
                    256,
                    256,
                    256
                  ],
                  "xaxis": "x6",
                  "y": [
                    0.9280833333333334,
                    0.8565,
                    0.9001666666666667,
                    0.09058333333333334,
                    0.9053333333333333,
                    0.9070833333333334,
                    0.953,
                    0.9569166666666666,
                    0.9588333333333333,
                    0.9573333333333334,
                    0.9598333333333333,
                    0.9603333333333334,
                    0.9635
                  ],
                  "yaxis": "y6"
                },
                {
                  "marker": {
                    "color": [
                      0,
                      1,
                      2,
                      3,
                      4,
                      7
                    ],
                    "colorbar": {
                      "title": {
                        "text": "Trial"
                      },
                      "x": 1,
                      "xpad": 40
                    },
                    "colorscale": [
                      [
                        0,
                        "rgb(247,251,255)"
                      ],
                      [
                        0.125,
                        "rgb(222,235,247)"
                      ],
                      [
                        0.25,
                        "rgb(198,219,239)"
                      ],
                      [
                        0.375,
                        "rgb(158,202,225)"
                      ],
                      [
                        0.5,
                        "rgb(107,174,214)"
                      ],
                      [
                        0.625,
                        "rgb(66,146,198)"
                      ],
                      [
                        0.75,
                        "rgb(33,113,181)"
                      ],
                      [
                        0.875,
                        "rgb(8,81,156)"
                      ],
                      [
                        1,
                        "rgb(8,48,107)"
                      ]
                    ],
                    "line": {
                      "color": "Grey",
                      "width": 0.5
                    },
                    "showscale": false
                  },
                  "mode": "markers",
                  "name": "Feasible Trial",
                  "showlegend": false,
                  "type": "scatter",
                  "x": [
                    256,
                    128,
                    64,
                    16,
                    64,
                    32
                  ],
                  "xaxis": "x7",
                  "y": [
                    0.9280833333333334,
                    0.8565,
                    0.9001666666666667,
                    0.09058333333333334,
                    0.9053333333333333,
                    0.9070833333333334
                  ],
                  "yaxis": "y7"
                },
                {
                  "marker": {
                    "color": [
                      0,
                      1,
                      2,
                      3,
                      4,
                      7,
                      8,
                      9,
                      10,
                      11,
                      12,
                      13,
                      14,
                      15,
                      17,
                      18,
                      19,
                      20,
                      21,
                      22,
                      23,
                      24,
                      25,
                      26,
                      27,
                      28,
                      31,
                      32,
                      34,
                      41,
                      42,
                      43
                    ],
                    "colorbar": {
                      "title": {
                        "text": "Trial"
                      },
                      "x": 1,
                      "xpad": 40
                    },
                    "colorscale": [
                      [
                        0,
                        "rgb(247,251,255)"
                      ],
                      [
                        0.125,
                        "rgb(222,235,247)"
                      ],
                      [
                        0.25,
                        "rgb(198,219,239)"
                      ],
                      [
                        0.375,
                        "rgb(158,202,225)"
                      ],
                      [
                        0.5,
                        "rgb(107,174,214)"
                      ],
                      [
                        0.625,
                        "rgb(66,146,198)"
                      ],
                      [
                        0.75,
                        "rgb(33,113,181)"
                      ],
                      [
                        0.875,
                        "rgb(8,81,156)"
                      ],
                      [
                        1,
                        "rgb(8,48,107)"
                      ]
                    ],
                    "line": {
                      "color": "Grey",
                      "width": 0.5
                    },
                    "showscale": false
                  },
                  "mode": "markers",
                  "name": "Feasible Trial",
                  "showlegend": false,
                  "type": "scatter",
                  "x": [
                    0.0017777713120249174,
                    0.000022270001438132852,
                    0.0013888144342063661,
                    0.008521545100706605,
                    0.003467544618788291,
                    0.005028058855843962,
                    0.000029327686920547257,
                    0.0010143107142989293,
                    0.000039941048704282194,
                    0.00003712617960069237,
                    0.00012389255451355607,
                    0.00012585878099805292,
                    0.00016199921953874148,
                    0.00017248246118138204,
                    0.00032061650728148724,
                    0.0004627869874933006,
                    0.00045413329466202477,
                    0.03137703255835956,
                    0.08382972859389022,
                    0.035075300848514956,
                    0.017161669316733793,
                    0.022963764878243895,
                    0.09472452556756873,
                    0.06341261294507518,
                    0.07644566085709921,
                    0.09745579404510572,
                    0.09592263726888851,
                    0.08540093099271145,
                    0.04891135443361526,
                    0.060116294868793864,
                    0.09957527089858742,
                    0.05604027523831301
                  ],
                  "xaxis": "x8",
                  "y": [
                    0.9280833333333334,
                    0.8565,
                    0.9001666666666667,
                    0.09058333333333334,
                    0.9053333333333333,
                    0.9070833333333334,
                    0.953,
                    0.9418333333333333,
                    0.9506666666666667,
                    0.9501666666666667,
                    0.952,
                    0.9569166666666666,
                    0.9588333333333333,
                    0.9573333333333334,
                    0.9598333333333333,
                    0.9603333333333334,
                    0.9635,
                    0.9643333333333334,
                    0.9633333333333334,
                    0.9641666666666666,
                    0.9615833333333333,
                    0.9628333333333333,
                    0.96925,
                    0.9644166666666667,
                    0.9661666666666666,
                    0.967,
                    0.9659166666666666,
                    0.9644166666666667,
                    0.96275,
                    0.9638333333333333,
                    0.9639166666666666,
                    0.968
                  ],
                  "yaxis": "y8"
                },
                {
                  "marker": {
                    "color": [
                      0,
                      1,
                      2,
                      3,
                      4,
                      7,
                      8,
                      9,
                      10,
                      11,
                      12,
                      13,
                      14,
                      15,
                      17,
                      18,
                      19,
                      20,
                      21,
                      22,
                      23,
                      24,
                      25,
                      26,
                      27,
                      28,
                      31,
                      32,
                      34,
                      41,
                      42,
                      43
                    ],
                    "colorbar": {
                      "title": {
                        "text": "Trial"
                      },
                      "x": 1,
                      "xpad": 40
                    },
                    "colorscale": [
                      [
                        0,
                        "rgb(247,251,255)"
                      ],
                      [
                        0.125,
                        "rgb(222,235,247)"
                      ],
                      [
                        0.25,
                        "rgb(198,219,239)"
                      ],
                      [
                        0.375,
                        "rgb(158,202,225)"
                      ],
                      [
                        0.5,
                        "rgb(107,174,214)"
                      ],
                      [
                        0.625,
                        "rgb(66,146,198)"
                      ],
                      [
                        0.75,
                        "rgb(33,113,181)"
                      ],
                      [
                        0.875,
                        "rgb(8,81,156)"
                      ],
                      [
                        1,
                        "rgb(8,48,107)"
                      ]
                    ],
                    "line": {
                      "color": "Grey",
                      "width": 0.5
                    },
                    "showscale": false
                  },
                  "mode": "markers",
                  "name": "Feasible Trial",
                  "showlegend": false,
                  "type": "scatter",
                  "x": [
                    3,
                    3,
                    3,
                    3,
                    3,
                    3,
                    2,
                    1,
                    1,
                    1,
                    1,
                    2,
                    2,
                    2,
                    2,
                    2,
                    2,
                    1,
                    1,
                    1,
                    1,
                    1,
                    1,
                    1,
                    1,
                    1,
                    1,
                    1,
                    1,
                    1,
                    1,
                    1
                  ],
                  "xaxis": "x9",
                  "y": [
                    0.9280833333333334,
                    0.8565,
                    0.9001666666666667,
                    0.09058333333333334,
                    0.9053333333333333,
                    0.9070833333333334,
                    0.953,
                    0.9418333333333333,
                    0.9506666666666667,
                    0.9501666666666667,
                    0.952,
                    0.9569166666666666,
                    0.9588333333333333,
                    0.9573333333333334,
                    0.9598333333333333,
                    0.9603333333333334,
                    0.9635,
                    0.9643333333333334,
                    0.9633333333333334,
                    0.9641666666666666,
                    0.9615833333333333,
                    0.9628333333333333,
                    0.96925,
                    0.9644166666666667,
                    0.9661666666666666,
                    0.967,
                    0.9659166666666666,
                    0.9644166666666667,
                    0.96275,
                    0.9638333333333333,
                    0.9639166666666666,
                    0.968
                  ],
                  "yaxis": "y9"
                },
                {
                  "marker": {
                    "color": [
                      0,
                      1,
                      2,
                      3,
                      4,
                      7,
                      8,
                      9,
                      10,
                      11,
                      12,
                      13,
                      14,
                      15,
                      17,
                      18,
                      19,
                      20,
                      21,
                      22,
                      23,
                      24,
                      25,
                      26,
                      27,
                      28,
                      31,
                      32,
                      34,
                      41,
                      42,
                      43
                    ],
                    "colorbar": {
                      "title": {
                        "text": "Trial"
                      },
                      "x": 1,
                      "xpad": 40
                    },
                    "colorscale": [
                      [
                        0,
                        "rgb(247,251,255)"
                      ],
                      [
                        0.125,
                        "rgb(222,235,247)"
                      ],
                      [
                        0.25,
                        "rgb(198,219,239)"
                      ],
                      [
                        0.375,
                        "rgb(158,202,225)"
                      ],
                      [
                        0.5,
                        "rgb(107,174,214)"
                      ],
                      [
                        0.625,
                        "rgb(66,146,198)"
                      ],
                      [
                        0.75,
                        "rgb(33,113,181)"
                      ],
                      [
                        0.875,
                        "rgb(8,81,156)"
                      ],
                      [
                        1,
                        "rgb(8,48,107)"
                      ]
                    ],
                    "line": {
                      "color": "Grey",
                      "width": 0.5
                    },
                    "showscale": false
                  },
                  "mode": "markers",
                  "name": "Feasible Trial",
                  "showlegend": false,
                  "type": "scatter",
                  "x": [
                    "Adam",
                    "RMSprop",
                    "SGD",
                    "RMSprop",
                    "SGD",
                    "RMSprop",
                    "Adam",
                    "RMSprop",
                    "Adam",
                    "Adam",
                    "Adam",
                    "Adam",
                    "Adam",
                    "Adam",
                    "Adam",
                    "Adam",
                    "Adam",
                    "SGD",
                    "SGD",
                    "SGD",
                    "SGD",
                    "SGD",
                    "SGD",
                    "SGD",
                    "SGD",
                    "SGD",
                    "SGD",
                    "SGD",
                    "SGD",
                    "SGD",
                    "SGD",
                    "SGD"
                  ],
                  "xaxis": "x10",
                  "y": [
                    0.9280833333333334,
                    0.8565,
                    0.9001666666666667,
                    0.09058333333333334,
                    0.9053333333333333,
                    0.9070833333333334,
                    0.953,
                    0.9418333333333333,
                    0.9506666666666667,
                    0.9501666666666667,
                    0.952,
                    0.9569166666666666,
                    0.9588333333333333,
                    0.9573333333333334,
                    0.9598333333333333,
                    0.9603333333333334,
                    0.9635,
                    0.9643333333333334,
                    0.9633333333333334,
                    0.9641666666666666,
                    0.9615833333333333,
                    0.9628333333333333,
                    0.96925,
                    0.9644166666666667,
                    0.9661666666666666,
                    0.967,
                    0.9659166666666666,
                    0.9644166666666667,
                    0.96275,
                    0.9638333333333333,
                    0.9639166666666666,
                    0.968
                  ],
                  "yaxis": "y10"
                }
              ],
              "layout": {
                "template": {
                  "data": {
                    "bar": [
                      {
                        "error_x": {
                          "color": "#2a3f5f"
                        },
                        "error_y": {
                          "color": "#2a3f5f"
                        },
                        "marker": {
                          "line": {
                            "color": "#E5ECF6",
                            "width": 0.5
                          },
                          "pattern": {
                            "fillmode": "overlay",
                            "size": 10,
                            "solidity": 0.2
                          }
                        },
                        "type": "bar"
                      }
                    ],
                    "barpolar": [
                      {
                        "marker": {
                          "line": {
                            "color": "#E5ECF6",
                            "width": 0.5
                          },
                          "pattern": {
                            "fillmode": "overlay",
                            "size": 10,
                            "solidity": 0.2
                          }
                        },
                        "type": "barpolar"
                      }
                    ],
                    "carpet": [
                      {
                        "aaxis": {
                          "endlinecolor": "#2a3f5f",
                          "gridcolor": "white",
                          "linecolor": "white",
                          "minorgridcolor": "white",
                          "startlinecolor": "#2a3f5f"
                        },
                        "baxis": {
                          "endlinecolor": "#2a3f5f",
                          "gridcolor": "white",
                          "linecolor": "white",
                          "minorgridcolor": "white",
                          "startlinecolor": "#2a3f5f"
                        },
                        "type": "carpet"
                      }
                    ],
                    "choropleth": [
                      {
                        "colorbar": {
                          "outlinewidth": 0,
                          "ticks": ""
                        },
                        "type": "choropleth"
                      }
                    ],
                    "contour": [
                      {
                        "colorbar": {
                          "outlinewidth": 0,
                          "ticks": ""
                        },
                        "colorscale": [
                          [
                            0,
                            "#0d0887"
                          ],
                          [
                            0.1111111111111111,
                            "#46039f"
                          ],
                          [
                            0.2222222222222222,
                            "#7201a8"
                          ],
                          [
                            0.3333333333333333,
                            "#9c179e"
                          ],
                          [
                            0.4444444444444444,
                            "#bd3786"
                          ],
                          [
                            0.5555555555555556,
                            "#d8576b"
                          ],
                          [
                            0.6666666666666666,
                            "#ed7953"
                          ],
                          [
                            0.7777777777777778,
                            "#fb9f3a"
                          ],
                          [
                            0.8888888888888888,
                            "#fdca26"
                          ],
                          [
                            1,
                            "#f0f921"
                          ]
                        ],
                        "type": "contour"
                      }
                    ],
                    "contourcarpet": [
                      {
                        "colorbar": {
                          "outlinewidth": 0,
                          "ticks": ""
                        },
                        "type": "contourcarpet"
                      }
                    ],
                    "heatmap": [
                      {
                        "colorbar": {
                          "outlinewidth": 0,
                          "ticks": ""
                        },
                        "colorscale": [
                          [
                            0,
                            "#0d0887"
                          ],
                          [
                            0.1111111111111111,
                            "#46039f"
                          ],
                          [
                            0.2222222222222222,
                            "#7201a8"
                          ],
                          [
                            0.3333333333333333,
                            "#9c179e"
                          ],
                          [
                            0.4444444444444444,
                            "#bd3786"
                          ],
                          [
                            0.5555555555555556,
                            "#d8576b"
                          ],
                          [
                            0.6666666666666666,
                            "#ed7953"
                          ],
                          [
                            0.7777777777777778,
                            "#fb9f3a"
                          ],
                          [
                            0.8888888888888888,
                            "#fdca26"
                          ],
                          [
                            1,
                            "#f0f921"
                          ]
                        ],
                        "type": "heatmap"
                      }
                    ],
                    "heatmapgl": [
                      {
                        "colorbar": {
                          "outlinewidth": 0,
                          "ticks": ""
                        },
                        "colorscale": [
                          [
                            0,
                            "#0d0887"
                          ],
                          [
                            0.1111111111111111,
                            "#46039f"
                          ],
                          [
                            0.2222222222222222,
                            "#7201a8"
                          ],
                          [
                            0.3333333333333333,
                            "#9c179e"
                          ],
                          [
                            0.4444444444444444,
                            "#bd3786"
                          ],
                          [
                            0.5555555555555556,
                            "#d8576b"
                          ],
                          [
                            0.6666666666666666,
                            "#ed7953"
                          ],
                          [
                            0.7777777777777778,
                            "#fb9f3a"
                          ],
                          [
                            0.8888888888888888,
                            "#fdca26"
                          ],
                          [
                            1,
                            "#f0f921"
                          ]
                        ],
                        "type": "heatmapgl"
                      }
                    ],
                    "histogram": [
                      {
                        "marker": {
                          "pattern": {
                            "fillmode": "overlay",
                            "size": 10,
                            "solidity": 0.2
                          }
                        },
                        "type": "histogram"
                      }
                    ],
                    "histogram2d": [
                      {
                        "colorbar": {
                          "outlinewidth": 0,
                          "ticks": ""
                        },
                        "colorscale": [
                          [
                            0,
                            "#0d0887"
                          ],
                          [
                            0.1111111111111111,
                            "#46039f"
                          ],
                          [
                            0.2222222222222222,
                            "#7201a8"
                          ],
                          [
                            0.3333333333333333,
                            "#9c179e"
                          ],
                          [
                            0.4444444444444444,
                            "#bd3786"
                          ],
                          [
                            0.5555555555555556,
                            "#d8576b"
                          ],
                          [
                            0.6666666666666666,
                            "#ed7953"
                          ],
                          [
                            0.7777777777777778,
                            "#fb9f3a"
                          ],
                          [
                            0.8888888888888888,
                            "#fdca26"
                          ],
                          [
                            1,
                            "#f0f921"
                          ]
                        ],
                        "type": "histogram2d"
                      }
                    ],
                    "histogram2dcontour": [
                      {
                        "colorbar": {
                          "outlinewidth": 0,
                          "ticks": ""
                        },
                        "colorscale": [
                          [
                            0,
                            "#0d0887"
                          ],
                          [
                            0.1111111111111111,
                            "#46039f"
                          ],
                          [
                            0.2222222222222222,
                            "#7201a8"
                          ],
                          [
                            0.3333333333333333,
                            "#9c179e"
                          ],
                          [
                            0.4444444444444444,
                            "#bd3786"
                          ],
                          [
                            0.5555555555555556,
                            "#d8576b"
                          ],
                          [
                            0.6666666666666666,
                            "#ed7953"
                          ],
                          [
                            0.7777777777777778,
                            "#fb9f3a"
                          ],
                          [
                            0.8888888888888888,
                            "#fdca26"
                          ],
                          [
                            1,
                            "#f0f921"
                          ]
                        ],
                        "type": "histogram2dcontour"
                      }
                    ],
                    "mesh3d": [
                      {
                        "colorbar": {
                          "outlinewidth": 0,
                          "ticks": ""
                        },
                        "type": "mesh3d"
                      }
                    ],
                    "parcoords": [
                      {
                        "line": {
                          "colorbar": {
                            "outlinewidth": 0,
                            "ticks": ""
                          }
                        },
                        "type": "parcoords"
                      }
                    ],
                    "pie": [
                      {
                        "automargin": true,
                        "type": "pie"
                      }
                    ],
                    "scatter": [
                      {
                        "fillpattern": {
                          "fillmode": "overlay",
                          "size": 10,
                          "solidity": 0.2
                        },
                        "type": "scatter"
                      }
                    ],
                    "scatter3d": [
                      {
                        "line": {
                          "colorbar": {
                            "outlinewidth": 0,
                            "ticks": ""
                          }
                        },
                        "marker": {
                          "colorbar": {
                            "outlinewidth": 0,
                            "ticks": ""
                          }
                        },
                        "type": "scatter3d"
                      }
                    ],
                    "scattercarpet": [
                      {
                        "marker": {
                          "colorbar": {
                            "outlinewidth": 0,
                            "ticks": ""
                          }
                        },
                        "type": "scattercarpet"
                      }
                    ],
                    "scattergeo": [
                      {
                        "marker": {
                          "colorbar": {
                            "outlinewidth": 0,
                            "ticks": ""
                          }
                        },
                        "type": "scattergeo"
                      }
                    ],
                    "scattergl": [
                      {
                        "marker": {
                          "colorbar": {
                            "outlinewidth": 0,
                            "ticks": ""
                          }
                        },
                        "type": "scattergl"
                      }
                    ],
                    "scattermapbox": [
                      {
                        "marker": {
                          "colorbar": {
                            "outlinewidth": 0,
                            "ticks": ""
                          }
                        },
                        "type": "scattermapbox"
                      }
                    ],
                    "scatterpolar": [
                      {
                        "marker": {
                          "colorbar": {
                            "outlinewidth": 0,
                            "ticks": ""
                          }
                        },
                        "type": "scatterpolar"
                      }
                    ],
                    "scatterpolargl": [
                      {
                        "marker": {
                          "colorbar": {
                            "outlinewidth": 0,
                            "ticks": ""
                          }
                        },
                        "type": "scatterpolargl"
                      }
                    ],
                    "scatterternary": [
                      {
                        "marker": {
                          "colorbar": {
                            "outlinewidth": 0,
                            "ticks": ""
                          }
                        },
                        "type": "scatterternary"
                      }
                    ],
                    "surface": [
                      {
                        "colorbar": {
                          "outlinewidth": 0,
                          "ticks": ""
                        },
                        "colorscale": [
                          [
                            0,
                            "#0d0887"
                          ],
                          [
                            0.1111111111111111,
                            "#46039f"
                          ],
                          [
                            0.2222222222222222,
                            "#7201a8"
                          ],
                          [
                            0.3333333333333333,
                            "#9c179e"
                          ],
                          [
                            0.4444444444444444,
                            "#bd3786"
                          ],
                          [
                            0.5555555555555556,
                            "#d8576b"
                          ],
                          [
                            0.6666666666666666,
                            "#ed7953"
                          ],
                          [
                            0.7777777777777778,
                            "#fb9f3a"
                          ],
                          [
                            0.8888888888888888,
                            "#fdca26"
                          ],
                          [
                            1,
                            "#f0f921"
                          ]
                        ],
                        "type": "surface"
                      }
                    ],
                    "table": [
                      {
                        "cells": {
                          "fill": {
                            "color": "#EBF0F8"
                          },
                          "line": {
                            "color": "white"
                          }
                        },
                        "header": {
                          "fill": {
                            "color": "#C8D4E3"
                          },
                          "line": {
                            "color": "white"
                          }
                        },
                        "type": "table"
                      }
                    ]
                  },
                  "layout": {
                    "annotationdefaults": {
                      "arrowcolor": "#2a3f5f",
                      "arrowhead": 0,
                      "arrowwidth": 1
                    },
                    "autotypenumbers": "strict",
                    "coloraxis": {
                      "colorbar": {
                        "outlinewidth": 0,
                        "ticks": ""
                      }
                    },
                    "colorscale": {
                      "diverging": [
                        [
                          0,
                          "#8e0152"
                        ],
                        [
                          0.1,
                          "#c51b7d"
                        ],
                        [
                          0.2,
                          "#de77ae"
                        ],
                        [
                          0.3,
                          "#f1b6da"
                        ],
                        [
                          0.4,
                          "#fde0ef"
                        ],
                        [
                          0.5,
                          "#f7f7f7"
                        ],
                        [
                          0.6,
                          "#e6f5d0"
                        ],
                        [
                          0.7,
                          "#b8e186"
                        ],
                        [
                          0.8,
                          "#7fbc41"
                        ],
                        [
                          0.9,
                          "#4d9221"
                        ],
                        [
                          1,
                          "#276419"
                        ]
                      ],
                      "sequential": [
                        [
                          0,
                          "#0d0887"
                        ],
                        [
                          0.1111111111111111,
                          "#46039f"
                        ],
                        [
                          0.2222222222222222,
                          "#7201a8"
                        ],
                        [
                          0.3333333333333333,
                          "#9c179e"
                        ],
                        [
                          0.4444444444444444,
                          "#bd3786"
                        ],
                        [
                          0.5555555555555556,
                          "#d8576b"
                        ],
                        [
                          0.6666666666666666,
                          "#ed7953"
                        ],
                        [
                          0.7777777777777778,
                          "#fb9f3a"
                        ],
                        [
                          0.8888888888888888,
                          "#fdca26"
                        ],
                        [
                          1,
                          "#f0f921"
                        ]
                      ],
                      "sequentialminus": [
                        [
                          0,
                          "#0d0887"
                        ],
                        [
                          0.1111111111111111,
                          "#46039f"
                        ],
                        [
                          0.2222222222222222,
                          "#7201a8"
                        ],
                        [
                          0.3333333333333333,
                          "#9c179e"
                        ],
                        [
                          0.4444444444444444,
                          "#bd3786"
                        ],
                        [
                          0.5555555555555556,
                          "#d8576b"
                        ],
                        [
                          0.6666666666666666,
                          "#ed7953"
                        ],
                        [
                          0.7777777777777778,
                          "#fb9f3a"
                        ],
                        [
                          0.8888888888888888,
                          "#fdca26"
                        ],
                        [
                          1,
                          "#f0f921"
                        ]
                      ]
                    },
                    "colorway": [
                      "#636efa",
                      "#EF553B",
                      "#00cc96",
                      "#ab63fa",
                      "#FFA15A",
                      "#19d3f3",
                      "#FF6692",
                      "#B6E880",
                      "#FF97FF",
                      "#FECB52"
                    ],
                    "font": {
                      "color": "#2a3f5f"
                    },
                    "geo": {
                      "bgcolor": "white",
                      "lakecolor": "white",
                      "landcolor": "#E5ECF6",
                      "showlakes": true,
                      "showland": true,
                      "subunitcolor": "white"
                    },
                    "hoverlabel": {
                      "align": "left"
                    },
                    "hovermode": "closest",
                    "mapbox": {
                      "style": "light"
                    },
                    "paper_bgcolor": "white",
                    "plot_bgcolor": "#E5ECF6",
                    "polar": {
                      "angularaxis": {
                        "gridcolor": "white",
                        "linecolor": "white",
                        "ticks": ""
                      },
                      "bgcolor": "#E5ECF6",
                      "radialaxis": {
                        "gridcolor": "white",
                        "linecolor": "white",
                        "ticks": ""
                      }
                    },
                    "scene": {
                      "xaxis": {
                        "backgroundcolor": "#E5ECF6",
                        "gridcolor": "white",
                        "gridwidth": 2,
                        "linecolor": "white",
                        "showbackground": true,
                        "ticks": "",
                        "zerolinecolor": "white"
                      },
                      "yaxis": {
                        "backgroundcolor": "#E5ECF6",
                        "gridcolor": "white",
                        "gridwidth": 2,
                        "linecolor": "white",
                        "showbackground": true,
                        "ticks": "",
                        "zerolinecolor": "white"
                      },
                      "zaxis": {
                        "backgroundcolor": "#E5ECF6",
                        "gridcolor": "white",
                        "gridwidth": 2,
                        "linecolor": "white",
                        "showbackground": true,
                        "ticks": "",
                        "zerolinecolor": "white"
                      }
                    },
                    "shapedefaults": {
                      "line": {
                        "color": "#2a3f5f"
                      }
                    },
                    "ternary": {
                      "aaxis": {
                        "gridcolor": "white",
                        "linecolor": "white",
                        "ticks": ""
                      },
                      "baxis": {
                        "gridcolor": "white",
                        "linecolor": "white",
                        "ticks": ""
                      },
                      "bgcolor": "#E5ECF6",
                      "caxis": {
                        "gridcolor": "white",
                        "linecolor": "white",
                        "ticks": ""
                      }
                    },
                    "title": {
                      "x": 0.05
                    },
                    "xaxis": {
                      "automargin": true,
                      "gridcolor": "white",
                      "linecolor": "white",
                      "ticks": "",
                      "title": {
                        "standoff": 15
                      },
                      "zerolinecolor": "white",
                      "zerolinewidth": 2
                    },
                    "yaxis": {
                      "automargin": true,
                      "gridcolor": "white",
                      "linecolor": "white",
                      "ticks": "",
                      "title": {
                        "standoff": 15
                      },
                      "zerolinecolor": "white",
                      "zerolinewidth": 2
                    }
                  }
                },
                "title": {
                  "text": "Slice Plot"
                },
                "width": 3000,
                "xaxis": {
                  "anchor": "y",
                  "categoryarray": [
                    "relu",
                    "sigmoid",
                    "tanh",
                    "gelu",
                    "leaky_relu",
                    "silu"
                  ],
                  "categoryorder": "array",
                  "domain": [
                    0,
                    0.082
                  ],
                  "title": {
                    "text": "activation_0"
                  },
                  "type": "category"
                },
                "xaxis10": {
                  "anchor": "y10",
                  "categoryarray": [
                    "SGD",
                    "Adam",
                    "RMSprop"
                  ],
                  "categoryorder": "array",
                  "domain": [
                    0.9179999999999999,
                    0.9999999999999999
                  ],
                  "title": {
                    "text": "optimizer"
                  },
                  "type": "category"
                },
                "xaxis2": {
                  "anchor": "y2",
                  "categoryarray": [
                    "relu",
                    "sigmoid",
                    "tanh",
                    "gelu",
                    "leaky_relu",
                    "silu"
                  ],
                  "categoryorder": "array",
                  "domain": [
                    0.10200000000000001,
                    0.184
                  ],
                  "title": {
                    "text": "activation_1"
                  },
                  "type": "category"
                },
                "xaxis3": {
                  "anchor": "y3",
                  "categoryarray": [
                    "relu",
                    "sigmoid",
                    "tanh",
                    "gelu",
                    "leaky_relu",
                    "silu"
                  ],
                  "categoryorder": "array",
                  "domain": [
                    0.20400000000000001,
                    0.28600000000000003
                  ],
                  "title": {
                    "text": "activation_2"
                  },
                  "type": "category"
                },
                "xaxis4": {
                  "anchor": "y4",
                  "categoryarray": [
                    32,
                    64,
                    128
                  ],
                  "categoryorder": "array",
                  "domain": [
                    0.306,
                    0.388
                  ],
                  "title": {
                    "text": "batch_size"
                  },
                  "type": "category"
                },
                "xaxis5": {
                  "anchor": "y5",
                  "categoryarray": [
                    16,
                    32,
                    64,
                    128,
                    256,
                    512
                  ],
                  "categoryorder": "array",
                  "domain": [
                    0.40800000000000003,
                    0.49000000000000005
                  ],
                  "title": {
                    "text": "layer_size_0"
                  },
                  "type": "category"
                },
                "xaxis6": {
                  "anchor": "y6",
                  "categoryarray": [
                    16,
                    32,
                    64,
                    128,
                    256,
                    512
                  ],
                  "categoryorder": "array",
                  "domain": [
                    0.51,
                    0.592
                  ],
                  "title": {
                    "text": "layer_size_1"
                  },
                  "type": "category"
                },
                "xaxis7": {
                  "anchor": "y7",
                  "categoryarray": [
                    16,
                    32,
                    64,
                    128,
                    256,
                    512
                  ],
                  "categoryorder": "array",
                  "domain": [
                    0.6120000000000001,
                    0.6940000000000001
                  ],
                  "title": {
                    "text": "layer_size_2"
                  },
                  "type": "category"
                },
                "xaxis8": {
                  "anchor": "y8",
                  "domain": [
                    0.7140000000000001,
                    0.796
                  ],
                  "title": {
                    "text": "lr"
                  },
                  "type": "log"
                },
                "xaxis9": {
                  "anchor": "y9",
                  "domain": [
                    0.8160000000000001,
                    0.898
                  ],
                  "title": {
                    "text": "num_layers"
                  }
                },
                "yaxis": {
                  "anchor": "x",
                  "domain": [
                    0,
                    1
                  ],
                  "title": {
                    "text": "Objective Value"
                  }
                },
                "yaxis10": {
                  "anchor": "x10",
                  "domain": [
                    0,
                    1
                  ],
                  "matches": "y",
                  "showticklabels": false
                },
                "yaxis2": {
                  "anchor": "x2",
                  "domain": [
                    0,
                    1
                  ],
                  "matches": "y",
                  "showticklabels": false
                },
                "yaxis3": {
                  "anchor": "x3",
                  "domain": [
                    0,
                    1
                  ],
                  "matches": "y",
                  "showticklabels": false
                },
                "yaxis4": {
                  "anchor": "x4",
                  "domain": [
                    0,
                    1
                  ],
                  "matches": "y",
                  "showticklabels": false
                },
                "yaxis5": {
                  "anchor": "x5",
                  "domain": [
                    0,
                    1
                  ],
                  "matches": "y",
                  "showticklabels": false
                },
                "yaxis6": {
                  "anchor": "x6",
                  "domain": [
                    0,
                    1
                  ],
                  "matches": "y",
                  "showticklabels": false
                },
                "yaxis7": {
                  "anchor": "x7",
                  "domain": [
                    0,
                    1
                  ],
                  "matches": "y",
                  "showticklabels": false
                },
                "yaxis8": {
                  "anchor": "x8",
                  "domain": [
                    0,
                    1
                  ],
                  "matches": "y",
                  "showticklabels": false
                },
                "yaxis9": {
                  "anchor": "x9",
                  "domain": [
                    0,
                    1
                  ],
                  "matches": "y",
                  "showticklabels": false
                }
              }
            }
          },
          "metadata": {},
          "output_type": "display_data"
        }
      ],
      "source": [
        "optuna.visualization.plot_slice(mnist_study)"
      ]
    },
    {
      "cell_type": "code",
      "execution_count": 38,
      "metadata": {},
      "outputs": [],
      "source": [
        "mnist_study_df.to_csv('mnist_trial_data.csv', index=False)"
      ]
    },
    {
      "cell_type": "code",
      "execution_count": 15,
      "metadata": {},
      "outputs": [],
      "source": [
        "def train_config(model, train_data, val_data, optimizer, batch_size, num_epochs=3, use_tqdm=True):\n",
        "    # Data loaders with suggested batch size\n",
        "    train_loader = DataLoader(train_data, batch_size=batch_size, shuffle=True)\n",
        "    val_loader = DataLoader(val_data, batch_size=batch_size, shuffle=False)\n",
        "    train_losses = []\n",
        "    val_losses = []\n",
        "    criterion = nn.CrossEntropyLoss()\n",
        "\n",
        "    scheduler = ReduceLROnPlateau(\n",
        "        optimizer,\n",
        "        mode='min',\n",
        "        factor=0.1,\n",
        "        patience=2,\n",
        "        verbose=True,\n",
        "        min_lr=1e-6\n",
        "    )\n",
        "\n",
        "    # Training the neural network\n",
        "    if use_tqdm:\n",
        "        epochs = tqdm(range(num_epochs))\n",
        "    else:\n",
        "        epochs = range(num_epochs)\n",
        "\n",
        "    for epoch in epochs:\n",
        "        model.train()\n",
        "        running_loss = 0.0\n",
        "        for i, data in enumerate(train_loader, 0):\n",
        "            inputs, labels = data\n",
        "            optimizer.zero_grad()\n",
        "            outputs = model(inputs)\n",
        "            loss = criterion(outputs, labels)\n",
        "            loss.backward()\n",
        "            optimizer.step()\n",
        "            running_loss += loss.item()\n",
        "            if i % 100 == 99:  # print every 100 mini-batches\n",
        "                train_losses.append(running_loss / 100)\n",
        "                running_loss = 0.0\n",
        "                if not use_tqdm:\n",
        "                    print(f'Epoch {epoch + 1}, Batch {i + 1}, Loss: {train_losses[-1]}')\n",
        "\n",
        "        running_loss = 0.0  # Reset running loss\n",
        "        model.eval()  # Set model to evaluation mode\n",
        "        with torch.no_grad():  # Disable gradient computation\n",
        "            for i, data in enumerate(val_loader, 0):\n",
        "                inputs, labels = data\n",
        "                outputs = model(inputs)\n",
        "                loss = criterion(outputs, labels)\n",
        "                running_loss += loss.item()\n",
        "\n",
        "        scheduler.step(running_loss)\n",
        "        # Log learning rate\n",
        "        current_lr = optimizer.param_groups[0]['lr']\n",
        "        print(f'Validation Loss: {running_loss / len(val_loader)}, Learning Rate: {current_lr:.6f}')\n",
        "        val_losses.append(running_loss / len(val_loader))\n",
        "        model.train()  # Set model back to training mode\n",
        "\n",
        "    return train_losses, val_losses"
      ]
    },
    {
      "cell_type": "code",
      "execution_count": 55,
      "metadata": {
        "colab": {
          "base_uri": "https://localhost:8080/"
        },
        "id": "OfpEh_TyTLBa",
        "outputId": "bd6acb53-37dd-446b-a37b-3e856476f51b"
      },
      "outputs": [
        {
          "name": "stderr",
          "output_type": "stream",
          "text": [
            "c:\\Users\\rgbmr\\anaconda3\\envs\\project2\\Lib\\site-packages\\torch\\optim\\lr_scheduler.py:62: UserWarning:\n",
            "\n",
            "The verbose parameter is deprecated. Please use get_last_lr() to access the learning rate.\n",
            "\n",
            "  4%|▍         | 1/25 [00:08<03:24,  8.51s/it]"
          ]
        },
        {
          "name": "stdout",
          "output_type": "stream",
          "text": [
            "Validation Loss: 0.1770399761822154, Learning Rate: 0.090000\n"
          ]
        },
        {
          "name": "stderr",
          "output_type": "stream",
          "text": [
            "  8%|▊         | 2/25 [00:16<03:14,  8.45s/it]"
          ]
        },
        {
          "name": "stdout",
          "output_type": "stream",
          "text": [
            "Validation Loss: 0.13982420619775324, Learning Rate: 0.090000\n"
          ]
        },
        {
          "name": "stderr",
          "output_type": "stream",
          "text": [
            " 12%|█▏        | 3/25 [00:25<03:05,  8.44s/it]"
          ]
        },
        {
          "name": "stdout",
          "output_type": "stream",
          "text": [
            "Validation Loss: 0.12013261602260172, Learning Rate: 0.090000\n"
          ]
        },
        {
          "name": "stderr",
          "output_type": "stream",
          "text": [
            " 16%|█▌        | 4/25 [00:33<02:57,  8.46s/it]"
          ]
        },
        {
          "name": "stdout",
          "output_type": "stream",
          "text": [
            "Validation Loss: 0.10070436207349709, Learning Rate: 0.090000\n"
          ]
        },
        {
          "name": "stderr",
          "output_type": "stream",
          "text": [
            " 20%|██        | 5/25 [00:42<02:49,  8.48s/it]"
          ]
        },
        {
          "name": "stdout",
          "output_type": "stream",
          "text": [
            "Validation Loss: 0.09024728757844484, Learning Rate: 0.090000\n"
          ]
        },
        {
          "name": "stderr",
          "output_type": "stream",
          "text": [
            " 24%|██▍       | 6/25 [00:50<02:41,  8.50s/it]"
          ]
        },
        {
          "name": "stdout",
          "output_type": "stream",
          "text": [
            "Validation Loss: 0.08478470375028221, Learning Rate: 0.090000\n"
          ]
        },
        {
          "name": "stderr",
          "output_type": "stream",
          "text": [
            " 28%|██▊       | 7/25 [00:59<02:32,  8.50s/it]"
          ]
        },
        {
          "name": "stdout",
          "output_type": "stream",
          "text": [
            "Validation Loss: 0.08769677049093978, Learning Rate: 0.090000\n"
          ]
        },
        {
          "name": "stderr",
          "output_type": "stream",
          "text": [
            " 32%|███▏      | 8/25 [01:07<02:24,  8.52s/it]"
          ]
        },
        {
          "name": "stdout",
          "output_type": "stream",
          "text": [
            "Validation Loss: 0.09071615635060724, Learning Rate: 0.090000\n"
          ]
        },
        {
          "name": "stderr",
          "output_type": "stream",
          "text": [
            " 36%|███▌      | 9/25 [01:16<02:16,  8.52s/it]"
          ]
        },
        {
          "name": "stdout",
          "output_type": "stream",
          "text": [
            "Validation Loss: 0.08074183740524297, Learning Rate: 0.090000\n"
          ]
        },
        {
          "name": "stderr",
          "output_type": "stream",
          "text": [
            " 40%|████      | 10/25 [01:24<02:07,  8.52s/it]"
          ]
        },
        {
          "name": "stdout",
          "output_type": "stream",
          "text": [
            "Validation Loss: 0.07697385708563664, Learning Rate: 0.090000\n"
          ]
        },
        {
          "name": "stderr",
          "output_type": "stream",
          "text": [
            " 44%|████▍     | 11/25 [01:33<01:59,  8.53s/it]"
          ]
        },
        {
          "name": "stdout",
          "output_type": "stream",
          "text": [
            "Validation Loss: 0.0792693973647708, Learning Rate: 0.090000\n"
          ]
        },
        {
          "name": "stderr",
          "output_type": "stream",
          "text": [
            " 48%|████▊     | 12/25 [01:42<01:50,  8.53s/it]"
          ]
        },
        {
          "name": "stdout",
          "output_type": "stream",
          "text": [
            "Validation Loss: 0.09712421424944509, Learning Rate: 0.090000\n"
          ]
        },
        {
          "name": "stderr",
          "output_type": "stream",
          "text": [
            " 52%|█████▏    | 13/25 [01:50<01:42,  8.51s/it]"
          ]
        },
        {
          "name": "stdout",
          "output_type": "stream",
          "text": [
            "Validation Loss: 0.0879975347754922, Learning Rate: 0.009000\n"
          ]
        },
        {
          "name": "stderr",
          "output_type": "stream",
          "text": [
            " 56%|█████▌    | 14/25 [01:59<01:33,  8.51s/it]"
          ]
        },
        {
          "name": "stdout",
          "output_type": "stream",
          "text": [
            "Validation Loss: 0.06739698680850895, Learning Rate: 0.009000\n"
          ]
        },
        {
          "name": "stderr",
          "output_type": "stream",
          "text": [
            " 60%|██████    | 15/25 [02:07<01:25,  8.52s/it]"
          ]
        },
        {
          "name": "stdout",
          "output_type": "stream",
          "text": [
            "Validation Loss: 0.06536182460308253, Learning Rate: 0.009000\n"
          ]
        },
        {
          "name": "stderr",
          "output_type": "stream",
          "text": [
            " 64%|██████▍   | 16/25 [02:16<01:16,  8.50s/it]"
          ]
        },
        {
          "name": "stdout",
          "output_type": "stream",
          "text": [
            "Validation Loss: 0.06544862118886506, Learning Rate: 0.009000\n"
          ]
        },
        {
          "name": "stderr",
          "output_type": "stream",
          "text": [
            " 68%|██████▊   | 17/25 [02:24<01:07,  8.48s/it]"
          ]
        },
        {
          "name": "stdout",
          "output_type": "stream",
          "text": [
            "Validation Loss: 0.06464072189571217, Learning Rate: 0.009000\n"
          ]
        },
        {
          "name": "stderr",
          "output_type": "stream",
          "text": [
            " 72%|███████▏  | 18/25 [02:32<00:59,  8.47s/it]"
          ]
        },
        {
          "name": "stdout",
          "output_type": "stream",
          "text": [
            "Validation Loss: 0.06574526658539284, Learning Rate: 0.009000\n"
          ]
        },
        {
          "name": "stderr",
          "output_type": "stream",
          "text": [
            " 76%|███████▌  | 19/25 [02:41<00:50,  8.46s/it]"
          ]
        },
        {
          "name": "stdout",
          "output_type": "stream",
          "text": [
            "Validation Loss: 0.06423932670286182, Learning Rate: 0.009000\n"
          ]
        },
        {
          "name": "stderr",
          "output_type": "stream",
          "text": [
            " 80%|████████  | 20/25 [02:49<00:42,  8.45s/it]"
          ]
        },
        {
          "name": "stdout",
          "output_type": "stream",
          "text": [
            "Validation Loss: 0.06359052986458955, Learning Rate: 0.009000\n"
          ]
        },
        {
          "name": "stderr",
          "output_type": "stream",
          "text": [
            " 84%|████████▍ | 21/25 [02:58<00:33,  8.44s/it]"
          ]
        },
        {
          "name": "stdout",
          "output_type": "stream",
          "text": [
            "Validation Loss: 0.06394350111293805, Learning Rate: 0.009000\n"
          ]
        },
        {
          "name": "stderr",
          "output_type": "stream",
          "text": [
            " 88%|████████▊ | 22/25 [03:06<00:25,  8.40s/it]"
          ]
        },
        {
          "name": "stdout",
          "output_type": "stream",
          "text": [
            "Validation Loss: 0.06512711132428252, Learning Rate: 0.009000\n"
          ]
        },
        {
          "name": "stderr",
          "output_type": "stream",
          "text": [
            " 92%|█████████▏| 23/25 [03:14<00:16,  8.40s/it]"
          ]
        },
        {
          "name": "stdout",
          "output_type": "stream",
          "text": [
            "Validation Loss: 0.06374310862466177, Learning Rate: 0.000900\n"
          ]
        },
        {
          "name": "stderr",
          "output_type": "stream",
          "text": [
            " 96%|█████████▌| 24/25 [03:23<00:08,  8.44s/it]"
          ]
        },
        {
          "name": "stdout",
          "output_type": "stream",
          "text": [
            "Validation Loss: 0.06340689813294646, Learning Rate: 0.000900\n"
          ]
        },
        {
          "name": "stderr",
          "output_type": "stream",
          "text": [
            "100%|██████████| 25/25 [03:31<00:00,  8.48s/it]\n"
          ]
        },
        {
          "name": "stdout",
          "output_type": "stream",
          "text": [
            "Validation Loss: 0.06334373440799065, Learning Rate: 0.000900\n"
          ]
        },
        {
          "name": "stderr",
          "output_type": "stream",
          "text": [
            "  4%|▍         | 1/25 [00:08<03:23,  8.46s/it]"
          ]
        },
        {
          "name": "stdout",
          "output_type": "stream",
          "text": [
            "Validation Loss: 0.17628986299275717, Learning Rate: 0.090000\n"
          ]
        },
        {
          "name": "stderr",
          "output_type": "stream",
          "text": [
            "  8%|▊         | 2/25 [00:16<03:15,  8.49s/it]"
          ]
        },
        {
          "name": "stdout",
          "output_type": "stream",
          "text": [
            "Validation Loss: 0.12577171556334546, Learning Rate: 0.090000\n"
          ]
        },
        {
          "name": "stderr",
          "output_type": "stream",
          "text": [
            " 12%|█▏        | 3/25 [00:25<03:06,  8.46s/it]"
          ]
        },
        {
          "name": "stdout",
          "output_type": "stream",
          "text": [
            "Validation Loss: 0.10954767385339166, Learning Rate: 0.090000\n"
          ]
        },
        {
          "name": "stderr",
          "output_type": "stream",
          "text": [
            " 16%|█▌        | 4/25 [00:33<02:57,  8.45s/it]"
          ]
        },
        {
          "name": "stdout",
          "output_type": "stream",
          "text": [
            "Validation Loss: 0.10361069376937095, Learning Rate: 0.090000\n"
          ]
        },
        {
          "name": "stderr",
          "output_type": "stream",
          "text": [
            " 20%|██        | 5/25 [00:42<02:48,  8.45s/it]"
          ]
        },
        {
          "name": "stdout",
          "output_type": "stream",
          "text": [
            "Validation Loss: 0.096120821973408, Learning Rate: 0.090000\n"
          ]
        },
        {
          "name": "stderr",
          "output_type": "stream",
          "text": [
            " 24%|██▍       | 6/25 [00:50<02:40,  8.44s/it]"
          ]
        },
        {
          "name": "stdout",
          "output_type": "stream",
          "text": [
            "Validation Loss: 0.09052098994242384, Learning Rate: 0.090000\n"
          ]
        },
        {
          "name": "stderr",
          "output_type": "stream",
          "text": [
            " 28%|██▊       | 7/25 [00:59<02:31,  8.41s/it]"
          ]
        },
        {
          "name": "stdout",
          "output_type": "stream",
          "text": [
            "Validation Loss: 0.08829539258310452, Learning Rate: 0.090000\n"
          ]
        },
        {
          "name": "stderr",
          "output_type": "stream",
          "text": [
            " 32%|███▏      | 8/25 [01:07<02:23,  8.42s/it]"
          ]
        },
        {
          "name": "stdout",
          "output_type": "stream",
          "text": [
            "Validation Loss: 0.08631047412277536, Learning Rate: 0.090000\n"
          ]
        },
        {
          "name": "stderr",
          "output_type": "stream",
          "text": [
            " 36%|███▌      | 9/25 [01:15<02:14,  8.42s/it]"
          ]
        },
        {
          "name": "stdout",
          "output_type": "stream",
          "text": [
            "Validation Loss: 0.08997935482964634, Learning Rate: 0.090000\n"
          ]
        },
        {
          "name": "stderr",
          "output_type": "stream",
          "text": [
            " 40%|████      | 10/25 [01:24<02:06,  8.44s/it]"
          ]
        },
        {
          "name": "stdout",
          "output_type": "stream",
          "text": [
            "Validation Loss: 0.07555656252240643, Learning Rate: 0.090000\n"
          ]
        },
        {
          "name": "stderr",
          "output_type": "stream",
          "text": [
            " 44%|████▍     | 11/25 [01:32<01:58,  8.46s/it]"
          ]
        },
        {
          "name": "stdout",
          "output_type": "stream",
          "text": [
            "Validation Loss: 0.08616585389492994, Learning Rate: 0.090000\n"
          ]
        },
        {
          "name": "stderr",
          "output_type": "stream",
          "text": [
            " 48%|████▊     | 12/25 [01:41<01:49,  8.45s/it]"
          ]
        },
        {
          "name": "stdout",
          "output_type": "stream",
          "text": [
            "Validation Loss: 0.07556308647914928, Learning Rate: 0.090000\n"
          ]
        },
        {
          "name": "stderr",
          "output_type": "stream",
          "text": [
            " 52%|█████▏    | 13/25 [01:49<01:41,  8.44s/it]"
          ]
        },
        {
          "name": "stdout",
          "output_type": "stream",
          "text": [
            "Validation Loss: 0.07767967436650887, Learning Rate: 0.009000\n"
          ]
        },
        {
          "name": "stderr",
          "output_type": "stream",
          "text": [
            " 56%|█████▌    | 14/25 [01:58<01:32,  8.45s/it]"
          ]
        },
        {
          "name": "stdout",
          "output_type": "stream",
          "text": [
            "Validation Loss: 0.06370716613960116, Learning Rate: 0.009000\n"
          ]
        },
        {
          "name": "stderr",
          "output_type": "stream",
          "text": [
            " 60%|██████    | 15/25 [02:06<01:24,  8.45s/it]"
          ]
        },
        {
          "name": "stdout",
          "output_type": "stream",
          "text": [
            "Validation Loss: 0.06177401335221378, Learning Rate: 0.009000\n"
          ]
        },
        {
          "name": "stderr",
          "output_type": "stream",
          "text": [
            " 64%|██████▍   | 16/25 [02:15<01:15,  8.44s/it]"
          ]
        },
        {
          "name": "stdout",
          "output_type": "stream",
          "text": [
            "Validation Loss: 0.060124035803303916, Learning Rate: 0.009000\n"
          ]
        },
        {
          "name": "stderr",
          "output_type": "stream",
          "text": [
            " 68%|██████▊   | 17/25 [02:23<01:07,  8.41s/it]"
          ]
        },
        {
          "name": "stdout",
          "output_type": "stream",
          "text": [
            "Validation Loss: 0.05923435611506686, Learning Rate: 0.009000\n"
          ]
        },
        {
          "name": "stderr",
          "output_type": "stream",
          "text": [
            " 72%|███████▏  | 18/25 [02:31<00:58,  8.42s/it]"
          ]
        },
        {
          "name": "stdout",
          "output_type": "stream",
          "text": [
            "Validation Loss: 0.05933195295708967, Learning Rate: 0.009000\n"
          ]
        },
        {
          "name": "stderr",
          "output_type": "stream",
          "text": [
            " 76%|███████▌  | 19/25 [02:40<00:50,  8.41s/it]"
          ]
        },
        {
          "name": "stdout",
          "output_type": "stream",
          "text": [
            "Validation Loss: 0.05900696596314021, Learning Rate: 0.009000\n"
          ]
        },
        {
          "name": "stderr",
          "output_type": "stream",
          "text": [
            " 80%|████████  | 20/25 [02:48<00:42,  8.40s/it]"
          ]
        },
        {
          "name": "stdout",
          "output_type": "stream",
          "text": [
            "Validation Loss: 0.058059543732831134, Learning Rate: 0.009000\n"
          ]
        },
        {
          "name": "stderr",
          "output_type": "stream",
          "text": [
            " 84%|████████▍ | 21/25 [02:57<00:33,  8.40s/it]"
          ]
        },
        {
          "name": "stdout",
          "output_type": "stream",
          "text": [
            "Validation Loss: 0.05868423537925837, Learning Rate: 0.009000\n"
          ]
        },
        {
          "name": "stderr",
          "output_type": "stream",
          "text": [
            " 88%|████████▊ | 22/25 [03:05<00:25,  8.41s/it]"
          ]
        },
        {
          "name": "stdout",
          "output_type": "stream",
          "text": [
            "Validation Loss: 0.05808639513734887, Learning Rate: 0.009000\n"
          ]
        },
        {
          "name": "stderr",
          "output_type": "stream",
          "text": [
            " 92%|█████████▏| 23/25 [03:14<00:16,  8.46s/it]"
          ]
        },
        {
          "name": "stdout",
          "output_type": "stream",
          "text": [
            "Validation Loss: 0.05776652290753307, Learning Rate: 0.009000\n"
          ]
        },
        {
          "name": "stderr",
          "output_type": "stream",
          "text": [
            " 96%|█████████▌| 24/25 [03:22<00:08,  8.48s/it]"
          ]
        },
        {
          "name": "stdout",
          "output_type": "stream",
          "text": [
            "Validation Loss: 0.05748960085119061, Learning Rate: 0.009000\n"
          ]
        },
        {
          "name": "stderr",
          "output_type": "stream",
          "text": [
            "100%|██████████| 25/25 [03:31<00:00,  8.44s/it]"
          ]
        },
        {
          "name": "stdout",
          "output_type": "stream",
          "text": [
            "Validation Loss: 0.057938524676694914, Learning Rate: 0.009000\n"
          ]
        },
        {
          "name": "stderr",
          "output_type": "stream",
          "text": [
            "\n"
          ]
        }
      ],
      "source": [
        "# 0.002, 0.001\n",
        "learning_rate = 0.09\n",
        "weight_decay = 1e-04\n",
        "batch_size = 64\n",
        "# Loss function and optimizer\n",
        "all_losses = []\n",
        "all_val_losses = []\n",
        "# activations = [nn.ReLU(), nn.Sigmoid(), nn.Tanh(), nn.GELU(), nn.LeakyReLU(), nn.SiLU()]\n",
        "activations = [nn.Tanh(), nn.SiLU()]\n",
        "for activation in activations:\n",
        "    model = MLP([128], [activation])\n",
        "    optimizer = optim.SGD(model.parameters(), lr=learning_rate, weight_decay=weight_decay)\n",
        "    train_losses, val_losses = train_config(model, train_subset, val_subset, optimizer, batch_size, num_epochs=25)\n",
        "    all_losses.append(train_losses)\n",
        "    all_val_losses.append(val_losses)"
      ]
    },
    {
      "cell_type": "code",
      "execution_count": 57,
      "metadata": {},
      "outputs": [
        {
          "name": "stderr",
          "output_type": "stream",
          "text": [
            "c:\\Users\\rgbmr\\anaconda3\\envs\\project2\\Lib\\site-packages\\torch\\optim\\lr_scheduler.py:62: UserWarning:\n",
            "\n",
            "The verbose parameter is deprecated. Please use get_last_lr() to access the learning rate.\n",
            "\n",
            "  7%|▋         | 1/15 [00:08<01:58,  8.43s/it]"
          ]
        },
        {
          "name": "stdout",
          "output_type": "stream",
          "text": [
            "Validation Loss: 0.07300064079104328, Learning Rate: 0.090000\n"
          ]
        },
        {
          "name": "stderr",
          "output_type": "stream",
          "text": [
            " 13%|█▎        | 2/15 [00:16<01:49,  8.40s/it]"
          ]
        },
        {
          "name": "stdout",
          "output_type": "stream",
          "text": [
            "Validation Loss: 0.0736970650812393, Learning Rate: 0.090000\n"
          ]
        },
        {
          "name": "stderr",
          "output_type": "stream",
          "text": [
            " 20%|██        | 3/15 [00:25<01:40,  8.40s/it]"
          ]
        },
        {
          "name": "stdout",
          "output_type": "stream",
          "text": [
            "Validation Loss: 0.06873505070627212, Learning Rate: 0.090000\n"
          ]
        },
        {
          "name": "stderr",
          "output_type": "stream",
          "text": [
            " 27%|██▋       | 4/15 [00:33<01:32,  8.39s/it]"
          ]
        },
        {
          "name": "stdout",
          "output_type": "stream",
          "text": [
            "Validation Loss: 0.07751163218462681, Learning Rate: 0.090000\n"
          ]
        },
        {
          "name": "stderr",
          "output_type": "stream",
          "text": [
            " 33%|███▎      | 5/15 [00:42<01:23,  8.40s/it]"
          ]
        },
        {
          "name": "stdout",
          "output_type": "stream",
          "text": [
            "Validation Loss: 0.07805278692010573, Learning Rate: 0.090000\n"
          ]
        },
        {
          "name": "stderr",
          "output_type": "stream",
          "text": [
            " 40%|████      | 6/15 [00:50<01:15,  8.39s/it]"
          ]
        },
        {
          "name": "stdout",
          "output_type": "stream",
          "text": [
            "Validation Loss: 0.07246532610077609, Learning Rate: 0.009000\n"
          ]
        },
        {
          "name": "stderr",
          "output_type": "stream",
          "text": [
            " 47%|████▋     | 7/15 [00:58<01:07,  8.40s/it]"
          ]
        },
        {
          "name": "stdout",
          "output_type": "stream",
          "text": [
            "Validation Loss: 0.0594038948097187, Learning Rate: 0.009000\n"
          ]
        },
        {
          "name": "stderr",
          "output_type": "stream",
          "text": [
            " 53%|█████▎    | 8/15 [01:07<00:58,  8.39s/it]"
          ]
        },
        {
          "name": "stdout",
          "output_type": "stream",
          "text": [
            "Validation Loss: 0.05881042816141184, Learning Rate: 0.009000\n"
          ]
        },
        {
          "name": "stderr",
          "output_type": "stream",
          "text": [
            " 60%|██████    | 9/15 [01:15<00:50,  8.38s/it]"
          ]
        },
        {
          "name": "stdout",
          "output_type": "stream",
          "text": [
            "Validation Loss: 0.057443121654982186, Learning Rate: 0.009000\n"
          ]
        },
        {
          "name": "stderr",
          "output_type": "stream",
          "text": [
            " 67%|██████▋   | 10/15 [01:23<00:41,  8.40s/it]"
          ]
        },
        {
          "name": "stdout",
          "output_type": "stream",
          "text": [
            "Validation Loss: 0.05874941914783236, Learning Rate: 0.009000\n"
          ]
        },
        {
          "name": "stderr",
          "output_type": "stream",
          "text": [
            " 73%|███████▎  | 11/15 [01:32<00:33,  8.40s/it]"
          ]
        },
        {
          "name": "stdout",
          "output_type": "stream",
          "text": [
            "Validation Loss: 0.058756774259196155, Learning Rate: 0.009000\n"
          ]
        },
        {
          "name": "stderr",
          "output_type": "stream",
          "text": [
            " 80%|████████  | 12/15 [01:40<00:25,  8.41s/it]"
          ]
        },
        {
          "name": "stdout",
          "output_type": "stream",
          "text": [
            "Validation Loss: 0.05781766348902354, Learning Rate: 0.000900\n"
          ]
        },
        {
          "name": "stderr",
          "output_type": "stream",
          "text": [
            " 87%|████████▋ | 13/15 [01:49<00:16,  8.40s/it]"
          ]
        },
        {
          "name": "stdout",
          "output_type": "stream",
          "text": [
            "Validation Loss: 0.056657704710465, Learning Rate: 0.000900\n"
          ]
        },
        {
          "name": "stderr",
          "output_type": "stream",
          "text": [
            " 93%|█████████▎| 14/15 [01:57<00:08,  8.39s/it]"
          ]
        },
        {
          "name": "stdout",
          "output_type": "stream",
          "text": [
            "Validation Loss: 0.05758607855557087, Learning Rate: 0.000900\n"
          ]
        },
        {
          "name": "stderr",
          "output_type": "stream",
          "text": [
            "100%|██████████| 15/15 [02:05<00:00,  8.40s/it]"
          ]
        },
        {
          "name": "stdout",
          "output_type": "stream",
          "text": [
            "Validation Loss: 0.057343583762090894, Learning Rate: 0.000900\n"
          ]
        },
        {
          "name": "stderr",
          "output_type": "stream",
          "text": [
            "\n"
          ]
        }
      ],
      "source": [
        "final_model = MLP([128], [nn.SiLU()])\n",
        "optimizer = optim.SGD(model.parameters(), lr=learning_rate, weight_decay=weight_decay)\n",
        "train_losses, val_losses = train_config(model, train_subset, val_subset, optimizer, batch_size, num_epochs=15)"
      ]
    },
    {
      "cell_type": "code",
      "execution_count": 58,
      "metadata": {},
      "outputs": [
        {
          "name": "stderr",
          "output_type": "stream",
          "text": [
            "C:\\Users\\rgbmr\\AppData\\Local\\Temp\\ipykernel_12140\\2481862998.py:4: MatplotlibDeprecationWarning:\n",
            "\n",
            "The get_cmap function was deprecated in Matplotlib 3.7 and will be removed in 3.11. Use ``matplotlib.colormaps[name]`` or ``matplotlib.colormaps.get_cmap()`` or ``pyplot.get_cmap()`` instead.\n",
            "\n"
          ]
        },
        {
          "data": {
            "image/png": "[encoded data removed]",
            "text/plain": [
              "<Figure size 1200x600 with 1 Axes>"
            ]
          },
          "metadata": {},
          "output_type": "display_data"
        }
      ],
      "source": [
        "def plot_losses(all_train_losses, all_val_losses):\n",
        "    plt.figure(figsize=(12, 6))  # Set a suitable figure size\n",
        "    num_configs = len(all_train_losses)\n",
        "    colors = plt.cm.get_cmap('tab10', num_configs)  # Get a color map with enough colors\n",
        "\n",
        "    for idx, (train_losses, val_losses) in enumerate(zip(all_train_losses, all_val_losses)):\n",
        "        # Use different colors for each configuration\n",
        "        color = colors(idx)\n",
        "        # Plot training losses with solid lines\n",
        "        plt.plot(train_losses[:len(val_losses)], label=f'Train Loss Config {idx+1}', color=color, linestyle='-')\n",
        "        # Plot validation losses with dashed lines\n",
        "        plt.plot(val_losses, label=f'Val Loss Config {idx+1}', color=color, linestyle='--')\n",
        "\n",
        "    plt.xlabel('Epoch')\n",
        "    plt.ylabel('Loss')\n",
        "    plt.title('Training and Validation Losses for All Configurations')\n",
        "    plt.legend()\n",
        "    plt.grid(True)\n",
        "    plt.show()\n",
        "\n",
        "# plot_losses(all_losses, all_val_losses)\n",
        "plot_losses([train_losses], [val_losses])"
      ]
    },
    {
      "cell_type": "code",
      "execution_count": 59,
      "metadata": {
        "colab": {
          "base_uri": "https://localhost:8080/"
        },
        "id": "TfYr_0XlT-Cb",
        "outputId": "e298b73f-543d-49a6-dbf5-b3c0099fae75"
      },
      "outputs": [
        {
          "name": "stdout",
          "output_type": "stream",
          "text": [
            "Accuracy on test set: 0.9816\n"
          ]
        }
      ],
      "source": [
        "# Evaluating the model\n",
        "model.eval()\n",
        "correct = 0\n",
        "total = 0\n",
        "test_loader = DataLoader(test_dataset, batch_size=batch_size, shuffle=False)\n",
        "with torch.no_grad():\n",
        "    for data in test_loader:\n",
        "        images, labels = data\n",
        "        outputs = model(images)\n",
        "        _, predicted = torch.max(outputs.data, 1)\n",
        "        total += labels.size(0)\n",
        "        correct += (predicted == labels).sum().item()\n",
        "\n",
        "print(f'Accuracy on test set: { correct / total}')"
      ]
    },
    {
      "cell_type": "code",
      "execution_count": 60,
      "metadata": {
        "colab": {
          "base_uri": "https://localhost:8080/",
          "height": 428
        },
        "id": "kNM8-ijzUE9w",
        "outputId": "a07af0ed-e731-461f-d8c1-35750b29394c"
      },
      "outputs": [
        {
          "data": {
            "image/png": "[encoded data removed]",
            "text/plain": [
              "<Figure size 640x480 with 1 Axes>"
            ]
          },
          "metadata": {},
          "output_type": "display_data"
        }
      ],
      "source": [
        "image_index = 27\n",
        "test_image, test_label = test_dataset[image_index]\n",
        "\n",
        "with torch.no_grad():\n",
        "    model.eval()\n",
        "    output = model(test_image.unsqueeze(0))\n",
        "    _, predicted_label = torch.max(output, 1)\n",
        "\n",
        "test_image_numpy = test_image.squeeze().numpy()\n",
        "\n",
        "plt.imshow(test_image_numpy, cmap='gray')\n",
        "plt.title(f'Predicted Label: {predicted_label.item()}, Actual Label: {test_label}')\n",
        "plt.axis('off')\n",
        "plt.show()"
      ]
    },
    {
      "cell_type": "markdown",
      "metadata": {
        "id": "FoypxOXgGjuC"
      },
      "source": [
        "Notes for Part 1\n",
        "\n",
        "1. Activation function:\n",
        "\n",
        "class Net(torch.nn.Module):\n",
        "    def __init__(self):\n",
        "        super(Net, self).__init__()\n",
        "        self.fc1 = torch.nn.Linear(28*28, 128)\n",
        "        self.fc2 = torch.nn.Linear(128, 64)\n",
        "        self.fc3 = torch.nn.Linear(64, 10)\n",
        "\n",
        "    def forward(self, x):\n",
        "        x = x.view(-1, 28*28)\n",
        "        x = torch.relu(self.fc1(x))  # Change activation function here\n",
        "        x = torch.relu(self.fc2(x))\n",
        "        x = self.fc3(x)\n",
        "        return x\n",
        "\n",
        "2. loss function and optimizer\n",
        "\n",
        "model = Net()\n",
        "criterion = torch.nn.CrossEntropyLoss()  # Change loss function\n",
        "optimizer = torch.optim.Adam(model.parameters(), lr=0.001)\n",
        "\n",
        "3. ~adding a dropout layer\n",
        "\n",
        "class Net(torch.nn.Module):\n",
        "    def __init__(self):\n",
        "        super(Net, self).__init__()\n",
        "        self.fc1 = torch.nn.Linear(28*28, 128)\n",
        "        self.dropout = torch.nn.Dropout(0.2)  # Add a Dropout layer here\n",
        "        self.fc2 = torch.nn.Linear(128, 64)\n",
        "        self.fc3 = torch.nn.Linear(64, 10)\n",
        "\n",
        "    def forward(self, x):\n",
        "        x = x.view(-1, 28*28)\n",
        "        x = torch.relu(self.fc1(x))\n",
        "        x = self.dropout(x)  # Apply Dropout\n",
        "        x = torch.relu(self.fc2(x))\n",
        "        x = self.fc3(x)\n",
        "        return x\n",
        "\n",
        "4. model configurations / epochs\n",
        "\n",
        "epochs = 10  # Change number of epochs\n",
        "for epoch in range(epochs):\n",
        "    # Training loop\n",
        "    for i, data in enumerate(train_loader, 0):\n",
        "        # Training steps"
      ]
    },
    {
      "cell_type": "markdown",
      "metadata": {
        "id": "L3IIK5kzHGH0"
      },
      "source": [
        "## Task - 2\n",
        "\n",
        "### PyTorch FC ANN FMNIST Implementation\n"
      ]
    },
    {
      "cell_type": "code",
      "execution_count": 66,
      "metadata": {
        "id": "jOCzfnBvB_bQ"
      },
      "outputs": [],
      "source": [
        "# Transformations --> this is a \"pre-processing step\" that's typical for image processing methods\n",
        "transform = transforms.Compose([transforms.ToTensor(),\n",
        "                                transforms.Normalize((0.5,), (0.5,))])\n",
        "\n",
        "train_val_split = 0.8\n",
        "\n",
        "# This dataset is already \"sorted\" as part of the import method, but no \"validation\" set has been selected in this case\n",
        "# Loading the FashionMNIST dataset\n",
        "train_dataset = torchvision.datasets.FashionMNIST(root='./data', train=True, download=True, transform=transform)\n",
        "test_dataset = torchvision.datasets.FashionMNIST(root='./data', train=False, download=True, transform=transform)\n",
        "\n",
        "# Calculate sizes\n",
        "train_size = int(train_val_split * len(train_dataset))\n",
        "val_size = len(train_dataset) - train_size\n",
        "\n",
        "# Split the dataset\n",
        "train_subset, val_subset = random_split(train_dataset, [train_size, val_size])"
      ]
    },
    {
      "cell_type": "code",
      "execution_count": 62,
      "metadata": {
        "id": "jZk_FS9JCLOH"
      },
      "outputs": [],
      "source": [
        "# Mapping the labels for the FashionMNIST dataset -- later we'll see that this using the \"keras to_categorical\" method as discussed in class\n",
        "labels_map = {\n",
        "    0: \"T-shirt/top\", 1: \"Trouser\", 2: \"Pullover\", 3: \"Dress\", 4: \"Coat\",\n",
        "    5: \"Sandal\", 6: \"Shirt\", 7: \"Sneaker\", 8: \"Bag\", 9: \"Ankle boot\"\n",
        "}"
      ]
    },
    {
      "cell_type": "code",
      "execution_count": 63,
      "metadata": {
        "colab": {
          "base_uri": "https://localhost:8080/",
          "height": 675
        },
        "id": "ykrRIGSdCMu5",
        "outputId": "a6737577-19d7-459e-aa83-ccebed56246c"
      },
      "outputs": [
        {
          "data": {
            "image/png": "[encoded data removed]",
            "text/plain": [
              "<Figure size 800x800 with 9 Axes>"
            ]
          },
          "metadata": {},
          "output_type": "display_data"
        }
      ],
      "source": [
        "#This cell is designed to display a few images from the dataset\n",
        "#It isn't necessary to run this, but it can help give a better idea of the challanges your model will face\n",
        "figure = plt.figure(figsize=(8, 8))\n",
        "cols, rows = 3, 3\n",
        "\n",
        "# Displaying figures from the dataset randomly\n",
        "for i in range(1, cols * rows + 1):\n",
        "    sample_idx = torch.randint(len(train_dataset), size=(1,)).item()\n",
        "    img, label = train_dataset[sample_idx]\n",
        "    figure.add_subplot(rows, cols, i)\n",
        "    plt.title(labels_map[label])\n",
        "    plt.axis(\"off\")\n",
        "    plt.imshow(img.squeeze(), cmap=\"gray\")\n",
        "plt.show()"
      ]
    },
    {
      "cell_type": "code",
      "execution_count": 64,
      "metadata": {},
      "outputs": [
        {
          "name": "stdout",
          "output_type": "stream",
          "text": [
            "Best hyperparameters: {'num_layers': 1, 'layer_size_0': 128, 'activation_0': 'gelu', 'optimizer': 'RMSprop', 'batch_size': 32}\n"
          ]
        }
      ],
      "source": [
        "fmnist_study = run_studies('fmnist_study', 'fmnist_study.db', 100)"
      ]
    },
    {
      "cell_type": "code",
      "execution_count": 20,
      "metadata": {},
      "outputs": [
        {
          "data": {
            "text/html": [
              "<div>\n",
              "<style scoped>\n",
              "    .dataframe tbody tr th:only-of-type {\n",
              "        vertical-align: middle;\n",
              "    }\n",
              "\n",
              "    .dataframe tbody tr th {\n",
              "        vertical-align: top;\n",
              "    }\n",
              "\n",
              "    .dataframe thead th {\n",
              "        text-align: right;\n",
              "    }\n",
              "</style>\n",
              "<table border=\"1\" class=\"dataframe\">\n",
              "  <thead>\n",
              "    <tr style=\"text-align: right;\">\n",
              "      <th></th>\n",
              "      <th>number</th>\n",
              "      <th>value</th>\n",
              "      <th>datetime_start</th>\n",
              "      <th>datetime_complete</th>\n",
              "      <th>duration</th>\n",
              "      <th>params_activation_0</th>\n",
              "      <th>params_activation_1</th>\n",
              "      <th>params_activation_2</th>\n",
              "      <th>params_batch_size</th>\n",
              "      <th>params_layer_size_0</th>\n",
              "      <th>params_layer_size_1</th>\n",
              "      <th>params_layer_size_2</th>\n",
              "      <th>params_num_layers</th>\n",
              "      <th>params_optimizer</th>\n",
              "      <th>state</th>\n",
              "    </tr>\n",
              "  </thead>\n",
              "  <tbody>\n",
              "    <tr>\n",
              "      <th>0</th>\n",
              "      <td>0</td>\n",
              "      <td>0.854083</td>\n",
              "      <td>2024-10-26 11:23:19.844195</td>\n",
              "      <td>2024-10-26 11:29:54.026546</td>\n",
              "      <td>0 days 00:06:34.182351</td>\n",
              "      <td>relu</td>\n",
              "      <td>tanh</td>\n",
              "      <td>NaN</td>\n",
              "      <td>64</td>\n",
              "      <td>512</td>\n",
              "      <td>256.0</td>\n",
              "      <td>NaN</td>\n",
              "      <td>2</td>\n",
              "      <td>SGD</td>\n",
              "      <td>COMPLETE</td>\n",
              "    </tr>\n",
              "    <tr>\n",
              "      <th>1</th>\n",
              "      <td>1</td>\n",
              "      <td>0.883667</td>\n",
              "      <td>2024-10-26 11:23:19.944459</td>\n",
              "      <td>2024-10-26 11:29:47.438901</td>\n",
              "      <td>0 days 00:06:27.494442</td>\n",
              "      <td>leaky_relu</td>\n",
              "      <td>gelu</td>\n",
              "      <td>NaN</td>\n",
              "      <td>128</td>\n",
              "      <td>64</td>\n",
              "      <td>64.0</td>\n",
              "      <td>NaN</td>\n",
              "      <td>2</td>\n",
              "      <td>Adam</td>\n",
              "      <td>COMPLETE</td>\n",
              "    </tr>\n",
              "    <tr>\n",
              "      <th>2</th>\n",
              "      <td>2</td>\n",
              "      <td>0.883417</td>\n",
              "      <td>2024-10-26 11:23:20.061123</td>\n",
              "      <td>2024-10-26 11:29:51.774194</td>\n",
              "      <td>0 days 00:06:31.713071</td>\n",
              "      <td>silu</td>\n",
              "      <td>relu</td>\n",
              "      <td>silu</td>\n",
              "      <td>128</td>\n",
              "      <td>128</td>\n",
              "      <td>64.0</td>\n",
              "      <td>128.0</td>\n",
              "      <td>3</td>\n",
              "      <td>RMSprop</td>\n",
              "      <td>COMPLETE</td>\n",
              "    </tr>\n",
              "    <tr>\n",
              "      <th>3</th>\n",
              "      <td>3</td>\n",
              "      <td>0.741167</td>\n",
              "      <td>2024-10-26 11:23:20.061123</td>\n",
              "      <td>2024-10-26 11:29:57.258470</td>\n",
              "      <td>0 days 00:06:37.197347</td>\n",
              "      <td>sigmoid</td>\n",
              "      <td>relu</td>\n",
              "      <td>sigmoid</td>\n",
              "      <td>64</td>\n",
              "      <td>64</td>\n",
              "      <td>256.0</td>\n",
              "      <td>32.0</td>\n",
              "      <td>3</td>\n",
              "      <td>SGD</td>\n",
              "      <td>COMPLETE</td>\n",
              "    </tr>\n",
              "    <tr>\n",
              "      <th>4</th>\n",
              "      <td>4</td>\n",
              "      <td>0.888250</td>\n",
              "      <td>2024-10-26 11:29:47.454532</td>\n",
              "      <td>2024-10-26 11:36:15.726716</td>\n",
              "      <td>0 days 00:06:28.272184</td>\n",
              "      <td>gelu</td>\n",
              "      <td>NaN</td>\n",
              "      <td>NaN</td>\n",
              "      <td>64</td>\n",
              "      <td>128</td>\n",
              "      <td>NaN</td>\n",
              "      <td>NaN</td>\n",
              "      <td>1</td>\n",
              "      <td>RMSprop</td>\n",
              "      <td>COMPLETE</td>\n",
              "    </tr>\n",
              "  </tbody>\n",
              "</table>\n",
              "</div>"
            ],
            "text/plain": [
              "   number     value             datetime_start          datetime_complete  \\\n",
              "0       0  0.854083 2024-10-26 11:23:19.844195 2024-10-26 11:29:54.026546   \n",
              "1       1  0.883667 2024-10-26 11:23:19.944459 2024-10-26 11:29:47.438901   \n",
              "2       2  0.883417 2024-10-26 11:23:20.061123 2024-10-26 11:29:51.774194   \n",
              "3       3  0.741167 2024-10-26 11:23:20.061123 2024-10-26 11:29:57.258470   \n",
              "4       4  0.888250 2024-10-26 11:29:47.454532 2024-10-26 11:36:15.726716   \n",
              "\n",
              "                duration params_activation_0 params_activation_1  \\\n",
              "0 0 days 00:06:34.182351                relu                tanh   \n",
              "1 0 days 00:06:27.494442          leaky_relu                gelu   \n",
              "2 0 days 00:06:31.713071                silu                relu   \n",
              "3 0 days 00:06:37.197347             sigmoid                relu   \n",
              "4 0 days 00:06:28.272184                gelu                 NaN   \n",
              "\n",
              "  params_activation_2  params_batch_size  params_layer_size_0  \\\n",
              "0                 NaN                 64                  512   \n",
              "1                 NaN                128                   64   \n",
              "2                silu                128                  128   \n",
              "3             sigmoid                 64                   64   \n",
              "4                 NaN                 64                  128   \n",
              "\n",
              "   params_layer_size_1  params_layer_size_2  params_num_layers  \\\n",
              "0                256.0                  NaN                  2   \n",
              "1                 64.0                  NaN                  2   \n",
              "2                 64.0                128.0                  3   \n",
              "3                256.0                 32.0                  3   \n",
              "4                  NaN                  NaN                  1   \n",
              "\n",
              "  params_optimizer     state  \n",
              "0              SGD  COMPLETE  \n",
              "1             Adam  COMPLETE  \n",
              "2          RMSprop  COMPLETE  \n",
              "3              SGD  COMPLETE  \n",
              "4          RMSprop  COMPLETE  "
            ]
          },
          "execution_count": 20,
          "metadata": {},
          "output_type": "execute_result"
        }
      ],
      "source": [
        "fmnist_trial_df = fmnist_study.trials_dataframe()\n",
        "fmnist_trial_df.head()"
      ]
    },
    {
      "cell_type": "code",
      "execution_count": 21,
      "metadata": {},
      "outputs": [
        {
          "data": {
            "text/html": [
              "<div>\n",
              "<style scoped>\n",
              "    .dataframe tbody tr th:only-of-type {\n",
              "        vertical-align: middle;\n",
              "    }\n",
              "\n",
              "    .dataframe tbody tr th {\n",
              "        vertical-align: top;\n",
              "    }\n",
              "\n",
              "    .dataframe thead th {\n",
              "        text-align: right;\n",
              "    }\n",
              "</style>\n",
              "<table border=\"1\" class=\"dataframe\">\n",
              "  <thead>\n",
              "    <tr style=\"text-align: right;\">\n",
              "      <th></th>\n",
              "      <th>number</th>\n",
              "      <th>value</th>\n",
              "      <th>datetime_start</th>\n",
              "      <th>datetime_complete</th>\n",
              "      <th>duration</th>\n",
              "      <th>params_batch_size</th>\n",
              "      <th>params_layer_size_0</th>\n",
              "      <th>params_layer_size_1</th>\n",
              "      <th>params_layer_size_2</th>\n",
              "      <th>params_num_layers</th>\n",
              "    </tr>\n",
              "  </thead>\n",
              "  <tbody>\n",
              "    <tr>\n",
              "      <th>count</th>\n",
              "      <td>13.000000</td>\n",
              "      <td>13.000000</td>\n",
              "      <td>13</td>\n",
              "      <td>13</td>\n",
              "      <td>13</td>\n",
              "      <td>13.000000</td>\n",
              "      <td>13.000000</td>\n",
              "      <td>5.000000</td>\n",
              "      <td>2.000000</td>\n",
              "      <td>13.000000</td>\n",
              "    </tr>\n",
              "    <tr>\n",
              "      <th>mean</th>\n",
              "      <td>14.615385</td>\n",
              "      <td>0.872942</td>\n",
              "      <td>2024-10-26 12:42:08.280228352</td>\n",
              "      <td>2024-10-26 12:48:45.419806720</td>\n",
              "      <td>0 days 00:06:37.139577846</td>\n",
              "      <td>64.000000</td>\n",
              "      <td>157.538462</td>\n",
              "      <td>179.200000</td>\n",
              "      <td>80.000000</td>\n",
              "      <td>1.538462</td>\n",
              "    </tr>\n",
              "    <tr>\n",
              "      <th>min</th>\n",
              "      <td>0.000000</td>\n",
              "      <td>0.741167</td>\n",
              "      <td>2024-10-26 11:23:19.844195</td>\n",
              "      <td>2024-10-26 11:29:47.438901</td>\n",
              "      <td>0 days 00:05:36.332540</td>\n",
              "      <td>32.000000</td>\n",
              "      <td>64.000000</td>\n",
              "      <td>64.000000</td>\n",
              "      <td>32.000000</td>\n",
              "      <td>1.000000</td>\n",
              "    </tr>\n",
              "    <tr>\n",
              "      <th>25%</th>\n",
              "      <td>3.000000</td>\n",
              "      <td>0.882833</td>\n",
              "      <td>2024-10-26 11:23:20.061123072</td>\n",
              "      <td>2024-10-26 11:29:57.258469888</td>\n",
              "      <td>0 days 00:05:57.208855</td>\n",
              "      <td>32.000000</td>\n",
              "      <td>128.000000</td>\n",
              "      <td>64.000000</td>\n",
              "      <td>56.000000</td>\n",
              "      <td>1.000000</td>\n",
              "    </tr>\n",
              "    <tr>\n",
              "      <th>50%</th>\n",
              "      <td>13.000000</td>\n",
              "      <td>0.885083</td>\n",
              "      <td>2024-10-26 11:37:47.465961984</td>\n",
              "      <td>2024-10-26 11:43:34.801115904</td>\n",
              "      <td>0 days 00:06:28.272184</td>\n",
              "      <td>64.000000</td>\n",
              "      <td>128.000000</td>\n",
              "      <td>256.000000</td>\n",
              "      <td>80.000000</td>\n",
              "      <td>1.000000</td>\n",
              "    </tr>\n",
              "    <tr>\n",
              "      <th>75%</th>\n",
              "      <td>19.000000</td>\n",
              "      <td>0.888250</td>\n",
              "      <td>2024-10-26 12:00:45.200034048</td>\n",
              "      <td>2024-10-26 12:08:56.467325952</td>\n",
              "      <td>0 days 00:06:37.197347</td>\n",
              "      <td>64.000000</td>\n",
              "      <td>128.000000</td>\n",
              "      <td>256.000000</td>\n",
              "      <td>104.000000</td>\n",
              "      <td>2.000000</td>\n",
              "    </tr>\n",
              "    <tr>\n",
              "      <th>max</th>\n",
              "      <td>43.000000</td>\n",
              "      <td>0.893250</td>\n",
              "      <td>2024-10-26 18:21:18.520079</td>\n",
              "      <td>2024-10-26 18:26:54.852619</td>\n",
              "      <td>0 days 00:08:11.267292</td>\n",
              "      <td>128.000000</td>\n",
              "      <td>512.000000</td>\n",
              "      <td>256.000000</td>\n",
              "      <td>128.000000</td>\n",
              "      <td>3.000000</td>\n",
              "    </tr>\n",
              "    <tr>\n",
              "      <th>std</th>\n",
              "      <td>13.555678</td>\n",
              "      <td>0.040747</td>\n",
              "      <td>NaN</td>\n",
              "      <td>NaN</td>\n",
              "      <td>0 days 00:00:55.189206025</td>\n",
              "      <td>39.191836</td>\n",
              "      <td>115.718491</td>\n",
              "      <td>105.162731</td>\n",
              "      <td>67.882251</td>\n",
              "      <td>0.776250</td>\n",
              "    </tr>\n",
              "  </tbody>\n",
              "</table>\n",
              "</div>"
            ],
            "text/plain": [
              "          number      value                 datetime_start  \\\n",
              "count  13.000000  13.000000                             13   \n",
              "mean   14.615385   0.872942  2024-10-26 12:42:08.280228352   \n",
              "min     0.000000   0.741167     2024-10-26 11:23:19.844195   \n",
              "25%     3.000000   0.882833  2024-10-26 11:23:20.061123072   \n",
              "50%    13.000000   0.885083  2024-10-26 11:37:47.465961984   \n",
              "75%    19.000000   0.888250  2024-10-26 12:00:45.200034048   \n",
              "max    43.000000   0.893250     2024-10-26 18:21:18.520079   \n",
              "std    13.555678   0.040747                            NaN   \n",
              "\n",
              "                   datetime_complete                   duration  \\\n",
              "count                             13                         13   \n",
              "mean   2024-10-26 12:48:45.419806720  0 days 00:06:37.139577846   \n",
              "min       2024-10-26 11:29:47.438901     0 days 00:05:36.332540   \n",
              "25%    2024-10-26 11:29:57.258469888     0 days 00:05:57.208855   \n",
              "50%    2024-10-26 11:43:34.801115904     0 days 00:06:28.272184   \n",
              "75%    2024-10-26 12:08:56.467325952     0 days 00:06:37.197347   \n",
              "max       2024-10-26 18:26:54.852619     0 days 00:08:11.267292   \n",
              "std                              NaN  0 days 00:00:55.189206025   \n",
              "\n",
              "       params_batch_size  params_layer_size_0  params_layer_size_1  \\\n",
              "count          13.000000            13.000000             5.000000   \n",
              "mean           64.000000           157.538462           179.200000   \n",
              "min            32.000000            64.000000            64.000000   \n",
              "25%            32.000000           128.000000            64.000000   \n",
              "50%            64.000000           128.000000           256.000000   \n",
              "75%            64.000000           128.000000           256.000000   \n",
              "max           128.000000           512.000000           256.000000   \n",
              "std            39.191836           115.718491           105.162731   \n",
              "\n",
              "       params_layer_size_2  params_num_layers  \n",
              "count             2.000000          13.000000  \n",
              "mean             80.000000           1.538462  \n",
              "min              32.000000           1.000000  \n",
              "25%              56.000000           1.000000  \n",
              "50%              80.000000           1.000000  \n",
              "75%             104.000000           2.000000  \n",
              "max             128.000000           3.000000  \n",
              "std              67.882251           0.776250  "
            ]
          },
          "execution_count": 21,
          "metadata": {},
          "output_type": "execute_result"
        }
      ],
      "source": [
        "completed_trials = fmnist_trial_df[fmnist_trial_df['state'] == 'COMPLETE']\n",
        "completed_trials.describe()"
      ]
    },
    {
      "cell_type": "code",
      "execution_count": 26,
      "metadata": {},
      "outputs": [
        {
          "data": {
            "text/plain": [
              "params_activation_2\n",
              "silu    6\n",
              "relu    6\n",
              "tanh    2\n",
              "gelu    1\n",
              "Name: count, dtype: int64"
            ]
          },
          "execution_count": 26,
          "metadata": {},
          "output_type": "execute_result"
        }
      ],
      "source": [
        "completed_trials['params_activation_2'].value_counts()"
      ]
    },
    {
      "cell_type": "code",
      "execution_count": 8,
      "metadata": {},
      "outputs": [
        {
          "data": {
            "text/html": [
              "<div>\n",
              "<style scoped>\n",
              "    .dataframe tbody tr th:only-of-type {\n",
              "        vertical-align: middle;\n",
              "    }\n",
              "\n",
              "    .dataframe tbody tr th {\n",
              "        vertical-align: top;\n",
              "    }\n",
              "\n",
              "    .dataframe thead tr th {\n",
              "        text-align: left;\n",
              "    }\n",
              "\n",
              "    .dataframe thead tr:last-of-type th {\n",
              "        text-align: right;\n",
              "    }\n",
              "</style>\n",
              "<table border=\"1\" class=\"dataframe\">\n",
              "  <thead>\n",
              "    <tr>\n",
              "      <th></th>\n",
              "      <th colspan=\"2\" halign=\"left\">value</th>\n",
              "    </tr>\n",
              "    <tr>\n",
              "      <th></th>\n",
              "      <th>mean</th>\n",
              "      <th>std</th>\n",
              "    </tr>\n",
              "    <tr>\n",
              "      <th>params_activation_0</th>\n",
              "      <th></th>\n",
              "      <th></th>\n",
              "    </tr>\n",
              "  </thead>\n",
              "  <tbody>\n",
              "    <tr>\n",
              "      <th>gelu</th>\n",
              "      <td>0.782537</td>\n",
              "      <td>0.050186</td>\n",
              "    </tr>\n",
              "    <tr>\n",
              "      <th>leaky_relu</th>\n",
              "      <td>0.765214</td>\n",
              "      <td>0.056212</td>\n",
              "    </tr>\n",
              "    <tr>\n",
              "      <th>relu</th>\n",
              "      <td>0.703917</td>\n",
              "      <td>0.161625</td>\n",
              "    </tr>\n",
              "    <tr>\n",
              "      <th>sigmoid</th>\n",
              "      <td>0.758250</td>\n",
              "      <td>0.052826</td>\n",
              "    </tr>\n",
              "    <tr>\n",
              "      <th>silu</th>\n",
              "      <td>0.787181</td>\n",
              "      <td>0.034987</td>\n",
              "    </tr>\n",
              "    <tr>\n",
              "      <th>tanh</th>\n",
              "      <td>0.731345</td>\n",
              "      <td>0.109043</td>\n",
              "    </tr>\n",
              "  </tbody>\n",
              "</table>\n",
              "</div>"
            ],
            "text/plain": [
              "                        value          \n",
              "                         mean       std\n",
              "params_activation_0                    \n",
              "gelu                 0.782537  0.050186\n",
              "leaky_relu           0.765214  0.056212\n",
              "relu                 0.703917  0.161625\n",
              "sigmoid              0.758250  0.052826\n",
              "silu                 0.787181  0.034987\n",
              "tanh                 0.731345  0.109043"
            ]
          },
          "execution_count": 8,
          "metadata": {},
          "output_type": "execute_result"
        }
      ],
      "source": [
        "# group by params_activation_0 and agg by value\n",
        "fmnist_trial_df.groupby('params_activation_0').agg({'value': ['mean', 'std']})"
      ]
    },
    {
      "cell_type": "code",
      "execution_count": 22,
      "metadata": {},
      "outputs": [
        {
          "data": {
            "text/html": [
              "<div>\n",
              "<style scoped>\n",
              "    .dataframe tbody tr th:only-of-type {\n",
              "        vertical-align: middle;\n",
              "    }\n",
              "\n",
              "    .dataframe tbody tr th {\n",
              "        vertical-align: top;\n",
              "    }\n",
              "\n",
              "    .dataframe thead th {\n",
              "        text-align: right;\n",
              "    }\n",
              "</style>\n",
              "<table border=\"1\" class=\"dataframe\">\n",
              "  <thead>\n",
              "    <tr style=\"text-align: right;\">\n",
              "      <th></th>\n",
              "      <th>number</th>\n",
              "      <th>value</th>\n",
              "      <th>datetime_start</th>\n",
              "      <th>datetime_complete</th>\n",
              "      <th>duration</th>\n",
              "      <th>params_activation_0</th>\n",
              "      <th>params_activation_1</th>\n",
              "      <th>params_activation_2</th>\n",
              "      <th>params_batch_size</th>\n",
              "      <th>params_layer_size_0</th>\n",
              "      <th>params_layer_size_1</th>\n",
              "      <th>params_layer_size_2</th>\n",
              "      <th>params_num_layers</th>\n",
              "      <th>params_optimizer</th>\n",
              "      <th>state</th>\n",
              "    </tr>\n",
              "  </thead>\n",
              "  <tbody>\n",
              "    <tr>\n",
              "      <th>4</th>\n",
              "      <td>4</td>\n",
              "      <td>0.888250</td>\n",
              "      <td>2024-10-26 11:29:47.454532</td>\n",
              "      <td>2024-10-26 11:36:15.726716</td>\n",
              "      <td>0 days 00:06:28.272184</td>\n",
              "      <td>gelu</td>\n",
              "      <td>NaN</td>\n",
              "      <td>NaN</td>\n",
              "      <td>64</td>\n",
              "      <td>128</td>\n",
              "      <td>NaN</td>\n",
              "      <td>NaN</td>\n",
              "      <td>1</td>\n",
              "      <td>RMSprop</td>\n",
              "      <td>COMPLETE</td>\n",
              "    </tr>\n",
              "    <tr>\n",
              "      <th>8</th>\n",
              "      <td>8</td>\n",
              "      <td>0.866500</td>\n",
              "      <td>2024-10-26 11:36:15.742340</td>\n",
              "      <td>2024-10-26 11:38:12.877196</td>\n",
              "      <td>0 days 00:01:57.134856</td>\n",
              "      <td>silu</td>\n",
              "      <td>NaN</td>\n",
              "      <td>NaN</td>\n",
              "      <td>64</td>\n",
              "      <td>64</td>\n",
              "      <td>NaN</td>\n",
              "      <td>NaN</td>\n",
              "      <td>1</td>\n",
              "      <td>RMSprop</td>\n",
              "      <td>PRUNED</td>\n",
              "    </tr>\n",
              "    <tr>\n",
              "      <th>13</th>\n",
              "      <td>13</td>\n",
              "      <td>0.891917</td>\n",
              "      <td>2024-10-26 11:37:47.465962</td>\n",
              "      <td>2024-10-26 11:43:34.801116</td>\n",
              "      <td>0 days 00:05:47.335154</td>\n",
              "      <td>gelu</td>\n",
              "      <td>NaN</td>\n",
              "      <td>NaN</td>\n",
              "      <td>32</td>\n",
              "      <td>128</td>\n",
              "      <td>NaN</td>\n",
              "      <td>NaN</td>\n",
              "      <td>1</td>\n",
              "      <td>RMSprop</td>\n",
              "      <td>COMPLETE</td>\n",
              "    </tr>\n",
              "    <tr>\n",
              "      <th>14</th>\n",
              "      <td>14</td>\n",
              "      <td>0.834583</td>\n",
              "      <td>2024-10-26 11:38:12.895779</td>\n",
              "      <td>2024-10-26 11:38:52.619550</td>\n",
              "      <td>0 days 00:00:39.723771</td>\n",
              "      <td>gelu</td>\n",
              "      <td>NaN</td>\n",
              "      <td>NaN</td>\n",
              "      <td>32</td>\n",
              "      <td>16</td>\n",
              "      <td>NaN</td>\n",
              "      <td>NaN</td>\n",
              "      <td>1</td>\n",
              "      <td>Adam</td>\n",
              "      <td>PRUNED</td>\n",
              "    </tr>\n",
              "    <tr>\n",
              "      <th>15</th>\n",
              "      <td>15</td>\n",
              "      <td>0.883000</td>\n",
              "      <td>2024-10-26 11:42:22.978340</td>\n",
              "      <td>2024-10-26 11:47:01.813513</td>\n",
              "      <td>0 days 00:04:38.835173</td>\n",
              "      <td>leaky_relu</td>\n",
              "      <td>NaN</td>\n",
              "      <td>NaN</td>\n",
              "      <td>128</td>\n",
              "      <td>256</td>\n",
              "      <td>NaN</td>\n",
              "      <td>NaN</td>\n",
              "      <td>1</td>\n",
              "      <td>RMSprop</td>\n",
              "      <td>PRUNED</td>\n",
              "    </tr>\n",
              "  </tbody>\n",
              "</table>\n",
              "</div>"
            ],
            "text/plain": [
              "    number     value             datetime_start          datetime_complete  \\\n",
              "4        4  0.888250 2024-10-26 11:29:47.454532 2024-10-26 11:36:15.726716   \n",
              "8        8  0.866500 2024-10-26 11:36:15.742340 2024-10-26 11:38:12.877196   \n",
              "13      13  0.891917 2024-10-26 11:37:47.465962 2024-10-26 11:43:34.801116   \n",
              "14      14  0.834583 2024-10-26 11:38:12.895779 2024-10-26 11:38:52.619550   \n",
              "15      15  0.883000 2024-10-26 11:42:22.978340 2024-10-26 11:47:01.813513   \n",
              "\n",
              "                 duration params_activation_0 params_activation_1  \\\n",
              "4  0 days 00:06:28.272184                gelu                 NaN   \n",
              "8  0 days 00:01:57.134856                silu                 NaN   \n",
              "13 0 days 00:05:47.335154                gelu                 NaN   \n",
              "14 0 days 00:00:39.723771                gelu                 NaN   \n",
              "15 0 days 00:04:38.835173          leaky_relu                 NaN   \n",
              "\n",
              "   params_activation_2  params_batch_size  params_layer_size_0  \\\n",
              "4                  NaN                 64                  128   \n",
              "8                  NaN                 64                   64   \n",
              "13                 NaN                 32                  128   \n",
              "14                 NaN                 32                   16   \n",
              "15                 NaN                128                  256   \n",
              "\n",
              "    params_layer_size_1  params_layer_size_2  params_num_layers  \\\n",
              "4                   NaN                  NaN                  1   \n",
              "8                   NaN                  NaN                  1   \n",
              "13                  NaN                  NaN                  1   \n",
              "14                  NaN                  NaN                  1   \n",
              "15                  NaN                  NaN                  1   \n",
              "\n",
              "   params_optimizer     state  \n",
              "4           RMSprop  COMPLETE  \n",
              "8           RMSprop    PRUNED  \n",
              "13          RMSprop  COMPLETE  \n",
              "14             Adam    PRUNED  \n",
              "15          RMSprop    PRUNED  "
            ]
          },
          "execution_count": 22,
          "metadata": {},
          "output_type": "execute_result"
        }
      ],
      "source": [
        "single_layer_trials = fmnist_trial_df[fmnist_trial_df['params_num_layers'] == 1]\n",
        "single_layer_trials.head()"
      ]
    },
    {
      "cell_type": "code",
      "execution_count": 23,
      "metadata": {},
      "outputs": [
        {
          "data": {
            "text/plain": [
              "(31, 15)"
            ]
          },
          "execution_count": 23,
          "metadata": {},
          "output_type": "execute_result"
        }
      ],
      "source": [
        "single_layer_trials.shape"
      ]
    },
    {
      "cell_type": "code",
      "execution_count": 24,
      "metadata": {},
      "outputs": [
        {
          "data": {
            "application/vnd.plotly.v1+json": {
              "config": {
                "plotlyServerURL": "https://plot.ly"
              },
              "data": [
                {
                  "mode": "markers",
                  "name": "Objective Value",
                  "type": "scatter",
                  "x": [
                    0,
                    1,
                    2,
                    3,
                    4,
                    11,
                    13,
                    16,
                    18,
                    19,
                    24,
                    36,
                    43
                  ],
                  "y": [
                    0.8540833333333333,
                    0.8836666666666667,
                    0.8834166666666666,
                    0.7411666666666666,
                    0.88825,
                    0.8850833333333333,
                    0.8919166666666667,
                    0.89325,
                    0.8816666666666667,
                    0.88675,
                    0.8888333333333334,
                    0.8873333333333333,
                    0.8828333333333334
                  ]
                },
                {
                  "mode": "lines",
                  "name": "Best Value",
                  "type": "scatter",
                  "x": [
                    0,
                    1,
                    2,
                    3,
                    4,
                    5,
                    6,
                    7,
                    8,
                    9,
                    10,
                    11,
                    12,
                    13,
                    14,
                    15,
                    16,
                    17,
                    18,
                    19,
                    20,
                    21,
                    22,
                    23,
                    24,
                    25,
                    26,
                    27,
                    28,
                    29,
                    30,
                    31,
                    32,
                    33,
                    34,
                    35,
                    36,
                    37,
                    38,
                    39,
                    40,
                    41,
                    42,
                    43,
                    44,
                    45,
                    46
                  ],
                  "y": [
                    0.8540833333333333,
                    0.8836666666666667,
                    0.8836666666666667,
                    0.8836666666666667,
                    0.88825,
                    0.88825,
                    0.88825,
                    0.88825,
                    0.88825,
                    0.88825,
                    0.88825,
                    0.88825,
                    0.88825,
                    0.8919166666666667,
                    0.8919166666666667,
                    0.8919166666666667,
                    0.89325,
                    0.89325,
                    0.89325,
                    0.89325,
                    0.89325,
                    0.89325,
                    0.89325,
                    0.89325,
                    0.89325,
                    0.89325,
                    0.89325,
                    0.89325,
                    0.89325,
                    0.89325,
                    0.89325,
                    0.89325,
                    0.89325,
                    0.89325,
                    0.89325,
                    0.89325,
                    0.89325,
                    0.89325,
                    0.89325,
                    0.89325,
                    0.89325,
                    0.89325,
                    0.89325,
                    0.89325,
                    0.89325,
                    0.89325,
                    0.89325
                  ]
                },
                {
                  "marker": {
                    "color": "#cccccc"
                  },
                  "mode": "markers",
                  "name": "Infeasible Trial",
                  "showlegend": false,
                  "type": "scatter",
                  "x": [],
                  "y": []
                }
              ],
              "layout": {
                "template": {
                  "data": {
                    "bar": [
                      {
                        "error_x": {
                          "color": "#2a3f5f"
                        },
                        "error_y": {
                          "color": "#2a3f5f"
                        },
                        "marker": {
                          "line": {
                            "color": "#E5ECF6",
                            "width": 0.5
                          },
                          "pattern": {
                            "fillmode": "overlay",
                            "size": 10,
                            "solidity": 0.2
                          }
                        },
                        "type": "bar"
                      }
                    ],
                    "barpolar": [
                      {
                        "marker": {
                          "line": {
                            "color": "#E5ECF6",
                            "width": 0.5
                          },
                          "pattern": {
                            "fillmode": "overlay",
                            "size": 10,
                            "solidity": 0.2
                          }
                        },
                        "type": "barpolar"
                      }
                    ],
                    "carpet": [
                      {
                        "aaxis": {
                          "endlinecolor": "#2a3f5f",
                          "gridcolor": "white",
                          "linecolor": "white",
                          "minorgridcolor": "white",
                          "startlinecolor": "#2a3f5f"
                        },
                        "baxis": {
                          "endlinecolor": "#2a3f5f",
                          "gridcolor": "white",
                          "linecolor": "white",
                          "minorgridcolor": "white",
                          "startlinecolor": "#2a3f5f"
                        },
                        "type": "carpet"
                      }
                    ],
                    "choropleth": [
                      {
                        "colorbar": {
                          "outlinewidth": 0,
                          "ticks": ""
                        },
                        "type": "choropleth"
                      }
                    ],
                    "contour": [
                      {
                        "colorbar": {
                          "outlinewidth": 0,
                          "ticks": ""
                        },
                        "colorscale": [
                          [
                            0,
                            "#0d0887"
                          ],
                          [
                            0.1111111111111111,
                            "#46039f"
                          ],
                          [
                            0.2222222222222222,
                            "#7201a8"
                          ],
                          [
                            0.3333333333333333,
                            "#9c179e"
                          ],
                          [
                            0.4444444444444444,
                            "#bd3786"
                          ],
                          [
                            0.5555555555555556,
                            "#d8576b"
                          ],
                          [
                            0.6666666666666666,
                            "#ed7953"
                          ],
                          [
                            0.7777777777777778,
                            "#fb9f3a"
                          ],
                          [
                            0.8888888888888888,
                            "#fdca26"
                          ],
                          [
                            1,
                            "#f0f921"
                          ]
                        ],
                        "type": "contour"
                      }
                    ],
                    "contourcarpet": [
                      {
                        "colorbar": {
                          "outlinewidth": 0,
                          "ticks": ""
                        },
                        "type": "contourcarpet"
                      }
                    ],
                    "heatmap": [
                      {
                        "colorbar": {
                          "outlinewidth": 0,
                          "ticks": ""
                        },
                        "colorscale": [
                          [
                            0,
                            "#0d0887"
                          ],
                          [
                            0.1111111111111111,
                            "#46039f"
                          ],
                          [
                            0.2222222222222222,
                            "#7201a8"
                          ],
                          [
                            0.3333333333333333,
                            "#9c179e"
                          ],
                          [
                            0.4444444444444444,
                            "#bd3786"
                          ],
                          [
                            0.5555555555555556,
                            "#d8576b"
                          ],
                          [
                            0.6666666666666666,
                            "#ed7953"
                          ],
                          [
                            0.7777777777777778,
                            "#fb9f3a"
                          ],
                          [
                            0.8888888888888888,
                            "#fdca26"
                          ],
                          [
                            1,
                            "#f0f921"
                          ]
                        ],
                        "type": "heatmap"
                      }
                    ],
                    "heatmapgl": [
                      {
                        "colorbar": {
                          "outlinewidth": 0,
                          "ticks": ""
                        },
                        "colorscale": [
                          [
                            0,
                            "#0d0887"
                          ],
                          [
                            0.1111111111111111,
                            "#46039f"
                          ],
                          [
                            0.2222222222222222,
                            "#7201a8"
                          ],
                          [
                            0.3333333333333333,
                            "#9c179e"
                          ],
                          [
                            0.4444444444444444,
                            "#bd3786"
                          ],
                          [
                            0.5555555555555556,
                            "#d8576b"
                          ],
                          [
                            0.6666666666666666,
                            "#ed7953"
                          ],
                          [
                            0.7777777777777778,
                            "#fb9f3a"
                          ],
                          [
                            0.8888888888888888,
                            "#fdca26"
                          ],
                          [
                            1,
                            "#f0f921"
                          ]
                        ],
                        "type": "heatmapgl"
                      }
                    ],
                    "histogram": [
                      {
                        "marker": {
                          "pattern": {
                            "fillmode": "overlay",
                            "size": 10,
                            "solidity": 0.2
                          }
                        },
                        "type": "histogram"
                      }
                    ],
                    "histogram2d": [
                      {
                        "colorbar": {
                          "outlinewidth": 0,
                          "ticks": ""
                        },
                        "colorscale": [
                          [
                            0,
                            "#0d0887"
                          ],
                          [
                            0.1111111111111111,
                            "#46039f"
                          ],
                          [
                            0.2222222222222222,
                            "#7201a8"
                          ],
                          [
                            0.3333333333333333,
                            "#9c179e"
                          ],
                          [
                            0.4444444444444444,
                            "#bd3786"
                          ],
                          [
                            0.5555555555555556,
                            "#d8576b"
                          ],
                          [
                            0.6666666666666666,
                            "#ed7953"
                          ],
                          [
                            0.7777777777777778,
                            "#fb9f3a"
                          ],
                          [
                            0.8888888888888888,
                            "#fdca26"
                          ],
                          [
                            1,
                            "#f0f921"
                          ]
                        ],
                        "type": "histogram2d"
                      }
                    ],
                    "histogram2dcontour": [
                      {
                        "colorbar": {
                          "outlinewidth": 0,
                          "ticks": ""
                        },
                        "colorscale": [
                          [
                            0,
                            "#0d0887"
                          ],
                          [
                            0.1111111111111111,
                            "#46039f"
                          ],
                          [
                            0.2222222222222222,
                            "#7201a8"
                          ],
                          [
                            0.3333333333333333,
                            "#9c179e"
                          ],
                          [
                            0.4444444444444444,
                            "#bd3786"
                          ],
                          [
                            0.5555555555555556,
                            "#d8576b"
                          ],
                          [
                            0.6666666666666666,
                            "#ed7953"
                          ],
                          [
                            0.7777777777777778,
                            "#fb9f3a"
                          ],
                          [
                            0.8888888888888888,
                            "#fdca26"
                          ],
                          [
                            1,
                            "#f0f921"
                          ]
                        ],
                        "type": "histogram2dcontour"
                      }
                    ],
                    "mesh3d": [
                      {
                        "colorbar": {
                          "outlinewidth": 0,
                          "ticks": ""
                        },
                        "type": "mesh3d"
                      }
                    ],
                    "parcoords": [
                      {
                        "line": {
                          "colorbar": {
                            "outlinewidth": 0,
                            "ticks": ""
                          }
                        },
                        "type": "parcoords"
                      }
                    ],
                    "pie": [
                      {
                        "automargin": true,
                        "type": "pie"
                      }
                    ],
                    "scatter": [
                      {
                        "fillpattern": {
                          "fillmode": "overlay",
                          "size": 10,
                          "solidity": 0.2
                        },
                        "type": "scatter"
                      }
                    ],
                    "scatter3d": [
                      {
                        "line": {
                          "colorbar": {
                            "outlinewidth": 0,
                            "ticks": ""
                          }
                        },
                        "marker": {
                          "colorbar": {
                            "outlinewidth": 0,
                            "ticks": ""
                          }
                        },
                        "type": "scatter3d"
                      }
                    ],
                    "scattercarpet": [
                      {
                        "marker": {
                          "colorbar": {
                            "outlinewidth": 0,
                            "ticks": ""
                          }
                        },
                        "type": "scattercarpet"
                      }
                    ],
                    "scattergeo": [
                      {
                        "marker": {
                          "colorbar": {
                            "outlinewidth": 0,
                            "ticks": ""
                          }
                        },
                        "type": "scattergeo"
                      }
                    ],
                    "scattergl": [
                      {
                        "marker": {
                          "colorbar": {
                            "outlinewidth": 0,
                            "ticks": ""
                          }
                        },
                        "type": "scattergl"
                      }
                    ],
                    "scattermapbox": [
                      {
                        "marker": {
                          "colorbar": {
                            "outlinewidth": 0,
                            "ticks": ""
                          }
                        },
                        "type": "scattermapbox"
                      }
                    ],
                    "scatterpolar": [
                      {
                        "marker": {
                          "colorbar": {
                            "outlinewidth": 0,
                            "ticks": ""
                          }
                        },
                        "type": "scatterpolar"
                      }
                    ],
                    "scatterpolargl": [
                      {
                        "marker": {
                          "colorbar": {
                            "outlinewidth": 0,
                            "ticks": ""
                          }
                        },
                        "type": "scatterpolargl"
                      }
                    ],
                    "scatterternary": [
                      {
                        "marker": {
                          "colorbar": {
                            "outlinewidth": 0,
                            "ticks": ""
                          }
                        },
                        "type": "scatterternary"
                      }
                    ],
                    "surface": [
                      {
                        "colorbar": {
                          "outlinewidth": 0,
                          "ticks": ""
                        },
                        "colorscale": [
                          [
                            0,
                            "#0d0887"
                          ],
                          [
                            0.1111111111111111,
                            "#46039f"
                          ],
                          [
                            0.2222222222222222,
                            "#7201a8"
                          ],
                          [
                            0.3333333333333333,
                            "#9c179e"
                          ],
                          [
                            0.4444444444444444,
                            "#bd3786"
                          ],
                          [
                            0.5555555555555556,
                            "#d8576b"
                          ],
                          [
                            0.6666666666666666,
                            "#ed7953"
                          ],
                          [
                            0.7777777777777778,
                            "#fb9f3a"
                          ],
                          [
                            0.8888888888888888,
                            "#fdca26"
                          ],
                          [
                            1,
                            "#f0f921"
                          ]
                        ],
                        "type": "surface"
                      }
                    ],
                    "table": [
                      {
                        "cells": {
                          "fill": {
                            "color": "#EBF0F8"
                          },
                          "line": {
                            "color": "white"
                          }
                        },
                        "header": {
                          "fill": {
                            "color": "#C8D4E3"
                          },
                          "line": {
                            "color": "white"
                          }
                        },
                        "type": "table"
                      }
                    ]
                  },
                  "layout": {
                    "annotationdefaults": {
                      "arrowcolor": "#2a3f5f",
                      "arrowhead": 0,
                      "arrowwidth": 1
                    },
                    "autotypenumbers": "strict",
                    "coloraxis": {
                      "colorbar": {
                        "outlinewidth": 0,
                        "ticks": ""
                      }
                    },
                    "colorscale": {
                      "diverging": [
                        [
                          0,
                          "#8e0152"
                        ],
                        [
                          0.1,
                          "#c51b7d"
                        ],
                        [
                          0.2,
                          "#de77ae"
                        ],
                        [
                          0.3,
                          "#f1b6da"
                        ],
                        [
                          0.4,
                          "#fde0ef"
                        ],
                        [
                          0.5,
                          "#f7f7f7"
                        ],
                        [
                          0.6,
                          "#e6f5d0"
                        ],
                        [
                          0.7,
                          "#b8e186"
                        ],
                        [
                          0.8,
                          "#7fbc41"
                        ],
                        [
                          0.9,
                          "#4d9221"
                        ],
                        [
                          1,
                          "#276419"
                        ]
                      ],
                      "sequential": [
                        [
                          0,
                          "#0d0887"
                        ],
                        [
                          0.1111111111111111,
                          "#46039f"
                        ],
                        [
                          0.2222222222222222,
                          "#7201a8"
                        ],
                        [
                          0.3333333333333333,
                          "#9c179e"
                        ],
                        [
                          0.4444444444444444,
                          "#bd3786"
                        ],
                        [
                          0.5555555555555556,
                          "#d8576b"
                        ],
                        [
                          0.6666666666666666,
                          "#ed7953"
                        ],
                        [
                          0.7777777777777778,
                          "#fb9f3a"
                        ],
                        [
                          0.8888888888888888,
                          "#fdca26"
                        ],
                        [
                          1,
                          "#f0f921"
                        ]
                      ],
                      "sequentialminus": [
                        [
                          0,
                          "#0d0887"
                        ],
                        [
                          0.1111111111111111,
                          "#46039f"
                        ],
                        [
                          0.2222222222222222,
                          "#7201a8"
                        ],
                        [
                          0.3333333333333333,
                          "#9c179e"
                        ],
                        [
                          0.4444444444444444,
                          "#bd3786"
                        ],
                        [
                          0.5555555555555556,
                          "#d8576b"
                        ],
                        [
                          0.6666666666666666,
                          "#ed7953"
                        ],
                        [
                          0.7777777777777778,
                          "#fb9f3a"
                        ],
                        [
                          0.8888888888888888,
                          "#fdca26"
                        ],
                        [
                          1,
                          "#f0f921"
                        ]
                      ]
                    },
                    "colorway": [
                      "#636efa",
                      "#EF553B",
                      "#00cc96",
                      "#ab63fa",
                      "#FFA15A",
                      "#19d3f3",
                      "#FF6692",
                      "#B6E880",
                      "#FF97FF",
                      "#FECB52"
                    ],
                    "font": {
                      "color": "#2a3f5f"
                    },
                    "geo": {
                      "bgcolor": "white",
                      "lakecolor": "white",
                      "landcolor": "#E5ECF6",
                      "showlakes": true,
                      "showland": true,
                      "subunitcolor": "white"
                    },
                    "hoverlabel": {
                      "align": "left"
                    },
                    "hovermode": "closest",
                    "mapbox": {
                      "style": "light"
                    },
                    "paper_bgcolor": "white",
                    "plot_bgcolor": "#E5ECF6",
                    "polar": {
                      "angularaxis": {
                        "gridcolor": "white",
                        "linecolor": "white",
                        "ticks": ""
                      },
                      "bgcolor": "#E5ECF6",
                      "radialaxis": {
                        "gridcolor": "white",
                        "linecolor": "white",
                        "ticks": ""
                      }
                    },
                    "scene": {
                      "xaxis": {
                        "backgroundcolor": "#E5ECF6",
                        "gridcolor": "white",
                        "gridwidth": 2,
                        "linecolor": "white",
                        "showbackground": true,
                        "ticks": "",
                        "zerolinecolor": "white"
                      },
                      "yaxis": {
                        "backgroundcolor": "#E5ECF6",
                        "gridcolor": "white",
                        "gridwidth": 2,
                        "linecolor": "white",
                        "showbackground": true,
                        "ticks": "",
                        "zerolinecolor": "white"
                      },
                      "zaxis": {
                        "backgroundcolor": "#E5ECF6",
                        "gridcolor": "white",
                        "gridwidth": 2,
                        "linecolor": "white",
                        "showbackground": true,
                        "ticks": "",
                        "zerolinecolor": "white"
                      }
                    },
                    "shapedefaults": {
                      "line": {
                        "color": "#2a3f5f"
                      }
                    },
                    "ternary": {
                      "aaxis": {
                        "gridcolor": "white",
                        "linecolor": "white",
                        "ticks": ""
                      },
                      "baxis": {
                        "gridcolor": "white",
                        "linecolor": "white",
                        "ticks": ""
                      },
                      "bgcolor": "#E5ECF6",
                      "caxis": {
                        "gridcolor": "white",
                        "linecolor": "white",
                        "ticks": ""
                      }
                    },
                    "title": {
                      "x": 0.05
                    },
                    "xaxis": {
                      "automargin": true,
                      "gridcolor": "white",
                      "linecolor": "white",
                      "ticks": "",
                      "title": {
                        "standoff": 15
                      },
                      "zerolinecolor": "white",
                      "zerolinewidth": 2
                    },
                    "yaxis": {
                      "automargin": true,
                      "gridcolor": "white",
                      "linecolor": "white",
                      "ticks": "",
                      "title": {
                        "standoff": 15
                      },
                      "zerolinecolor": "white",
                      "zerolinewidth": 2
                    }
                  }
                },
                "title": {
                  "text": "Optimization History Plot"
                },
                "xaxis": {
                  "title": {
                    "text": "Trial"
                  }
                },
                "yaxis": {
                  "title": {
                    "text": "Objective Value"
                  }
                }
              }
            }
          },
          "metadata": {},
          "output_type": "display_data"
        }
      ],
      "source": [
        "# view distribution of hyperparameters w.r.t. accuracy\n",
        "optuna.visualization.plot_optimization_history(fmnist_study)"
      ]
    },
    {
      "cell_type": "code",
      "execution_count": 65,
      "metadata": {},
      "outputs": [
        {
          "data": {
            "application/vnd.plotly.v1+json": {
              "config": {
                "plotlyServerURL": "https://plot.ly"
              },
              "data": [
                {
                  "cliponaxis": false,
                  "hovertemplate": [
                    "batch_size (CategoricalDistribution): 0.0709964530789993<extra></extra>",
                    "num_layers (IntDistribution): 0.07357898164662638<extra></extra>",
                    "layer_size_0 (CategoricalDistribution): 0.13177417344987197<extra></extra>",
                    "optimizer (CategoricalDistribution): 0.24150513690584627<extra></extra>",
                    "activation_0 (CategoricalDistribution): 0.4821452549186562<extra></extra>"
                  ],
                  "name": "Objective Value",
                  "orientation": "h",
                  "text": [
                    "0.07",
                    "0.07",
                    "0.13",
                    "0.24",
                    "0.48"
                  ],
                  "textposition": "outside",
                  "type": "bar",
                  "x": [
                    0.0709964530789993,
                    0.07357898164662638,
                    0.13177417344987197,
                    0.24150513690584627,
                    0.4821452549186562
                  ],
                  "y": [
                    "batch_size",
                    "num_layers",
                    "layer_size_0",
                    "optimizer",
                    "activation_0"
                  ]
                }
              ],
              "layout": {
                "template": {
                  "data": {
                    "bar": [
                      {
                        "error_x": {
                          "color": "#2a3f5f"
                        },
                        "error_y": {
                          "color": "#2a3f5f"
                        },
                        "marker": {
                          "line": {
                            "color": "#E5ECF6",
                            "width": 0.5
                          },
                          "pattern": {
                            "fillmode": "overlay",
                            "size": 10,
                            "solidity": 0.2
                          }
                        },
                        "type": "bar"
                      }
                    ],
                    "barpolar": [
                      {
                        "marker": {
                          "line": {
                            "color": "#E5ECF6",
                            "width": 0.5
                          },
                          "pattern": {
                            "fillmode": "overlay",
                            "size": 10,
                            "solidity": 0.2
                          }
                        },
                        "type": "barpolar"
                      }
                    ],
                    "carpet": [
                      {
                        "aaxis": {
                          "endlinecolor": "#2a3f5f",
                          "gridcolor": "white",
                          "linecolor": "white",
                          "minorgridcolor": "white",
                          "startlinecolor": "#2a3f5f"
                        },
                        "baxis": {
                          "endlinecolor": "#2a3f5f",
                          "gridcolor": "white",
                          "linecolor": "white",
                          "minorgridcolor": "white",
                          "startlinecolor": "#2a3f5f"
                        },
                        "type": "carpet"
                      }
                    ],
                    "choropleth": [
                      {
                        "colorbar": {
                          "outlinewidth": 0,
                          "ticks": ""
                        },
                        "type": "choropleth"
                      }
                    ],
                    "contour": [
                      {
                        "colorbar": {
                          "outlinewidth": 0,
                          "ticks": ""
                        },
                        "colorscale": [
                          [
                            0,
                            "#0d0887"
                          ],
                          [
                            0.1111111111111111,
                            "#46039f"
                          ],
                          [
                            0.2222222222222222,
                            "#7201a8"
                          ],
                          [
                            0.3333333333333333,
                            "#9c179e"
                          ],
                          [
                            0.4444444444444444,
                            "#bd3786"
                          ],
                          [
                            0.5555555555555556,
                            "#d8576b"
                          ],
                          [
                            0.6666666666666666,
                            "#ed7953"
                          ],
                          [
                            0.7777777777777778,
                            "#fb9f3a"
                          ],
                          [
                            0.8888888888888888,
                            "#fdca26"
                          ],
                          [
                            1,
                            "#f0f921"
                          ]
                        ],
                        "type": "contour"
                      }
                    ],
                    "contourcarpet": [
                      {
                        "colorbar": {
                          "outlinewidth": 0,
                          "ticks": ""
                        },
                        "type": "contourcarpet"
                      }
                    ],
                    "heatmap": [
                      {
                        "colorbar": {
                          "outlinewidth": 0,
                          "ticks": ""
                        },
                        "colorscale": [
                          [
                            0,
                            "#0d0887"
                          ],
                          [
                            0.1111111111111111,
                            "#46039f"
                          ],
                          [
                            0.2222222222222222,
                            "#7201a8"
                          ],
                          [
                            0.3333333333333333,
                            "#9c179e"
                          ],
                          [
                            0.4444444444444444,
                            "#bd3786"
                          ],
                          [
                            0.5555555555555556,
                            "#d8576b"
                          ],
                          [
                            0.6666666666666666,
                            "#ed7953"
                          ],
                          [
                            0.7777777777777778,
                            "#fb9f3a"
                          ],
                          [
                            0.8888888888888888,
                            "#fdca26"
                          ],
                          [
                            1,
                            "#f0f921"
                          ]
                        ],
                        "type": "heatmap"
                      }
                    ],
                    "heatmapgl": [
                      {
                        "colorbar": {
                          "outlinewidth": 0,
                          "ticks": ""
                        },
                        "colorscale": [
                          [
                            0,
                            "#0d0887"
                          ],
                          [
                            0.1111111111111111,
                            "#46039f"
                          ],
                          [
                            0.2222222222222222,
                            "#7201a8"
                          ],
                          [
                            0.3333333333333333,
                            "#9c179e"
                          ],
                          [
                            0.4444444444444444,
                            "#bd3786"
                          ],
                          [
                            0.5555555555555556,
                            "#d8576b"
                          ],
                          [
                            0.6666666666666666,
                            "#ed7953"
                          ],
                          [
                            0.7777777777777778,
                            "#fb9f3a"
                          ],
                          [
                            0.8888888888888888,
                            "#fdca26"
                          ],
                          [
                            1,
                            "#f0f921"
                          ]
                        ],
                        "type": "heatmapgl"
                      }
                    ],
                    "histogram": [
                      {
                        "marker": {
                          "pattern": {
                            "fillmode": "overlay",
                            "size": 10,
                            "solidity": 0.2
                          }
                        },
                        "type": "histogram"
                      }
                    ],
                    "histogram2d": [
                      {
                        "colorbar": {
                          "outlinewidth": 0,
                          "ticks": ""
                        },
                        "colorscale": [
                          [
                            0,
                            "#0d0887"
                          ],
                          [
                            0.1111111111111111,
                            "#46039f"
                          ],
                          [
                            0.2222222222222222,
                            "#7201a8"
                          ],
                          [
                            0.3333333333333333,
                            "#9c179e"
                          ],
                          [
                            0.4444444444444444,
                            "#bd3786"
                          ],
                          [
                            0.5555555555555556,
                            "#d8576b"
                          ],
                          [
                            0.6666666666666666,
                            "#ed7953"
                          ],
                          [
                            0.7777777777777778,
                            "#fb9f3a"
                          ],
                          [
                            0.8888888888888888,
                            "#fdca26"
                          ],
                          [
                            1,
                            "#f0f921"
                          ]
                        ],
                        "type": "histogram2d"
                      }
                    ],
                    "histogram2dcontour": [
                      {
                        "colorbar": {
                          "outlinewidth": 0,
                          "ticks": ""
                        },
                        "colorscale": [
                          [
                            0,
                            "#0d0887"
                          ],
                          [
                            0.1111111111111111,
                            "#46039f"
                          ],
                          [
                            0.2222222222222222,
                            "#7201a8"
                          ],
                          [
                            0.3333333333333333,
                            "#9c179e"
                          ],
                          [
                            0.4444444444444444,
                            "#bd3786"
                          ],
                          [
                            0.5555555555555556,
                            "#d8576b"
                          ],
                          [
                            0.6666666666666666,
                            "#ed7953"
                          ],
                          [
                            0.7777777777777778,
                            "#fb9f3a"
                          ],
                          [
                            0.8888888888888888,
                            "#fdca26"
                          ],
                          [
                            1,
                            "#f0f921"
                          ]
                        ],
                        "type": "histogram2dcontour"
                      }
                    ],
                    "mesh3d": [
                      {
                        "colorbar": {
                          "outlinewidth": 0,
                          "ticks": ""
                        },
                        "type": "mesh3d"
                      }
                    ],
                    "parcoords": [
                      {
                        "line": {
                          "colorbar": {
                            "outlinewidth": 0,
                            "ticks": ""
                          }
                        },
                        "type": "parcoords"
                      }
                    ],
                    "pie": [
                      {
                        "automargin": true,
                        "type": "pie"
                      }
                    ],
                    "scatter": [
                      {
                        "fillpattern": {
                          "fillmode": "overlay",
                          "size": 10,
                          "solidity": 0.2
                        },
                        "type": "scatter"
                      }
                    ],
                    "scatter3d": [
                      {
                        "line": {
                          "colorbar": {
                            "outlinewidth": 0,
                            "ticks": ""
                          }
                        },
                        "marker": {
                          "colorbar": {
                            "outlinewidth": 0,
                            "ticks": ""
                          }
                        },
                        "type": "scatter3d"
                      }
                    ],
                    "scattercarpet": [
                      {
                        "marker": {
                          "colorbar": {
                            "outlinewidth": 0,
                            "ticks": ""
                          }
                        },
                        "type": "scattercarpet"
                      }
                    ],
                    "scattergeo": [
                      {
                        "marker": {
                          "colorbar": {
                            "outlinewidth": 0,
                            "ticks": ""
                          }
                        },
                        "type": "scattergeo"
                      }
                    ],
                    "scattergl": [
                      {
                        "marker": {
                          "colorbar": {
                            "outlinewidth": 0,
                            "ticks": ""
                          }
                        },
                        "type": "scattergl"
                      }
                    ],
                    "scattermapbox": [
                      {
                        "marker": {
                          "colorbar": {
                            "outlinewidth": 0,
                            "ticks": ""
                          }
                        },
                        "type": "scattermapbox"
                      }
                    ],
                    "scatterpolar": [
                      {
                        "marker": {
                          "colorbar": {
                            "outlinewidth": 0,
                            "ticks": ""
                          }
                        },
                        "type": "scatterpolar"
                      }
                    ],
                    "scatterpolargl": [
                      {
                        "marker": {
                          "colorbar": {
                            "outlinewidth": 0,
                            "ticks": ""
                          }
                        },
                        "type": "scatterpolargl"
                      }
                    ],
                    "scatterternary": [
                      {
                        "marker": {
                          "colorbar": {
                            "outlinewidth": 0,
                            "ticks": ""
                          }
                        },
                        "type": "scatterternary"
                      }
                    ],
                    "surface": [
                      {
                        "colorbar": {
                          "outlinewidth": 0,
                          "ticks": ""
                        },
                        "colorscale": [
                          [
                            0,
                            "#0d0887"
                          ],
                          [
                            0.1111111111111111,
                            "#46039f"
                          ],
                          [
                            0.2222222222222222,
                            "#7201a8"
                          ],
                          [
                            0.3333333333333333,
                            "#9c179e"
                          ],
                          [
                            0.4444444444444444,
                            "#bd3786"
                          ],
                          [
                            0.5555555555555556,
                            "#d8576b"
                          ],
                          [
                            0.6666666666666666,
                            "#ed7953"
                          ],
                          [
                            0.7777777777777778,
                            "#fb9f3a"
                          ],
                          [
                            0.8888888888888888,
                            "#fdca26"
                          ],
                          [
                            1,
                            "#f0f921"
                          ]
                        ],
                        "type": "surface"
                      }
                    ],
                    "table": [
                      {
                        "cells": {
                          "fill": {
                            "color": "#EBF0F8"
                          },
                          "line": {
                            "color": "white"
                          }
                        },
                        "header": {
                          "fill": {
                            "color": "#C8D4E3"
                          },
                          "line": {
                            "color": "white"
                          }
                        },
                        "type": "table"
                      }
                    ]
                  },
                  "layout": {
                    "annotationdefaults": {
                      "arrowcolor": "#2a3f5f",
                      "arrowhead": 0,
                      "arrowwidth": 1
                    },
                    "autotypenumbers": "strict",
                    "coloraxis": {
                      "colorbar": {
                        "outlinewidth": 0,
                        "ticks": ""
                      }
                    },
                    "colorscale": {
                      "diverging": [
                        [
                          0,
                          "#8e0152"
                        ],
                        [
                          0.1,
                          "#c51b7d"
                        ],
                        [
                          0.2,
                          "#de77ae"
                        ],
                        [
                          0.3,
                          "#f1b6da"
                        ],
                        [
                          0.4,
                          "#fde0ef"
                        ],
                        [
                          0.5,
                          "#f7f7f7"
                        ],
                        [
                          0.6,
                          "#e6f5d0"
                        ],
                        [
                          0.7,
                          "#b8e186"
                        ],
                        [
                          0.8,
                          "#7fbc41"
                        ],
                        [
                          0.9,
                          "#4d9221"
                        ],
                        [
                          1,
                          "#276419"
                        ]
                      ],
                      "sequential": [
                        [
                          0,
                          "#0d0887"
                        ],
                        [
                          0.1111111111111111,
                          "#46039f"
                        ],
                        [
                          0.2222222222222222,
                          "#7201a8"
                        ],
                        [
                          0.3333333333333333,
                          "#9c179e"
                        ],
                        [
                          0.4444444444444444,
                          "#bd3786"
                        ],
                        [
                          0.5555555555555556,
                          "#d8576b"
                        ],
                        [
                          0.6666666666666666,
                          "#ed7953"
                        ],
                        [
                          0.7777777777777778,
                          "#fb9f3a"
                        ],
                        [
                          0.8888888888888888,
                          "#fdca26"
                        ],
                        [
                          1,
                          "#f0f921"
                        ]
                      ],
                      "sequentialminus": [
                        [
                          0,
                          "#0d0887"
                        ],
                        [
                          0.1111111111111111,
                          "#46039f"
                        ],
                        [
                          0.2222222222222222,
                          "#7201a8"
                        ],
                        [
                          0.3333333333333333,
                          "#9c179e"
                        ],
                        [
                          0.4444444444444444,
                          "#bd3786"
                        ],
                        [
                          0.5555555555555556,
                          "#d8576b"
                        ],
                        [
                          0.6666666666666666,
                          "#ed7953"
                        ],
                        [
                          0.7777777777777778,
                          "#fb9f3a"
                        ],
                        [
                          0.8888888888888888,
                          "#fdca26"
                        ],
                        [
                          1,
                          "#f0f921"
                        ]
                      ]
                    },
                    "colorway": [
                      "#636efa",
                      "#EF553B",
                      "#00cc96",
                      "#ab63fa",
                      "#FFA15A",
                      "#19d3f3",
                      "#FF6692",
                      "#B6E880",
                      "#FF97FF",
                      "#FECB52"
                    ],
                    "font": {
                      "color": "#2a3f5f"
                    },
                    "geo": {
                      "bgcolor": "white",
                      "lakecolor": "white",
                      "landcolor": "#E5ECF6",
                      "showlakes": true,
                      "showland": true,
                      "subunitcolor": "white"
                    },
                    "hoverlabel": {
                      "align": "left"
                    },
                    "hovermode": "closest",
                    "mapbox": {
                      "style": "light"
                    },
                    "paper_bgcolor": "white",
                    "plot_bgcolor": "#E5ECF6",
                    "polar": {
                      "angularaxis": {
                        "gridcolor": "white",
                        "linecolor": "white",
                        "ticks": ""
                      },
                      "bgcolor": "#E5ECF6",
                      "radialaxis": {
                        "gridcolor": "white",
                        "linecolor": "white",
                        "ticks": ""
                      }
                    },
                    "scene": {
                      "xaxis": {
                        "backgroundcolor": "#E5ECF6",
                        "gridcolor": "white",
                        "gridwidth": 2,
                        "linecolor": "white",
                        "showbackground": true,
                        "ticks": "",
                        "zerolinecolor": "white"
                      },
                      "yaxis": {
                        "backgroundcolor": "#E5ECF6",
                        "gridcolor": "white",
                        "gridwidth": 2,
                        "linecolor": "white",
                        "showbackground": true,
                        "ticks": "",
                        "zerolinecolor": "white"
                      },
                      "zaxis": {
                        "backgroundcolor": "#E5ECF6",
                        "gridcolor": "white",
                        "gridwidth": 2,
                        "linecolor": "white",
                        "showbackground": true,
                        "ticks": "",
                        "zerolinecolor": "white"
                      }
                    },
                    "shapedefaults": {
                      "line": {
                        "color": "#2a3f5f"
                      }
                    },
                    "ternary": {
                      "aaxis": {
                        "gridcolor": "white",
                        "linecolor": "white",
                        "ticks": ""
                      },
                      "baxis": {
                        "gridcolor": "white",
                        "linecolor": "white",
                        "ticks": ""
                      },
                      "bgcolor": "#E5ECF6",
                      "caxis": {
                        "gridcolor": "white",
                        "linecolor": "white",
                        "ticks": ""
                      }
                    },
                    "title": {
                      "x": 0.05
                    },
                    "xaxis": {
                      "automargin": true,
                      "gridcolor": "white",
                      "linecolor": "white",
                      "ticks": "",
                      "title": {
                        "standoff": 15
                      },
                      "zerolinecolor": "white",
                      "zerolinewidth": 2
                    },
                    "yaxis": {
                      "automargin": true,
                      "gridcolor": "white",
                      "linecolor": "white",
                      "ticks": "",
                      "title": {
                        "standoff": 15
                      },
                      "zerolinecolor": "white",
                      "zerolinewidth": 2
                    }
                  }
                },
                "title": {
                  "text": "Hyperparameter Importances"
                },
                "xaxis": {
                  "title": {
                    "text": "Hyperparameter Importance"
                  }
                },
                "yaxis": {
                  "title": {
                    "text": "Hyperparameter"
                  }
                }
              }
            }
          },
          "metadata": {},
          "output_type": "display_data"
        }
      ],
      "source": [
        "optuna.visualization.plot_param_importances(fmnist_study)"
      ]
    },
    {
      "cell_type": "markdown",
      "metadata": {},
      "source": [
        "Top two hyperparameters in terms of importance. Want to build out a more clear distribution. Seems to maximize around 2 layers deep, with 200 or less nodes in the first layer."
      ]
    },
    {
      "cell_type": "code",
      "execution_count": 43,
      "metadata": {},
      "outputs": [
        {
          "data": {
            "application/vnd.plotly.v1+json": {
              "config": {
                "plotlyServerURL": "https://plot.ly"
              },
              "data": [
                {
                  "marker": {
                    "color": [
                      0,
                      1,
                      2,
                      3,
                      4,
                      11,
                      13,
                      16,
                      18,
                      19,
                      24,
                      36,
                      43
                    ],
                    "colorbar": {
                      "title": {
                        "text": "Trial"
                      },
                      "x": 1,
                      "xpad": 40
                    },
                    "colorscale": [
                      [
                        0,
                        "rgb(247,251,255)"
                      ],
                      [
                        0.125,
                        "rgb(222,235,247)"
                      ],
                      [
                        0.25,
                        "rgb(198,219,239)"
                      ],
                      [
                        0.375,
                        "rgb(158,202,225)"
                      ],
                      [
                        0.5,
                        "rgb(107,174,214)"
                      ],
                      [
                        0.625,
                        "rgb(66,146,198)"
                      ],
                      [
                        0.75,
                        "rgb(33,113,181)"
                      ],
                      [
                        0.875,
                        "rgb(8,81,156)"
                      ],
                      [
                        1,
                        "rgb(8,48,107)"
                      ]
                    ],
                    "line": {
                      "color": "Grey",
                      "width": 0.5
                    },
                    "showscale": true
                  },
                  "mode": "markers",
                  "name": "Feasible Trial",
                  "showlegend": false,
                  "type": "scatter",
                  "x": [
                    "relu",
                    "leaky_relu",
                    "silu",
                    "sigmoid",
                    "gelu",
                    "leaky_relu",
                    "gelu",
                    "gelu",
                    "gelu",
                    "gelu",
                    "gelu",
                    "gelu",
                    "gelu"
                  ],
                  "xaxis": "x",
                  "y": [
                    0.8540833333333333,
                    0.8836666666666667,
                    0.8834166666666666,
                    0.7411666666666666,
                    0.88825,
                    0.8850833333333333,
                    0.8919166666666667,
                    0.89325,
                    0.8816666666666667,
                    0.88675,
                    0.8888333333333334,
                    0.8873333333333333,
                    0.8828333333333334
                  ],
                  "yaxis": "y"
                },
                {
                  "marker": {
                    "color": [
                      0,
                      1,
                      2,
                      3,
                      11
                    ],
                    "colorbar": {
                      "title": {
                        "text": "Trial"
                      },
                      "x": 1,
                      "xpad": 40
                    },
                    "colorscale": [
                      [
                        0,
                        "rgb(247,251,255)"
                      ],
                      [
                        0.125,
                        "rgb(222,235,247)"
                      ],
                      [
                        0.25,
                        "rgb(198,219,239)"
                      ],
                      [
                        0.375,
                        "rgb(158,202,225)"
                      ],
                      [
                        0.5,
                        "rgb(107,174,214)"
                      ],
                      [
                        0.625,
                        "rgb(66,146,198)"
                      ],
                      [
                        0.75,
                        "rgb(33,113,181)"
                      ],
                      [
                        0.875,
                        "rgb(8,81,156)"
                      ],
                      [
                        1,
                        "rgb(8,48,107)"
                      ]
                    ],
                    "line": {
                      "color": "Grey",
                      "width": 0.5
                    },
                    "showscale": false
                  },
                  "mode": "markers",
                  "name": "Feasible Trial",
                  "showlegend": false,
                  "type": "scatter",
                  "x": [
                    "tanh",
                    "gelu",
                    "relu",
                    "relu",
                    "tanh"
                  ],
                  "xaxis": "x2",
                  "y": [
                    0.8540833333333333,
                    0.8836666666666667,
                    0.8834166666666666,
                    0.7411666666666666,
                    0.8850833333333333
                  ],
                  "yaxis": "y2"
                },
                {
                  "marker": {
                    "color": [
                      2,
                      3
                    ],
                    "colorbar": {
                      "title": {
                        "text": "Trial"
                      },
                      "x": 1,
                      "xpad": 40
                    },
                    "colorscale": [
                      [
                        0,
                        "rgb(247,251,255)"
                      ],
                      [
                        0.125,
                        "rgb(222,235,247)"
                      ],
                      [
                        0.25,
                        "rgb(198,219,239)"
                      ],
                      [
                        0.375,
                        "rgb(158,202,225)"
                      ],
                      [
                        0.5,
                        "rgb(107,174,214)"
                      ],
                      [
                        0.625,
                        "rgb(66,146,198)"
                      ],
                      [
                        0.75,
                        "rgb(33,113,181)"
                      ],
                      [
                        0.875,
                        "rgb(8,81,156)"
                      ],
                      [
                        1,
                        "rgb(8,48,107)"
                      ]
                    ],
                    "line": {
                      "color": "Grey",
                      "width": 0.5
                    },
                    "showscale": false
                  },
                  "mode": "markers",
                  "name": "Feasible Trial",
                  "showlegend": false,
                  "type": "scatter",
                  "x": [
                    "silu",
                    "sigmoid"
                  ],
                  "xaxis": "x3",
                  "y": [
                    0.8834166666666666,
                    0.7411666666666666
                  ],
                  "yaxis": "y3"
                },
                {
                  "marker": {
                    "color": [
                      0,
                      1,
                      2,
                      3,
                      4,
                      11,
                      13,
                      16,
                      18,
                      19,
                      24,
                      36,
                      43
                    ],
                    "colorbar": {
                      "title": {
                        "text": "Trial"
                      },
                      "x": 1,
                      "xpad": 40
                    },
                    "colorscale": [
                      [
                        0,
                        "rgb(247,251,255)"
                      ],
                      [
                        0.125,
                        "rgb(222,235,247)"
                      ],
                      [
                        0.25,
                        "rgb(198,219,239)"
                      ],
                      [
                        0.375,
                        "rgb(158,202,225)"
                      ],
                      [
                        0.5,
                        "rgb(107,174,214)"
                      ],
                      [
                        0.625,
                        "rgb(66,146,198)"
                      ],
                      [
                        0.75,
                        "rgb(33,113,181)"
                      ],
                      [
                        0.875,
                        "rgb(8,81,156)"
                      ],
                      [
                        1,
                        "rgb(8,48,107)"
                      ]
                    ],
                    "line": {
                      "color": "Grey",
                      "width": 0.5
                    },
                    "showscale": false
                  },
                  "mode": "markers",
                  "name": "Feasible Trial",
                  "showlegend": false,
                  "type": "scatter",
                  "x": [
                    64,
                    128,
                    128,
                    64,
                    64,
                    128,
                    32,
                    32,
                    32,
                    32,
                    32,
                    64,
                    32
                  ],
                  "xaxis": "x4",
                  "y": [
                    0.8540833333333333,
                    0.8836666666666667,
                    0.8834166666666666,
                    0.7411666666666666,
                    0.88825,
                    0.8850833333333333,
                    0.8919166666666667,
                    0.89325,
                    0.8816666666666667,
                    0.88675,
                    0.8888333333333334,
                    0.8873333333333333,
                    0.8828333333333334
                  ],
                  "yaxis": "y4"
                },
                {
                  "marker": {
                    "color": [
                      0,
                      1,
                      2,
                      3,
                      4,
                      11,
                      13,
                      16,
                      18,
                      19,
                      24,
                      36,
                      43
                    ],
                    "colorbar": {
                      "title": {
                        "text": "Trial"
                      },
                      "x": 1,
                      "xpad": 40
                    },
                    "colorscale": [
                      [
                        0,
                        "rgb(247,251,255)"
                      ],
                      [
                        0.125,
                        "rgb(222,235,247)"
                      ],
                      [
                        0.25,
                        "rgb(198,219,239)"
                      ],
                      [
                        0.375,
                        "rgb(158,202,225)"
                      ],
                      [
                        0.5,
                        "rgb(107,174,214)"
                      ],
                      [
                        0.625,
                        "rgb(66,146,198)"
                      ],
                      [
                        0.75,
                        "rgb(33,113,181)"
                      ],
                      [
                        0.875,
                        "rgb(8,81,156)"
                      ],
                      [
                        1,
                        "rgb(8,48,107)"
                      ]
                    ],
                    "line": {
                      "color": "Grey",
                      "width": 0.5
                    },
                    "showscale": false
                  },
                  "mode": "markers",
                  "name": "Feasible Trial",
                  "showlegend": false,
                  "type": "scatter",
                  "x": [
                    512,
                    64,
                    128,
                    64,
                    128,
                    256,
                    128,
                    128,
                    128,
                    128,
                    128,
                    128,
                    128
                  ],
                  "xaxis": "x5",
                  "y": [
                    0.8540833333333333,
                    0.8836666666666667,
                    0.8834166666666666,
                    0.7411666666666666,
                    0.88825,
                    0.8850833333333333,
                    0.8919166666666667,
                    0.89325,
                    0.8816666666666667,
                    0.88675,
                    0.8888333333333334,
                    0.8873333333333333,
                    0.8828333333333334
                  ],
                  "yaxis": "y5"
                },
                {
                  "marker": {
                    "color": [
                      0,
                      1,
                      2,
                      3,
                      11
                    ],
                    "colorbar": {
                      "title": {
                        "text": "Trial"
                      },
                      "x": 1,
                      "xpad": 40
                    },
                    "colorscale": [
                      [
                        0,
                        "rgb(247,251,255)"
                      ],
                      [
                        0.125,
                        "rgb(222,235,247)"
                      ],
                      [
                        0.25,
                        "rgb(198,219,239)"
                      ],
                      [
                        0.375,
                        "rgb(158,202,225)"
                      ],
                      [
                        0.5,
                        "rgb(107,174,214)"
                      ],
                      [
                        0.625,
                        "rgb(66,146,198)"
                      ],
                      [
                        0.75,
                        "rgb(33,113,181)"
                      ],
                      [
                        0.875,
                        "rgb(8,81,156)"
                      ],
                      [
                        1,
                        "rgb(8,48,107)"
                      ]
                    ],
                    "line": {
                      "color": "Grey",
                      "width": 0.5
                    },
                    "showscale": false
                  },
                  "mode": "markers",
                  "name": "Feasible Trial",
                  "showlegend": false,
                  "type": "scatter",
                  "x": [
                    256,
                    64,
                    64,
                    256,
                    256
                  ],
                  "xaxis": "x6",
                  "y": [
                    0.8540833333333333,
                    0.8836666666666667,
                    0.8834166666666666,
                    0.7411666666666666,
                    0.8850833333333333
                  ],
                  "yaxis": "y6"
                },
                {
                  "marker": {
                    "color": [
                      2,
                      3
                    ],
                    "colorbar": {
                      "title": {
                        "text": "Trial"
                      },
                      "x": 1,
                      "xpad": 40
                    },
                    "colorscale": [
                      [
                        0,
                        "rgb(247,251,255)"
                      ],
                      [
                        0.125,
                        "rgb(222,235,247)"
                      ],
                      [
                        0.25,
                        "rgb(198,219,239)"
                      ],
                      [
                        0.375,
                        "rgb(158,202,225)"
                      ],
                      [
                        0.5,
                        "rgb(107,174,214)"
                      ],
                      [
                        0.625,
                        "rgb(66,146,198)"
                      ],
                      [
                        0.75,
                        "rgb(33,113,181)"
                      ],
                      [
                        0.875,
                        "rgb(8,81,156)"
                      ],
                      [
                        1,
                        "rgb(8,48,107)"
                      ]
                    ],
                    "line": {
                      "color": "Grey",
                      "width": 0.5
                    },
                    "showscale": false
                  },
                  "mode": "markers",
                  "name": "Feasible Trial",
                  "showlegend": false,
                  "type": "scatter",
                  "x": [
                    128,
                    32
                  ],
                  "xaxis": "x7",
                  "y": [
                    0.8834166666666666,
                    0.7411666666666666
                  ],
                  "yaxis": "y7"
                },
                {
                  "marker": {
                    "color": [
                      0,
                      1,
                      2,
                      3,
                      4,
                      11,
                      13,
                      16,
                      18,
                      19,
                      24,
                      36,
                      43
                    ],
                    "colorbar": {
                      "title": {
                        "text": "Trial"
                      },
                      "x": 1,
                      "xpad": 40
                    },
                    "colorscale": [
                      [
                        0,
                        "rgb(247,251,255)"
                      ],
                      [
                        0.125,
                        "rgb(222,235,247)"
                      ],
                      [
                        0.25,
                        "rgb(198,219,239)"
                      ],
                      [
                        0.375,
                        "rgb(158,202,225)"
                      ],
                      [
                        0.5,
                        "rgb(107,174,214)"
                      ],
                      [
                        0.625,
                        "rgb(66,146,198)"
                      ],
                      [
                        0.75,
                        "rgb(33,113,181)"
                      ],
                      [
                        0.875,
                        "rgb(8,81,156)"
                      ],
                      [
                        1,
                        "rgb(8,48,107)"
                      ]
                    ],
                    "line": {
                      "color": "Grey",
                      "width": 0.5
                    },
                    "showscale": false
                  },
                  "mode": "markers",
                  "name": "Feasible Trial",
                  "showlegend": false,
                  "type": "scatter",
                  "x": [
                    2,
                    2,
                    3,
                    3,
                    1,
                    2,
                    1,
                    1,
                    1,
                    1,
                    1,
                    1,
                    1
                  ],
                  "xaxis": "x8",
                  "y": [
                    0.8540833333333333,
                    0.8836666666666667,
                    0.8834166666666666,
                    0.7411666666666666,
                    0.88825,
                    0.8850833333333333,
                    0.8919166666666667,
                    0.89325,
                    0.8816666666666667,
                    0.88675,
                    0.8888333333333334,
                    0.8873333333333333,
                    0.8828333333333334
                  ],
                  "yaxis": "y8"
                },
                {
                  "marker": {
                    "color": [
                      0,
                      1,
                      2,
                      3,
                      4,
                      11,
                      13,
                      16,
                      18,
                      19,
                      24,
                      36,
                      43
                    ],
                    "colorbar": {
                      "title": {
                        "text": "Trial"
                      },
                      "x": 1,
                      "xpad": 40
                    },
                    "colorscale": [
                      [
                        0,
                        "rgb(247,251,255)"
                      ],
                      [
                        0.125,
                        "rgb(222,235,247)"
                      ],
                      [
                        0.25,
                        "rgb(198,219,239)"
                      ],
                      [
                        0.375,
                        "rgb(158,202,225)"
                      ],
                      [
                        0.5,
                        "rgb(107,174,214)"
                      ],
                      [
                        0.625,
                        "rgb(66,146,198)"
                      ],
                      [
                        0.75,
                        "rgb(33,113,181)"
                      ],
                      [
                        0.875,
                        "rgb(8,81,156)"
                      ],
                      [
                        1,
                        "rgb(8,48,107)"
                      ]
                    ],
                    "line": {
                      "color": "Grey",
                      "width": 0.5
                    },
                    "showscale": false
                  },
                  "mode": "markers",
                  "name": "Feasible Trial",
                  "showlegend": false,
                  "type": "scatter",
                  "x": [
                    "SGD",
                    "Adam",
                    "RMSprop",
                    "SGD",
                    "RMSprop",
                    "RMSprop",
                    "RMSprop",
                    "RMSprop",
                    "RMSprop",
                    "RMSprop",
                    "RMSprop",
                    "RMSprop",
                    "RMSprop"
                  ],
                  "xaxis": "x9",
                  "y": [
                    0.8540833333333333,
                    0.8836666666666667,
                    0.8834166666666666,
                    0.7411666666666666,
                    0.88825,
                    0.8850833333333333,
                    0.8919166666666667,
                    0.89325,
                    0.8816666666666667,
                    0.88675,
                    0.8888333333333334,
                    0.8873333333333333,
                    0.8828333333333334
                  ],
                  "yaxis": "y9"
                }
              ],
              "layout": {
                "template": {
                  "data": {
                    "bar": [
                      {
                        "error_x": {
                          "color": "#2a3f5f"
                        },
                        "error_y": {
                          "color": "#2a3f5f"
                        },
                        "marker": {
                          "line": {
                            "color": "#E5ECF6",
                            "width": 0.5
                          },
                          "pattern": {
                            "fillmode": "overlay",
                            "size": 10,
                            "solidity": 0.2
                          }
                        },
                        "type": "bar"
                      }
                    ],
                    "barpolar": [
                      {
                        "marker": {
                          "line": {
                            "color": "#E5ECF6",
                            "width": 0.5
                          },
                          "pattern": {
                            "fillmode": "overlay",
                            "size": 10,
                            "solidity": 0.2
                          }
                        },
                        "type": "barpolar"
                      }
                    ],
                    "carpet": [
                      {
                        "aaxis": {
                          "endlinecolor": "#2a3f5f",
                          "gridcolor": "white",
                          "linecolor": "white",
                          "minorgridcolor": "white",
                          "startlinecolor": "#2a3f5f"
                        },
                        "baxis": {
                          "endlinecolor": "#2a3f5f",
                          "gridcolor": "white",
                          "linecolor": "white",
                          "minorgridcolor": "white",
                          "startlinecolor": "#2a3f5f"
                        },
                        "type": "carpet"
                      }
                    ],
                    "choropleth": [
                      {
                        "colorbar": {
                          "outlinewidth": 0,
                          "ticks": ""
                        },
                        "type": "choropleth"
                      }
                    ],
                    "contour": [
                      {
                        "colorbar": {
                          "outlinewidth": 0,
                          "ticks": ""
                        },
                        "colorscale": [
                          [
                            0,
                            "#0d0887"
                          ],
                          [
                            0.1111111111111111,
                            "#46039f"
                          ],
                          [
                            0.2222222222222222,
                            "#7201a8"
                          ],
                          [
                            0.3333333333333333,
                            "#9c179e"
                          ],
                          [
                            0.4444444444444444,
                            "#bd3786"
                          ],
                          [
                            0.5555555555555556,
                            "#d8576b"
                          ],
                          [
                            0.6666666666666666,
                            "#ed7953"
                          ],
                          [
                            0.7777777777777778,
                            "#fb9f3a"
                          ],
                          [
                            0.8888888888888888,
                            "#fdca26"
                          ],
                          [
                            1,
                            "#f0f921"
                          ]
                        ],
                        "type": "contour"
                      }
                    ],
                    "contourcarpet": [
                      {
                        "colorbar": {
                          "outlinewidth": 0,
                          "ticks": ""
                        },
                        "type": "contourcarpet"
                      }
                    ],
                    "heatmap": [
                      {
                        "colorbar": {
                          "outlinewidth": 0,
                          "ticks": ""
                        },
                        "colorscale": [
                          [
                            0,
                            "#0d0887"
                          ],
                          [
                            0.1111111111111111,
                            "#46039f"
                          ],
                          [
                            0.2222222222222222,
                            "#7201a8"
                          ],
                          [
                            0.3333333333333333,
                            "#9c179e"
                          ],
                          [
                            0.4444444444444444,
                            "#bd3786"
                          ],
                          [
                            0.5555555555555556,
                            "#d8576b"
                          ],
                          [
                            0.6666666666666666,
                            "#ed7953"
                          ],
                          [
                            0.7777777777777778,
                            "#fb9f3a"
                          ],
                          [
                            0.8888888888888888,
                            "#fdca26"
                          ],
                          [
                            1,
                            "#f0f921"
                          ]
                        ],
                        "type": "heatmap"
                      }
                    ],
                    "heatmapgl": [
                      {
                        "colorbar": {
                          "outlinewidth": 0,
                          "ticks": ""
                        },
                        "colorscale": [
                          [
                            0,
                            "#0d0887"
                          ],
                          [
                            0.1111111111111111,
                            "#46039f"
                          ],
                          [
                            0.2222222222222222,
                            "#7201a8"
                          ],
                          [
                            0.3333333333333333,
                            "#9c179e"
                          ],
                          [
                            0.4444444444444444,
                            "#bd3786"
                          ],
                          [
                            0.5555555555555556,
                            "#d8576b"
                          ],
                          [
                            0.6666666666666666,
                            "#ed7953"
                          ],
                          [
                            0.7777777777777778,
                            "#fb9f3a"
                          ],
                          [
                            0.8888888888888888,
                            "#fdca26"
                          ],
                          [
                            1,
                            "#f0f921"
                          ]
                        ],
                        "type": "heatmapgl"
                      }
                    ],
                    "histogram": [
                      {
                        "marker": {
                          "pattern": {
                            "fillmode": "overlay",
                            "size": 10,
                            "solidity": 0.2
                          }
                        },
                        "type": "histogram"
                      }
                    ],
                    "histogram2d": [
                      {
                        "colorbar": {
                          "outlinewidth": 0,
                          "ticks": ""
                        },
                        "colorscale": [
                          [
                            0,
                            "#0d0887"
                          ],
                          [
                            0.1111111111111111,
                            "#46039f"
                          ],
                          [
                            0.2222222222222222,
                            "#7201a8"
                          ],
                          [
                            0.3333333333333333,
                            "#9c179e"
                          ],
                          [
                            0.4444444444444444,
                            "#bd3786"
                          ],
                          [
                            0.5555555555555556,
                            "#d8576b"
                          ],
                          [
                            0.6666666666666666,
                            "#ed7953"
                          ],
                          [
                            0.7777777777777778,
                            "#fb9f3a"
                          ],
                          [
                            0.8888888888888888,
                            "#fdca26"
                          ],
                          [
                            1,
                            "#f0f921"
                          ]
                        ],
                        "type": "histogram2d"
                      }
                    ],
                    "histogram2dcontour": [
                      {
                        "colorbar": {
                          "outlinewidth": 0,
                          "ticks": ""
                        },
                        "colorscale": [
                          [
                            0,
                            "#0d0887"
                          ],
                          [
                            0.1111111111111111,
                            "#46039f"
                          ],
                          [
                            0.2222222222222222,
                            "#7201a8"
                          ],
                          [
                            0.3333333333333333,
                            "#9c179e"
                          ],
                          [
                            0.4444444444444444,
                            "#bd3786"
                          ],
                          [
                            0.5555555555555556,
                            "#d8576b"
                          ],
                          [
                            0.6666666666666666,
                            "#ed7953"
                          ],
                          [
                            0.7777777777777778,
                            "#fb9f3a"
                          ],
                          [
                            0.8888888888888888,
                            "#fdca26"
                          ],
                          [
                            1,
                            "#f0f921"
                          ]
                        ],
                        "type": "histogram2dcontour"
                      }
                    ],
                    "mesh3d": [
                      {
                        "colorbar": {
                          "outlinewidth": 0,
                          "ticks": ""
                        },
                        "type": "mesh3d"
                      }
                    ],
                    "parcoords": [
                      {
                        "line": {
                          "colorbar": {
                            "outlinewidth": 0,
                            "ticks": ""
                          }
                        },
                        "type": "parcoords"
                      }
                    ],
                    "pie": [
                      {
                        "automargin": true,
                        "type": "pie"
                      }
                    ],
                    "scatter": [
                      {
                        "fillpattern": {
                          "fillmode": "overlay",
                          "size": 10,
                          "solidity": 0.2
                        },
                        "type": "scatter"
                      }
                    ],
                    "scatter3d": [
                      {
                        "line": {
                          "colorbar": {
                            "outlinewidth": 0,
                            "ticks": ""
                          }
                        },
                        "marker": {
                          "colorbar": {
                            "outlinewidth": 0,
                            "ticks": ""
                          }
                        },
                        "type": "scatter3d"
                      }
                    ],
                    "scattercarpet": [
                      {
                        "marker": {
                          "colorbar": {
                            "outlinewidth": 0,
                            "ticks": ""
                          }
                        },
                        "type": "scattercarpet"
                      }
                    ],
                    "scattergeo": [
                      {
                        "marker": {
                          "colorbar": {
                            "outlinewidth": 0,
                            "ticks": ""
                          }
                        },
                        "type": "scattergeo"
                      }
                    ],
                    "scattergl": [
                      {
                        "marker": {
                          "colorbar": {
                            "outlinewidth": 0,
                            "ticks": ""
                          }
                        },
                        "type": "scattergl"
                      }
                    ],
                    "scattermapbox": [
                      {
                        "marker": {
                          "colorbar": {
                            "outlinewidth": 0,
                            "ticks": ""
                          }
                        },
                        "type": "scattermapbox"
                      }
                    ],
                    "scatterpolar": [
                      {
                        "marker": {
                          "colorbar": {
                            "outlinewidth": 0,
                            "ticks": ""
                          }
                        },
                        "type": "scatterpolar"
                      }
                    ],
                    "scatterpolargl": [
                      {
                        "marker": {
                          "colorbar": {
                            "outlinewidth": 0,
                            "ticks": ""
                          }
                        },
                        "type": "scatterpolargl"
                      }
                    ],
                    "scatterternary": [
                      {
                        "marker": {
                          "colorbar": {
                            "outlinewidth": 0,
                            "ticks": ""
                          }
                        },
                        "type": "scatterternary"
                      }
                    ],
                    "surface": [
                      {
                        "colorbar": {
                          "outlinewidth": 0,
                          "ticks": ""
                        },
                        "colorscale": [
                          [
                            0,
                            "#0d0887"
                          ],
                          [
                            0.1111111111111111,
                            "#46039f"
                          ],
                          [
                            0.2222222222222222,
                            "#7201a8"
                          ],
                          [
                            0.3333333333333333,
                            "#9c179e"
                          ],
                          [
                            0.4444444444444444,
                            "#bd3786"
                          ],
                          [
                            0.5555555555555556,
                            "#d8576b"
                          ],
                          [
                            0.6666666666666666,
                            "#ed7953"
                          ],
                          [
                            0.7777777777777778,
                            "#fb9f3a"
                          ],
                          [
                            0.8888888888888888,
                            "#fdca26"
                          ],
                          [
                            1,
                            "#f0f921"
                          ]
                        ],
                        "type": "surface"
                      }
                    ],
                    "table": [
                      {
                        "cells": {
                          "fill": {
                            "color": "#EBF0F8"
                          },
                          "line": {
                            "color": "white"
                          }
                        },
                        "header": {
                          "fill": {
                            "color": "#C8D4E3"
                          },
                          "line": {
                            "color": "white"
                          }
                        },
                        "type": "table"
                      }
                    ]
                  },
                  "layout": {
                    "annotationdefaults": {
                      "arrowcolor": "#2a3f5f",
                      "arrowhead": 0,
                      "arrowwidth": 1
                    },
                    "autotypenumbers": "strict",
                    "coloraxis": {
                      "colorbar": {
                        "outlinewidth": 0,
                        "ticks": ""
                      }
                    },
                    "colorscale": {
                      "diverging": [
                        [
                          0,
                          "#8e0152"
                        ],
                        [
                          0.1,
                          "#c51b7d"
                        ],
                        [
                          0.2,
                          "#de77ae"
                        ],
                        [
                          0.3,
                          "#f1b6da"
                        ],
                        [
                          0.4,
                          "#fde0ef"
                        ],
                        [
                          0.5,
                          "#f7f7f7"
                        ],
                        [
                          0.6,
                          "#e6f5d0"
                        ],
                        [
                          0.7,
                          "#b8e186"
                        ],
                        [
                          0.8,
                          "#7fbc41"
                        ],
                        [
                          0.9,
                          "#4d9221"
                        ],
                        [
                          1,
                          "#276419"
                        ]
                      ],
                      "sequential": [
                        [
                          0,
                          "#0d0887"
                        ],
                        [
                          0.1111111111111111,
                          "#46039f"
                        ],
                        [
                          0.2222222222222222,
                          "#7201a8"
                        ],
                        [
                          0.3333333333333333,
                          "#9c179e"
                        ],
                        [
                          0.4444444444444444,
                          "#bd3786"
                        ],
                        [
                          0.5555555555555556,
                          "#d8576b"
                        ],
                        [
                          0.6666666666666666,
                          "#ed7953"
                        ],
                        [
                          0.7777777777777778,
                          "#fb9f3a"
                        ],
                        [
                          0.8888888888888888,
                          "#fdca26"
                        ],
                        [
                          1,
                          "#f0f921"
                        ]
                      ],
                      "sequentialminus": [
                        [
                          0,
                          "#0d0887"
                        ],
                        [
                          0.1111111111111111,
                          "#46039f"
                        ],
                        [
                          0.2222222222222222,
                          "#7201a8"
                        ],
                        [
                          0.3333333333333333,
                          "#9c179e"
                        ],
                        [
                          0.4444444444444444,
                          "#bd3786"
                        ],
                        [
                          0.5555555555555556,
                          "#d8576b"
                        ],
                        [
                          0.6666666666666666,
                          "#ed7953"
                        ],
                        [
                          0.7777777777777778,
                          "#fb9f3a"
                        ],
                        [
                          0.8888888888888888,
                          "#fdca26"
                        ],
                        [
                          1,
                          "#f0f921"
                        ]
                      ]
                    },
                    "colorway": [
                      "#636efa",
                      "#EF553B",
                      "#00cc96",
                      "#ab63fa",
                      "#FFA15A",
                      "#19d3f3",
                      "#FF6692",
                      "#B6E880",
                      "#FF97FF",
                      "#FECB52"
                    ],
                    "font": {
                      "color": "#2a3f5f"
                    },
                    "geo": {
                      "bgcolor": "white",
                      "lakecolor": "white",
                      "landcolor": "#E5ECF6",
                      "showlakes": true,
                      "showland": true,
                      "subunitcolor": "white"
                    },
                    "hoverlabel": {
                      "align": "left"
                    },
                    "hovermode": "closest",
                    "mapbox": {
                      "style": "light"
                    },
                    "paper_bgcolor": "white",
                    "plot_bgcolor": "#E5ECF6",
                    "polar": {
                      "angularaxis": {
                        "gridcolor": "white",
                        "linecolor": "white",
                        "ticks": ""
                      },
                      "bgcolor": "#E5ECF6",
                      "radialaxis": {
                        "gridcolor": "white",
                        "linecolor": "white",
                        "ticks": ""
                      }
                    },
                    "scene": {
                      "xaxis": {
                        "backgroundcolor": "#E5ECF6",
                        "gridcolor": "white",
                        "gridwidth": 2,
                        "linecolor": "white",
                        "showbackground": true,
                        "ticks": "",
                        "zerolinecolor": "white"
                      },
                      "yaxis": {
                        "backgroundcolor": "#E5ECF6",
                        "gridcolor": "white",
                        "gridwidth": 2,
                        "linecolor": "white",
                        "showbackground": true,
                        "ticks": "",
                        "zerolinecolor": "white"
                      },
                      "zaxis": {
                        "backgroundcolor": "#E5ECF6",
                        "gridcolor": "white",
                        "gridwidth": 2,
                        "linecolor": "white",
                        "showbackground": true,
                        "ticks": "",
                        "zerolinecolor": "white"
                      }
                    },
                    "shapedefaults": {
                      "line": {
                        "color": "#2a3f5f"
                      }
                    },
                    "ternary": {
                      "aaxis": {
                        "gridcolor": "white",
                        "linecolor": "white",
                        "ticks": ""
                      },
                      "baxis": {
                        "gridcolor": "white",
                        "linecolor": "white",
                        "ticks": ""
                      },
                      "bgcolor": "#E5ECF6",
                      "caxis": {
                        "gridcolor": "white",
                        "linecolor": "white",
                        "ticks": ""
                      }
                    },
                    "title": {
                      "x": 0.05
                    },
                    "xaxis": {
                      "automargin": true,
                      "gridcolor": "white",
                      "linecolor": "white",
                      "ticks": "",
                      "title": {
                        "standoff": 15
                      },
                      "zerolinecolor": "white",
                      "zerolinewidth": 2
                    },
                    "yaxis": {
                      "automargin": true,
                      "gridcolor": "white",
                      "linecolor": "white",
                      "ticks": "",
                      "title": {
                        "standoff": 15
                      },
                      "zerolinecolor": "white",
                      "zerolinewidth": 2
                    }
                  }
                },
                "title": {
                  "text": "Slice Plot"
                },
                "width": 2700,
                "xaxis": {
                  "anchor": "y",
                  "categoryarray": [
                    "relu",
                    "sigmoid",
                    "tanh",
                    "gelu",
                    "leaky_relu",
                    "silu"
                  ],
                  "categoryorder": "array",
                  "domain": [
                    0,
                    0.09135802469135802
                  ],
                  "title": {
                    "text": "activation_0"
                  },
                  "type": "category"
                },
                "xaxis2": {
                  "anchor": "y2",
                  "categoryarray": [
                    "relu",
                    "sigmoid",
                    "tanh",
                    "gelu",
                    "leaky_relu",
                    "silu"
                  ],
                  "categoryorder": "array",
                  "domain": [
                    0.11358024691358025,
                    0.20493827160493827
                  ],
                  "title": {
                    "text": "activation_1"
                  },
                  "type": "category"
                },
                "xaxis3": {
                  "anchor": "y3",
                  "categoryarray": [
                    "relu",
                    "sigmoid",
                    "tanh",
                    "gelu",
                    "leaky_relu",
                    "silu"
                  ],
                  "categoryorder": "array",
                  "domain": [
                    0.2271604938271605,
                    0.31851851851851853
                  ],
                  "title": {
                    "text": "activation_2"
                  },
                  "type": "category"
                },
                "xaxis4": {
                  "anchor": "y4",
                  "categoryarray": [
                    32,
                    64,
                    128
                  ],
                  "categoryorder": "array",
                  "domain": [
                    0.34074074074074073,
                    0.43209876543209874
                  ],
                  "title": {
                    "text": "batch_size"
                  },
                  "type": "category"
                },
                "xaxis5": {
                  "anchor": "y5",
                  "categoryarray": [
                    16,
                    32,
                    64,
                    128,
                    256,
                    512
                  ],
                  "categoryorder": "array",
                  "domain": [
                    0.454320987654321,
                    0.5456790123456791
                  ],
                  "title": {
                    "text": "layer_size_0"
                  },
                  "type": "category"
                },
                "xaxis6": {
                  "anchor": "y6",
                  "categoryarray": [
                    16,
                    32,
                    64,
                    128,
                    256,
                    512
                  ],
                  "categoryorder": "array",
                  "domain": [
                    0.5679012345679012,
                    0.6592592592592592
                  ],
                  "title": {
                    "text": "layer_size_1"
                  },
                  "type": "category"
                },
                "xaxis7": {
                  "anchor": "y7",
                  "categoryarray": [
                    16,
                    32,
                    64,
                    128,
                    256,
                    512
                  ],
                  "categoryorder": "array",
                  "domain": [
                    0.6814814814814815,
                    0.7728395061728395
                  ],
                  "title": {
                    "text": "layer_size_2"
                  },
                  "type": "category"
                },
                "xaxis8": {
                  "anchor": "y8",
                  "domain": [
                    0.7950617283950617,
                    0.8864197530864197
                  ],
                  "title": {
                    "text": "num_layers"
                  }
                },
                "xaxis9": {
                  "anchor": "y9",
                  "categoryarray": [
                    "SGD",
                    "Adam",
                    "RMSprop"
                  ],
                  "categoryorder": "array",
                  "domain": [
                    0.908641975308642,
                    1
                  ],
                  "title": {
                    "text": "optimizer"
                  },
                  "type": "category"
                },
                "yaxis": {
                  "anchor": "x",
                  "domain": [
                    0,
                    1
                  ],
                  "title": {
                    "text": "Objective Value"
                  }
                },
                "yaxis2": {
                  "anchor": "x2",
                  "domain": [
                    0,
                    1
                  ],
                  "matches": "y",
                  "showticklabels": false
                },
                "yaxis3": {
                  "anchor": "x3",
                  "domain": [
                    0,
                    1
                  ],
                  "matches": "y",
                  "showticklabels": false
                },
                "yaxis4": {
                  "anchor": "x4",
                  "domain": [
                    0,
                    1
                  ],
                  "matches": "y",
                  "showticklabels": false
                },
                "yaxis5": {
                  "anchor": "x5",
                  "domain": [
                    0,
                    1
                  ],
                  "matches": "y",
                  "showticklabels": false
                },
                "yaxis6": {
                  "anchor": "x6",
                  "domain": [
                    0,
                    1
                  ],
                  "matches": "y",
                  "showticklabels": false
                },
                "yaxis7": {
                  "anchor": "x7",
                  "domain": [
                    0,
                    1
                  ],
                  "matches": "y",
                  "showticklabels": false
                },
                "yaxis8": {
                  "anchor": "x8",
                  "domain": [
                    0,
                    1
                  ],
                  "matches": "y",
                  "showticklabels": false
                },
                "yaxis9": {
                  "anchor": "x9",
                  "domain": [
                    0,
                    1
                  ],
                  "matches": "y",
                  "showticklabels": false
                }
              }
            }
          },
          "metadata": {},
          "output_type": "display_data"
        }
      ],
      "source": [
        "# plot value vs num layers\n",
        "optuna.visualization.plot_slice(fmnist_study)"
      ]
    },
    {
      "cell_type": "code",
      "execution_count": 70,
      "metadata": {},
      "outputs": [],
      "source": [
        "fmnist_trial_df.to_csv('fmnist_trial_data.csv', index=False)"
      ]
    },
    {
      "cell_type": "code",
      "execution_count": 44,
      "metadata": {},
      "outputs": [],
      "source": [
        "def new_objective(trial):\n",
        "    # Suggest hyperparameters\n",
        "    num_layers = trial.suggest_int('num_layers', 2, 5)\n",
        "    layer_sizes = []\n",
        "    activation_functions = []\n",
        "    activations = {\n",
        "        'relu': nn.ReLU(),\n",
        "        'sigmoid': nn.Sigmoid(),\n",
        "        'tanh': nn.Tanh(),\n",
        "        'gelu': nn.GELU(),\n",
        "        'leaky_relu': nn.LeakyReLU(),\n",
        "        'silu': nn.SiLU(),\n",
        "    }\n",
        "\n",
        "    for i in range(num_layers):\n",
        "        layer_size = trial.suggest_categorical(f'layer_size_{i}', [32, 64, 128, 256, 512, 784])\n",
        "        activation_name = trial.suggest_categorical(f'activation_{i}', ['relu', 'sigmoid', 'tanh', 'gelu', 'leaky_relu', 'silu'])\n",
        "        layer_sizes.append(layer_size)\n",
        "        activation_functions.append(activations[activation_name])\n",
        "\n",
        "    # Suggest learning rate\n",
        "    lr = trial.suggest_float('lr', 1e-5, 1e-1, log=True)\n",
        "\n",
        "    # Initialize the model\n",
        "    model = MLP(layer_sizes, activation_functions)\n",
        "    criterion = nn.CrossEntropyLoss()\n",
        "\n",
        "    optimizer = optim.RMSprop(model.parameters(), lr=lr, weight_decay=1e-4)\n",
        "\n",
        "    # Data loaders with suggested batch size\n",
        "    train_loader = DataLoader(train_subset, batch_size=32, shuffle=True)\n",
        "    val_loader = DataLoader(val_subset, batch_size=32, shuffle=False)\n",
        "\n",
        "    # Training loop\n",
        "    num_epochs = 20\n",
        "    for epoch in range(num_epochs):\n",
        "        model.train()\n",
        "        for images, labels in train_loader:\n",
        "            optimizer.zero_grad()\n",
        "            outputs = model(images)\n",
        "            loss = criterion(outputs, labels)\n",
        "            loss.backward()\n",
        "            optimizer.step()\n",
        "\n",
        "        # Validation at the end of each epoch\n",
        "        model.eval()\n",
        "        correct = 0\n",
        "        total = 0\n",
        "        val_loss = 0.0\n",
        "        with torch.no_grad():\n",
        "            for images, labels in val_loader:\n",
        "                outputs = model(images)\n",
        "                loss = criterion(outputs, labels)\n",
        "                val_loss += loss.item()\n",
        "                _, predicted = torch.max(outputs.data, 1)\n",
        "                total += labels.size(0)\n",
        "                correct += (predicted == labels).sum().item()\n",
        "        accuracy = correct / total\n",
        "\n",
        "        # Report intermediate objective value to the trial\n",
        "        trial.report(accuracy, epoch)\n",
        "\n",
        "        # Handle pruning based on the intermediate value\n",
        "        if trial.should_prune():\n",
        "            raise optuna.exceptions.TrialPruned()\n",
        "\n",
        "    return accuracy"
      ]
    },
    {
      "cell_type": "code",
      "execution_count": 50,
      "metadata": {},
      "outputs": [
        {
          "name": "stdout",
          "output_type": "stream",
          "text": [
            "[0.001, 0.0001, 1e-05]\n"
          ]
        }
      ],
      "source": [
        "best_rate = 9.111332423026142e-05\n",
        "learning_rates = [0.001, 0.0001, 0.00001]\n",
        "print(learning_rates)"
      ]
    },
    {
      "cell_type": "code",
      "execution_count": 31,
      "metadata": {},
      "outputs": [
        {
          "data": {
            "text/plain": [
              "array([1.00000000e-05, 2.78255940e-05, 7.74263683e-05, 2.15443469e-04,\n",
              "       5.99484250e-04, 1.66810054e-03, 4.64158883e-03, 1.29154967e-02,\n",
              "       3.59381366e-02, 1.00000000e-01])"
            ]
          },
          "execution_count": 31,
          "metadata": {},
          "output_type": "execute_result"
        }
      ],
      "source": [
        "learning_rates = np.logspace(-5, -1, num=10)\n",
        "learning_rates"
      ]
    },
    {
      "cell_type": "code",
      "execution_count": 31,
      "metadata": {
        "colab": {
          "base_uri": "https://localhost:8080/"
        },
        "id": "2hFOEXCPEVTw",
        "outputId": "6c4d33e6-8624-4eae-d51b-7008e6826780"
      },
      "outputs": [
        {
          "name": "stderr",
          "output_type": "stream",
          "text": [
            "  3%|▎         | 1/30 [00:09<04:25,  9.16s/it]"
          ]
        },
        {
          "name": "stdout",
          "output_type": "stream",
          "text": [
            "Validation Loss: 0.4259939146240552, Learning Rate: 0.001000\n"
          ]
        },
        {
          "name": "stderr",
          "output_type": "stream",
          "text": [
            "  7%|▋         | 2/30 [00:18<04:18,  9.23s/it]"
          ]
        },
        {
          "name": "stdout",
          "output_type": "stream",
          "text": [
            "Validation Loss: 0.40683157261212666, Learning Rate: 0.001000\n"
          ]
        },
        {
          "name": "stderr",
          "output_type": "stream",
          "text": [
            " 10%|█         | 3/30 [00:27<04:08,  9.22s/it]"
          ]
        },
        {
          "name": "stdout",
          "output_type": "stream",
          "text": [
            "Validation Loss: 0.40173472424348194, Learning Rate: 0.001000\n"
          ]
        },
        {
          "name": "stderr",
          "output_type": "stream",
          "text": [
            " 13%|█▎        | 4/30 [00:36<03:59,  9.21s/it]"
          ]
        },
        {
          "name": "stdout",
          "output_type": "stream",
          "text": [
            "Validation Loss: 0.39830897812048593, Learning Rate: 0.001000\n"
          ]
        },
        {
          "name": "stderr",
          "output_type": "stream",
          "text": [
            " 17%|█▋        | 5/30 [00:46<03:50,  9.21s/it]"
          ]
        },
        {
          "name": "stdout",
          "output_type": "stream",
          "text": [
            "Validation Loss: 0.39152412259578706, Learning Rate: 0.001000\n"
          ]
        },
        {
          "name": "stderr",
          "output_type": "stream",
          "text": [
            " 20%|██        | 6/30 [00:55<03:40,  9.20s/it]"
          ]
        },
        {
          "name": "stdout",
          "output_type": "stream",
          "text": [
            "Validation Loss: 0.37468583617607754, Learning Rate: 0.001000\n"
          ]
        },
        {
          "name": "stderr",
          "output_type": "stream",
          "text": [
            " 23%|██▎       | 7/30 [01:04<03:31,  9.20s/it]"
          ]
        },
        {
          "name": "stdout",
          "output_type": "stream",
          "text": [
            "Validation Loss: 0.37167644329865773, Learning Rate: 0.001000\n"
          ]
        },
        {
          "name": "stderr",
          "output_type": "stream",
          "text": [
            " 27%|██▋       | 8/30 [01:13<03:22,  9.21s/it]"
          ]
        },
        {
          "name": "stdout",
          "output_type": "stream",
          "text": [
            "Validation Loss: 0.3516183753311634, Learning Rate: 0.001000\n"
          ]
        },
        {
          "name": "stderr",
          "output_type": "stream",
          "text": [
            " 30%|███       | 9/30 [01:22<03:13,  9.20s/it]"
          ]
        },
        {
          "name": "stdout",
          "output_type": "stream",
          "text": [
            "Validation Loss: 0.4065780966281891, Learning Rate: 0.001000\n"
          ]
        },
        {
          "name": "stderr",
          "output_type": "stream",
          "text": [
            " 33%|███▎      | 10/30 [01:32<03:04,  9.20s/it]"
          ]
        },
        {
          "name": "stdout",
          "output_type": "stream",
          "text": [
            "Validation Loss: 0.3556454288760821, Learning Rate: 0.001000\n"
          ]
        },
        {
          "name": "stderr",
          "output_type": "stream",
          "text": [
            " 37%|███▋      | 11/30 [01:41<02:54,  9.19s/it]"
          ]
        },
        {
          "name": "stdout",
          "output_type": "stream",
          "text": [
            "Validation Loss: 0.34461654512087503, Learning Rate: 0.001000\n"
          ]
        },
        {
          "name": "stderr",
          "output_type": "stream",
          "text": [
            " 40%|████      | 12/30 [01:50<02:45,  9.22s/it]"
          ]
        },
        {
          "name": "stdout",
          "output_type": "stream",
          "text": [
            "Validation Loss: 0.35576211708784106, Learning Rate: 0.001000\n"
          ]
        },
        {
          "name": "stderr",
          "output_type": "stream",
          "text": [
            " 43%|████▎     | 13/30 [01:59<02:36,  9.22s/it]"
          ]
        },
        {
          "name": "stdout",
          "output_type": "stream",
          "text": [
            "Validation Loss: 0.36687831530968346, Learning Rate: 0.001000\n"
          ]
        },
        {
          "name": "stderr",
          "output_type": "stream",
          "text": [
            " 47%|████▋     | 14/30 [02:09<02:28,  9.25s/it]"
          ]
        },
        {
          "name": "stdout",
          "output_type": "stream",
          "text": [
            "Validation Loss: 0.37397371313969296, Learning Rate: 0.000100\n"
          ]
        },
        {
          "name": "stderr",
          "output_type": "stream",
          "text": [
            " 50%|█████     | 15/30 [02:18<02:18,  9.25s/it]"
          ]
        },
        {
          "name": "stdout",
          "output_type": "stream",
          "text": [
            "Validation Loss: 0.31776138680179916, Learning Rate: 0.000100\n"
          ]
        },
        {
          "name": "stderr",
          "output_type": "stream",
          "text": [
            " 53%|█████▎    | 16/30 [02:27<02:09,  9.24s/it]"
          ]
        },
        {
          "name": "stdout",
          "output_type": "stream",
          "text": [
            "Validation Loss: 0.31885184050599735, Learning Rate: 0.000100\n"
          ]
        },
        {
          "name": "stderr",
          "output_type": "stream",
          "text": [
            " 57%|█████▋    | 17/30 [02:36<02:00,  9.24s/it]"
          ]
        },
        {
          "name": "stdout",
          "output_type": "stream",
          "text": [
            "Validation Loss: 0.3172154976129532, Learning Rate: 0.000100\n"
          ]
        },
        {
          "name": "stderr",
          "output_type": "stream",
          "text": [
            " 60%|██████    | 18/30 [02:45<01:50,  9.21s/it]"
          ]
        },
        {
          "name": "stdout",
          "output_type": "stream",
          "text": [
            "Validation Loss: 0.315595857411623, Learning Rate: 0.000100\n"
          ]
        },
        {
          "name": "stderr",
          "output_type": "stream",
          "text": [
            " 63%|██████▎   | 19/30 [02:55<01:41,  9.22s/it]"
          ]
        },
        {
          "name": "stdout",
          "output_type": "stream",
          "text": [
            "Validation Loss: 0.31407538914680483, Learning Rate: 0.000100\n"
          ]
        },
        {
          "name": "stderr",
          "output_type": "stream",
          "text": [
            " 67%|██████▋   | 20/30 [03:04<01:32,  9.22s/it]"
          ]
        },
        {
          "name": "stdout",
          "output_type": "stream",
          "text": [
            "Validation Loss: 0.31320150499542554, Learning Rate: 0.000100\n"
          ]
        },
        {
          "name": "stderr",
          "output_type": "stream",
          "text": [
            " 70%|███████   | 21/30 [03:13<01:22,  9.20s/it]"
          ]
        },
        {
          "name": "stdout",
          "output_type": "stream",
          "text": [
            "Validation Loss: 0.31416009961565333, Learning Rate: 0.000100\n"
          ]
        },
        {
          "name": "stderr",
          "output_type": "stream",
          "text": [
            " 73%|███████▎  | 22/30 [03:22<01:13,  9.20s/it]"
          ]
        },
        {
          "name": "stdout",
          "output_type": "stream",
          "text": [
            "Validation Loss: 0.31238370171189306, Learning Rate: 0.000100\n"
          ]
        },
        {
          "name": "stderr",
          "output_type": "stream",
          "text": [
            " 77%|███████▋  | 23/30 [03:31<01:04,  9.19s/it]"
          ]
        },
        {
          "name": "stdout",
          "output_type": "stream",
          "text": [
            "Validation Loss: 0.3213407086332639, Learning Rate: 0.000100\n"
          ]
        },
        {
          "name": "stderr",
          "output_type": "stream",
          "text": [
            " 80%|████████  | 24/30 [03:41<00:55,  9.23s/it]"
          ]
        },
        {
          "name": "stdout",
          "output_type": "stream",
          "text": [
            "Validation Loss: 0.31278650714953743, Learning Rate: 0.000100\n"
          ]
        },
        {
          "name": "stderr",
          "output_type": "stream",
          "text": [
            " 83%|████████▎ | 25/30 [03:50<00:46,  9.24s/it]"
          ]
        },
        {
          "name": "stdout",
          "output_type": "stream",
          "text": [
            "Validation Loss: 0.3146518785556157, Learning Rate: 0.000010\n"
          ]
        },
        {
          "name": "stderr",
          "output_type": "stream",
          "text": [
            " 87%|████████▋ | 26/30 [03:59<00:36,  9.22s/it]"
          ]
        },
        {
          "name": "stdout",
          "output_type": "stream",
          "text": [
            "Validation Loss: 0.31145145242412886, Learning Rate: 0.000010\n"
          ]
        },
        {
          "name": "stderr",
          "output_type": "stream",
          "text": [
            " 90%|█████████ | 27/30 [04:08<00:27,  9.21s/it]"
          ]
        },
        {
          "name": "stdout",
          "output_type": "stream",
          "text": [
            "Validation Loss: 0.3141721618870894, Learning Rate: 0.000010\n"
          ]
        },
        {
          "name": "stderr",
          "output_type": "stream",
          "text": [
            " 93%|█████████▎| 28/30 [04:18<00:18,  9.20s/it]"
          ]
        },
        {
          "name": "stdout",
          "output_type": "stream",
          "text": [
            "Validation Loss: 0.310639564593633, Learning Rate: 0.000010\n"
          ]
        },
        {
          "name": "stderr",
          "output_type": "stream",
          "text": [
            " 97%|█████████▋| 29/30 [04:27<00:09,  9.22s/it]"
          ]
        },
        {
          "name": "stdout",
          "output_type": "stream",
          "text": [
            "Validation Loss: 0.3106420117119948, Learning Rate: 0.000010\n"
          ]
        },
        {
          "name": "stderr",
          "output_type": "stream",
          "text": [
            "100%|██████████| 30/30 [04:36<00:00,  9.22s/it]\n"
          ]
        },
        {
          "name": "stdout",
          "output_type": "stream",
          "text": [
            "Validation Loss: 0.31068597587943075, Learning Rate: 0.000010\n",
            "Finished Training for activation: SiLU()\n"
          ]
        },
        {
          "name": "stderr",
          "output_type": "stream",
          "text": [
            "  3%|▎         | 1/30 [00:09<04:26,  9.18s/it]"
          ]
        },
        {
          "name": "stdout",
          "output_type": "stream",
          "text": [
            "Validation Loss: 0.42744984702269234, Learning Rate: 0.001000\n"
          ]
        },
        {
          "name": "stderr",
          "output_type": "stream",
          "text": [
            "  7%|▋         | 2/30 [00:18<04:18,  9.21s/it]"
          ]
        },
        {
          "name": "stdout",
          "output_type": "stream",
          "text": [
            "Validation Loss: 0.40742556631565097, Learning Rate: 0.001000\n"
          ]
        },
        {
          "name": "stderr",
          "output_type": "stream",
          "text": [
            " 10%|█         | 3/30 [00:27<04:08,  9.21s/it]"
          ]
        },
        {
          "name": "stdout",
          "output_type": "stream",
          "text": [
            "Validation Loss: 0.38454216613372166, Learning Rate: 0.001000\n"
          ]
        },
        {
          "name": "stderr",
          "output_type": "stream",
          "text": [
            " 13%|█▎        | 4/30 [00:36<03:59,  9.22s/it]"
          ]
        },
        {
          "name": "stdout",
          "output_type": "stream",
          "text": [
            "Validation Loss: 0.36366528081893923, Learning Rate: 0.001000\n"
          ]
        },
        {
          "name": "stderr",
          "output_type": "stream",
          "text": [
            " 17%|█▋        | 5/30 [00:46<03:50,  9.22s/it]"
          ]
        },
        {
          "name": "stdout",
          "output_type": "stream",
          "text": [
            "Validation Loss: 0.36076343871156374, Learning Rate: 0.001000\n"
          ]
        },
        {
          "name": "stderr",
          "output_type": "stream",
          "text": [
            " 20%|██        | 6/30 [00:55<03:41,  9.22s/it]"
          ]
        },
        {
          "name": "stdout",
          "output_type": "stream",
          "text": [
            "Validation Loss: 0.35080871398250263, Learning Rate: 0.001000\n"
          ]
        },
        {
          "name": "stderr",
          "output_type": "stream",
          "text": [
            " 23%|██▎       | 7/30 [01:04<03:32,  9.22s/it]"
          ]
        },
        {
          "name": "stdout",
          "output_type": "stream",
          "text": [
            "Validation Loss: 0.36328528154889744, Learning Rate: 0.001000\n"
          ]
        },
        {
          "name": "stderr",
          "output_type": "stream",
          "text": [
            " 27%|██▋       | 8/30 [01:13<03:22,  9.22s/it]"
          ]
        },
        {
          "name": "stdout",
          "output_type": "stream",
          "text": [
            "Validation Loss: 0.34697601361076036, Learning Rate: 0.001000\n"
          ]
        },
        {
          "name": "stderr",
          "output_type": "stream",
          "text": [
            " 30%|███       | 9/30 [01:23<03:13,  9.24s/it]"
          ]
        },
        {
          "name": "stdout",
          "output_type": "stream",
          "text": [
            "Validation Loss: 0.3565195718407631, Learning Rate: 0.001000\n"
          ]
        },
        {
          "name": "stderr",
          "output_type": "stream",
          "text": [
            " 33%|███▎      | 10/30 [01:32<03:05,  9.26s/it]"
          ]
        },
        {
          "name": "stdout",
          "output_type": "stream",
          "text": [
            "Validation Loss: 0.39348729558785756, Learning Rate: 0.001000\n"
          ]
        },
        {
          "name": "stderr",
          "output_type": "stream",
          "text": [
            " 37%|███▋      | 11/30 [01:41<02:55,  9.26s/it]"
          ]
        },
        {
          "name": "stdout",
          "output_type": "stream",
          "text": [
            "Validation Loss: 0.3443717680573463, Learning Rate: 0.001000\n"
          ]
        },
        {
          "name": "stderr",
          "output_type": "stream",
          "text": [
            " 40%|████      | 12/30 [01:50<02:46,  9.24s/it]"
          ]
        },
        {
          "name": "stdout",
          "output_type": "stream",
          "text": [
            "Validation Loss: 0.33850027883052825, Learning Rate: 0.001000\n"
          ]
        },
        {
          "name": "stderr",
          "output_type": "stream",
          "text": [
            " 43%|████▎     | 13/30 [02:00<02:37,  9.24s/it]"
          ]
        },
        {
          "name": "stdout",
          "output_type": "stream",
          "text": [
            "Validation Loss: 0.3325789061784744, Learning Rate: 0.001000\n"
          ]
        },
        {
          "name": "stderr",
          "output_type": "stream",
          "text": [
            " 47%|████▋     | 14/30 [02:09<02:27,  9.22s/it]"
          ]
        },
        {
          "name": "stdout",
          "output_type": "stream",
          "text": [
            "Validation Loss: 0.32483107143640516, Learning Rate: 0.001000\n"
          ]
        },
        {
          "name": "stderr",
          "output_type": "stream",
          "text": [
            " 50%|█████     | 15/30 [02:18<02:19,  9.29s/it]"
          ]
        },
        {
          "name": "stdout",
          "output_type": "stream",
          "text": [
            "Validation Loss: 0.33544746377070744, Learning Rate: 0.001000\n"
          ]
        },
        {
          "name": "stderr",
          "output_type": "stream",
          "text": [
            " 53%|█████▎    | 16/30 [02:28<02:10,  9.31s/it]"
          ]
        },
        {
          "name": "stdout",
          "output_type": "stream",
          "text": [
            "Validation Loss: 0.4164785457253456, Learning Rate: 0.001000\n"
          ]
        },
        {
          "name": "stderr",
          "output_type": "stream",
          "text": [
            " 57%|█████▋    | 17/30 [02:37<02:00,  9.27s/it]"
          ]
        },
        {
          "name": "stdout",
          "output_type": "stream",
          "text": [
            "Validation Loss: 0.34983612106243767, Learning Rate: 0.000100\n"
          ]
        },
        {
          "name": "stderr",
          "output_type": "stream",
          "text": [
            " 60%|██████    | 18/30 [02:46<01:51,  9.27s/it]"
          ]
        },
        {
          "name": "stdout",
          "output_type": "stream",
          "text": [
            "Validation Loss: 0.3064531061848005, Learning Rate: 0.000100\n"
          ]
        },
        {
          "name": "stderr",
          "output_type": "stream",
          "text": [
            " 63%|██████▎   | 19/30 [02:55<01:41,  9.27s/it]"
          ]
        },
        {
          "name": "stdout",
          "output_type": "stream",
          "text": [
            "Validation Loss: 0.3138648619403442, Learning Rate: 0.000100\n"
          ]
        },
        {
          "name": "stderr",
          "output_type": "stream",
          "text": [
            " 67%|██████▋   | 20/30 [03:04<01:32,  9.26s/it]"
          ]
        },
        {
          "name": "stdout",
          "output_type": "stream",
          "text": [
            "Validation Loss: 0.3025812628964583, Learning Rate: 0.000100\n"
          ]
        },
        {
          "name": "stderr",
          "output_type": "stream",
          "text": [
            " 70%|███████   | 21/30 [03:14<01:23,  9.25s/it]"
          ]
        },
        {
          "name": "stdout",
          "output_type": "stream",
          "text": [
            "Validation Loss: 0.29905269385377564, Learning Rate: 0.000100\n"
          ]
        },
        {
          "name": "stderr",
          "output_type": "stream",
          "text": [
            " 73%|███████▎  | 22/30 [03:23<01:13,  9.25s/it]"
          ]
        },
        {
          "name": "stdout",
          "output_type": "stream",
          "text": [
            "Validation Loss: 0.3124941452195247, Learning Rate: 0.000100\n"
          ]
        },
        {
          "name": "stderr",
          "output_type": "stream",
          "text": [
            " 77%|███████▋  | 23/30 [03:32<01:04,  9.23s/it]"
          ]
        },
        {
          "name": "stdout",
          "output_type": "stream",
          "text": [
            "Validation Loss: 0.305946830218037, Learning Rate: 0.000100\n"
          ]
        },
        {
          "name": "stderr",
          "output_type": "stream",
          "text": [
            " 80%|████████  | 24/30 [03:41<00:55,  9.20s/it]"
          ]
        },
        {
          "name": "stdout",
          "output_type": "stream",
          "text": [
            "Validation Loss: 0.3034221820185582, Learning Rate: 0.000010\n"
          ]
        },
        {
          "name": "stderr",
          "output_type": "stream",
          "text": [
            " 83%|████████▎ | 25/30 [03:51<00:46,  9.22s/it]"
          ]
        },
        {
          "name": "stdout",
          "output_type": "stream",
          "text": [
            "Validation Loss: 0.30050960819919903, Learning Rate: 0.000010\n"
          ]
        },
        {
          "name": "stderr",
          "output_type": "stream",
          "text": [
            " 87%|████████▋ | 26/30 [04:00<00:36,  9.21s/it]"
          ]
        },
        {
          "name": "stdout",
          "output_type": "stream",
          "text": [
            "Validation Loss: 0.30599545236428577, Learning Rate: 0.000010\n"
          ]
        },
        {
          "name": "stderr",
          "output_type": "stream",
          "text": [
            " 90%|█████████ | 27/30 [04:09<00:27,  9.21s/it]"
          ]
        },
        {
          "name": "stdout",
          "output_type": "stream",
          "text": [
            "Validation Loss: 0.3053743867278099, Learning Rate: 0.000001\n"
          ]
        },
        {
          "name": "stderr",
          "output_type": "stream",
          "text": [
            " 93%|█████████▎| 28/30 [04:18<00:18,  9.21s/it]"
          ]
        },
        {
          "name": "stdout",
          "output_type": "stream",
          "text": [
            "Validation Loss: 0.30363457117974757, Learning Rate: 0.000001\n"
          ]
        },
        {
          "name": "stderr",
          "output_type": "stream",
          "text": [
            " 97%|█████████▋| 29/30 [04:27<00:09,  9.21s/it]"
          ]
        },
        {
          "name": "stdout",
          "output_type": "stream",
          "text": [
            "Validation Loss: 0.3102232697258393, Learning Rate: 0.000001\n"
          ]
        },
        {
          "name": "stderr",
          "output_type": "stream",
          "text": [
            "100%|██████████| 30/30 [04:37<00:00,  9.24s/it]"
          ]
        },
        {
          "name": "stdout",
          "output_type": "stream",
          "text": [
            "Validation Loss: 0.30968489926556747, Learning Rate: 0.000001\n",
            "Finished Training for activation: ELU(alpha=1.0)\n"
          ]
        },
        {
          "name": "stderr",
          "output_type": "stream",
          "text": [
            "\n"
          ]
        }
      ],
      "source": [
        "all_losses = []\n",
        "all_val_losses = []\n",
        "# first_layer_sizes = [32, 64, 128, 256, 512, 1024]\n",
        "# learning_rate = 0.00017126243071531458\n",
        "# activations = [nn.ReLU(), nn.SiLU(), nn.ELU(), nn.LeakyReLU(), nn.GELU(), nn.Sigmoid(), nn.Tanh()]\n",
        "# activations = [nn.ReLU(), nn.SiLU(), nn.ELU(), nn.LeakyReLU(), nn.GELU()]\n",
        "best_decay_so_far = 6.128782742220545e-06\n",
        "#weight_decays = np.logspace(-7, -3, num=5)\n",
        "activations = [nn.SiLU(), nn.ELU()]\n",
        "\n",
        "for activation in activations:\n",
        "    # Loss function and optimizer\n",
        "    model = MLP([128], [activation])\n",
        "    optimizer = optim.RMSprop(model.parameters(), lr=0.001, weight_decay=1e-4)\n",
        "\n",
        "    train_losses, val_losses = train_config(model, train_subset, val_subset, optimizer, batch_size=32, num_epochs=30)\n",
        "    \n",
        "    all_losses.append(train_losses)\n",
        "    all_val_losses.append(val_losses)\n",
        "\n",
        "    print('Finished Training for activation:', str(activation))"
      ]
    },
    {
      "cell_type": "code",
      "execution_count": 29,
      "metadata": {},
      "outputs": [
        {
          "data": {
            "text/html": [
              "<div>\n",
              "<style scoped>\n",
              "    .dataframe tbody tr th:only-of-type {\n",
              "        vertical-align: middle;\n",
              "    }\n",
              "\n",
              "    .dataframe tbody tr th {\n",
              "        vertical-align: top;\n",
              "    }\n",
              "\n",
              "    .dataframe thead th {\n",
              "        text-align: right;\n",
              "    }\n",
              "</style>\n",
              "<table border=\"1\" class=\"dataframe\">\n",
              "  <thead>\n",
              "    <tr style=\"text-align: right;\">\n",
              "      <th></th>\n",
              "      <th>activation</th>\n",
              "      <th>train_losses</th>\n",
              "      <th>val_losses</th>\n",
              "    </tr>\n",
              "  </thead>\n",
              "  <tbody>\n",
              "    <tr>\n",
              "      <th>0</th>\n",
              "      <td>ReLU()</td>\n",
              "      <td>[0.778861034810543, 0.5823018220067024, 0.5427...</td>\n",
              "      <td>[0.4500526208877563, 0.42102447879314425, 0.44...</td>\n",
              "    </tr>\n",
              "    <tr>\n",
              "      <th>1</th>\n",
              "      <td>SiLU()</td>\n",
              "      <td>[0.7641445118188858, 0.5842351222038269, 0.542...</td>\n",
              "      <td>[0.4468574306964874, 0.39187018511692684, 0.43...</td>\n",
              "    </tr>\n",
              "    <tr>\n",
              "      <th>2</th>\n",
              "      <td>ELU(alpha=1.0)</td>\n",
              "      <td>[0.7340649193525315, 0.5910198125243187, 0.538...</td>\n",
              "      <td>[0.4223342546025912, 0.389143813153108, 0.3869...</td>\n",
              "    </tr>\n",
              "    <tr>\n",
              "      <th>3</th>\n",
              "      <td>LeakyReLU(negative_slope=0.01)</td>\n",
              "      <td>[0.7658477285504341, 0.5741998854279519, 0.566...</td>\n",
              "      <td>[0.45782903254032137, 0.4298908129533132, 0.42...</td>\n",
              "    </tr>\n",
              "    <tr>\n",
              "      <th>4</th>\n",
              "      <td>Sigmoid()</td>\n",
              "      <td>[0.717154036462307, 0.5846862694621087, 0.5390...</td>\n",
              "      <td>[0.43973832472165425, 0.4098277023434639, 0.37...</td>\n",
              "    </tr>\n",
              "  </tbody>\n",
              "</table>\n",
              "</div>"
            ],
            "text/plain": [
              "                       activation  \\\n",
              "0                          ReLU()   \n",
              "1                          SiLU()   \n",
              "2                  ELU(alpha=1.0)   \n",
              "3  LeakyReLU(negative_slope=0.01)   \n",
              "4                       Sigmoid()   \n",
              "\n",
              "                                        train_losses  \\\n",
              "0  [0.778861034810543, 0.5823018220067024, 0.5427...   \n",
              "1  [0.7641445118188858, 0.5842351222038269, 0.542...   \n",
              "2  [0.7340649193525315, 0.5910198125243187, 0.538...   \n",
              "3  [0.7658477285504341, 0.5741998854279519, 0.566...   \n",
              "4  [0.717154036462307, 0.5846862694621087, 0.5390...   \n",
              "\n",
              "                                          val_losses  \n",
              "0  [0.4500526208877563, 0.42102447879314425, 0.44...  \n",
              "1  [0.4468574306964874, 0.39187018511692684, 0.43...  \n",
              "2  [0.4223342546025912, 0.389143813153108, 0.3869...  \n",
              "3  [0.45782903254032137, 0.4298908129533132, 0.42...  \n",
              "4  [0.43973832472165425, 0.4098277023434639, 0.37...  "
            ]
          },
          "execution_count": 29,
          "metadata": {},
          "output_type": "execute_result"
        }
      ],
      "source": [
        "import pandas as pd\n",
        "config_df = pd.DataFrame(data={'activation': activations, 'train_losses': all_losses, 'val_losses': all_val_losses}, columns=['activation'])\n",
        "config_df.head()"
      ]
    },
    {
      "cell_type": "markdown",
      "metadata": {},
      "source": [
        "512/1024 seems to give the best results"
      ]
    },
    {
      "cell_type": "code",
      "execution_count": 67,
      "metadata": {},
      "outputs": [
        {
          "name": "stderr",
          "output_type": "stream",
          "text": [
            "c:\\Users\\rgbmr\\anaconda3\\envs\\project2\\Lib\\site-packages\\torch\\optim\\lr_scheduler.py:62: UserWarning:\n",
            "\n",
            "The verbose parameter is deprecated. Please use get_last_lr() to access the learning rate.\n",
            "\n"
          ]
        },
        {
          "name": "stdout",
          "output_type": "stream",
          "text": [
            "Epoch 1, Batch 100, Loss: 0.7671151608228683\n",
            "Epoch 1, Batch 200, Loss: 0.5660034553706645\n",
            "Epoch 1, Batch 300, Loss: 0.5576630334556103\n",
            "Epoch 1, Batch 400, Loss: 0.5093514642119408\n",
            "Epoch 1, Batch 500, Loss: 0.5096666967868805\n",
            "Epoch 1, Batch 600, Loss: 0.5225328633189201\n",
            "Epoch 1, Batch 700, Loss: 0.48203538581728933\n",
            "Epoch 1, Batch 800, Loss: 0.5029477770626545\n",
            "Epoch 1, Batch 900, Loss: 0.47599950090050697\n",
            "Epoch 1, Batch 1000, Loss: 0.47041601926088333\n",
            "Epoch 1, Batch 1100, Loss: 0.4240235873311758\n",
            "Epoch 1, Batch 1200, Loss: 0.4761201636493206\n",
            "Epoch 1, Batch 1300, Loss: 0.4351115944981575\n",
            "Epoch 1, Batch 1400, Loss: 0.43519541159272196\n",
            "Epoch 1, Batch 1500, Loss: 0.4453625915944576\n",
            "Validation Loss: 0.3957038383483887, Learning Rate: 0.001000\n",
            "Epoch 2, Batch 100, Loss: 0.4337198901176453\n",
            "Epoch 2, Batch 200, Loss: 0.40565851479768755\n",
            "Epoch 2, Batch 300, Loss: 0.4204333485662937\n",
            "Epoch 2, Batch 400, Loss: 0.42836923569440843\n",
            "Epoch 2, Batch 500, Loss: 0.4133107951283455\n",
            "Epoch 2, Batch 600, Loss: 0.4124268835783005\n",
            "Epoch 2, Batch 700, Loss: 0.42241840362548827\n",
            "Epoch 2, Batch 800, Loss: 0.42790386915206907\n",
            "Epoch 2, Batch 900, Loss: 0.41867229633033276\n",
            "Epoch 2, Batch 1000, Loss: 0.42092248260974885\n",
            "Epoch 2, Batch 1100, Loss: 0.4285171391069889\n",
            "Epoch 2, Batch 1200, Loss: 0.4176830370724201\n",
            "Epoch 2, Batch 1300, Loss: 0.42269962534308436\n",
            "Epoch 2, Batch 1400, Loss: 0.4058073952794075\n",
            "Epoch 2, Batch 1500, Loss: 0.41541012182831766\n",
            "Validation Loss: 0.377461059431235, Learning Rate: 0.001000\n",
            "Epoch 3, Batch 100, Loss: 0.3908029172569513\n",
            "Epoch 3, Batch 200, Loss: 0.40048594124615194\n",
            "Epoch 3, Batch 300, Loss: 0.4108812732994556\n",
            "Epoch 3, Batch 400, Loss: 0.4139593040198088\n",
            "Epoch 3, Batch 500, Loss: 0.3769680571556091\n",
            "Epoch 3, Batch 600, Loss: 0.38517704471945763\n",
            "Epoch 3, Batch 700, Loss: 0.3982487803697586\n",
            "Epoch 3, Batch 800, Loss: 0.4038540985435247\n",
            "Epoch 3, Batch 900, Loss: 0.38253957457840443\n",
            "Epoch 3, Batch 1000, Loss: 0.37747815132141116\n",
            "Epoch 3, Batch 1100, Loss: 0.38423504799604413\n",
            "Epoch 3, Batch 1200, Loss: 0.40868898972868917\n",
            "Epoch 3, Batch 1300, Loss: 0.39176343873143193\n",
            "Epoch 3, Batch 1400, Loss: 0.37986807741224765\n",
            "Epoch 3, Batch 1500, Loss: 0.39037390060722826\n",
            "Validation Loss: 0.36115023704369864, Learning Rate: 0.001000\n",
            "Epoch 4, Batch 100, Loss: 0.3816985756158829\n",
            "Epoch 4, Batch 200, Loss: 0.37769496835768224\n",
            "Epoch 4, Batch 300, Loss: 0.37589454114437104\n",
            "Epoch 4, Batch 400, Loss: 0.3640054630488157\n",
            "Epoch 4, Batch 500, Loss: 0.37316649198532104\n",
            "Epoch 4, Batch 600, Loss: 0.3943996065855026\n",
            "Epoch 4, Batch 700, Loss: 0.39442785777151584\n",
            "Epoch 4, Batch 800, Loss: 0.3697424274682999\n",
            "Epoch 4, Batch 900, Loss: 0.37894850663840773\n",
            "Epoch 4, Batch 1000, Loss: 0.3744934402406216\n",
            "Epoch 4, Batch 1100, Loss: 0.384301723241806\n",
            "Epoch 4, Batch 1200, Loss: 0.38318754114210607\n",
            "Epoch 4, Batch 1300, Loss: 0.36514475390315054\n",
            "Epoch 4, Batch 1400, Loss: 0.36122443810105326\n",
            "Epoch 4, Batch 1500, Loss: 0.37212885603308676\n",
            "Validation Loss: 0.37330450482666494, Learning Rate: 0.001000\n",
            "Epoch 5, Batch 100, Loss: 0.35629696197807786\n",
            "Epoch 5, Batch 200, Loss: 0.3604021096229553\n",
            "Epoch 5, Batch 300, Loss: 0.3802565622329712\n",
            "Epoch 5, Batch 400, Loss: 0.35244000688195226\n",
            "Epoch 5, Batch 500, Loss: 0.3685995226353407\n",
            "Epoch 5, Batch 600, Loss: 0.34665094040334227\n",
            "Epoch 5, Batch 700, Loss: 0.34366068318486215\n",
            "Epoch 5, Batch 800, Loss: 0.3474070604145527\n",
            "Epoch 5, Batch 900, Loss: 0.37238273046910764\n",
            "Epoch 5, Batch 1000, Loss: 0.367042498588562\n",
            "Epoch 5, Batch 1100, Loss: 0.3726473172008991\n",
            "Epoch 5, Batch 1200, Loss: 0.3696631854772568\n",
            "Epoch 5, Batch 1300, Loss: 0.3616697822511196\n",
            "Epoch 5, Batch 1400, Loss: 0.3692974933236837\n",
            "Epoch 5, Batch 1500, Loss: 0.346530017927289\n",
            "Validation Loss: 0.344484664618969, Learning Rate: 0.001000\n",
            "Epoch 6, Batch 100, Loss: 0.35624107770621777\n",
            "Epoch 6, Batch 200, Loss: 0.3462059576064348\n",
            "Epoch 6, Batch 300, Loss: 0.345188612267375\n",
            "Epoch 6, Batch 400, Loss: 0.3766890916973352\n",
            "Epoch 6, Batch 500, Loss: 0.3428913899511099\n",
            "Epoch 6, Batch 600, Loss: 0.3574432796239853\n",
            "Epoch 6, Batch 700, Loss: 0.35362014651298523\n",
            "Epoch 6, Batch 800, Loss: 0.33803038492798804\n",
            "Epoch 6, Batch 900, Loss: 0.34166630677878856\n",
            "Epoch 6, Batch 1000, Loss: 0.3487941700220108\n",
            "Epoch 6, Batch 1100, Loss: 0.356243189573288\n",
            "Epoch 6, Batch 1200, Loss: 0.35895043939352034\n",
            "Epoch 6, Batch 1300, Loss: 0.34386872038245203\n",
            "Epoch 6, Batch 1400, Loss: 0.3377156936377287\n",
            "Epoch 6, Batch 1500, Loss: 0.3594294418394566\n",
            "Validation Loss: 0.3433524026075999, Learning Rate: 0.001000\n",
            "Epoch 7, Batch 100, Loss: 0.3287427727878094\n",
            "Epoch 7, Batch 200, Loss: 0.3686956182122231\n",
            "Epoch 7, Batch 300, Loss: 0.3266986357420683\n",
            "Epoch 7, Batch 400, Loss: 0.320103363096714\n",
            "Epoch 7, Batch 500, Loss: 0.32986476458609104\n",
            "Epoch 7, Batch 600, Loss: 0.34786939397454264\n",
            "Epoch 7, Batch 700, Loss: 0.32367316596210005\n",
            "Epoch 7, Batch 800, Loss: 0.3346403034776449\n",
            "Epoch 7, Batch 900, Loss: 0.3309138211607933\n",
            "Epoch 7, Batch 1000, Loss: 0.34166013211011886\n",
            "Epoch 7, Batch 1100, Loss: 0.34258743092417715\n",
            "Epoch 7, Batch 1200, Loss: 0.3370505991578102\n",
            "Epoch 7, Batch 1300, Loss: 0.3521190586686134\n",
            "Epoch 7, Batch 1400, Loss: 0.3526362764835358\n",
            "Epoch 7, Batch 1500, Loss: 0.3539014681428671\n",
            "Validation Loss: 0.3358436468442281, Learning Rate: 0.001000\n",
            "Epoch 8, Batch 100, Loss: 0.33732179954648017\n",
            "Epoch 8, Batch 200, Loss: 0.298971149250865\n",
            "Epoch 8, Batch 300, Loss: 0.3297440951317549\n",
            "Epoch 8, Batch 400, Loss: 0.3435700960457325\n",
            "Epoch 8, Batch 500, Loss: 0.34299978278577326\n",
            "Epoch 8, Batch 600, Loss: 0.3240955893695354\n",
            "Epoch 8, Batch 700, Loss: 0.3322063403576612\n",
            "Epoch 8, Batch 800, Loss: 0.33566783875226974\n",
            "Epoch 8, Batch 900, Loss: 0.3262911610305309\n",
            "Epoch 8, Batch 1000, Loss: 0.3259968151152134\n",
            "Epoch 8, Batch 1100, Loss: 0.34919069811701775\n",
            "Epoch 8, Batch 1200, Loss: 0.3627769624441862\n",
            "Epoch 8, Batch 1300, Loss: 0.3372178885340691\n",
            "Epoch 8, Batch 1400, Loss: 0.3612799773737788\n",
            "Epoch 8, Batch 1500, Loss: 0.3333418196439743\n",
            "Validation Loss: 0.3423885746995608, Learning Rate: 0.001000\n",
            "Epoch 9, Batch 100, Loss: 0.3165769923478365\n",
            "Epoch 9, Batch 200, Loss: 0.310572886839509\n",
            "Epoch 9, Batch 300, Loss: 0.3432416813075542\n",
            "Epoch 9, Batch 400, Loss: 0.31298025883734226\n",
            "Epoch 9, Batch 500, Loss: 0.34842527367174625\n",
            "Epoch 9, Batch 600, Loss: 0.3080077788233757\n",
            "Epoch 9, Batch 700, Loss: 0.34188216261565685\n",
            "Epoch 9, Batch 800, Loss: 0.3317196016013622\n",
            "Epoch 9, Batch 900, Loss: 0.29302003867924215\n",
            "Epoch 9, Batch 1000, Loss: 0.33190639555454254\n",
            "Epoch 9, Batch 1100, Loss: 0.34001178964972495\n",
            "Epoch 9, Batch 1200, Loss: 0.3235604275763035\n",
            "Epoch 9, Batch 1300, Loss: 0.31863789837807416\n",
            "Epoch 9, Batch 1400, Loss: 0.36104616522789\n",
            "Epoch 9, Batch 1500, Loss: 0.3308810236304998\n",
            "Validation Loss: 0.3622141695022583, Learning Rate: 0.001000\n",
            "Epoch 10, Batch 100, Loss: 0.31116106390953063\n",
            "Epoch 10, Batch 200, Loss: 0.3134033741056919\n",
            "Epoch 10, Batch 300, Loss: 0.3318508926033974\n",
            "Epoch 10, Batch 400, Loss: 0.3067552973330021\n",
            "Epoch 10, Batch 500, Loss: 0.3328018436580896\n",
            "Epoch 10, Batch 600, Loss: 0.32110142201185227\n",
            "Epoch 10, Batch 700, Loss: 0.32447534330189226\n",
            "Epoch 10, Batch 800, Loss: 0.3117089326679707\n",
            "Epoch 10, Batch 900, Loss: 0.33427539467811584\n",
            "Epoch 10, Batch 1000, Loss: 0.3561628261953592\n",
            "Epoch 10, Batch 1100, Loss: 0.3128564936667681\n",
            "Epoch 10, Batch 1200, Loss: 0.3271507964283228\n",
            "Epoch 10, Batch 1300, Loss: 0.3159867369383573\n",
            "Epoch 10, Batch 1400, Loss: 0.3152503690496087\n",
            "Epoch 10, Batch 1500, Loss: 0.3319946470111608\n",
            "Validation Loss: 0.3318543903827667, Learning Rate: 0.001000\n",
            "Epoch 11, Batch 100, Loss: 0.30538170799613\n",
            "Epoch 11, Batch 200, Loss: 0.3154610535502434\n",
            "Epoch 11, Batch 300, Loss: 0.32322091147303583\n",
            "Epoch 11, Batch 400, Loss: 0.3266174083203077\n",
            "Epoch 11, Batch 500, Loss: 0.3058328913524747\n",
            "Epoch 11, Batch 600, Loss: 0.3113492199406028\n",
            "Epoch 11, Batch 700, Loss: 0.31588027395308016\n",
            "Epoch 11, Batch 800, Loss: 0.31986823476850984\n",
            "Epoch 11, Batch 900, Loss: 0.328114565461874\n",
            "Epoch 11, Batch 1000, Loss: 0.31637178525328635\n",
            "Epoch 11, Batch 1100, Loss: 0.3229954604059458\n",
            "Epoch 11, Batch 1200, Loss: 0.3468864506483078\n",
            "Epoch 11, Batch 1300, Loss: 0.3058342316001654\n",
            "Epoch 11, Batch 1400, Loss: 0.3079578295350075\n",
            "Epoch 11, Batch 1500, Loss: 0.31800491623580457\n",
            "Validation Loss: 0.32835516522328057, Learning Rate: 0.001000\n",
            "Epoch 12, Batch 100, Loss: 0.3004079560190439\n",
            "Epoch 12, Batch 200, Loss: 0.2847423981502652\n",
            "Epoch 12, Batch 300, Loss: 0.3032532253116369\n",
            "Epoch 12, Batch 400, Loss: 0.31098341532051565\n",
            "Epoch 12, Batch 500, Loss: 0.2856847017258406\n",
            "Epoch 12, Batch 600, Loss: 0.28615351155400276\n",
            "Epoch 12, Batch 700, Loss: 0.3174059568345547\n",
            "Epoch 12, Batch 800, Loss: 0.31185367435216904\n",
            "Epoch 12, Batch 900, Loss: 0.30894583225250244\n",
            "Epoch 12, Batch 1000, Loss: 0.31395613934844735\n",
            "Epoch 12, Batch 1100, Loss: 0.3200645510852337\n",
            "Epoch 12, Batch 1200, Loss: 0.34534225702285765\n",
            "Epoch 12, Batch 1300, Loss: 0.2938459315523505\n",
            "Epoch 12, Batch 1400, Loss: 0.315509025901556\n",
            "Epoch 12, Batch 1500, Loss: 0.33275962725281716\n",
            "Validation Loss: 0.3306186502675215, Learning Rate: 0.001000\n",
            "Epoch 13, Batch 100, Loss: 0.30528663903474806\n",
            "Epoch 13, Batch 200, Loss: 0.3175091307610273\n",
            "Epoch 13, Batch 300, Loss: 0.302861432954669\n",
            "Epoch 13, Batch 400, Loss: 0.29851791851222514\n",
            "Epoch 13, Batch 500, Loss: 0.2862998253852129\n",
            "Epoch 13, Batch 600, Loss: 0.3102432883158326\n",
            "Epoch 13, Batch 700, Loss: 0.32201789014041426\n",
            "Epoch 13, Batch 800, Loss: 0.3009815837442875\n",
            "Epoch 13, Batch 900, Loss: 0.33692522063851355\n",
            "Epoch 13, Batch 1000, Loss: 0.3153343389928341\n",
            "Epoch 13, Batch 1100, Loss: 0.2850800035521388\n",
            "Epoch 13, Batch 1200, Loss: 0.3307094802707434\n",
            "Epoch 13, Batch 1300, Loss: 0.29366986341774465\n",
            "Epoch 13, Batch 1400, Loss: 0.3306024371087551\n",
            "Epoch 13, Batch 1500, Loss: 0.3020385022461414\n",
            "Validation Loss: 0.338422557135423, Learning Rate: 0.001000\n",
            "Epoch 14, Batch 100, Loss: 0.2863205722719431\n",
            "Epoch 14, Batch 200, Loss: 0.2878950512036681\n",
            "Epoch 14, Batch 300, Loss: 0.3046150214970112\n",
            "Epoch 14, Batch 400, Loss: 0.2869941759854555\n",
            "Epoch 14, Batch 500, Loss: 0.3073450418561697\n",
            "Epoch 14, Batch 600, Loss: 0.29738934252411126\n",
            "Epoch 14, Batch 700, Loss: 0.31650892324745655\n",
            "Epoch 14, Batch 800, Loss: 0.30060802452266217\n",
            "Epoch 14, Batch 900, Loss: 0.3220129692927003\n",
            "Epoch 14, Batch 1000, Loss: 0.31663877055048945\n",
            "Epoch 14, Batch 1100, Loss: 0.29654229305684565\n",
            "Epoch 14, Batch 1200, Loss: 0.30363737888634207\n",
            "Epoch 14, Batch 1300, Loss: 0.3172881940752268\n",
            "Epoch 14, Batch 1400, Loss: 0.3138024555519223\n",
            "Epoch 14, Batch 1500, Loss: 0.31386176563799384\n",
            "Validation Loss: 0.3489764158427715, Learning Rate: 0.000100\n",
            "Epoch 15, Batch 100, Loss: 0.2905004391074181\n",
            "Epoch 15, Batch 200, Loss: 0.2589091109111905\n",
            "Epoch 15, Batch 300, Loss: 0.2625610695406795\n",
            "Epoch 15, Batch 400, Loss: 0.25741887755692006\n",
            "Epoch 15, Batch 500, Loss: 0.2483406014740467\n",
            "Epoch 15, Batch 600, Loss: 0.26503776740282775\n",
            "Epoch 15, Batch 700, Loss: 0.2740391532331705\n",
            "Epoch 15, Batch 800, Loss: 0.25249524928629397\n",
            "Epoch 15, Batch 900, Loss: 0.26696150362491605\n",
            "Epoch 15, Batch 1000, Loss: 0.2592381050437689\n",
            "Epoch 15, Batch 1100, Loss: 0.26396779634058476\n",
            "Epoch 15, Batch 1200, Loss: 0.24579965092241765\n",
            "Epoch 15, Batch 1300, Loss: 0.24989212080836296\n",
            "Epoch 15, Batch 1400, Loss: 0.24982808522880076\n",
            "Epoch 15, Batch 1500, Loss: 0.2515146155655384\n",
            "Validation Loss: 0.2946988799373309, Learning Rate: 0.000100\n"
          ]
        }
      ],
      "source": [
        "model = MLP([128], [nn.ELU()])\n",
        "optimizer = optim.RMSprop(model.parameters(), lr=0.001, weight_decay=1e-4)\n",
        "train_losses, val_losses = train_config(model, train_subset, val_subset, optimizer, batch_size=32, num_epochs=15, use_tqdm=False)"
      ]
    },
    {
      "cell_type": "code",
      "execution_count": 68,
      "metadata": {},
      "outputs": [
        {
          "name": "stderr",
          "output_type": "stream",
          "text": [
            "C:\\Users\\rgbmr\\AppData\\Local\\Temp\\ipykernel_12140\\2481862998.py:4: MatplotlibDeprecationWarning:\n",
            "\n",
            "The get_cmap function was deprecated in Matplotlib 3.7 and will be removed in 3.11. Use ``matplotlib.colormaps[name]`` or ``matplotlib.colormaps.get_cmap()`` or ``pyplot.get_cmap()`` instead.\n",
            "\n"
          ]
        },
        {
          "data": {
            "image/png": "[encoded data removed]",
            "text/plain": [
              "<Figure size 1200x600 with 1 Axes>"
            ]
          },
          "metadata": {},
          "output_type": "display_data"
        }
      ],
      "source": [
        "# plot_losses(all_losses, all_val_losses)\n",
        "plot_losses([train_losses], [val_losses]) # only one configuration"
      ]
    },
    {
      "cell_type": "code",
      "execution_count": 69,
      "metadata": {
        "colab": {
          "base_uri": "https://localhost:8080/"
        },
        "id": "RNMCpk60EaXr",
        "outputId": "c8ffbf3e-bd21-4e29-8428-8405792a0d9a"
      },
      "outputs": [
        {
          "name": "stdout",
          "output_type": "stream",
          "text": [
            "Accuracy on test set: 0.8862\n"
          ]
        }
      ],
      "source": [
        "# Evaluating the model\n",
        "model.eval()\n",
        "correct = 0\n",
        "total = 0\n",
        "test_loader = DataLoader(test_dataset, batch_size=32, shuffle=False)\n",
        "with torch.no_grad():\n",
        "    for data in test_loader:\n",
        "        images, labels = data\n",
        "        outputs = model(images)\n",
        "        _, predicted = torch.max(outputs.data, 1)\n",
        "        total += labels.size(0)\n",
        "        correct += (predicted == labels).sum().item()\n",
        "\n",
        "print(f'Accuracy on test set: { correct / total}')"
      ]
    },
    {
      "cell_type": "code",
      "execution_count": 47,
      "metadata": {
        "colab": {
          "base_uri": "https://localhost:8080/",
          "height": 428
        },
        "id": "J2GkmLeQEeZV",
        "outputId": "cb5bae66-d3d2-4163-deef-5828aad6b068"
      },
      "outputs": [
        {
          "data": {
            "image/png": "[encoded data removed]",
            "text/plain": [
              "<Figure size 640x480 with 1 Axes>"
            ]
          },
          "metadata": {},
          "output_type": "display_data"
        }
      ],
      "source": [
        "image_index = 27\n",
        "test_image, test_label = test_dataset[image_index]\n",
        "\n",
        "with torch.no_grad():\n",
        "    model.eval()\n",
        "    output = model(test_image.unsqueeze(0))\n",
        "    _, predicted_label = torch.max(output, 1)\n",
        "\n",
        "test_image_numpy = test_image.squeeze().numpy()\n",
        "\n",
        "plt.imshow(test_image_numpy, cmap='gray')\n",
        "plt.title(f'Predicted Label: {labels_map[predicted_label.item()]}, Actual Label: {labels_map[test_label]}')\n",
        "plt.axis('off')\n",
        "plt.show()"
      ]
    },
    {
      "cell_type": "markdown",
      "metadata": {
        "id": "K5nxrEoAHAUX"
      },
      "source": [
        "## PART - 3\n",
        "\n",
        "### FMNIST CNN Implimentation with Keras"
      ]
    },
    {
      "cell_type": "code",
      "execution_count": 49,
      "metadata": {},
      "outputs": [
        {
          "name": "stdout",
          "output_type": "stream",
          "text": [
            "Collecting tensorflow\n",
            "  Downloading tensorflow-2.18.0-cp311-cp311-win_amd64.whl.metadata (3.3 kB)\n",
            "Collecting tensorflow-intel==2.18.0 (from tensorflow)\n",
            "  Downloading tensorflow_intel-2.18.0-cp311-cp311-win_amd64.whl.metadata (4.9 kB)\n",
            "Collecting absl-py>=1.0.0 (from tensorflow-intel==2.18.0->tensorflow)\n",
            "  Using cached absl_py-2.1.0-py3-none-any.whl.metadata (2.3 kB)\n",
            "Collecting astunparse>=1.6.0 (from tensorflow-intel==2.18.0->tensorflow)\n",
            "  Using cached astunparse-1.6.3-py2.py3-none-any.whl.metadata (4.4 kB)\n",
            "Collecting flatbuffers>=24.3.25 (from tensorflow-intel==2.18.0->tensorflow)\n",
            "  Using cached flatbuffers-24.3.25-py2.py3-none-any.whl.metadata (850 bytes)\n",
            "Collecting gast!=0.5.0,!=0.5.1,!=0.5.2,>=0.2.1 (from tensorflow-intel==2.18.0->tensorflow)\n",
            "  Downloading gast-0.6.0-py3-none-any.whl.metadata (1.3 kB)\n",
            "Collecting google-pasta>=0.1.1 (from tensorflow-intel==2.18.0->tensorflow)\n",
            "  Using cached google_pasta-0.2.0-py3-none-any.whl.metadata (814 bytes)\n",
            "Collecting libclang>=13.0.0 (from tensorflow-intel==2.18.0->tensorflow)\n",
            "  Using cached libclang-18.1.1-py2.py3-none-win_amd64.whl.metadata (5.3 kB)\n",
            "Collecting opt-einsum>=2.3.2 (from tensorflow-intel==2.18.0->tensorflow)\n",
            "  Downloading opt_einsum-3.4.0-py3-none-any.whl.metadata (6.3 kB)\n",
            "Requirement already satisfied: packaging in c:\\users\\rgbmr\\anaconda3\\envs\\project2\\lib\\site-packages (from tensorflow-intel==2.18.0->tensorflow) (24.1)\n",
            "Collecting protobuf!=4.21.0,!=4.21.1,!=4.21.2,!=4.21.3,!=4.21.4,!=4.21.5,<6.0.0dev,>=3.20.3 (from tensorflow-intel==2.18.0->tensorflow)\n",
            "  Downloading protobuf-5.28.3-cp310-abi3-win_amd64.whl.metadata (592 bytes)\n",
            "Collecting requests<3,>=2.21.0 (from tensorflow-intel==2.18.0->tensorflow)\n",
            "  Downloading requests-2.32.3-py3-none-any.whl.metadata (4.6 kB)\n",
            "Requirement already satisfied: setuptools in c:\\users\\rgbmr\\anaconda3\\envs\\project2\\lib\\site-packages (from tensorflow-intel==2.18.0->tensorflow) (75.1.0)\n",
            "Requirement already satisfied: six>=1.12.0 in c:\\users\\rgbmr\\anaconda3\\envs\\project2\\lib\\site-packages (from tensorflow-intel==2.18.0->tensorflow) (1.16.0)\n",
            "Collecting termcolor>=1.1.0 (from tensorflow-intel==2.18.0->tensorflow)\n",
            "  Downloading termcolor-2.5.0-py3-none-any.whl.metadata (6.1 kB)\n",
            "Requirement already satisfied: typing-extensions>=3.6.6 in c:\\users\\rgbmr\\anaconda3\\envs\\project2\\lib\\site-packages (from tensorflow-intel==2.18.0->tensorflow) (4.11.0)\n",
            "Collecting wrapt>=1.11.0 (from tensorflow-intel==2.18.0->tensorflow)\n",
            "  Downloading wrapt-1.16.0-cp311-cp311-win_amd64.whl.metadata (6.8 kB)\n",
            "Collecting grpcio<2.0,>=1.24.3 (from tensorflow-intel==2.18.0->tensorflow)\n",
            "  Downloading grpcio-1.67.0-cp311-cp311-win_amd64.whl.metadata (4.0 kB)\n",
            "Collecting tensorboard<2.19,>=2.18 (from tensorflow-intel==2.18.0->tensorflow)\n",
            "  Downloading tensorboard-2.18.0-py3-none-any.whl.metadata (1.6 kB)\n",
            "Collecting keras>=3.5.0 (from tensorflow-intel==2.18.0->tensorflow)\n",
            "  Downloading keras-3.6.0-py3-none-any.whl.metadata (5.8 kB)\n",
            "Collecting numpy<2.1.0,>=1.26.0 (from tensorflow-intel==2.18.0->tensorflow)\n",
            "  Downloading numpy-2.0.2-cp311-cp311-win_amd64.whl.metadata (59 kB)\n",
            "Collecting h5py>=3.11.0 (from tensorflow-intel==2.18.0->tensorflow)\n",
            "  Downloading h5py-3.12.1-cp311-cp311-win_amd64.whl.metadata (2.5 kB)\n",
            "Collecting ml-dtypes<0.5.0,>=0.4.0 (from tensorflow-intel==2.18.0->tensorflow)\n",
            "  Downloading ml_dtypes-0.4.1-cp311-cp311-win_amd64.whl.metadata (20 kB)\n",
            "Collecting tensorflow-io-gcs-filesystem>=0.23.1 (from tensorflow-intel==2.18.0->tensorflow)\n",
            "  Downloading tensorflow_io_gcs_filesystem-0.31.0-cp311-cp311-win_amd64.whl.metadata (14 kB)\n",
            "Requirement already satisfied: wheel<1.0,>=0.23.0 in c:\\users\\rgbmr\\anaconda3\\envs\\project2\\lib\\site-packages (from astunparse>=1.6.0->tensorflow-intel==2.18.0->tensorflow) (0.44.0)\n",
            "Collecting rich (from keras>=3.5.0->tensorflow-intel==2.18.0->tensorflow)\n",
            "  Downloading rich-13.9.3-py3-none-any.whl.metadata (18 kB)\n",
            "Collecting namex (from keras>=3.5.0->tensorflow-intel==2.18.0->tensorflow)\n",
            "  Using cached namex-0.0.8-py3-none-any.whl.metadata (246 bytes)\n",
            "Collecting optree (from keras>=3.5.0->tensorflow-intel==2.18.0->tensorflow)\n",
            "  Downloading optree-0.13.0-cp311-cp311-win_amd64.whl.metadata (48 kB)\n",
            "Collecting charset-normalizer<4,>=2 (from requests<3,>=2.21.0->tensorflow-intel==2.18.0->tensorflow)\n",
            "  Downloading charset_normalizer-3.4.0-cp311-cp311-win_amd64.whl.metadata (34 kB)\n",
            "Collecting idna<4,>=2.5 (from requests<3,>=2.21.0->tensorflow-intel==2.18.0->tensorflow)\n",
            "  Downloading idna-3.10-py3-none-any.whl.metadata (10 kB)\n",
            "Collecting urllib3<3,>=1.21.1 (from requests<3,>=2.21.0->tensorflow-intel==2.18.0->tensorflow)\n",
            "  Downloading urllib3-2.2.3-py3-none-any.whl.metadata (6.5 kB)\n",
            "Collecting certifi>=2017.4.17 (from requests<3,>=2.21.0->tensorflow-intel==2.18.0->tensorflow)\n",
            "  Downloading certifi-2024.8.30-py3-none-any.whl.metadata (2.2 kB)\n",
            "Collecting markdown>=2.6.8 (from tensorboard<2.19,>=2.18->tensorflow-intel==2.18.0->tensorflow)\n",
            "  Downloading Markdown-3.7-py3-none-any.whl.metadata (7.0 kB)\n",
            "Collecting tensorboard-data-server<0.8.0,>=0.7.0 (from tensorboard<2.19,>=2.18->tensorflow-intel==2.18.0->tensorflow)\n",
            "  Using cached tensorboard_data_server-0.7.2-py3-none-any.whl.metadata (1.1 kB)\n",
            "Collecting werkzeug>=1.0.1 (from tensorboard<2.19,>=2.18->tensorflow-intel==2.18.0->tensorflow)\n",
            "  Downloading werkzeug-3.0.6-py3-none-any.whl.metadata (3.7 kB)\n",
            "Requirement already satisfied: MarkupSafe>=2.1.1 in c:\\users\\rgbmr\\anaconda3\\envs\\project2\\lib\\site-packages (from werkzeug>=1.0.1->tensorboard<2.19,>=2.18->tensorflow-intel==2.18.0->tensorflow) (2.1.3)\n",
            "Collecting markdown-it-py>=2.2.0 (from rich->keras>=3.5.0->tensorflow-intel==2.18.0->tensorflow)\n",
            "  Using cached markdown_it_py-3.0.0-py3-none-any.whl.metadata (6.9 kB)\n",
            "Requirement already satisfied: pygments<3.0.0,>=2.13.0 in c:\\users\\rgbmr\\anaconda3\\envs\\project2\\lib\\site-packages (from rich->keras>=3.5.0->tensorflow-intel==2.18.0->tensorflow) (2.15.1)\n",
            "Collecting mdurl~=0.1 (from markdown-it-py>=2.2.0->rich->keras>=3.5.0->tensorflow-intel==2.18.0->tensorflow)\n",
            "  Using cached mdurl-0.1.2-py3-none-any.whl.metadata (1.6 kB)\n",
            "Downloading tensorflow-2.18.0-cp311-cp311-win_amd64.whl (7.5 kB)\n",
            "Downloading tensorflow_intel-2.18.0-cp311-cp311-win_amd64.whl (390.2 MB)\n",
            "   ---------------------------------------- 0.0/390.2 MB ? eta -:--:--\n",
            "   ---------------------------------------- 2.6/390.2 MB 16.7 MB/s eta 0:00:24\n",
            "    --------------------------------------- 5.8/390.2 MB 16.0 MB/s eta 0:00:25\n",
            "    --------------------------------------- 9.7/390.2 MB 17.3 MB/s eta 0:00:23\n",
            "   - -------------------------------------- 14.7/390.2 MB 18.8 MB/s eta 0:00:20\n",
            "   -- ------------------------------------- 19.7/390.2 MB 20.0 MB/s eta 0:00:19\n",
            "   -- ------------------------------------- 25.4/390.2 MB 21.2 MB/s eta 0:00:18\n",
            "   --- ------------------------------------ 29.6/390.2 MB 21.1 MB/s eta 0:00:18\n",
            "   --- ------------------------------------ 34.3/390.2 MB 21.4 MB/s eta 0:00:17\n",
            "   ---- ----------------------------------- 39.1/390.2 MB 21.6 MB/s eta 0:00:17\n",
            "   ---- ----------------------------------- 44.3/390.2 MB 22.0 MB/s eta 0:00:16\n",
            "   ---- ----------------------------------- 48.0/390.2 MB 21.7 MB/s eta 0:00:16\n",
            "   ----- ---------------------------------- 50.9/390.2 MB 21.0 MB/s eta 0:00:17\n",
            "   ----- ---------------------------------- 54.0/390.2 MB 20.6 MB/s eta 0:00:17\n",
            "   ----- ---------------------------------- 57.4/390.2 MB 20.2 MB/s eta 0:00:17\n",
            "   ------ --------------------------------- 60.8/390.2 MB 20.0 MB/s eta 0:00:17\n",
            "   ------ --------------------------------- 63.4/390.2 MB 19.6 MB/s eta 0:00:17\n",
            "   ------ --------------------------------- 66.1/390.2 MB 19.1 MB/s eta 0:00:18\n",
            "   ------- -------------------------------- 68.7/390.2 MB 18.8 MB/s eta 0:00:18\n",
            "   ------- -------------------------------- 71.0/390.2 MB 18.3 MB/s eta 0:00:18\n",
            "   ------- -------------------------------- 73.7/390.2 MB 17.9 MB/s eta 0:00:18\n",
            "   ------- -------------------------------- 75.0/390.2 MB 17.4 MB/s eta 0:00:19\n",
            "   ------- -------------------------------- 76.5/390.2 MB 17.0 MB/s eta 0:00:19\n",
            "   -------- ------------------------------- 78.1/390.2 MB 16.5 MB/s eta 0:00:19\n",
            "   -------- ------------------------------- 79.7/390.2 MB 16.1 MB/s eta 0:00:20\n",
            "   -------- ------------------------------- 81.3/390.2 MB 15.8 MB/s eta 0:00:20\n",
            "   -------- ------------------------------- 82.8/390.2 MB 15.5 MB/s eta 0:00:20\n",
            "   -------- ------------------------------- 84.4/390.2 MB 15.2 MB/s eta 0:00:21\n",
            "   -------- ------------------------------- 86.0/390.2 MB 14.9 MB/s eta 0:00:21\n",
            "   -------- ------------------------------- 87.6/390.2 MB 14.6 MB/s eta 0:00:21\n",
            "   --------- ------------------------------ 88.6/390.2 MB 14.4 MB/s eta 0:00:21\n",
            "   --------- ------------------------------ 89.7/390.2 MB 14.1 MB/s eta 0:00:22\n",
            "   --------- ------------------------------ 91.0/390.2 MB 13.8 MB/s eta 0:00:22\n",
            "   --------- ------------------------------ 92.0/390.2 MB 13.5 MB/s eta 0:00:23\n",
            "   --------- ------------------------------ 93.3/390.2 MB 13.2 MB/s eta 0:00:23\n",
            "   --------- ------------------------------ 94.6/390.2 MB 13.0 MB/s eta 0:00:23\n",
            "   --------- ------------------------------ 95.9/390.2 MB 12.8 MB/s eta 0:00:23\n",
            "   --------- ------------------------------ 97.3/390.2 MB 12.6 MB/s eta 0:00:24\n",
            "   ---------- ----------------------------- 98.3/390.2 MB 12.5 MB/s eta 0:00:24\n",
            "   ---------- ----------------------------- 99.4/390.2 MB 12.3 MB/s eta 0:00:24\n",
            "   ---------- ---------------------------- 100.4/390.2 MB 12.1 MB/s eta 0:00:25\n",
            "   ---------- ---------------------------- 101.2/390.2 MB 11.9 MB/s eta 0:00:25\n",
            "   ---------- ---------------------------- 102.2/390.2 MB 11.7 MB/s eta 0:00:25\n",
            "   ---------- ---------------------------- 103.3/390.2 MB 11.5 MB/s eta 0:00:25\n",
            "   ---------- ---------------------------- 104.3/390.2 MB 11.4 MB/s eta 0:00:26\n",
            "   ---------- ---------------------------- 105.6/390.2 MB 11.3 MB/s eta 0:00:26\n",
            "   ---------- ---------------------------- 107.0/390.2 MB 11.2 MB/s eta 0:00:26\n",
            "   ---------- ---------------------------- 108.3/390.2 MB 11.1 MB/s eta 0:00:26\n",
            "   ---------- ---------------------------- 109.6/390.2 MB 11.0 MB/s eta 0:00:26\n",
            "   ----------- --------------------------- 111.1/390.2 MB 10.9 MB/s eta 0:00:26\n",
            "   ----------- --------------------------- 112.5/390.2 MB 10.8 MB/s eta 0:00:26\n",
            "   ----------- --------------------------- 113.8/390.2 MB 10.7 MB/s eta 0:00:26\n",
            "   ----------- --------------------------- 115.1/390.2 MB 10.7 MB/s eta 0:00:26\n",
            "   ----------- --------------------------- 116.7/390.2 MB 10.6 MB/s eta 0:00:26\n",
            "   ----------- --------------------------- 118.0/390.2 MB 10.5 MB/s eta 0:00:26\n",
            "   ----------- --------------------------- 119.5/390.2 MB 10.4 MB/s eta 0:00:26\n",
            "   ------------ -------------------------- 121.1/390.2 MB 10.4 MB/s eta 0:00:26\n",
            "   ------------ -------------------------- 122.7/390.2 MB 10.3 MB/s eta 0:00:26\n",
            "   ------------ -------------------------- 124.3/390.2 MB 10.3 MB/s eta 0:00:26\n",
            "   ------------ -------------------------- 125.8/390.2 MB 10.3 MB/s eta 0:00:26\n",
            "   ------------ -------------------------- 127.7/390.2 MB 10.2 MB/s eta 0:00:26\n",
            "   ------------ -------------------------- 129.2/390.2 MB 10.2 MB/s eta 0:00:26\n",
            "   ------------- ------------------------- 130.8/390.2 MB 10.1 MB/s eta 0:00:26\n",
            "   ------------- ------------------------- 132.6/390.2 MB 10.1 MB/s eta 0:00:26\n",
            "   ------------- ------------------------- 134.5/390.2 MB 10.1 MB/s eta 0:00:26\n",
            "   ------------- ------------------------- 136.3/390.2 MB 10.1 MB/s eta 0:00:26\n",
            "   ------------- ------------------------- 138.1/390.2 MB 10.0 MB/s eta 0:00:26\n",
            "   ------------- ------------------------- 140.0/390.2 MB 10.0 MB/s eta 0:00:25\n",
            "   -------------- ------------------------ 142.1/390.2 MB 10.0 MB/s eta 0:00:25\n",
            "   -------------- ------------------------ 143.9/390.2 MB 10.0 MB/s eta 0:00:25\n",
            "   -------------- ------------------------ 145.8/390.2 MB 10.0 MB/s eta 0:00:25\n",
            "   -------------- ------------------------ 147.8/390.2 MB 10.0 MB/s eta 0:00:25\n",
            "   -------------- ------------------------ 149.7/390.2 MB 10.0 MB/s eta 0:00:25\n",
            "   --------------- ----------------------- 151.8/390.2 MB 10.0 MB/s eta 0:00:24\n",
            "   --------------- ------------------------ 153.4/390.2 MB 9.9 MB/s eta 0:00:24\n",
            "   --------------- ------------------------ 155.2/390.2 MB 9.9 MB/s eta 0:00:24\n",
            "   ---------------- ----------------------- 157.5/390.2 MB 9.9 MB/s eta 0:00:24\n",
            "   ---------------- ----------------------- 159.6/390.2 MB 9.9 MB/s eta 0:00:24\n",
            "   ---------------- ---------------------- 162.0/390.2 MB 10.0 MB/s eta 0:00:23\n",
            "   ---------------- ----------------------- 163.8/390.2 MB 9.9 MB/s eta 0:00:23\n",
            "   ---------------- ---------------------- 166.2/390.2 MB 10.0 MB/s eta 0:00:23\n",
            "   ---------------- ---------------------- 168.6/390.2 MB 10.0 MB/s eta 0:00:23\n",
            "   ----------------- --------------------- 170.7/390.2 MB 10.0 MB/s eta 0:00:23\n",
            "   ----------------- --------------------- 173.0/390.2 MB 10.0 MB/s eta 0:00:22\n",
            "   ----------------- --------------------- 175.1/390.2 MB 10.0 MB/s eta 0:00:22\n",
            "   ----------------- --------------------- 177.5/390.2 MB 10.0 MB/s eta 0:00:22\n",
            "   ----------------- --------------------- 179.8/390.2 MB 10.0 MB/s eta 0:00:21\n",
            "   ------------------ -------------------- 182.2/390.2 MB 10.0 MB/s eta 0:00:21\n",
            "   ------------------ -------------------- 184.5/390.2 MB 10.1 MB/s eta 0:00:21\n",
            "   ------------------ -------------------- 186.9/390.2 MB 10.1 MB/s eta 0:00:21\n",
            "   ------------------ -------------------- 189.5/390.2 MB 10.1 MB/s eta 0:00:20\n",
            "   ------------------- ------------------- 191.9/390.2 MB 10.1 MB/s eta 0:00:20\n",
            "   ------------------- ------------------- 194.8/390.2 MB 10.1 MB/s eta 0:00:20\n",
            "   ------------------- ------------------- 197.1/390.2 MB 10.2 MB/s eta 0:00:20\n",
            "   ------------------- ------------------- 199.5/390.2 MB 10.2 MB/s eta 0:00:19\n",
            "   -------------------- ------------------ 201.9/390.2 MB 10.2 MB/s eta 0:00:19\n",
            "   -------------------- ------------------ 203.9/390.2 MB 10.2 MB/s eta 0:00:19\n",
            "   -------------------- ------------------ 205.3/390.2 MB 10.1 MB/s eta 0:00:19\n",
            "   -------------------- ------------------ 207.6/390.2 MB 10.1 MB/s eta 0:00:19\n",
            "   -------------------- ------------------ 209.2/390.2 MB 10.1 MB/s eta 0:00:18\n",
            "   --------------------- ----------------- 210.8/390.2 MB 10.1 MB/s eta 0:00:18\n",
            "   --------------------- ----------------- 212.9/390.2 MB 10.1 MB/s eta 0:00:18\n",
            "   --------------------- ----------------- 214.2/390.2 MB 10.1 MB/s eta 0:00:18\n",
            "   --------------------- ----------------- 215.7/390.2 MB 10.0 MB/s eta 0:00:18\n",
            "   --------------------- ----------------- 217.3/390.2 MB 10.0 MB/s eta 0:00:18\n",
            "   --------------------- ----------------- 218.9/390.2 MB 10.0 MB/s eta 0:00:18\n",
            "   ---------------------- ---------------- 221.0/390.2 MB 10.0 MB/s eta 0:00:17\n",
            "   ---------------------- ---------------- 222.6/390.2 MB 10.0 MB/s eta 0:00:17\n",
            "   ---------------------- ----------------- 223.9/390.2 MB 9.9 MB/s eta 0:00:17\n",
            "   ----------------------- ---------------- 225.4/390.2 MB 9.9 MB/s eta 0:00:17\n",
            "   ----------------------- ---------------- 226.8/390.2 MB 9.9 MB/s eta 0:00:17\n",
            "   ----------------------- ---------------- 228.1/390.2 MB 9.8 MB/s eta 0:00:17\n",
            "   ----------------------- ---------------- 229.6/390.2 MB 9.8 MB/s eta 0:00:17\n",
            "   ----------------------- ---------------- 230.9/390.2 MB 9.8 MB/s eta 0:00:17\n",
            "   ----------------------- ---------------- 232.5/390.2 MB 9.7 MB/s eta 0:00:17\n",
            "   ----------------------- ---------------- 233.6/390.2 MB 9.7 MB/s eta 0:00:17\n",
            "   ------------------------ --------------- 235.1/390.2 MB 9.7 MB/s eta 0:00:17\n",
            "   ------------------------ --------------- 236.5/390.2 MB 9.7 MB/s eta 0:00:16\n",
            "   ------------------------ --------------- 237.8/390.2 MB 9.6 MB/s eta 0:00:16\n",
            "   ------------------------ --------------- 239.1/390.2 MB 9.6 MB/s eta 0:00:16\n",
            "   ------------------------ --------------- 240.1/390.2 MB 9.6 MB/s eta 0:00:16\n",
            "   ------------------------ --------------- 241.2/390.2 MB 9.5 MB/s eta 0:00:16\n",
            "   ------------------------ --------------- 242.5/390.2 MB 9.5 MB/s eta 0:00:16\n",
            "   ------------------------ --------------- 243.5/390.2 MB 9.5 MB/s eta 0:00:16\n",
            "   ------------------------- -------------- 244.8/390.2 MB 9.4 MB/s eta 0:00:16\n",
            "   ------------------------- -------------- 246.2/390.2 MB 9.4 MB/s eta 0:00:16\n",
            "   ------------------------- -------------- 247.5/390.2 MB 9.4 MB/s eta 0:00:16\n",
            "   ------------------------- -------------- 248.8/390.2 MB 9.4 MB/s eta 0:00:16\n",
            "   ------------------------- -------------- 250.1/390.2 MB 9.3 MB/s eta 0:00:16\n",
            "   ------------------------- -------------- 251.4/390.2 MB 9.3 MB/s eta 0:00:15\n",
            "   ------------------------- -------------- 252.7/390.2 MB 9.3 MB/s eta 0:00:15\n",
            "   -------------------------- ------------- 254.3/390.2 MB 9.3 MB/s eta 0:00:15\n",
            "   -------------------------- ------------- 256.1/390.2 MB 9.3 MB/s eta 0:00:15\n",
            "   -------------------------- ------------- 257.7/390.2 MB 9.3 MB/s eta 0:00:15\n",
            "   -------------------------- ------------- 259.5/390.2 MB 9.2 MB/s eta 0:00:15\n",
            "   -------------------------- ------------- 261.1/390.2 MB 9.2 MB/s eta 0:00:14\n",
            "   -------------------------- ------------- 262.9/390.2 MB 9.2 MB/s eta 0:00:14\n",
            "   --------------------------- ------------ 264.5/390.2 MB 9.2 MB/s eta 0:00:14\n",
            "   --------------------------- ------------ 266.3/390.2 MB 9.1 MB/s eta 0:00:14\n",
            "   --------------------------- ------------ 267.4/390.2 MB 9.1 MB/s eta 0:00:14\n",
            "   --------------------------- ------------ 268.2/390.2 MB 9.0 MB/s eta 0:00:14\n",
            "   --------------------------- ------------ 269.0/390.2 MB 9.0 MB/s eta 0:00:14\n",
            "   --------------------------- ------------ 270.0/390.2 MB 8.9 MB/s eta 0:00:14\n",
            "   --------------------------- ------------ 270.8/390.2 MB 8.9 MB/s eta 0:00:14\n",
            "   --------------------------- ------------ 271.8/390.2 MB 8.9 MB/s eta 0:00:14\n",
            "   --------------------------- ------------ 272.9/390.2 MB 8.8 MB/s eta 0:00:14\n",
            "   ---------------------------- ----------- 273.9/390.2 MB 8.8 MB/s eta 0:00:14\n",
            "   ---------------------------- ----------- 275.0/390.2 MB 8.7 MB/s eta 0:00:14\n",
            "   ---------------------------- ----------- 276.3/390.2 MB 8.5 MB/s eta 0:00:14\n",
            "   ---------------------------- ----------- 277.3/390.2 MB 8.4 MB/s eta 0:00:14\n",
            "   ---------------------------- ----------- 278.4/390.2 MB 8.3 MB/s eta 0:00:14\n",
            "   ---------------------------- ----------- 279.7/390.2 MB 8.2 MB/s eta 0:00:14\n",
            "   ---------------------------- ----------- 281.0/390.2 MB 8.0 MB/s eta 0:00:14\n",
            "   ---------------------------- ----------- 282.1/390.2 MB 7.9 MB/s eta 0:00:14\n",
            "   ----------------------------- ---------- 283.4/390.2 MB 7.8 MB/s eta 0:00:14\n",
            "   ----------------------------- ---------- 284.4/390.2 MB 7.8 MB/s eta 0:00:14\n",
            "   ----------------------------- ---------- 286.0/390.2 MB 7.7 MB/s eta 0:00:14\n",
            "   ----------------------------- ---------- 287.3/390.2 MB 7.6 MB/s eta 0:00:14\n",
            "   ----------------------------- ---------- 288.6/390.2 MB 7.6 MB/s eta 0:00:14\n",
            "   ----------------------------- ---------- 289.9/390.2 MB 7.5 MB/s eta 0:00:14\n",
            "   ----------------------------- ---------- 291.5/390.2 MB 7.5 MB/s eta 0:00:14\n",
            "   ------------------------------ --------- 293.1/390.2 MB 7.5 MB/s eta 0:00:13\n",
            "   ------------------------------ --------- 294.4/390.2 MB 7.4 MB/s eta 0:00:13\n",
            "   ------------------------------ --------- 296.0/390.2 MB 7.4 MB/s eta 0:00:13\n",
            "   ------------------------------ --------- 297.3/390.2 MB 7.4 MB/s eta 0:00:13\n",
            "   ------------------------------ --------- 299.1/390.2 MB 7.4 MB/s eta 0:00:13\n",
            "   ------------------------------ --------- 300.9/390.2 MB 7.4 MB/s eta 0:00:13\n",
            "   ------------------------------- -------- 302.5/390.2 MB 7.4 MB/s eta 0:00:12\n",
            "   ------------------------------- -------- 304.3/390.2 MB 7.4 MB/s eta 0:00:12\n",
            "   ------------------------------- -------- 306.2/390.2 MB 7.4 MB/s eta 0:00:12\n",
            "   ------------------------------- -------- 308.0/390.2 MB 7.4 MB/s eta 0:00:12\n",
            "   ------------------------------- -------- 309.9/390.2 MB 7.5 MB/s eta 0:00:11\n",
            "   ------------------------------- -------- 311.7/390.2 MB 7.5 MB/s eta 0:00:11\n",
            "   -------------------------------- ------- 313.5/390.2 MB 7.5 MB/s eta 0:00:11\n",
            "   -------------------------------- ------- 315.6/390.2 MB 7.5 MB/s eta 0:00:10\n",
            "   -------------------------------- ------- 317.5/390.2 MB 7.5 MB/s eta 0:00:10\n",
            "   -------------------------------- ------- 319.6/390.2 MB 7.6 MB/s eta 0:00:10\n",
            "   -------------------------------- ------- 321.9/390.2 MB 7.6 MB/s eta 0:00:09\n",
            "   --------------------------------- ------ 323.7/390.2 MB 7.6 MB/s eta 0:00:09\n",
            "   --------------------------------- ------ 325.6/390.2 MB 7.7 MB/s eta 0:00:09\n",
            "   --------------------------------- ------ 327.7/390.2 MB 7.7 MB/s eta 0:00:09\n",
            "   --------------------------------- ------ 329.8/390.2 MB 7.7 MB/s eta 0:00:08\n",
            "   ---------------------------------- ----- 332.1/390.2 MB 7.8 MB/s eta 0:00:08\n",
            "   ---------------------------------- ----- 334.2/390.2 MB 7.8 MB/s eta 0:00:08\n",
            "   ---------------------------------- ----- 336.3/390.2 MB 7.8 MB/s eta 0:00:07\n",
            "   ---------------------------------- ----- 338.4/390.2 MB 7.9 MB/s eta 0:00:07\n",
            "   ---------------------------------- ----- 340.8/390.2 MB 7.9 MB/s eta 0:00:07\n",
            "   ----------------------------------- ---- 343.1/390.2 MB 8.0 MB/s eta 0:00:06\n",
            "   ----------------------------------- ---- 345.8/390.2 MB 8.0 MB/s eta 0:00:06\n",
            "   ----------------------------------- ---- 348.1/390.2 MB 8.0 MB/s eta 0:00:06\n",
            "   ----------------------------------- ---- 350.5/390.2 MB 8.1 MB/s eta 0:00:05\n",
            "   ------------------------------------ --- 352.8/390.2 MB 8.1 MB/s eta 0:00:05\n",
            "   ------------------------------------ --- 355.2/390.2 MB 8.1 MB/s eta 0:00:05\n",
            "   ------------------------------------ --- 357.8/390.2 MB 8.2 MB/s eta 0:00:04\n",
            "   ------------------------------------ --- 360.2/390.2 MB 8.2 MB/s eta 0:00:04\n",
            "   ------------------------------------- -- 362.8/390.2 MB 8.3 MB/s eta 0:00:04\n",
            "   ------------------------------------- -- 366.0/390.2 MB 8.3 MB/s eta 0:00:03\n",
            "   ------------------------------------- -- 368.6/390.2 MB 8.3 MB/s eta 0:00:03\n",
            "   -------------------------------------- - 370.9/390.2 MB 8.4 MB/s eta 0:00:03\n",
            "   -------------------------------------- - 373.3/390.2 MB 8.4 MB/s eta 0:00:03\n",
            "   -------------------------------------- - 375.7/390.2 MB 8.4 MB/s eta 0:00:02\n",
            "   -------------------------------------- - 378.0/390.2 MB 8.5 MB/s eta 0:00:02\n",
            "   -------------------------------------- - 380.1/390.2 MB 8.5 MB/s eta 0:00:02\n",
            "   ---------------------------------------  380.6/390.2 MB 8.4 MB/s eta 0:00:02\n",
            "   ---------------------------------------  381.2/390.2 MB 8.4 MB/s eta 0:00:02\n",
            "   ---------------------------------------  381.4/390.2 MB 8.4 MB/s eta 0:00:02\n",
            "   ---------------------------------------  381.9/390.2 MB 8.3 MB/s eta 0:00:01\n",
            "   ---------------------------------------  382.5/390.2 MB 8.3 MB/s eta 0:00:01\n",
            "   ---------------------------------------  382.7/390.2 MB 8.2 MB/s eta 0:00:01\n",
            "   ---------------------------------------  383.3/390.2 MB 8.2 MB/s eta 0:00:01\n",
            "   ---------------------------------------  383.8/390.2 MB 8.2 MB/s eta 0:00:01\n",
            "   ---------------------------------------  384.3/390.2 MB 8.1 MB/s eta 0:00:01\n",
            "   ---------------------------------------  385.1/390.2 MB 8.1 MB/s eta 0:00:01\n",
            "   ---------------------------------------  385.6/390.2 MB 8.0 MB/s eta 0:00:01\n",
            "   ---------------------------------------  386.4/390.2 MB 8.0 MB/s eta 0:00:01\n",
            "   ---------------------------------------  386.7/390.2 MB 7.9 MB/s eta 0:00:01\n",
            "   ---------------------------------------  387.2/390.2 MB 7.9 MB/s eta 0:00:01\n",
            "   ---------------------------------------  387.7/390.2 MB 7.8 MB/s eta 0:00:01\n",
            "   ---------------------------------------  388.2/390.2 MB 7.8 MB/s eta 0:00:01\n",
            "   ---------------------------------------  388.5/390.2 MB 7.8 MB/s eta 0:00:01\n",
            "   ---------------------------------------  389.3/390.2 MB 7.7 MB/s eta 0:00:01\n",
            "   ---------------------------------------  389.8/390.2 MB 7.6 MB/s eta 0:00:01\n",
            "   ---------------------------------------  390.1/390.2 MB 7.6 MB/s eta 0:00:01\n",
            "   ---------------------------------------  390.1/390.2 MB 7.6 MB/s eta 0:00:01\n",
            "   ---------------------------------------- 390.2/390.2 MB 7.4 MB/s eta 0:00:00\n",
            "Using cached absl_py-2.1.0-py3-none-any.whl (133 kB)\n",
            "Using cached astunparse-1.6.3-py2.py3-none-any.whl (12 kB)\n",
            "Using cached flatbuffers-24.3.25-py2.py3-none-any.whl (26 kB)\n",
            "Downloading gast-0.6.0-py3-none-any.whl (21 kB)\n",
            "Using cached google_pasta-0.2.0-py3-none-any.whl (57 kB)\n",
            "Downloading grpcio-1.67.0-cp311-cp311-win_amd64.whl (4.4 MB)\n",
            "   ---------------------------------------- 0.0/4.4 MB ? eta -:--:--\n",
            "   ---- ----------------------------------- 0.5/4.4 MB 3.4 MB/s eta 0:00:02\n",
            "   --------- ------------------------------ 1.0/4.4 MB 3.1 MB/s eta 0:00:02\n",
            "   ---------------- ----------------------- 1.8/4.4 MB 3.1 MB/s eta 0:00:01\n",
            "   ------------------------ --------------- 2.6/4.4 MB 3.2 MB/s eta 0:00:01\n",
            "   ------------------------------- -------- 3.4/4.4 MB 3.4 MB/s eta 0:00:01\n",
            "   -------------------------------------- - 4.2/4.4 MB 3.4 MB/s eta 0:00:01\n",
            "   ---------------------------------------- 4.4/4.4 MB 3.4 MB/s eta 0:00:00\n",
            "Downloading h5py-3.12.1-cp311-cp311-win_amd64.whl (3.0 MB)\n",
            "   ---------------------------------------- 0.0/3.0 MB ? eta -:--:--\n",
            "   ---------- ----------------------------- 0.8/3.0 MB 3.7 MB/s eta 0:00:01\n",
            "   -------------------- ------------------- 1.6/3.0 MB 4.0 MB/s eta 0:00:01\n",
            "   ------------------------------- -------- 2.4/3.0 MB 4.1 MB/s eta 0:00:01\n",
            "   ---------------------------------------- 3.0/3.0 MB 4.0 MB/s eta 0:00:00\n",
            "Downloading keras-3.6.0-py3-none-any.whl (1.2 MB)\n",
            "   ---------------------------------------- 0.0/1.2 MB ? eta -:--:--\n",
            "   -------------------------- ------------- 0.8/1.2 MB 4.8 MB/s eta 0:00:01\n",
            "   ---------------------------------------- 1.2/1.2 MB 4.2 MB/s eta 0:00:00\n",
            "Using cached libclang-18.1.1-py2.py3-none-win_amd64.whl (26.4 MB)\n",
            "Downloading ml_dtypes-0.4.1-cp311-cp311-win_amd64.whl (126 kB)\n",
            "Downloading numpy-2.0.2-cp311-cp311-win_amd64.whl (15.9 MB)\n",
            "   ---------------------------------------- 0.0/15.9 MB ? eta -:--:--\n",
            "   -- ------------------------------------- 1.0/15.9 MB 4.6 MB/s eta 0:00:04\n",
            "   ---- ----------------------------------- 1.8/15.9 MB 4.6 MB/s eta 0:00:04\n",
            "   ------- -------------------------------- 2.9/15.9 MB 4.5 MB/s eta 0:00:03\n",
            "   --------- ------------------------------ 3.7/15.9 MB 4.5 MB/s eta 0:00:03\n",
            "   ------------ --------------------------- 5.0/15.9 MB 4.7 MB/s eta 0:00:03\n",
            "   --------------- ------------------------ 6.0/15.9 MB 4.9 MB/s eta 0:00:03\n",
            "   ----------------- ---------------------- 7.1/15.9 MB 5.0 MB/s eta 0:00:02\n",
            "   -------------------- ------------------- 8.1/15.9 MB 4.9 MB/s eta 0:00:02\n",
            "   ---------------------- ----------------- 8.9/15.9 MB 4.9 MB/s eta 0:00:02\n",
            "   ------------------------- -------------- 10.0/15.9 MB 4.8 MB/s eta 0:00:02\n",
            "   --------------------------- ------------ 10.7/15.9 MB 4.8 MB/s eta 0:00:02\n",
            "   ----------------------------- ---------- 11.8/15.9 MB 4.8 MB/s eta 0:00:01\n",
            "   -------------------------------- ------- 12.8/15.9 MB 4.8 MB/s eta 0:00:01\n",
            "   ----------------------------------- ---- 14.2/15.9 MB 4.8 MB/s eta 0:00:01\n",
            "   -------------------------------------- - 15.2/15.9 MB 4.9 MB/s eta 0:00:01\n",
            "   ---------------------------------------- 15.9/15.9 MB 4.8 MB/s eta 0:00:00\n",
            "Downloading opt_einsum-3.4.0-py3-none-any.whl (71 kB)\n",
            "Downloading protobuf-5.28.3-cp310-abi3-win_amd64.whl (431 kB)\n",
            "Downloading requests-2.32.3-py3-none-any.whl (64 kB)\n",
            "Downloading tensorboard-2.18.0-py3-none-any.whl (5.5 MB)\n",
            "   ---------------------------------------- 0.0/5.5 MB ? eta -:--:--\n",
            "   ------- -------------------------------- 1.0/5.5 MB 5.6 MB/s eta 0:00:01\n",
            "   --------------- ------------------------ 2.1/5.5 MB 5.6 MB/s eta 0:00:01\n",
            "   ------------------------ --------------- 3.4/5.5 MB 5.6 MB/s eta 0:00:01\n",
            "   ---------------------------------- ----- 4.7/5.5 MB 5.7 MB/s eta 0:00:01\n",
            "   ---------------------------------------- 5.5/5.5 MB 5.7 MB/s eta 0:00:00\n",
            "Downloading tensorflow_io_gcs_filesystem-0.31.0-cp311-cp311-win_amd64.whl (1.5 MB)\n",
            "   ---------------------------------------- 0.0/1.5 MB ? eta -:--:--\n",
            "   ---------------------------- ----------- 1.0/1.5 MB 6.3 MB/s eta 0:00:01\n",
            "   ---------------------------------------- 1.5/1.5 MB 6.0 MB/s eta 0:00:00\n",
            "Downloading termcolor-2.5.0-py3-none-any.whl (7.8 kB)\n",
            "Downloading wrapt-1.16.0-cp311-cp311-win_amd64.whl (37 kB)\n",
            "Downloading certifi-2024.8.30-py3-none-any.whl (167 kB)\n",
            "Downloading charset_normalizer-3.4.0-cp311-cp311-win_amd64.whl (101 kB)\n",
            "Downloading idna-3.10-py3-none-any.whl (70 kB)\n",
            "Downloading Markdown-3.7-py3-none-any.whl (106 kB)\n",
            "Using cached tensorboard_data_server-0.7.2-py3-none-any.whl (2.4 kB)\n",
            "Downloading urllib3-2.2.3-py3-none-any.whl (126 kB)\n",
            "Downloading werkzeug-3.0.6-py3-none-any.whl (227 kB)\n",
            "Using cached namex-0.0.8-py3-none-any.whl (5.8 kB)\n",
            "Downloading optree-0.13.0-cp311-cp311-win_amd64.whl (283 kB)\n",
            "Downloading rich-13.9.3-py3-none-any.whl (242 kB)\n",
            "Using cached markdown_it_py-3.0.0-py3-none-any.whl (87 kB)\n",
            "Using cached mdurl-0.1.2-py3-none-any.whl (10.0 kB)\n",
            "Installing collected packages: namex, libclang, flatbuffers, wrapt, werkzeug, urllib3, termcolor, tensorflow-io-gcs-filesystem, tensorboard-data-server, protobuf, optree, opt-einsum, numpy, mdurl, markdown, idna, grpcio, google-pasta, gast, charset-normalizer, certifi, astunparse, absl-py, tensorboard, requests, ml-dtypes, markdown-it-py, h5py, rich, keras, tensorflow-intel, tensorflow\n",
            "  Attempting uninstall: numpy\n",
            "    Found existing installation: numpy 2.1.2\n",
            "    Uninstalling numpy-2.1.2:\n",
            "      Successfully uninstalled numpy-2.1.2\n",
            "Successfully installed absl-py-2.1.0 astunparse-1.6.3 certifi-2024.8.30 charset-normalizer-3.4.0 flatbuffers-24.3.25 gast-0.6.0 google-pasta-0.2.0 grpcio-1.67.0 h5py-3.12.1 idna-3.10 keras-3.6.0 libclang-18.1.1 markdown-3.7 markdown-it-py-3.0.0 mdurl-0.1.2 ml-dtypes-0.4.1 namex-0.0.8 numpy-2.0.2 opt-einsum-3.4.0 optree-0.13.0 protobuf-5.28.3 requests-2.32.3 rich-13.9.3 tensorboard-2.18.0 tensorboard-data-server-0.7.2 tensorflow-2.18.0 tensorflow-intel-2.18.0 tensorflow-io-gcs-filesystem-0.31.0 termcolor-2.5.0 urllib3-2.2.3 werkzeug-3.0.6 wrapt-1.16.0\n"
          ]
        }
      ],
      "source": [
        "!pip install tensorflow"
      ]
    },
    {
      "cell_type": "code",
      "execution_count": 3,
      "metadata": {
        "id": "k41uN-aAIH6Y"
      },
      "outputs": [],
      "source": [
        "# Mapping the labels for the MNIST dataset\n",
        "labels_map = {\n",
        "    0: \"0\", 1: \"1\", 2: \"2\", 3: \"3\", 4: \"4\",\n",
        "    5: \"5\", 6: \"6\", 7: \"7\", 8: \"8\", 9: \"9\"\n",
        "}"
      ]
    },
    {
      "cell_type": "code",
      "execution_count": 77,
      "metadata": {
        "colab": {
          "base_uri": "https://localhost:8080/"
        },
        "id": "4_MUVyZ5Iksr",
        "outputId": "fee20814-4805-46b6-9c2a-cea97192b605"
      },
      "outputs": [],
      "source": [
        "# Load and preprocess the data\n",
        "(x_train, y_train), (x_test, y_test) = fashion_mnist.load_data()\n",
        "x_train = x_train / 255.0\n",
        "x_test = x_test / 255.0\n",
        "y_train = to_categorical(y_train)\n",
        "y_test = to_categorical(y_test)"
      ]
    },
    {
      "cell_type": "code",
      "execution_count": 78,
      "metadata": {
        "id": "AEoqWEFz5Ms-"
      },
      "outputs": [],
      "source": [
        "(x_train, y_train), (x_test, y_test) = fashion_mnist.load_data()\n",
        "\n",
        "# Preprocess the data\n",
        "x_train = x_train.reshape(x_train.shape[0], 28, 28, 1).astype('float32') / 255\n",
        "x_test = x_test.reshape(x_test.shape[0], 28, 28, 1).astype('float32') / 255\n",
        "\n",
        "# Convert labels to one-hot encoding\n",
        "y_train = to_categorical(y_train, 10)\n",
        "y_test = to_categorical(y_test, 10)"
      ]
    },
    {
      "cell_type": "code",
      "execution_count": 26,
      "metadata": {
        "colab": {
          "base_uri": "https://localhost:8080/"
        },
        "id": "eX_tkHuwEK7B",
        "outputId": "6914193e-b027-4100-ce9b-c27788c30802"
      },
      "outputs": [
        {
          "name": "stderr",
          "output_type": "stream",
          "text": [
            "c:\\Users\\rgbmr\\anaconda3\\envs\\project2\\Lib\\site-packages\\keras\\src\\layers\\convolutional\\base_conv.py:107: UserWarning:\n",
            "\n",
            "Do not pass an `input_shape`/`input_dim` argument to a layer. When using Sequential models, prefer using an `Input(shape)` object as the first layer in the model instead.\n",
            "\n"
          ]
        }
      ],
      "source": [
        "kernel_size = (3, 3)\n",
        "pool_size = (2, 2)\n",
        "model = Sequential([\n",
        "    Conv2D(16, kernel_size, activation='sigmoid', input_shape=(28, 28, 1)),  # 16 filters (reduced), 3x3 kernel\n",
        "    MaxPooling2D(pool_size=(2, 2)),  # Max pooling with 2x2 pool size\n",
        "    # Flatten the output before passing to Dense layers\n",
        "    Flatten(),\n",
        "    Dense(64, activation='softmax'),  # Reduced from 128 to 64 units\n",
        "    Dense(10, activation='softmax')  # Output layer with 10 units for classification\n",
        "])\n",
        "\n",
        "## change the architecture with CONV2D, Pooling, and Dense."
      ]
    },
    {
      "cell_type": "code",
      "execution_count": 27,
      "metadata": {
        "id": "nPfHtKytJd9Q"
      },
      "outputs": [],
      "source": [
        "learning_rate = 0.01\n",
        "epochs = 5\n",
        "batch_size = 48\n",
        "\n",
        "# Compile the model\n",
        "model.compile(optimizer=SGD(learning_rate=learning_rate),\n",
        "              loss='categorical_crossentropy',\n",
        "              metrics=['accuracy'])"
      ]
    },
    {
      "cell_type": "code",
      "execution_count": 28,
      "metadata": {
        "colab": {
          "base_uri": "https://localhost:8080/"
        },
        "id": "JlPkc9auJkET",
        "outputId": "ed426026-a519-43d4-a811-039b74e7c7d4"
      },
      "outputs": [
        {
          "name": "stdout",
          "output_type": "stream",
          "text": [
            "Epoch 1/5\n",
            "\u001b[1m1000/1000\u001b[0m \u001b[32m━━━━━━━━━━━━━━━━━━━━\u001b[0m\u001b[37m\u001b[0m \u001b[1m2s\u001b[0m 1ms/step - accuracy: 0.1035 - loss: 2.3027\n",
            "Epoch 2/5\n",
            "\u001b[1m1000/1000\u001b[0m \u001b[32m━━━━━━━━━━━━━━━━━━━━\u001b[0m\u001b[37m\u001b[0m \u001b[1m1s\u001b[0m 1ms/step - accuracy: 0.1314 - loss: 2.3016\n",
            "Epoch 3/5\n",
            "\u001b[1m1000/1000\u001b[0m \u001b[32m━━━━━━━━━━━━━━━━━━━━\u001b[0m\u001b[37m\u001b[0m \u001b[1m1s\u001b[0m 1ms/step - accuracy: 0.1207 - loss: 2.2983\n",
            "Epoch 4/5\n",
            "\u001b[1m1000/1000\u001b[0m \u001b[32m━━━━━━━━━━━━━━━━━━━━\u001b[0m\u001b[37m\u001b[0m \u001b[1m1s\u001b[0m 1ms/step - accuracy: 0.2072 - loss: 2.2555\n",
            "Epoch 5/5\n",
            "\u001b[1m1000/1000\u001b[0m \u001b[32m━━━━━━━━━━━━━━━━━━━━\u001b[0m\u001b[37m\u001b[0m \u001b[1m1s\u001b[0m 1ms/step - accuracy: 0.2067 - loss: 2.0952\n",
            "\u001b[1m375/375\u001b[0m \u001b[32m━━━━━━━━━━━━━━━━━━━━\u001b[0m\u001b[37m\u001b[0m \u001b[1m0s\u001b[0m 852us/step - accuracy: 0.2036 - loss: 1.9739\n",
            "Test accuracy: 0.20241667330265045\n"
          ]
        }
      ],
      "source": [
        "model.fit(x_train, y_train, epochs=epochs, batch_size=batch_size, verbose=1)\n",
        "\n",
        "# Evaluate the model\n",
        "loss, accuracy = model.evaluate(x_test, y_test)\n",
        "print('Test accuracy:', accuracy)"
      ]
    },
    {
      "cell_type": "code",
      "execution_count": 29,
      "metadata": {
        "colab": {
          "base_uri": "https://localhost:8080/"
        },
        "id": "ig5GXhcG5fy6",
        "outputId": "b41b841c-b2e6-4520-e664-518039d33b4a"
      },
      "outputs": [
        {
          "name": "stdout",
          "output_type": "stream",
          "text": [
            "Epoch 1/5\n",
            "\u001b[1m800/800\u001b[0m \u001b[32m━━━━━━━━━━━━━━━━━━━━\u001b[0m\u001b[37m\u001b[0m \u001b[1m2s\u001b[0m 2ms/step - accuracy: 0.2062 - loss: 1.9479 - val_accuracy: 0.2096 - val_loss: 1.8898\n",
            "Epoch 2/5\n",
            "\u001b[1m800/800\u001b[0m \u001b[32m━━━━━━━━━━━━━━━━━━━━\u001b[0m\u001b[37m\u001b[0m \u001b[1m1s\u001b[0m 2ms/step - accuracy: 0.2106 - loss: 1.8741 - val_accuracy: 0.2096 - val_loss: 1.8361\n",
            "Epoch 3/5\n",
            "\u001b[1m800/800\u001b[0m \u001b[32m━━━━━━━━━━━━━━━━━━━━\u001b[0m\u001b[37m\u001b[0m \u001b[1m1s\u001b[0m 2ms/step - accuracy: 0.2130 - loss: 1.8251 - val_accuracy: 0.2111 - val_loss: 1.8008\n",
            "Epoch 4/5\n",
            "\u001b[1m800/800\u001b[0m \u001b[32m━━━━━━━━━━━━━━━━━━━━\u001b[0m\u001b[37m\u001b[0m \u001b[1m1s\u001b[0m 2ms/step - accuracy: 0.2085 - loss: 1.7921 - val_accuracy: 0.2118 - val_loss: 1.7764\n",
            "Epoch 5/5\n",
            "\u001b[1m800/800\u001b[0m \u001b[32m━━━━━━━━━━━━━━━━━━━━\u001b[0m\u001b[37m\u001b[0m \u001b[1m1s\u001b[0m 2ms/step - accuracy: 0.2129 - loss: 1.7705 - val_accuracy: 0.2147 - val_loss: 1.7590\n",
            "\u001b[1m375/375\u001b[0m \u001b[32m━━━━━━━━━━━━━━━━━━━━\u001b[0m\u001b[37m\u001b[0m \u001b[1m0s\u001b[0m 847us/step - accuracy: 0.2123 - loss: 1.7598\n",
            "Test accuracy: 0.2094999998807907\n"
          ]
        }
      ],
      "source": [
        "from keras.callbacks import EarlyStopping\n",
        "\n",
        "# Define early stopping callback\n",
        "early_stopping = EarlyStopping(monitor='val_loss', patience=6, restore_best_weights=True)\n",
        "\n",
        "# Train the model with early stopping\n",
        "model.fit(x_train, y_train, epochs=epochs, batch_size=batch_size, verbose=1, validation_split=0.2, callbacks=[early_stopping])\n",
        "\n",
        "# Evaluate the model\n",
        "loss, accuracy = model.evaluate(x_test, y_test)\n",
        "print('Test accuracy:', accuracy)"
      ]
    },
    {
      "cell_type": "code",
      "execution_count": 71,
      "metadata": {},
      "outputs": [
        {
          "name": "stdout",
          "output_type": "stream",
          "text": [
            "Best hyperparameters: {'num_conv_layers': 3, 'num_filters_0': 64, 'num_filters_1': 128, 'num_filters_2': 128, 'fc_units_2': 64, 'activation': 'tanh', 'optimizer': 'Adam', 'lr': 0.0006224423091166731, 'dropout_rate': 0.12361946420484013}\n"
          ]
        }
      ],
      "source": [
        "fmnist_cnn_study = run_studies('fmnist_study_cnn', 'fmnist_study_cnn.db', 100)"
      ]
    },
    {
      "cell_type": "code",
      "execution_count": 81,
      "metadata": {},
      "outputs": [
        {
          "data": {
            "text/html": [
              "<div>\n",
              "<style scoped>\n",
              "    .dataframe tbody tr th:only-of-type {\n",
              "        vertical-align: middle;\n",
              "    }\n",
              "\n",
              "    .dataframe tbody tr th {\n",
              "        vertical-align: top;\n",
              "    }\n",
              "\n",
              "    .dataframe thead th {\n",
              "        text-align: right;\n",
              "    }\n",
              "</style>\n",
              "<table border=\"1\" class=\"dataframe\">\n",
              "  <thead>\n",
              "    <tr style=\"text-align: right;\">\n",
              "      <th></th>\n",
              "      <th>number</th>\n",
              "      <th>value</th>\n",
              "      <th>datetime_start</th>\n",
              "      <th>datetime_complete</th>\n",
              "      <th>duration</th>\n",
              "      <th>params_activation</th>\n",
              "      <th>params_batch_size</th>\n",
              "      <th>params_dropout_rate</th>\n",
              "      <th>params_fc_units_0</th>\n",
              "      <th>params_fc_units_1</th>\n",
              "      <th>...</th>\n",
              "      <th>params_num_conv_layers</th>\n",
              "      <th>params_num_fc_layers</th>\n",
              "      <th>params_num_filters_0</th>\n",
              "      <th>params_num_filters_1</th>\n",
              "      <th>params_num_filters_2</th>\n",
              "      <th>params_optimizer</th>\n",
              "      <th>params_pool_size_0</th>\n",
              "      <th>params_pool_size_1</th>\n",
              "      <th>params_pool_size_2</th>\n",
              "      <th>state</th>\n",
              "    </tr>\n",
              "  </thead>\n",
              "  <tbody>\n",
              "    <tr>\n",
              "      <th>0</th>\n",
              "      <td>0</td>\n",
              "      <td>0.912250</td>\n",
              "      <td>2024-10-26 12:43:15.050648</td>\n",
              "      <td>2024-10-26 12:44:52.174716</td>\n",
              "      <td>0 days 00:01:37.124068</td>\n",
              "      <td>relu</td>\n",
              "      <td>64.0</td>\n",
              "      <td>0.416872</td>\n",
              "      <td>256.0</td>\n",
              "      <td>NaN</td>\n",
              "      <td>...</td>\n",
              "      <td>1</td>\n",
              "      <td>1.0</td>\n",
              "      <td>32</td>\n",
              "      <td>NaN</td>\n",
              "      <td>NaN</td>\n",
              "      <td>RMSprop</td>\n",
              "      <td>3.0</td>\n",
              "      <td>NaN</td>\n",
              "      <td>NaN</td>\n",
              "      <td>COMPLETE</td>\n",
              "    </tr>\n",
              "    <tr>\n",
              "      <th>1</th>\n",
              "      <td>1</td>\n",
              "      <td>0.854000</td>\n",
              "      <td>2024-10-26 12:43:15.160018</td>\n",
              "      <td>2024-10-26 12:47:44.931115</td>\n",
              "      <td>0 days 00:04:29.771097</td>\n",
              "      <td>relu</td>\n",
              "      <td>32.0</td>\n",
              "      <td>0.053822</td>\n",
              "      <td>256.0</td>\n",
              "      <td>64.0</td>\n",
              "      <td>...</td>\n",
              "      <td>3</td>\n",
              "      <td>2.0</td>\n",
              "      <td>32</td>\n",
              "      <td>64.0</td>\n",
              "      <td>16.0</td>\n",
              "      <td>SGD</td>\n",
              "      <td>3.0</td>\n",
              "      <td>3.0</td>\n",
              "      <td>2.0</td>\n",
              "      <td>COMPLETE</td>\n",
              "    </tr>\n",
              "    <tr>\n",
              "      <th>2</th>\n",
              "      <td>2</td>\n",
              "      <td>0.903000</td>\n",
              "      <td>2024-10-26 12:43:15.160018</td>\n",
              "      <td>2024-10-26 13:00:09.553446</td>\n",
              "      <td>0 days 00:16:54.393428</td>\n",
              "      <td>relu</td>\n",
              "      <td>32.0</td>\n",
              "      <td>0.278942</td>\n",
              "      <td>128.0</td>\n",
              "      <td>128.0</td>\n",
              "      <td>...</td>\n",
              "      <td>2</td>\n",
              "      <td>2.0</td>\n",
              "      <td>128</td>\n",
              "      <td>128.0</td>\n",
              "      <td>NaN</td>\n",
              "      <td>SGD</td>\n",
              "      <td>2.0</td>\n",
              "      <td>2.0</td>\n",
              "      <td>NaN</td>\n",
              "      <td>COMPLETE</td>\n",
              "    </tr>\n",
              "    <tr>\n",
              "      <th>3</th>\n",
              "      <td>3</td>\n",
              "      <td>0.870667</td>\n",
              "      <td>2024-10-26 12:43:15.470557</td>\n",
              "      <td>2024-10-26 12:45:27.378221</td>\n",
              "      <td>0 days 00:02:11.907664</td>\n",
              "      <td>sigmoid</td>\n",
              "      <td>64.0</td>\n",
              "      <td>0.065871</td>\n",
              "      <td>128.0</td>\n",
              "      <td>64.0</td>\n",
              "      <td>...</td>\n",
              "      <td>3</td>\n",
              "      <td>2.0</td>\n",
              "      <td>16</td>\n",
              "      <td>16.0</td>\n",
              "      <td>16.0</td>\n",
              "      <td>Adam</td>\n",
              "      <td>2.0</td>\n",
              "      <td>3.0</td>\n",
              "      <td>2.0</td>\n",
              "      <td>COMPLETE</td>\n",
              "    </tr>\n",
              "    <tr>\n",
              "      <th>4</th>\n",
              "      <td>4</td>\n",
              "      <td>0.521583</td>\n",
              "      <td>2024-10-26 12:44:52.256231</td>\n",
              "      <td>2024-10-26 12:48:36.888362</td>\n",
              "      <td>0 days 00:03:44.632131</td>\n",
              "      <td>tanh</td>\n",
              "      <td>64.0</td>\n",
              "      <td>0.412135</td>\n",
              "      <td>128.0</td>\n",
              "      <td>64.0</td>\n",
              "      <td>...</td>\n",
              "      <td>2</td>\n",
              "      <td>2.0</td>\n",
              "      <td>64</td>\n",
              "      <td>64.0</td>\n",
              "      <td>NaN</td>\n",
              "      <td>Adam</td>\n",
              "      <td>3.0</td>\n",
              "      <td>3.0</td>\n",
              "      <td>NaN</td>\n",
              "      <td>COMPLETE</td>\n",
              "    </tr>\n",
              "  </tbody>\n",
              "</table>\n",
              "<p>5 rows × 25 columns</p>\n",
              "</div>"
            ],
            "text/plain": [
              "   number     value             datetime_start          datetime_complete  \\\n",
              "0       0  0.912250 2024-10-26 12:43:15.050648 2024-10-26 12:44:52.174716   \n",
              "1       1  0.854000 2024-10-26 12:43:15.160018 2024-10-26 12:47:44.931115   \n",
              "2       2  0.903000 2024-10-26 12:43:15.160018 2024-10-26 13:00:09.553446   \n",
              "3       3  0.870667 2024-10-26 12:43:15.470557 2024-10-26 12:45:27.378221   \n",
              "4       4  0.521583 2024-10-26 12:44:52.256231 2024-10-26 12:48:36.888362   \n",
              "\n",
              "                duration params_activation  params_batch_size  \\\n",
              "0 0 days 00:01:37.124068              relu               64.0   \n",
              "1 0 days 00:04:29.771097              relu               32.0   \n",
              "2 0 days 00:16:54.393428              relu               32.0   \n",
              "3 0 days 00:02:11.907664           sigmoid               64.0   \n",
              "4 0 days 00:03:44.632131              tanh               64.0   \n",
              "\n",
              "   params_dropout_rate  params_fc_units_0  params_fc_units_1  ...  \\\n",
              "0             0.416872              256.0                NaN  ...   \n",
              "1             0.053822              256.0               64.0  ...   \n",
              "2             0.278942              128.0              128.0  ...   \n",
              "3             0.065871              128.0               64.0  ...   \n",
              "4             0.412135              128.0               64.0  ...   \n",
              "\n",
              "   params_num_conv_layers  params_num_fc_layers  params_num_filters_0  \\\n",
              "0                       1                   1.0                    32   \n",
              "1                       3                   2.0                    32   \n",
              "2                       2                   2.0                   128   \n",
              "3                       3                   2.0                    16   \n",
              "4                       2                   2.0                    64   \n",
              "\n",
              "   params_num_filters_1  params_num_filters_2  params_optimizer  \\\n",
              "0                   NaN                   NaN           RMSprop   \n",
              "1                  64.0                  16.0               SGD   \n",
              "2                 128.0                   NaN               SGD   \n",
              "3                  16.0                  16.0              Adam   \n",
              "4                  64.0                   NaN              Adam   \n",
              "\n",
              "   params_pool_size_0  params_pool_size_1  params_pool_size_2     state  \n",
              "0                 3.0                 NaN                 NaN  COMPLETE  \n",
              "1                 3.0                 3.0                 2.0  COMPLETE  \n",
              "2                 2.0                 2.0                 NaN  COMPLETE  \n",
              "3                 2.0                 3.0                 2.0  COMPLETE  \n",
              "4                 3.0                 3.0                 NaN  COMPLETE  \n",
              "\n",
              "[5 rows x 25 columns]"
            ]
          },
          "execution_count": 81,
          "metadata": {},
          "output_type": "execute_result"
        }
      ],
      "source": [
        "fmnist_cnn_df = fmnist_cnn_study.trials_dataframe()\n",
        "fmnist_cnn_df.head()"
      ]
    },
    {
      "cell_type": "code",
      "execution_count": 32,
      "metadata": {},
      "outputs": [
        {
          "data": {
            "application/vnd.plotly.v1+json": {
              "config": {
                "plotlyServerURL": "https://plot.ly"
              },
              "data": [
                {
                  "mode": "markers",
                  "name": "Objective Value",
                  "type": "scatter",
                  "x": [
                    0,
                    1,
                    2,
                    3,
                    4,
                    5,
                    6,
                    7,
                    8,
                    9,
                    10,
                    11,
                    12,
                    13,
                    14,
                    15,
                    16,
                    18,
                    19,
                    21,
                    22,
                    23,
                    24,
                    25,
                    26,
                    27,
                    28,
                    36,
                    37,
                    38,
                    40,
                    45,
                    46,
                    47
                  ],
                  "y": [
                    0.9122499823570251,
                    0.8539999723434448,
                    0.902999997138977,
                    0.8706666827201843,
                    0.5215833187103271,
                    0.6632500290870667,
                    0.101583331823349,
                    0.856083333492279,
                    0.893666684627533,
                    0.101583331823349,
                    0.8816666603088379,
                    0.8967499732971191,
                    0.8854166865348816,
                    0.8978333473205566,
                    0.9088333249092102,
                    0.9137499928474426,
                    0.8879166841506958,
                    0.8849166631698608,
                    0.8758333325386047,
                    0.8949999809265137,
                    0.8960833549499512,
                    0.9043333530426025,
                    0.9099166393280029,
                    0.8911666870117188,
                    0.8974166512489319,
                    0.9014166593551636,
                    0.9067500233650208,
                    0.9006666541099548,
                    0.8989999890327454,
                    0.9145833253860474,
                    0.9075000286102295,
                    0.9174166917800903,
                    0.918583333492279,
                    0.92208331823349
                  ]
                },
                {
                  "mode": "lines",
                  "name": "Best Value",
                  "type": "scatter",
                  "x": [
                    0,
                    1,
                    2,
                    3,
                    4,
                    5,
                    6,
                    7,
                    8,
                    9,
                    10,
                    11,
                    12,
                    13,
                    14,
                    15,
                    16,
                    17,
                    18,
                    19,
                    20,
                    21,
                    22,
                    23,
                    24,
                    25,
                    26,
                    27,
                    28,
                    29,
                    30,
                    31,
                    32,
                    33,
                    34,
                    35,
                    36,
                    37,
                    38,
                    39,
                    40,
                    41,
                    42,
                    43,
                    44,
                    45,
                    46,
                    47
                  ],
                  "y": [
                    0.9122499823570251,
                    0.9122499823570251,
                    0.9122499823570251,
                    0.9122499823570251,
                    0.9122499823570251,
                    0.9122499823570251,
                    0.9122499823570251,
                    0.9122499823570251,
                    0.9122499823570251,
                    0.9122499823570251,
                    0.9122499823570251,
                    0.9122499823570251,
                    0.9122499823570251,
                    0.9122499823570251,
                    0.9122499823570251,
                    0.9137499928474426,
                    0.9137499928474426,
                    0.9137499928474426,
                    0.9137499928474426,
                    0.9137499928474426,
                    0.9137499928474426,
                    0.9137499928474426,
                    0.9137499928474426,
                    0.9137499928474426,
                    0.9137499928474426,
                    0.9137499928474426,
                    0.9137499928474426,
                    0.9137499928474426,
                    0.9137499928474426,
                    0.9137499928474426,
                    0.9137499928474426,
                    0.9137499928474426,
                    0.9137499928474426,
                    0.9137499928474426,
                    0.9137499928474426,
                    0.9137499928474426,
                    0.9137499928474426,
                    0.9137499928474426,
                    0.9145833253860474,
                    0.9145833253860474,
                    0.9145833253860474,
                    0.9145833253860474,
                    0.9145833253860474,
                    0.9145833253860474,
                    0.9145833253860474,
                    0.9174166917800903,
                    0.918583333492279,
                    0.92208331823349
                  ]
                },
                {
                  "marker": {
                    "color": "#cccccc"
                  },
                  "mode": "markers",
                  "name": "Infeasible Trial",
                  "showlegend": false,
                  "type": "scatter",
                  "x": [],
                  "y": []
                }
              ],
              "layout": {
                "template": {
                  "data": {
                    "bar": [
                      {
                        "error_x": {
                          "color": "#2a3f5f"
                        },
                        "error_y": {
                          "color": "#2a3f5f"
                        },
                        "marker": {
                          "line": {
                            "color": "#E5ECF6",
                            "width": 0.5
                          },
                          "pattern": {
                            "fillmode": "overlay",
                            "size": 10,
                            "solidity": 0.2
                          }
                        },
                        "type": "bar"
                      }
                    ],
                    "barpolar": [
                      {
                        "marker": {
                          "line": {
                            "color": "#E5ECF6",
                            "width": 0.5
                          },
                          "pattern": {
                            "fillmode": "overlay",
                            "size": 10,
                            "solidity": 0.2
                          }
                        },
                        "type": "barpolar"
                      }
                    ],
                    "carpet": [
                      {
                        "aaxis": {
                          "endlinecolor": "#2a3f5f",
                          "gridcolor": "white",
                          "linecolor": "white",
                          "minorgridcolor": "white",
                          "startlinecolor": "#2a3f5f"
                        },
                        "baxis": {
                          "endlinecolor": "#2a3f5f",
                          "gridcolor": "white",
                          "linecolor": "white",
                          "minorgridcolor": "white",
                          "startlinecolor": "#2a3f5f"
                        },
                        "type": "carpet"
                      }
                    ],
                    "choropleth": [
                      {
                        "colorbar": {
                          "outlinewidth": 0,
                          "ticks": ""
                        },
                        "type": "choropleth"
                      }
                    ],
                    "contour": [
                      {
                        "colorbar": {
                          "outlinewidth": 0,
                          "ticks": ""
                        },
                        "colorscale": [
                          [
                            0,
                            "#0d0887"
                          ],
                          [
                            0.1111111111111111,
                            "#46039f"
                          ],
                          [
                            0.2222222222222222,
                            "#7201a8"
                          ],
                          [
                            0.3333333333333333,
                            "#9c179e"
                          ],
                          [
                            0.4444444444444444,
                            "#bd3786"
                          ],
                          [
                            0.5555555555555556,
                            "#d8576b"
                          ],
                          [
                            0.6666666666666666,
                            "#ed7953"
                          ],
                          [
                            0.7777777777777778,
                            "#fb9f3a"
                          ],
                          [
                            0.8888888888888888,
                            "#fdca26"
                          ],
                          [
                            1,
                            "#f0f921"
                          ]
                        ],
                        "type": "contour"
                      }
                    ],
                    "contourcarpet": [
                      {
                        "colorbar": {
                          "outlinewidth": 0,
                          "ticks": ""
                        },
                        "type": "contourcarpet"
                      }
                    ],
                    "heatmap": [
                      {
                        "colorbar": {
                          "outlinewidth": 0,
                          "ticks": ""
                        },
                        "colorscale": [
                          [
                            0,
                            "#0d0887"
                          ],
                          [
                            0.1111111111111111,
                            "#46039f"
                          ],
                          [
                            0.2222222222222222,
                            "#7201a8"
                          ],
                          [
                            0.3333333333333333,
                            "#9c179e"
                          ],
                          [
                            0.4444444444444444,
                            "#bd3786"
                          ],
                          [
                            0.5555555555555556,
                            "#d8576b"
                          ],
                          [
                            0.6666666666666666,
                            "#ed7953"
                          ],
                          [
                            0.7777777777777778,
                            "#fb9f3a"
                          ],
                          [
                            0.8888888888888888,
                            "#fdca26"
                          ],
                          [
                            1,
                            "#f0f921"
                          ]
                        ],
                        "type": "heatmap"
                      }
                    ],
                    "heatmapgl": [
                      {
                        "colorbar": {
                          "outlinewidth": 0,
                          "ticks": ""
                        },
                        "colorscale": [
                          [
                            0,
                            "#0d0887"
                          ],
                          [
                            0.1111111111111111,
                            "#46039f"
                          ],
                          [
                            0.2222222222222222,
                            "#7201a8"
                          ],
                          [
                            0.3333333333333333,
                            "#9c179e"
                          ],
                          [
                            0.4444444444444444,
                            "#bd3786"
                          ],
                          [
                            0.5555555555555556,
                            "#d8576b"
                          ],
                          [
                            0.6666666666666666,
                            "#ed7953"
                          ],
                          [
                            0.7777777777777778,
                            "#fb9f3a"
                          ],
                          [
                            0.8888888888888888,
                            "#fdca26"
                          ],
                          [
                            1,
                            "#f0f921"
                          ]
                        ],
                        "type": "heatmapgl"
                      }
                    ],
                    "histogram": [
                      {
                        "marker": {
                          "pattern": {
                            "fillmode": "overlay",
                            "size": 10,
                            "solidity": 0.2
                          }
                        },
                        "type": "histogram"
                      }
                    ],
                    "histogram2d": [
                      {
                        "colorbar": {
                          "outlinewidth": 0,
                          "ticks": ""
                        },
                        "colorscale": [
                          [
                            0,
                            "#0d0887"
                          ],
                          [
                            0.1111111111111111,
                            "#46039f"
                          ],
                          [
                            0.2222222222222222,
                            "#7201a8"
                          ],
                          [
                            0.3333333333333333,
                            "#9c179e"
                          ],
                          [
                            0.4444444444444444,
                            "#bd3786"
                          ],
                          [
                            0.5555555555555556,
                            "#d8576b"
                          ],
                          [
                            0.6666666666666666,
                            "#ed7953"
                          ],
                          [
                            0.7777777777777778,
                            "#fb9f3a"
                          ],
                          [
                            0.8888888888888888,
                            "#fdca26"
                          ],
                          [
                            1,
                            "#f0f921"
                          ]
                        ],
                        "type": "histogram2d"
                      }
                    ],
                    "histogram2dcontour": [
                      {
                        "colorbar": {
                          "outlinewidth": 0,
                          "ticks": ""
                        },
                        "colorscale": [
                          [
                            0,
                            "#0d0887"
                          ],
                          [
                            0.1111111111111111,
                            "#46039f"
                          ],
                          [
                            0.2222222222222222,
                            "#7201a8"
                          ],
                          [
                            0.3333333333333333,
                            "#9c179e"
                          ],
                          [
                            0.4444444444444444,
                            "#bd3786"
                          ],
                          [
                            0.5555555555555556,
                            "#d8576b"
                          ],
                          [
                            0.6666666666666666,
                            "#ed7953"
                          ],
                          [
                            0.7777777777777778,
                            "#fb9f3a"
                          ],
                          [
                            0.8888888888888888,
                            "#fdca26"
                          ],
                          [
                            1,
                            "#f0f921"
                          ]
                        ],
                        "type": "histogram2dcontour"
                      }
                    ],
                    "mesh3d": [
                      {
                        "colorbar": {
                          "outlinewidth": 0,
                          "ticks": ""
                        },
                        "type": "mesh3d"
                      }
                    ],
                    "parcoords": [
                      {
                        "line": {
                          "colorbar": {
                            "outlinewidth": 0,
                            "ticks": ""
                          }
                        },
                        "type": "parcoords"
                      }
                    ],
                    "pie": [
                      {
                        "automargin": true,
                        "type": "pie"
                      }
                    ],
                    "scatter": [
                      {
                        "fillpattern": {
                          "fillmode": "overlay",
                          "size": 10,
                          "solidity": 0.2
                        },
                        "type": "scatter"
                      }
                    ],
                    "scatter3d": [
                      {
                        "line": {
                          "colorbar": {
                            "outlinewidth": 0,
                            "ticks": ""
                          }
                        },
                        "marker": {
                          "colorbar": {
                            "outlinewidth": 0,
                            "ticks": ""
                          }
                        },
                        "type": "scatter3d"
                      }
                    ],
                    "scattercarpet": [
                      {
                        "marker": {
                          "colorbar": {
                            "outlinewidth": 0,
                            "ticks": ""
                          }
                        },
                        "type": "scattercarpet"
                      }
                    ],
                    "scattergeo": [
                      {
                        "marker": {
                          "colorbar": {
                            "outlinewidth": 0,
                            "ticks": ""
                          }
                        },
                        "type": "scattergeo"
                      }
                    ],
                    "scattergl": [
                      {
                        "marker": {
                          "colorbar": {
                            "outlinewidth": 0,
                            "ticks": ""
                          }
                        },
                        "type": "scattergl"
                      }
                    ],
                    "scattermapbox": [
                      {
                        "marker": {
                          "colorbar": {
                            "outlinewidth": 0,
                            "ticks": ""
                          }
                        },
                        "type": "scattermapbox"
                      }
                    ],
                    "scatterpolar": [
                      {
                        "marker": {
                          "colorbar": {
                            "outlinewidth": 0,
                            "ticks": ""
                          }
                        },
                        "type": "scatterpolar"
                      }
                    ],
                    "scatterpolargl": [
                      {
                        "marker": {
                          "colorbar": {
                            "outlinewidth": 0,
                            "ticks": ""
                          }
                        },
                        "type": "scatterpolargl"
                      }
                    ],
                    "scatterternary": [
                      {
                        "marker": {
                          "colorbar": {
                            "outlinewidth": 0,
                            "ticks": ""
                          }
                        },
                        "type": "scatterternary"
                      }
                    ],
                    "surface": [
                      {
                        "colorbar": {
                          "outlinewidth": 0,
                          "ticks": ""
                        },
                        "colorscale": [
                          [
                            0,
                            "#0d0887"
                          ],
                          [
                            0.1111111111111111,
                            "#46039f"
                          ],
                          [
                            0.2222222222222222,
                            "#7201a8"
                          ],
                          [
                            0.3333333333333333,
                            "#9c179e"
                          ],
                          [
                            0.4444444444444444,
                            "#bd3786"
                          ],
                          [
                            0.5555555555555556,
                            "#d8576b"
                          ],
                          [
                            0.6666666666666666,
                            "#ed7953"
                          ],
                          [
                            0.7777777777777778,
                            "#fb9f3a"
                          ],
                          [
                            0.8888888888888888,
                            "#fdca26"
                          ],
                          [
                            1,
                            "#f0f921"
                          ]
                        ],
                        "type": "surface"
                      }
                    ],
                    "table": [
                      {
                        "cells": {
                          "fill": {
                            "color": "#EBF0F8"
                          },
                          "line": {
                            "color": "white"
                          }
                        },
                        "header": {
                          "fill": {
                            "color": "#C8D4E3"
                          },
                          "line": {
                            "color": "white"
                          }
                        },
                        "type": "table"
                      }
                    ]
                  },
                  "layout": {
                    "annotationdefaults": {
                      "arrowcolor": "#2a3f5f",
                      "arrowhead": 0,
                      "arrowwidth": 1
                    },
                    "autotypenumbers": "strict",
                    "coloraxis": {
                      "colorbar": {
                        "outlinewidth": 0,
                        "ticks": ""
                      }
                    },
                    "colorscale": {
                      "diverging": [
                        [
                          0,
                          "#8e0152"
                        ],
                        [
                          0.1,
                          "#c51b7d"
                        ],
                        [
                          0.2,
                          "#de77ae"
                        ],
                        [
                          0.3,
                          "#f1b6da"
                        ],
                        [
                          0.4,
                          "#fde0ef"
                        ],
                        [
                          0.5,
                          "#f7f7f7"
                        ],
                        [
                          0.6,
                          "#e6f5d0"
                        ],
                        [
                          0.7,
                          "#b8e186"
                        ],
                        [
                          0.8,
                          "#7fbc41"
                        ],
                        [
                          0.9,
                          "#4d9221"
                        ],
                        [
                          1,
                          "#276419"
                        ]
                      ],
                      "sequential": [
                        [
                          0,
                          "#0d0887"
                        ],
                        [
                          0.1111111111111111,
                          "#46039f"
                        ],
                        [
                          0.2222222222222222,
                          "#7201a8"
                        ],
                        [
                          0.3333333333333333,
                          "#9c179e"
                        ],
                        [
                          0.4444444444444444,
                          "#bd3786"
                        ],
                        [
                          0.5555555555555556,
                          "#d8576b"
                        ],
                        [
                          0.6666666666666666,
                          "#ed7953"
                        ],
                        [
                          0.7777777777777778,
                          "#fb9f3a"
                        ],
                        [
                          0.8888888888888888,
                          "#fdca26"
                        ],
                        [
                          1,
                          "#f0f921"
                        ]
                      ],
                      "sequentialminus": [
                        [
                          0,
                          "#0d0887"
                        ],
                        [
                          0.1111111111111111,
                          "#46039f"
                        ],
                        [
                          0.2222222222222222,
                          "#7201a8"
                        ],
                        [
                          0.3333333333333333,
                          "#9c179e"
                        ],
                        [
                          0.4444444444444444,
                          "#bd3786"
                        ],
                        [
                          0.5555555555555556,
                          "#d8576b"
                        ],
                        [
                          0.6666666666666666,
                          "#ed7953"
                        ],
                        [
                          0.7777777777777778,
                          "#fb9f3a"
                        ],
                        [
                          0.8888888888888888,
                          "#fdca26"
                        ],
                        [
                          1,
                          "#f0f921"
                        ]
                      ]
                    },
                    "colorway": [
                      "#636efa",
                      "#EF553B",
                      "#00cc96",
                      "#ab63fa",
                      "#FFA15A",
                      "#19d3f3",
                      "#FF6692",
                      "#B6E880",
                      "#FF97FF",
                      "#FECB52"
                    ],
                    "font": {
                      "color": "#2a3f5f"
                    },
                    "geo": {
                      "bgcolor": "white",
                      "lakecolor": "white",
                      "landcolor": "#E5ECF6",
                      "showlakes": true,
                      "showland": true,
                      "subunitcolor": "white"
                    },
                    "hoverlabel": {
                      "align": "left"
                    },
                    "hovermode": "closest",
                    "mapbox": {
                      "style": "light"
                    },
                    "paper_bgcolor": "white",
                    "plot_bgcolor": "#E5ECF6",
                    "polar": {
                      "angularaxis": {
                        "gridcolor": "white",
                        "linecolor": "white",
                        "ticks": ""
                      },
                      "bgcolor": "#E5ECF6",
                      "radialaxis": {
                        "gridcolor": "white",
                        "linecolor": "white",
                        "ticks": ""
                      }
                    },
                    "scene": {
                      "xaxis": {
                        "backgroundcolor": "#E5ECF6",
                        "gridcolor": "white",
                        "gridwidth": 2,
                        "linecolor": "white",
                        "showbackground": true,
                        "ticks": "",
                        "zerolinecolor": "white"
                      },
                      "yaxis": {
                        "backgroundcolor": "#E5ECF6",
                        "gridcolor": "white",
                        "gridwidth": 2,
                        "linecolor": "white",
                        "showbackground": true,
                        "ticks": "",
                        "zerolinecolor": "white"
                      },
                      "zaxis": {
                        "backgroundcolor": "#E5ECF6",
                        "gridcolor": "white",
                        "gridwidth": 2,
                        "linecolor": "white",
                        "showbackground": true,
                        "ticks": "",
                        "zerolinecolor": "white"
                      }
                    },
                    "shapedefaults": {
                      "line": {
                        "color": "#2a3f5f"
                      }
                    },
                    "ternary": {
                      "aaxis": {
                        "gridcolor": "white",
                        "linecolor": "white",
                        "ticks": ""
                      },
                      "baxis": {
                        "gridcolor": "white",
                        "linecolor": "white",
                        "ticks": ""
                      },
                      "bgcolor": "#E5ECF6",
                      "caxis": {
                        "gridcolor": "white",
                        "linecolor": "white",
                        "ticks": ""
                      }
                    },
                    "title": {
                      "x": 0.05
                    },
                    "xaxis": {
                      "automargin": true,
                      "gridcolor": "white",
                      "linecolor": "white",
                      "ticks": "",
                      "title": {
                        "standoff": 15
                      },
                      "zerolinecolor": "white",
                      "zerolinewidth": 2
                    },
                    "yaxis": {
                      "automargin": true,
                      "gridcolor": "white",
                      "linecolor": "white",
                      "ticks": "",
                      "title": {
                        "standoff": 15
                      },
                      "zerolinecolor": "white",
                      "zerolinewidth": 2
                    }
                  }
                },
                "title": {
                  "text": "Optimization History Plot"
                },
                "xaxis": {
                  "title": {
                    "text": "Trial"
                  }
                },
                "yaxis": {
                  "title": {
                    "text": "Objective Value"
                  }
                }
              }
            }
          },
          "metadata": {},
          "output_type": "display_data"
        }
      ],
      "source": [
        "optuna.visualization.plot_optimization_history(fmnist_cnn_study)"
      ]
    },
    {
      "cell_type": "code",
      "execution_count": 46,
      "metadata": {},
      "outputs": [
        {
          "data": {
            "application/vnd.plotly.v1+json": {
              "config": {
                "plotlyServerURL": "https://plot.ly"
              },
              "data": [
                {
                  "cliponaxis": false,
                  "hovertemplate": [
                    "num_conv_layers (IntDistribution): 0.046746811636752<extra></extra>",
                    "activation (CategoricalDistribution): 0.07823033587572288<extra></extra>",
                    "optimizer (CategoricalDistribution): 0.09391429344264765<extra></extra>",
                    "lr (FloatDistribution): 0.14941079828303983<extra></extra>",
                    "num_filters_0 (CategoricalDistribution): 0.19260653949824513<extra></extra>",
                    "dropout_rate (FloatDistribution): 0.43909122126359246<extra></extra>"
                  ],
                  "name": "Objective Value",
                  "orientation": "h",
                  "text": [
                    "0.05",
                    "0.08",
                    "0.09",
                    "0.15",
                    "0.19",
                    "0.44"
                  ],
                  "textposition": "outside",
                  "type": "bar",
                  "x": [
                    0.046746811636752,
                    0.07823033587572288,
                    0.09391429344264765,
                    0.14941079828303983,
                    0.19260653949824513,
                    0.43909122126359246
                  ],
                  "y": [
                    "num_conv_layers",
                    "activation",
                    "optimizer",
                    "lr",
                    "num_filters_0",
                    "dropout_rate"
                  ]
                }
              ],
              "layout": {
                "template": {
                  "data": {
                    "bar": [
                      {
                        "error_x": {
                          "color": "#2a3f5f"
                        },
                        "error_y": {
                          "color": "#2a3f5f"
                        },
                        "marker": {
                          "line": {
                            "color": "#E5ECF6",
                            "width": 0.5
                          },
                          "pattern": {
                            "fillmode": "overlay",
                            "size": 10,
                            "solidity": 0.2
                          }
                        },
                        "type": "bar"
                      }
                    ],
                    "barpolar": [
                      {
                        "marker": {
                          "line": {
                            "color": "#E5ECF6",
                            "width": 0.5
                          },
                          "pattern": {
                            "fillmode": "overlay",
                            "size": 10,
                            "solidity": 0.2
                          }
                        },
                        "type": "barpolar"
                      }
                    ],
                    "carpet": [
                      {
                        "aaxis": {
                          "endlinecolor": "#2a3f5f",
                          "gridcolor": "white",
                          "linecolor": "white",
                          "minorgridcolor": "white",
                          "startlinecolor": "#2a3f5f"
                        },
                        "baxis": {
                          "endlinecolor": "#2a3f5f",
                          "gridcolor": "white",
                          "linecolor": "white",
                          "minorgridcolor": "white",
                          "startlinecolor": "#2a3f5f"
                        },
                        "type": "carpet"
                      }
                    ],
                    "choropleth": [
                      {
                        "colorbar": {
                          "outlinewidth": 0,
                          "ticks": ""
                        },
                        "type": "choropleth"
                      }
                    ],
                    "contour": [
                      {
                        "colorbar": {
                          "outlinewidth": 0,
                          "ticks": ""
                        },
                        "colorscale": [
                          [
                            0,
                            "#0d0887"
                          ],
                          [
                            0.1111111111111111,
                            "#46039f"
                          ],
                          [
                            0.2222222222222222,
                            "#7201a8"
                          ],
                          [
                            0.3333333333333333,
                            "#9c179e"
                          ],
                          [
                            0.4444444444444444,
                            "#bd3786"
                          ],
                          [
                            0.5555555555555556,
                            "#d8576b"
                          ],
                          [
                            0.6666666666666666,
                            "#ed7953"
                          ],
                          [
                            0.7777777777777778,
                            "#fb9f3a"
                          ],
                          [
                            0.8888888888888888,
                            "#fdca26"
                          ],
                          [
                            1,
                            "#f0f921"
                          ]
                        ],
                        "type": "contour"
                      }
                    ],
                    "contourcarpet": [
                      {
                        "colorbar": {
                          "outlinewidth": 0,
                          "ticks": ""
                        },
                        "type": "contourcarpet"
                      }
                    ],
                    "heatmap": [
                      {
                        "colorbar": {
                          "outlinewidth": 0,
                          "ticks": ""
                        },
                        "colorscale": [
                          [
                            0,
                            "#0d0887"
                          ],
                          [
                            0.1111111111111111,
                            "#46039f"
                          ],
                          [
                            0.2222222222222222,
                            "#7201a8"
                          ],
                          [
                            0.3333333333333333,
                            "#9c179e"
                          ],
                          [
                            0.4444444444444444,
                            "#bd3786"
                          ],
                          [
                            0.5555555555555556,
                            "#d8576b"
                          ],
                          [
                            0.6666666666666666,
                            "#ed7953"
                          ],
                          [
                            0.7777777777777778,
                            "#fb9f3a"
                          ],
                          [
                            0.8888888888888888,
                            "#fdca26"
                          ],
                          [
                            1,
                            "#f0f921"
                          ]
                        ],
                        "type": "heatmap"
                      }
                    ],
                    "heatmapgl": [
                      {
                        "colorbar": {
                          "outlinewidth": 0,
                          "ticks": ""
                        },
                        "colorscale": [
                          [
                            0,
                            "#0d0887"
                          ],
                          [
                            0.1111111111111111,
                            "#46039f"
                          ],
                          [
                            0.2222222222222222,
                            "#7201a8"
                          ],
                          [
                            0.3333333333333333,
                            "#9c179e"
                          ],
                          [
                            0.4444444444444444,
                            "#bd3786"
                          ],
                          [
                            0.5555555555555556,
                            "#d8576b"
                          ],
                          [
                            0.6666666666666666,
                            "#ed7953"
                          ],
                          [
                            0.7777777777777778,
                            "#fb9f3a"
                          ],
                          [
                            0.8888888888888888,
                            "#fdca26"
                          ],
                          [
                            1,
                            "#f0f921"
                          ]
                        ],
                        "type": "heatmapgl"
                      }
                    ],
                    "histogram": [
                      {
                        "marker": {
                          "pattern": {
                            "fillmode": "overlay",
                            "size": 10,
                            "solidity": 0.2
                          }
                        },
                        "type": "histogram"
                      }
                    ],
                    "histogram2d": [
                      {
                        "colorbar": {
                          "outlinewidth": 0,
                          "ticks": ""
                        },
                        "colorscale": [
                          [
                            0,
                            "#0d0887"
                          ],
                          [
                            0.1111111111111111,
                            "#46039f"
                          ],
                          [
                            0.2222222222222222,
                            "#7201a8"
                          ],
                          [
                            0.3333333333333333,
                            "#9c179e"
                          ],
                          [
                            0.4444444444444444,
                            "#bd3786"
                          ],
                          [
                            0.5555555555555556,
                            "#d8576b"
                          ],
                          [
                            0.6666666666666666,
                            "#ed7953"
                          ],
                          [
                            0.7777777777777778,
                            "#fb9f3a"
                          ],
                          [
                            0.8888888888888888,
                            "#fdca26"
                          ],
                          [
                            1,
                            "#f0f921"
                          ]
                        ],
                        "type": "histogram2d"
                      }
                    ],
                    "histogram2dcontour": [
                      {
                        "colorbar": {
                          "outlinewidth": 0,
                          "ticks": ""
                        },
                        "colorscale": [
                          [
                            0,
                            "#0d0887"
                          ],
                          [
                            0.1111111111111111,
                            "#46039f"
                          ],
                          [
                            0.2222222222222222,
                            "#7201a8"
                          ],
                          [
                            0.3333333333333333,
                            "#9c179e"
                          ],
                          [
                            0.4444444444444444,
                            "#bd3786"
                          ],
                          [
                            0.5555555555555556,
                            "#d8576b"
                          ],
                          [
                            0.6666666666666666,
                            "#ed7953"
                          ],
                          [
                            0.7777777777777778,
                            "#fb9f3a"
                          ],
                          [
                            0.8888888888888888,
                            "#fdca26"
                          ],
                          [
                            1,
                            "#f0f921"
                          ]
                        ],
                        "type": "histogram2dcontour"
                      }
                    ],
                    "mesh3d": [
                      {
                        "colorbar": {
                          "outlinewidth": 0,
                          "ticks": ""
                        },
                        "type": "mesh3d"
                      }
                    ],
                    "parcoords": [
                      {
                        "line": {
                          "colorbar": {
                            "outlinewidth": 0,
                            "ticks": ""
                          }
                        },
                        "type": "parcoords"
                      }
                    ],
                    "pie": [
                      {
                        "automargin": true,
                        "type": "pie"
                      }
                    ],
                    "scatter": [
                      {
                        "fillpattern": {
                          "fillmode": "overlay",
                          "size": 10,
                          "solidity": 0.2
                        },
                        "type": "scatter"
                      }
                    ],
                    "scatter3d": [
                      {
                        "line": {
                          "colorbar": {
                            "outlinewidth": 0,
                            "ticks": ""
                          }
                        },
                        "marker": {
                          "colorbar": {
                            "outlinewidth": 0,
                            "ticks": ""
                          }
                        },
                        "type": "scatter3d"
                      }
                    ],
                    "scattercarpet": [
                      {
                        "marker": {
                          "colorbar": {
                            "outlinewidth": 0,
                            "ticks": ""
                          }
                        },
                        "type": "scattercarpet"
                      }
                    ],
                    "scattergeo": [
                      {
                        "marker": {
                          "colorbar": {
                            "outlinewidth": 0,
                            "ticks": ""
                          }
                        },
                        "type": "scattergeo"
                      }
                    ],
                    "scattergl": [
                      {
                        "marker": {
                          "colorbar": {
                            "outlinewidth": 0,
                            "ticks": ""
                          }
                        },
                        "type": "scattergl"
                      }
                    ],
                    "scattermapbox": [
                      {
                        "marker": {
                          "colorbar": {
                            "outlinewidth": 0,
                            "ticks": ""
                          }
                        },
                        "type": "scattermapbox"
                      }
                    ],
                    "scatterpolar": [
                      {
                        "marker": {
                          "colorbar": {
                            "outlinewidth": 0,
                            "ticks": ""
                          }
                        },
                        "type": "scatterpolar"
                      }
                    ],
                    "scatterpolargl": [
                      {
                        "marker": {
                          "colorbar": {
                            "outlinewidth": 0,
                            "ticks": ""
                          }
                        },
                        "type": "scatterpolargl"
                      }
                    ],
                    "scatterternary": [
                      {
                        "marker": {
                          "colorbar": {
                            "outlinewidth": 0,
                            "ticks": ""
                          }
                        },
                        "type": "scatterternary"
                      }
                    ],
                    "surface": [
                      {
                        "colorbar": {
                          "outlinewidth": 0,
                          "ticks": ""
                        },
                        "colorscale": [
                          [
                            0,
                            "#0d0887"
                          ],
                          [
                            0.1111111111111111,
                            "#46039f"
                          ],
                          [
                            0.2222222222222222,
                            "#7201a8"
                          ],
                          [
                            0.3333333333333333,
                            "#9c179e"
                          ],
                          [
                            0.4444444444444444,
                            "#bd3786"
                          ],
                          [
                            0.5555555555555556,
                            "#d8576b"
                          ],
                          [
                            0.6666666666666666,
                            "#ed7953"
                          ],
                          [
                            0.7777777777777778,
                            "#fb9f3a"
                          ],
                          [
                            0.8888888888888888,
                            "#fdca26"
                          ],
                          [
                            1,
                            "#f0f921"
                          ]
                        ],
                        "type": "surface"
                      }
                    ],
                    "table": [
                      {
                        "cells": {
                          "fill": {
                            "color": "#EBF0F8"
                          },
                          "line": {
                            "color": "white"
                          }
                        },
                        "header": {
                          "fill": {
                            "color": "#C8D4E3"
                          },
                          "line": {
                            "color": "white"
                          }
                        },
                        "type": "table"
                      }
                    ]
                  },
                  "layout": {
                    "annotationdefaults": {
                      "arrowcolor": "#2a3f5f",
                      "arrowhead": 0,
                      "arrowwidth": 1
                    },
                    "autotypenumbers": "strict",
                    "coloraxis": {
                      "colorbar": {
                        "outlinewidth": 0,
                        "ticks": ""
                      }
                    },
                    "colorscale": {
                      "diverging": [
                        [
                          0,
                          "#8e0152"
                        ],
                        [
                          0.1,
                          "#c51b7d"
                        ],
                        [
                          0.2,
                          "#de77ae"
                        ],
                        [
                          0.3,
                          "#f1b6da"
                        ],
                        [
                          0.4,
                          "#fde0ef"
                        ],
                        [
                          0.5,
                          "#f7f7f7"
                        ],
                        [
                          0.6,
                          "#e6f5d0"
                        ],
                        [
                          0.7,
                          "#b8e186"
                        ],
                        [
                          0.8,
                          "#7fbc41"
                        ],
                        [
                          0.9,
                          "#4d9221"
                        ],
                        [
                          1,
                          "#276419"
                        ]
                      ],
                      "sequential": [
                        [
                          0,
                          "#0d0887"
                        ],
                        [
                          0.1111111111111111,
                          "#46039f"
                        ],
                        [
                          0.2222222222222222,
                          "#7201a8"
                        ],
                        [
                          0.3333333333333333,
                          "#9c179e"
                        ],
                        [
                          0.4444444444444444,
                          "#bd3786"
                        ],
                        [
                          0.5555555555555556,
                          "#d8576b"
                        ],
                        [
                          0.6666666666666666,
                          "#ed7953"
                        ],
                        [
                          0.7777777777777778,
                          "#fb9f3a"
                        ],
                        [
                          0.8888888888888888,
                          "#fdca26"
                        ],
                        [
                          1,
                          "#f0f921"
                        ]
                      ],
                      "sequentialminus": [
                        [
                          0,
                          "#0d0887"
                        ],
                        [
                          0.1111111111111111,
                          "#46039f"
                        ],
                        [
                          0.2222222222222222,
                          "#7201a8"
                        ],
                        [
                          0.3333333333333333,
                          "#9c179e"
                        ],
                        [
                          0.4444444444444444,
                          "#bd3786"
                        ],
                        [
                          0.5555555555555556,
                          "#d8576b"
                        ],
                        [
                          0.6666666666666666,
                          "#ed7953"
                        ],
                        [
                          0.7777777777777778,
                          "#fb9f3a"
                        ],
                        [
                          0.8888888888888888,
                          "#fdca26"
                        ],
                        [
                          1,
                          "#f0f921"
                        ]
                      ]
                    },
                    "colorway": [
                      "#636efa",
                      "#EF553B",
                      "#00cc96",
                      "#ab63fa",
                      "#FFA15A",
                      "#19d3f3",
                      "#FF6692",
                      "#B6E880",
                      "#FF97FF",
                      "#FECB52"
                    ],
                    "font": {
                      "color": "#2a3f5f"
                    },
                    "geo": {
                      "bgcolor": "white",
                      "lakecolor": "white",
                      "landcolor": "#E5ECF6",
                      "showlakes": true,
                      "showland": true,
                      "subunitcolor": "white"
                    },
                    "hoverlabel": {
                      "align": "left"
                    },
                    "hovermode": "closest",
                    "mapbox": {
                      "style": "light"
                    },
                    "paper_bgcolor": "white",
                    "plot_bgcolor": "#E5ECF6",
                    "polar": {
                      "angularaxis": {
                        "gridcolor": "white",
                        "linecolor": "white",
                        "ticks": ""
                      },
                      "bgcolor": "#E5ECF6",
                      "radialaxis": {
                        "gridcolor": "white",
                        "linecolor": "white",
                        "ticks": ""
                      }
                    },
                    "scene": {
                      "xaxis": {
                        "backgroundcolor": "#E5ECF6",
                        "gridcolor": "white",
                        "gridwidth": 2,
                        "linecolor": "white",
                        "showbackground": true,
                        "ticks": "",
                        "zerolinecolor": "white"
                      },
                      "yaxis": {
                        "backgroundcolor": "#E5ECF6",
                        "gridcolor": "white",
                        "gridwidth": 2,
                        "linecolor": "white",
                        "showbackground": true,
                        "ticks": "",
                        "zerolinecolor": "white"
                      },
                      "zaxis": {
                        "backgroundcolor": "#E5ECF6",
                        "gridcolor": "white",
                        "gridwidth": 2,
                        "linecolor": "white",
                        "showbackground": true,
                        "ticks": "",
                        "zerolinecolor": "white"
                      }
                    },
                    "shapedefaults": {
                      "line": {
                        "color": "#2a3f5f"
                      }
                    },
                    "ternary": {
                      "aaxis": {
                        "gridcolor": "white",
                        "linecolor": "white",
                        "ticks": ""
                      },
                      "baxis": {
                        "gridcolor": "white",
                        "linecolor": "white",
                        "ticks": ""
                      },
                      "bgcolor": "#E5ECF6",
                      "caxis": {
                        "gridcolor": "white",
                        "linecolor": "white",
                        "ticks": ""
                      }
                    },
                    "title": {
                      "x": 0.05
                    },
                    "xaxis": {
                      "automargin": true,
                      "gridcolor": "white",
                      "linecolor": "white",
                      "ticks": "",
                      "title": {
                        "standoff": 15
                      },
                      "zerolinecolor": "white",
                      "zerolinewidth": 2
                    },
                    "yaxis": {
                      "automargin": true,
                      "gridcolor": "white",
                      "linecolor": "white",
                      "ticks": "",
                      "title": {
                        "standoff": 15
                      },
                      "zerolinecolor": "white",
                      "zerolinewidth": 2
                    }
                  }
                },
                "title": {
                  "text": "Hyperparameter Importances"
                },
                "xaxis": {
                  "title": {
                    "text": "Hyperparameter Importance"
                  }
                },
                "yaxis": {
                  "title": {
                    "text": "Hyperparameter"
                  }
                }
              }
            }
          },
          "metadata": {},
          "output_type": "display_data"
        }
      ],
      "source": [
        "optuna.visualization.plot_param_importances(fmnist_cnn_study)"
      ]
    },
    {
      "cell_type": "code",
      "execution_count": 47,
      "metadata": {},
      "outputs": [
        {
          "data": {
            "application/vnd.plotly.v1+json": {
              "config": {
                "plotlyServerURL": "https://plot.ly"
              },
              "data": [
                {
                  "marker": {
                    "color": [
                      0,
                      1,
                      2,
                      3,
                      4,
                      5,
                      6,
                      7,
                      8,
                      9,
                      10,
                      11,
                      12,
                      13,
                      14,
                      15,
                      16,
                      18,
                      19,
                      21,
                      22,
                      23,
                      24,
                      25,
                      26,
                      27,
                      28,
                      36,
                      37,
                      38,
                      40,
                      45,
                      46,
                      47
                    ],
                    "colorbar": {
                      "title": {
                        "text": "Trial"
                      },
                      "x": 1,
                      "xpad": 40
                    },
                    "colorscale": [
                      [
                        0,
                        "rgb(247,251,255)"
                      ],
                      [
                        0.125,
                        "rgb(222,235,247)"
                      ],
                      [
                        0.25,
                        "rgb(198,219,239)"
                      ],
                      [
                        0.375,
                        "rgb(158,202,225)"
                      ],
                      [
                        0.5,
                        "rgb(107,174,214)"
                      ],
                      [
                        0.625,
                        "rgb(66,146,198)"
                      ],
                      [
                        0.75,
                        "rgb(33,113,181)"
                      ],
                      [
                        0.875,
                        "rgb(8,81,156)"
                      ],
                      [
                        1,
                        "rgb(8,48,107)"
                      ]
                    ],
                    "line": {
                      "color": "Grey",
                      "width": 0.5
                    },
                    "showscale": true
                  },
                  "mode": "markers",
                  "name": "Feasible Trial",
                  "showlegend": false,
                  "type": "scatter",
                  "x": [
                    "relu",
                    "relu",
                    "relu",
                    "sigmoid",
                    "tanh",
                    "tanh",
                    "tanh",
                    "relu",
                    "relu",
                    "sigmoid",
                    "tanh",
                    "relu",
                    "relu",
                    "relu",
                    "relu",
                    "relu",
                    "sigmoid",
                    "sigmoid",
                    "sigmoid",
                    "relu",
                    "relu",
                    "relu",
                    "relu",
                    "relu",
                    "relu",
                    "relu",
                    "relu",
                    "relu",
                    "relu",
                    "tanh",
                    "tanh",
                    "tanh",
                    "tanh",
                    "tanh"
                  ],
                  "xaxis": "x",
                  "y": [
                    0.9122499823570251,
                    0.8539999723434448,
                    0.902999997138977,
                    0.8706666827201843,
                    0.5215833187103271,
                    0.6632500290870667,
                    0.101583331823349,
                    0.856083333492279,
                    0.893666684627533,
                    0.101583331823349,
                    0.8816666603088379,
                    0.8967499732971191,
                    0.8854166865348816,
                    0.8978333473205566,
                    0.9088333249092102,
                    0.9137499928474426,
                    0.8879166841506958,
                    0.8849166631698608,
                    0.8758333325386047,
                    0.8949999809265137,
                    0.8960833549499512,
                    0.9043333530426025,
                    0.9099166393280029,
                    0.8911666870117188,
                    0.8974166512489319,
                    0.9014166593551636,
                    0.9067500233650208,
                    0.9006666541099548,
                    0.8989999890327454,
                    0.9145833253860474,
                    0.9075000286102295,
                    0.9174166917800903,
                    0.918583333492279,
                    0.92208331823349
                  ],
                  "yaxis": "y"
                },
                {
                  "marker": {
                    "color": [
                      0,
                      1,
                      2,
                      3,
                      4,
                      5,
                      6,
                      7,
                      8,
                      9,
                      10,
                      11,
                      12,
                      13,
                      14,
                      15,
                      16,
                      18,
                      19,
                      21,
                      22,
                      23,
                      24,
                      25,
                      26,
                      27,
                      28
                    ],
                    "colorbar": {
                      "title": {
                        "text": "Trial"
                      },
                      "x": 1,
                      "xpad": 40
                    },
                    "colorscale": [
                      [
                        0,
                        "rgb(247,251,255)"
                      ],
                      [
                        0.125,
                        "rgb(222,235,247)"
                      ],
                      [
                        0.25,
                        "rgb(198,219,239)"
                      ],
                      [
                        0.375,
                        "rgb(158,202,225)"
                      ],
                      [
                        0.5,
                        "rgb(107,174,214)"
                      ],
                      [
                        0.625,
                        "rgb(66,146,198)"
                      ],
                      [
                        0.75,
                        "rgb(33,113,181)"
                      ],
                      [
                        0.875,
                        "rgb(8,81,156)"
                      ],
                      [
                        1,
                        "rgb(8,48,107)"
                      ]
                    ],
                    "line": {
                      "color": "Grey",
                      "width": 0.5
                    },
                    "showscale": false
                  },
                  "mode": "markers",
                  "name": "Feasible Trial",
                  "showlegend": false,
                  "type": "scatter",
                  "x": [
                    64,
                    32,
                    32,
                    64,
                    64,
                    64,
                    64,
                    32,
                    128,
                    128,
                    128,
                    128,
                    64,
                    32,
                    32,
                    32,
                    32,
                    32,
                    32,
                    64,
                    64,
                    64,
                    32,
                    32,
                    32,
                    32,
                    32
                  ],
                  "xaxis": "x2",
                  "y": [
                    0.9122499823570251,
                    0.8539999723434448,
                    0.902999997138977,
                    0.8706666827201843,
                    0.5215833187103271,
                    0.6632500290870667,
                    0.101583331823349,
                    0.856083333492279,
                    0.893666684627533,
                    0.101583331823349,
                    0.8816666603088379,
                    0.8967499732971191,
                    0.8854166865348816,
                    0.8978333473205566,
                    0.9088333249092102,
                    0.9137499928474426,
                    0.8879166841506958,
                    0.8849166631698608,
                    0.8758333325386047,
                    0.8949999809265137,
                    0.8960833549499512,
                    0.9043333530426025,
                    0.9099166393280029,
                    0.8911666870117188,
                    0.8974166512489319,
                    0.9014166593551636,
                    0.9067500233650208
                  ],
                  "yaxis": "y2"
                },
                {
                  "marker": {
                    "color": [
                      0,
                      1,
                      2,
                      3,
                      4,
                      5,
                      6,
                      7,
                      8,
                      9,
                      10,
                      11,
                      12,
                      13,
                      14,
                      15,
                      16,
                      18,
                      19,
                      21,
                      22,
                      23,
                      24,
                      25,
                      26,
                      27,
                      28,
                      36,
                      37,
                      38,
                      40,
                      45,
                      46,
                      47
                    ],
                    "colorbar": {
                      "title": {
                        "text": "Trial"
                      },
                      "x": 1,
                      "xpad": 40
                    },
                    "colorscale": [
                      [
                        0,
                        "rgb(247,251,255)"
                      ],
                      [
                        0.125,
                        "rgb(222,235,247)"
                      ],
                      [
                        0.25,
                        "rgb(198,219,239)"
                      ],
                      [
                        0.375,
                        "rgb(158,202,225)"
                      ],
                      [
                        0.5,
                        "rgb(107,174,214)"
                      ],
                      [
                        0.625,
                        "rgb(66,146,198)"
                      ],
                      [
                        0.75,
                        "rgb(33,113,181)"
                      ],
                      [
                        0.875,
                        "rgb(8,81,156)"
                      ],
                      [
                        1,
                        "rgb(8,48,107)"
                      ]
                    ],
                    "line": {
                      "color": "Grey",
                      "width": 0.5
                    },
                    "showscale": false
                  },
                  "mode": "markers",
                  "name": "Feasible Trial",
                  "showlegend": false,
                  "type": "scatter",
                  "x": [
                    0.41687245740748635,
                    0.05382221435702572,
                    0.27894187920962177,
                    0.06587067638903071,
                    0.4121346514932056,
                    0.08627665911205512,
                    0.432847547057672,
                    0.21574729930155778,
                    0.3401219434213055,
                    0.4084943667811909,
                    0.30980938948584263,
                    0.26460019277093333,
                    0.49782714057475486,
                    0.4855124588004247,
                    0.16831472609677323,
                    0.17211410555977263,
                    0.14531887039658747,
                    0.16146404419580174,
                    0.14935516443701097,
                    0.22301691495332066,
                    0.3492676301655367,
                    0.0024278696605550265,
                    0.3543917178587272,
                    0.22188131826355884,
                    0.1024769537523215,
                    0.11751160556957085,
                    0.37036005494686525,
                    0.30252106424714575,
                    0.2849781969794619,
                    0.19082322670374147,
                    0.04919585766103417,
                    0.11603656257233266,
                    0.2522377459600669,
                    0.12361946420484013
                  ],
                  "xaxis": "x3",
                  "y": [
                    0.9122499823570251,
                    0.8539999723434448,
                    0.902999997138977,
                    0.8706666827201843,
                    0.5215833187103271,
                    0.6632500290870667,
                    0.101583331823349,
                    0.856083333492279,
                    0.893666684627533,
                    0.101583331823349,
                    0.8816666603088379,
                    0.8967499732971191,
                    0.8854166865348816,
                    0.8978333473205566,
                    0.9088333249092102,
                    0.9137499928474426,
                    0.8879166841506958,
                    0.8849166631698608,
                    0.8758333325386047,
                    0.8949999809265137,
                    0.8960833549499512,
                    0.9043333530426025,
                    0.9099166393280029,
                    0.8911666870117188,
                    0.8974166512489319,
                    0.9014166593551636,
                    0.9067500233650208,
                    0.9006666541099548,
                    0.8989999890327454,
                    0.9145833253860474,
                    0.9075000286102295,
                    0.9174166917800903,
                    0.918583333492279,
                    0.92208331823349
                  ],
                  "yaxis": "y3"
                },
                {
                  "marker": {
                    "color": [
                      0,
                      1,
                      2,
                      3,
                      4,
                      5,
                      6,
                      7,
                      8,
                      9,
                      10,
                      11,
                      12,
                      13,
                      14,
                      15,
                      16,
                      18,
                      19,
                      21,
                      22,
                      23,
                      24,
                      25,
                      26,
                      27,
                      28
                    ],
                    "colorbar": {
                      "title": {
                        "text": "Trial"
                      },
                      "x": 1,
                      "xpad": 40
                    },
                    "colorscale": [
                      [
                        0,
                        "rgb(247,251,255)"
                      ],
                      [
                        0.125,
                        "rgb(222,235,247)"
                      ],
                      [
                        0.25,
                        "rgb(198,219,239)"
                      ],
                      [
                        0.375,
                        "rgb(158,202,225)"
                      ],
                      [
                        0.5,
                        "rgb(107,174,214)"
                      ],
                      [
                        0.625,
                        "rgb(66,146,198)"
                      ],
                      [
                        0.75,
                        "rgb(33,113,181)"
                      ],
                      [
                        0.875,
                        "rgb(8,81,156)"
                      ],
                      [
                        1,
                        "rgb(8,48,107)"
                      ]
                    ],
                    "line": {
                      "color": "Grey",
                      "width": 0.5
                    },
                    "showscale": false
                  },
                  "mode": "markers",
                  "name": "Feasible Trial",
                  "showlegend": false,
                  "type": "scatter",
                  "x": [
                    256,
                    256,
                    128,
                    128,
                    128,
                    128,
                    256,
                    256,
                    256,
                    128,
                    64,
                    128,
                    64,
                    64,
                    256,
                    256,
                    256,
                    256,
                    256,
                    256,
                    256,
                    256,
                    256,
                    256,
                    256,
                    256,
                    64
                  ],
                  "xaxis": "x4",
                  "y": [
                    0.9122499823570251,
                    0.8539999723434448,
                    0.902999997138977,
                    0.8706666827201843,
                    0.5215833187103271,
                    0.6632500290870667,
                    0.101583331823349,
                    0.856083333492279,
                    0.893666684627533,
                    0.101583331823349,
                    0.8816666603088379,
                    0.8967499732971191,
                    0.8854166865348816,
                    0.8978333473205566,
                    0.9088333249092102,
                    0.9137499928474426,
                    0.8879166841506958,
                    0.8849166631698608,
                    0.8758333325386047,
                    0.8949999809265137,
                    0.8960833549499512,
                    0.9043333530426025,
                    0.9099166393280029,
                    0.8911666870117188,
                    0.8974166512489319,
                    0.9014166593551636,
                    0.9067500233650208
                  ],
                  "yaxis": "y4"
                },
                {
                  "marker": {
                    "color": [
                      1,
                      2,
                      3,
                      4,
                      6,
                      10,
                      11,
                      46
                    ],
                    "colorbar": {
                      "title": {
                        "text": "Trial"
                      },
                      "x": 1,
                      "xpad": 40
                    },
                    "colorscale": [
                      [
                        0,
                        "rgb(247,251,255)"
                      ],
                      [
                        0.125,
                        "rgb(222,235,247)"
                      ],
                      [
                        0.25,
                        "rgb(198,219,239)"
                      ],
                      [
                        0.375,
                        "rgb(158,202,225)"
                      ],
                      [
                        0.5,
                        "rgb(107,174,214)"
                      ],
                      [
                        0.625,
                        "rgb(66,146,198)"
                      ],
                      [
                        0.75,
                        "rgb(33,113,181)"
                      ],
                      [
                        0.875,
                        "rgb(8,81,156)"
                      ],
                      [
                        1,
                        "rgb(8,48,107)"
                      ]
                    ],
                    "line": {
                      "color": "Grey",
                      "width": 0.5
                    },
                    "showscale": false
                  },
                  "mode": "markers",
                  "name": "Feasible Trial",
                  "showlegend": false,
                  "type": "scatter",
                  "x": [
                    64,
                    128,
                    64,
                    64,
                    128,
                    64,
                    64,
                    128
                  ],
                  "xaxis": "x5",
                  "y": [
                    0.8539999723434448,
                    0.902999997138977,
                    0.8706666827201843,
                    0.5215833187103271,
                    0.101583331823349,
                    0.8816666603088379,
                    0.8967499732971191,
                    0.918583333492279
                  ],
                  "yaxis": "y5"
                },
                {
                  "marker": {
                    "color": [
                      36,
                      37,
                      38,
                      40,
                      45,
                      47
                    ],
                    "colorbar": {
                      "title": {
                        "text": "Trial"
                      },
                      "x": 1,
                      "xpad": 40
                    },
                    "colorscale": [
                      [
                        0,
                        "rgb(247,251,255)"
                      ],
                      [
                        0.125,
                        "rgb(222,235,247)"
                      ],
                      [
                        0.25,
                        "rgb(198,219,239)"
                      ],
                      [
                        0.375,
                        "rgb(158,202,225)"
                      ],
                      [
                        0.5,
                        "rgb(107,174,214)"
                      ],
                      [
                        0.625,
                        "rgb(66,146,198)"
                      ],
                      [
                        0.75,
                        "rgb(33,113,181)"
                      ],
                      [
                        0.875,
                        "rgb(8,81,156)"
                      ],
                      [
                        1,
                        "rgb(8,48,107)"
                      ]
                    ],
                    "line": {
                      "color": "Grey",
                      "width": 0.5
                    },
                    "showscale": false
                  },
                  "mode": "markers",
                  "name": "Feasible Trial",
                  "showlegend": false,
                  "type": "scatter",
                  "x": [
                    128,
                    64,
                    64,
                    64,
                    64,
                    64
                  ],
                  "xaxis": "x6",
                  "y": [
                    0.9006666541099548,
                    0.8989999890327454,
                    0.9145833253860474,
                    0.9075000286102295,
                    0.9174166917800903,
                    0.92208331823349
                  ],
                  "yaxis": "y6"
                },
                {
                  "marker": {
                    "color": [
                      0,
                      1,
                      2,
                      3,
                      4,
                      5,
                      6,
                      7,
                      8,
                      9,
                      10,
                      11,
                      12,
                      13,
                      14,
                      15,
                      16,
                      18,
                      19,
                      21,
                      22,
                      23,
                      24,
                      25,
                      26,
                      27,
                      28
                    ],
                    "colorbar": {
                      "title": {
                        "text": "Trial"
                      },
                      "x": 1,
                      "xpad": 40
                    },
                    "colorscale": [
                      [
                        0,
                        "rgb(247,251,255)"
                      ],
                      [
                        0.125,
                        "rgb(222,235,247)"
                      ],
                      [
                        0.25,
                        "rgb(198,219,239)"
                      ],
                      [
                        0.375,
                        "rgb(158,202,225)"
                      ],
                      [
                        0.5,
                        "rgb(107,174,214)"
                      ],
                      [
                        0.625,
                        "rgb(66,146,198)"
                      ],
                      [
                        0.75,
                        "rgb(33,113,181)"
                      ],
                      [
                        0.875,
                        "rgb(8,81,156)"
                      ],
                      [
                        1,
                        "rgb(8,48,107)"
                      ]
                    ],
                    "line": {
                      "color": "Grey",
                      "width": 0.5
                    },
                    "showscale": false
                  },
                  "mode": "markers",
                  "name": "Feasible Trial",
                  "showlegend": false,
                  "type": "scatter",
                  "x": [
                    5,
                    3,
                    3,
                    3,
                    5,
                    3,
                    3,
                    3,
                    3,
                    5,
                    3,
                    3,
                    5,
                    5,
                    5,
                    5,
                    5,
                    5,
                    5,
                    5,
                    5,
                    5,
                    5,
                    5,
                    5,
                    5,
                    5
                  ],
                  "xaxis": "x7",
                  "y": [
                    0.9122499823570251,
                    0.8539999723434448,
                    0.902999997138977,
                    0.8706666827201843,
                    0.5215833187103271,
                    0.6632500290870667,
                    0.101583331823349,
                    0.856083333492279,
                    0.893666684627533,
                    0.101583331823349,
                    0.8816666603088379,
                    0.8967499732971191,
                    0.8854166865348816,
                    0.8978333473205566,
                    0.9088333249092102,
                    0.9137499928474426,
                    0.8879166841506958,
                    0.8849166631698608,
                    0.8758333325386047,
                    0.8949999809265137,
                    0.8960833549499512,
                    0.9043333530426025,
                    0.9099166393280029,
                    0.8911666870117188,
                    0.8974166512489319,
                    0.9014166593551636,
                    0.9067500233650208
                  ],
                  "yaxis": "y7"
                },
                {
                  "marker": {
                    "color": [
                      1,
                      2,
                      3,
                      4,
                      5,
                      6,
                      7,
                      9,
                      11,
                      14,
                      24,
                      25,
                      26,
                      27,
                      28
                    ],
                    "colorbar": {
                      "title": {
                        "text": "Trial"
                      },
                      "x": 1,
                      "xpad": 40
                    },
                    "colorscale": [
                      [
                        0,
                        "rgb(247,251,255)"
                      ],
                      [
                        0.125,
                        "rgb(222,235,247)"
                      ],
                      [
                        0.25,
                        "rgb(198,219,239)"
                      ],
                      [
                        0.375,
                        "rgb(158,202,225)"
                      ],
                      [
                        0.5,
                        "rgb(107,174,214)"
                      ],
                      [
                        0.625,
                        "rgb(66,146,198)"
                      ],
                      [
                        0.75,
                        "rgb(33,113,181)"
                      ],
                      [
                        0.875,
                        "rgb(8,81,156)"
                      ],
                      [
                        1,
                        "rgb(8,48,107)"
                      ]
                    ],
                    "line": {
                      "color": "Grey",
                      "width": 0.5
                    },
                    "showscale": false
                  },
                  "mode": "markers",
                  "name": "Feasible Trial",
                  "showlegend": false,
                  "type": "scatter",
                  "x": [
                    3,
                    5,
                    3,
                    5,
                    3,
                    5,
                    3,
                    3,
                    3,
                    5,
                    5,
                    5,
                    5,
                    5,
                    5
                  ],
                  "xaxis": "x8",
                  "y": [
                    0.8539999723434448,
                    0.902999997138977,
                    0.8706666827201843,
                    0.5215833187103271,
                    0.6632500290870667,
                    0.101583331823349,
                    0.856083333492279,
                    0.101583331823349,
                    0.8967499732971191,
                    0.9088333249092102,
                    0.9099166393280029,
                    0.8911666870117188,
                    0.8974166512489319,
                    0.9014166593551636,
                    0.9067500233650208
                  ],
                  "yaxis": "y8"
                },
                {
                  "marker": {
                    "color": [
                      1,
                      3,
                      5,
                      6,
                      9
                    ],
                    "colorbar": {
                      "title": {
                        "text": "Trial"
                      },
                      "x": 1,
                      "xpad": 40
                    },
                    "colorscale": [
                      [
                        0,
                        "rgb(247,251,255)"
                      ],
                      [
                        0.125,
                        "rgb(222,235,247)"
                      ],
                      [
                        0.25,
                        "rgb(198,219,239)"
                      ],
                      [
                        0.375,
                        "rgb(158,202,225)"
                      ],
                      [
                        0.5,
                        "rgb(107,174,214)"
                      ],
                      [
                        0.625,
                        "rgb(66,146,198)"
                      ],
                      [
                        0.75,
                        "rgb(33,113,181)"
                      ],
                      [
                        0.875,
                        "rgb(8,81,156)"
                      ],
                      [
                        1,
                        "rgb(8,48,107)"
                      ]
                    ],
                    "line": {
                      "color": "Grey",
                      "width": 0.5
                    },
                    "showscale": false
                  },
                  "mode": "markers",
                  "name": "Feasible Trial",
                  "showlegend": false,
                  "type": "scatter",
                  "x": [
                    3,
                    3,
                    3,
                    5,
                    3
                  ],
                  "xaxis": "x9",
                  "y": [
                    0.8539999723434448,
                    0.8706666827201843,
                    0.6632500290870667,
                    0.101583331823349,
                    0.101583331823349
                  ],
                  "yaxis": "y9"
                },
                {
                  "marker": {
                    "color": [
                      0,
                      1,
                      2,
                      3,
                      4,
                      5,
                      6,
                      7,
                      8,
                      9,
                      10,
                      11,
                      12,
                      13,
                      14,
                      15,
                      16,
                      18,
                      19,
                      21,
                      22,
                      23,
                      24,
                      25,
                      26,
                      27,
                      28,
                      36,
                      37,
                      38,
                      40,
                      45,
                      46,
                      47
                    ],
                    "colorbar": {
                      "title": {
                        "text": "Trial"
                      },
                      "x": 1,
                      "xpad": 40
                    },
                    "colorscale": [
                      [
                        0,
                        "rgb(247,251,255)"
                      ],
                      [
                        0.125,
                        "rgb(222,235,247)"
                      ],
                      [
                        0.25,
                        "rgb(198,219,239)"
                      ],
                      [
                        0.375,
                        "rgb(158,202,225)"
                      ],
                      [
                        0.5,
                        "rgb(107,174,214)"
                      ],
                      [
                        0.625,
                        "rgb(66,146,198)"
                      ],
                      [
                        0.75,
                        "rgb(33,113,181)"
                      ],
                      [
                        0.875,
                        "rgb(8,81,156)"
                      ],
                      [
                        1,
                        "rgb(8,48,107)"
                      ]
                    ],
                    "line": {
                      "color": "Grey",
                      "width": 0.5
                    },
                    "showscale": false
                  },
                  "mode": "markers",
                  "name": "Feasible Trial",
                  "showlegend": false,
                  "type": "scatter",
                  "x": [
                    0.0003029651842380965,
                    0.008419493533912758,
                    0.023644927647640746,
                    0.011835858394128705,
                    0.02264998763598546,
                    0.00034193419782974766,
                    0.06685159824453774,
                    0.004647594610999517,
                    0.07834060470997771,
                    0.004135256443451017,
                    0.031283147181711664,
                    0.000302732009638523,
                    0.00016518699703047335,
                    0.0015250930134979412,
                    0.0011939388009557528,
                    0.0011285004576531252,
                    0.000919124399508301,
                    0.0009465601585416137,
                    0.0008836693854696846,
                    0.00010133346783185729,
                    0.00011519824256956857,
                    0.00013573385831996892,
                    0.0020723439229884412,
                    0.00206424539187899,
                    0.002232442008936231,
                    0.0019803343317833185,
                    0.0022133697662218995,
                    0.0012379911514109549,
                    0.001200468478018085,
                    0.0005375054744215796,
                    0.001421137223224213,
                    0.0006458723011225203,
                    0.0006082313541940605,
                    0.0006224423091166731
                  ],
                  "xaxis": "x10",
                  "y": [
                    0.9122499823570251,
                    0.8539999723434448,
                    0.902999997138977,
                    0.8706666827201843,
                    0.5215833187103271,
                    0.6632500290870667,
                    0.101583331823349,
                    0.856083333492279,
                    0.893666684627533,
                    0.101583331823349,
                    0.8816666603088379,
                    0.8967499732971191,
                    0.8854166865348816,
                    0.8978333473205566,
                    0.9088333249092102,
                    0.9137499928474426,
                    0.8879166841506958,
                    0.8849166631698608,
                    0.8758333325386047,
                    0.8949999809265137,
                    0.8960833549499512,
                    0.9043333530426025,
                    0.9099166393280029,
                    0.8911666870117188,
                    0.8974166512489319,
                    0.9014166593551636,
                    0.9067500233650208,
                    0.9006666541099548,
                    0.8989999890327454,
                    0.9145833253860474,
                    0.9075000286102295,
                    0.9174166917800903,
                    0.918583333492279,
                    0.92208331823349
                  ],
                  "yaxis": "y10"
                },
                {
                  "marker": {
                    "color": [
                      0,
                      1,
                      2,
                      3,
                      4,
                      5,
                      6,
                      7,
                      8,
                      9,
                      10,
                      11,
                      12,
                      13,
                      14,
                      15,
                      16,
                      18,
                      19,
                      21,
                      22,
                      23,
                      24,
                      25,
                      26,
                      27,
                      28,
                      36,
                      37,
                      38,
                      40,
                      45,
                      46,
                      47
                    ],
                    "colorbar": {
                      "title": {
                        "text": "Trial"
                      },
                      "x": 1,
                      "xpad": 40
                    },
                    "colorscale": [
                      [
                        0,
                        "rgb(247,251,255)"
                      ],
                      [
                        0.125,
                        "rgb(222,235,247)"
                      ],
                      [
                        0.25,
                        "rgb(198,219,239)"
                      ],
                      [
                        0.375,
                        "rgb(158,202,225)"
                      ],
                      [
                        0.5,
                        "rgb(107,174,214)"
                      ],
                      [
                        0.625,
                        "rgb(66,146,198)"
                      ],
                      [
                        0.75,
                        "rgb(33,113,181)"
                      ],
                      [
                        0.875,
                        "rgb(8,81,156)"
                      ],
                      [
                        1,
                        "rgb(8,48,107)"
                      ]
                    ],
                    "line": {
                      "color": "Grey",
                      "width": 0.5
                    },
                    "showscale": false
                  },
                  "mode": "markers",
                  "name": "Feasible Trial",
                  "showlegend": false,
                  "type": "scatter",
                  "x": [
                    1,
                    3,
                    2,
                    3,
                    2,
                    3,
                    3,
                    2,
                    1,
                    3,
                    1,
                    2,
                    1,
                    1,
                    2,
                    1,
                    1,
                    1,
                    1,
                    1,
                    1,
                    1,
                    2,
                    2,
                    2,
                    2,
                    2,
                    3,
                    3,
                    3,
                    3,
                    3,
                    2,
                    3
                  ],
                  "xaxis": "x11",
                  "y": [
                    0.9122499823570251,
                    0.8539999723434448,
                    0.902999997138977,
                    0.8706666827201843,
                    0.5215833187103271,
                    0.6632500290870667,
                    0.101583331823349,
                    0.856083333492279,
                    0.893666684627533,
                    0.101583331823349,
                    0.8816666603088379,
                    0.8967499732971191,
                    0.8854166865348816,
                    0.8978333473205566,
                    0.9088333249092102,
                    0.9137499928474426,
                    0.8879166841506958,
                    0.8849166631698608,
                    0.8758333325386047,
                    0.8949999809265137,
                    0.8960833549499512,
                    0.9043333530426025,
                    0.9099166393280029,
                    0.8911666870117188,
                    0.8974166512489319,
                    0.9014166593551636,
                    0.9067500233650208,
                    0.9006666541099548,
                    0.8989999890327454,
                    0.9145833253860474,
                    0.9075000286102295,
                    0.9174166917800903,
                    0.918583333492279,
                    0.92208331823349
                  ],
                  "yaxis": "y11"
                },
                {
                  "marker": {
                    "color": [
                      0,
                      1,
                      2,
                      3,
                      4,
                      5,
                      6,
                      7,
                      8,
                      9,
                      10,
                      11,
                      12,
                      13,
                      14,
                      15,
                      16,
                      18,
                      19,
                      21,
                      22,
                      23,
                      24,
                      25,
                      26,
                      27,
                      28
                    ],
                    "colorbar": {
                      "title": {
                        "text": "Trial"
                      },
                      "x": 1,
                      "xpad": 40
                    },
                    "colorscale": [
                      [
                        0,
                        "rgb(247,251,255)"
                      ],
                      [
                        0.125,
                        "rgb(222,235,247)"
                      ],
                      [
                        0.25,
                        "rgb(198,219,239)"
                      ],
                      [
                        0.375,
                        "rgb(158,202,225)"
                      ],
                      [
                        0.5,
                        "rgb(107,174,214)"
                      ],
                      [
                        0.625,
                        "rgb(66,146,198)"
                      ],
                      [
                        0.75,
                        "rgb(33,113,181)"
                      ],
                      [
                        0.875,
                        "rgb(8,81,156)"
                      ],
                      [
                        1,
                        "rgb(8,48,107)"
                      ]
                    ],
                    "line": {
                      "color": "Grey",
                      "width": 0.5
                    },
                    "showscale": false
                  },
                  "mode": "markers",
                  "name": "Feasible Trial",
                  "showlegend": false,
                  "type": "scatter",
                  "x": [
                    1,
                    2,
                    2,
                    2,
                    2,
                    1,
                    2,
                    1,
                    1,
                    1,
                    2,
                    2,
                    1,
                    1,
                    1,
                    1,
                    1,
                    1,
                    1,
                    1,
                    1,
                    1,
                    1,
                    1,
                    1,
                    1,
                    1
                  ],
                  "xaxis": "x12",
                  "y": [
                    0.9122499823570251,
                    0.8539999723434448,
                    0.902999997138977,
                    0.8706666827201843,
                    0.5215833187103271,
                    0.6632500290870667,
                    0.101583331823349,
                    0.856083333492279,
                    0.893666684627533,
                    0.101583331823349,
                    0.8816666603088379,
                    0.8967499732971191,
                    0.8854166865348816,
                    0.8978333473205566,
                    0.9088333249092102,
                    0.9137499928474426,
                    0.8879166841506958,
                    0.8849166631698608,
                    0.8758333325386047,
                    0.8949999809265137,
                    0.8960833549499512,
                    0.9043333530426025,
                    0.9099166393280029,
                    0.8911666870117188,
                    0.8974166512489319,
                    0.9014166593551636,
                    0.9067500233650208
                  ],
                  "yaxis": "y12"
                },
                {
                  "marker": {
                    "color": [
                      0,
                      1,
                      2,
                      3,
                      4,
                      5,
                      6,
                      7,
                      8,
                      9,
                      10,
                      11,
                      12,
                      13,
                      14,
                      15,
                      16,
                      18,
                      19,
                      21,
                      22,
                      23,
                      24,
                      25,
                      26,
                      27,
                      28,
                      36,
                      37,
                      38,
                      40,
                      45,
                      46,
                      47
                    ],
                    "colorbar": {
                      "title": {
                        "text": "Trial"
                      },
                      "x": 1,
                      "xpad": 40
                    },
                    "colorscale": [
                      [
                        0,
                        "rgb(247,251,255)"
                      ],
                      [
                        0.125,
                        "rgb(222,235,247)"
                      ],
                      [
                        0.25,
                        "rgb(198,219,239)"
                      ],
                      [
                        0.375,
                        "rgb(158,202,225)"
                      ],
                      [
                        0.5,
                        "rgb(107,174,214)"
                      ],
                      [
                        0.625,
                        "rgb(66,146,198)"
                      ],
                      [
                        0.75,
                        "rgb(33,113,181)"
                      ],
                      [
                        0.875,
                        "rgb(8,81,156)"
                      ],
                      [
                        1,
                        "rgb(8,48,107)"
                      ]
                    ],
                    "line": {
                      "color": "Grey",
                      "width": 0.5
                    },
                    "showscale": false
                  },
                  "mode": "markers",
                  "name": "Feasible Trial",
                  "showlegend": false,
                  "type": "scatter",
                  "x": [
                    32,
                    32,
                    128,
                    16,
                    64,
                    16,
                    128,
                    64,
                    64,
                    16,
                    128,
                    128,
                    32,
                    32,
                    32,
                    32,
                    32,
                    32,
                    32,
                    32,
                    32,
                    32,
                    32,
                    32,
                    32,
                    32,
                    32,
                    32,
                    32,
                    32,
                    16,
                    32,
                    64,
                    64
                  ],
                  "xaxis": "x13",
                  "y": [
                    0.9122499823570251,
                    0.8539999723434448,
                    0.902999997138977,
                    0.8706666827201843,
                    0.5215833187103271,
                    0.6632500290870667,
                    0.101583331823349,
                    0.856083333492279,
                    0.893666684627533,
                    0.101583331823349,
                    0.8816666603088379,
                    0.8967499732971191,
                    0.8854166865348816,
                    0.8978333473205566,
                    0.9088333249092102,
                    0.9137499928474426,
                    0.8879166841506958,
                    0.8849166631698608,
                    0.8758333325386047,
                    0.8949999809265137,
                    0.8960833549499512,
                    0.9043333530426025,
                    0.9099166393280029,
                    0.8911666870117188,
                    0.8974166512489319,
                    0.9014166593551636,
                    0.9067500233650208,
                    0.9006666541099548,
                    0.8989999890327454,
                    0.9145833253860474,
                    0.9075000286102295,
                    0.9174166917800903,
                    0.918583333492279,
                    0.92208331823349
                  ],
                  "yaxis": "y13"
                },
                {
                  "marker": {
                    "color": [
                      1,
                      2,
                      3,
                      4,
                      5,
                      6,
                      7,
                      9,
                      11,
                      14,
                      24,
                      25,
                      26,
                      27,
                      28,
                      36,
                      37,
                      38,
                      40,
                      45,
                      46,
                      47
                    ],
                    "colorbar": {
                      "title": {
                        "text": "Trial"
                      },
                      "x": 1,
                      "xpad": 40
                    },
                    "colorscale": [
                      [
                        0,
                        "rgb(247,251,255)"
                      ],
                      [
                        0.125,
                        "rgb(222,235,247)"
                      ],
                      [
                        0.25,
                        "rgb(198,219,239)"
                      ],
                      [
                        0.375,
                        "rgb(158,202,225)"
                      ],
                      [
                        0.5,
                        "rgb(107,174,214)"
                      ],
                      [
                        0.625,
                        "rgb(66,146,198)"
                      ],
                      [
                        0.75,
                        "rgb(33,113,181)"
                      ],
                      [
                        0.875,
                        "rgb(8,81,156)"
                      ],
                      [
                        1,
                        "rgb(8,48,107)"
                      ]
                    ],
                    "line": {
                      "color": "Grey",
                      "width": 0.5
                    },
                    "showscale": false
                  },
                  "mode": "markers",
                  "name": "Feasible Trial",
                  "showlegend": false,
                  "type": "scatter",
                  "x": [
                    64,
                    128,
                    16,
                    64,
                    64,
                    64,
                    64,
                    128,
                    16,
                    32,
                    32,
                    32,
                    32,
                    32,
                    32,
                    128,
                    16,
                    128,
                    16,
                    128,
                    128,
                    128
                  ],
                  "xaxis": "x14",
                  "y": [
                    0.8539999723434448,
                    0.902999997138977,
                    0.8706666827201843,
                    0.5215833187103271,
                    0.6632500290870667,
                    0.101583331823349,
                    0.856083333492279,
                    0.101583331823349,
                    0.8967499732971191,
                    0.9088333249092102,
                    0.9099166393280029,
                    0.8911666870117188,
                    0.8974166512489319,
                    0.9014166593551636,
                    0.9067500233650208,
                    0.9006666541099548,
                    0.8989999890327454,
                    0.9145833253860474,
                    0.9075000286102295,
                    0.9174166917800903,
                    0.918583333492279,
                    0.92208331823349
                  ],
                  "yaxis": "y14"
                },
                {
                  "marker": {
                    "color": [
                      1,
                      3,
                      5,
                      6,
                      9,
                      36,
                      37,
                      38,
                      40,
                      45,
                      47
                    ],
                    "colorbar": {
                      "title": {
                        "text": "Trial"
                      },
                      "x": 1,
                      "xpad": 40
                    },
                    "colorscale": [
                      [
                        0,
                        "rgb(247,251,255)"
                      ],
                      [
                        0.125,
                        "rgb(222,235,247)"
                      ],
                      [
                        0.25,
                        "rgb(198,219,239)"
                      ],
                      [
                        0.375,
                        "rgb(158,202,225)"
                      ],
                      [
                        0.5,
                        "rgb(107,174,214)"
                      ],
                      [
                        0.625,
                        "rgb(66,146,198)"
                      ],
                      [
                        0.75,
                        "rgb(33,113,181)"
                      ],
                      [
                        0.875,
                        "rgb(8,81,156)"
                      ],
                      [
                        1,
                        "rgb(8,48,107)"
                      ]
                    ],
                    "line": {
                      "color": "Grey",
                      "width": 0.5
                    },
                    "showscale": false
                  },
                  "mode": "markers",
                  "name": "Feasible Trial",
                  "showlegend": false,
                  "type": "scatter",
                  "x": [
                    16,
                    16,
                    64,
                    32,
                    64,
                    128,
                    128,
                    128,
                    128,
                    128,
                    128
                  ],
                  "xaxis": "x15",
                  "y": [
                    0.8539999723434448,
                    0.8706666827201843,
                    0.6632500290870667,
                    0.101583331823349,
                    0.101583331823349,
                    0.9006666541099548,
                    0.8989999890327454,
                    0.9145833253860474,
                    0.9075000286102295,
                    0.9174166917800903,
                    0.92208331823349
                  ],
                  "yaxis": "y15"
                },
                {
                  "marker": {
                    "color": [
                      0,
                      1,
                      2,
                      3,
                      4,
                      5,
                      6,
                      7,
                      8,
                      9,
                      10,
                      11,
                      12,
                      13,
                      14,
                      15,
                      16,
                      18,
                      19,
                      21,
                      22,
                      23,
                      24,
                      25,
                      26,
                      27,
                      28,
                      36,
                      37,
                      38,
                      40,
                      45,
                      46,
                      47
                    ],
                    "colorbar": {
                      "title": {
                        "text": "Trial"
                      },
                      "x": 1,
                      "xpad": 40
                    },
                    "colorscale": [
                      [
                        0,
                        "rgb(247,251,255)"
                      ],
                      [
                        0.125,
                        "rgb(222,235,247)"
                      ],
                      [
                        0.25,
                        "rgb(198,219,239)"
                      ],
                      [
                        0.375,
                        "rgb(158,202,225)"
                      ],
                      [
                        0.5,
                        "rgb(107,174,214)"
                      ],
                      [
                        0.625,
                        "rgb(66,146,198)"
                      ],
                      [
                        0.75,
                        "rgb(33,113,181)"
                      ],
                      [
                        0.875,
                        "rgb(8,81,156)"
                      ],
                      [
                        1,
                        "rgb(8,48,107)"
                      ]
                    ],
                    "line": {
                      "color": "Grey",
                      "width": 0.5
                    },
                    "showscale": false
                  },
                  "mode": "markers",
                  "name": "Feasible Trial",
                  "showlegend": false,
                  "type": "scatter",
                  "x": [
                    "RMSprop",
                    "SGD",
                    "SGD",
                    "Adam",
                    "Adam",
                    "SGD",
                    "RMSprop",
                    "SGD",
                    "SGD",
                    "RMSprop",
                    "SGD",
                    "RMSprop",
                    "RMSprop",
                    "RMSprop",
                    "RMSprop",
                    "RMSprop",
                    "RMSprop",
                    "RMSprop",
                    "RMSprop",
                    "Adam",
                    "Adam",
                    "Adam",
                    "Adam",
                    "RMSprop",
                    "RMSprop",
                    "RMSprop",
                    "Adam",
                    "RMSprop",
                    "RMSprop",
                    "Adam",
                    "Adam",
                    "Adam",
                    "Adam",
                    "Adam"
                  ],
                  "xaxis": "x16",
                  "y": [
                    0.9122499823570251,
                    0.8539999723434448,
                    0.902999997138977,
                    0.8706666827201843,
                    0.5215833187103271,
                    0.6632500290870667,
                    0.101583331823349,
                    0.856083333492279,
                    0.893666684627533,
                    0.101583331823349,
                    0.8816666603088379,
                    0.8967499732971191,
                    0.8854166865348816,
                    0.8978333473205566,
                    0.9088333249092102,
                    0.9137499928474426,
                    0.8879166841506958,
                    0.8849166631698608,
                    0.8758333325386047,
                    0.8949999809265137,
                    0.8960833549499512,
                    0.9043333530426025,
                    0.9099166393280029,
                    0.8911666870117188,
                    0.8974166512489319,
                    0.9014166593551636,
                    0.9067500233650208,
                    0.9006666541099548,
                    0.8989999890327454,
                    0.9145833253860474,
                    0.9075000286102295,
                    0.9174166917800903,
                    0.918583333492279,
                    0.92208331823349
                  ],
                  "yaxis": "y16"
                },
                {
                  "marker": {
                    "color": [
                      0,
                      1,
                      2,
                      3,
                      4,
                      5,
                      6,
                      7,
                      8,
                      9,
                      10,
                      11,
                      12,
                      13,
                      14,
                      15,
                      16,
                      18,
                      19,
                      21,
                      22,
                      23,
                      24,
                      25,
                      26,
                      27,
                      28
                    ],
                    "colorbar": {
                      "title": {
                        "text": "Trial"
                      },
                      "x": 1,
                      "xpad": 40
                    },
                    "colorscale": [
                      [
                        0,
                        "rgb(247,251,255)"
                      ],
                      [
                        0.125,
                        "rgb(222,235,247)"
                      ],
                      [
                        0.25,
                        "rgb(198,219,239)"
                      ],
                      [
                        0.375,
                        "rgb(158,202,225)"
                      ],
                      [
                        0.5,
                        "rgb(107,174,214)"
                      ],
                      [
                        0.625,
                        "rgb(66,146,198)"
                      ],
                      [
                        0.75,
                        "rgb(33,113,181)"
                      ],
                      [
                        0.875,
                        "rgb(8,81,156)"
                      ],
                      [
                        1,
                        "rgb(8,48,107)"
                      ]
                    ],
                    "line": {
                      "color": "Grey",
                      "width": 0.5
                    },
                    "showscale": false
                  },
                  "mode": "markers",
                  "name": "Feasible Trial",
                  "showlegend": false,
                  "type": "scatter",
                  "x": [
                    3,
                    3,
                    2,
                    2,
                    3,
                    2,
                    2,
                    3,
                    3,
                    2,
                    2,
                    2,
                    3,
                    3,
                    3,
                    3,
                    3,
                    3,
                    3,
                    3,
                    3,
                    3,
                    3,
                    3,
                    3,
                    3,
                    3
                  ],
                  "xaxis": "x17",
                  "y": [
                    0.9122499823570251,
                    0.8539999723434448,
                    0.902999997138977,
                    0.8706666827201843,
                    0.5215833187103271,
                    0.6632500290870667,
                    0.101583331823349,
                    0.856083333492279,
                    0.893666684627533,
                    0.101583331823349,
                    0.8816666603088379,
                    0.8967499732971191,
                    0.8854166865348816,
                    0.8978333473205566,
                    0.9088333249092102,
                    0.9137499928474426,
                    0.8879166841506958,
                    0.8849166631698608,
                    0.8758333325386047,
                    0.8949999809265137,
                    0.8960833549499512,
                    0.9043333530426025,
                    0.9099166393280029,
                    0.8911666870117188,
                    0.8974166512489319,
                    0.9014166593551636,
                    0.9067500233650208
                  ],
                  "yaxis": "y17"
                },
                {
                  "marker": {
                    "color": [
                      1,
                      2,
                      3,
                      4,
                      5,
                      6,
                      7,
                      9,
                      11,
                      14,
                      24,
                      25,
                      26,
                      27,
                      28
                    ],
                    "colorbar": {
                      "title": {
                        "text": "Trial"
                      },
                      "x": 1,
                      "xpad": 40
                    },
                    "colorscale": [
                      [
                        0,
                        "rgb(247,251,255)"
                      ],
                      [
                        0.125,
                        "rgb(222,235,247)"
                      ],
                      [
                        0.25,
                        "rgb(198,219,239)"
                      ],
                      [
                        0.375,
                        "rgb(158,202,225)"
                      ],
                      [
                        0.5,
                        "rgb(107,174,214)"
                      ],
                      [
                        0.625,
                        "rgb(66,146,198)"
                      ],
                      [
                        0.75,
                        "rgb(33,113,181)"
                      ],
                      [
                        0.875,
                        "rgb(8,81,156)"
                      ],
                      [
                        1,
                        "rgb(8,48,107)"
                      ]
                    ],
                    "line": {
                      "color": "Grey",
                      "width": 0.5
                    },
                    "showscale": false
                  },
                  "mode": "markers",
                  "name": "Feasible Trial",
                  "showlegend": false,
                  "type": "scatter",
                  "x": [
                    3,
                    2,
                    3,
                    3,
                    2,
                    3,
                    2,
                    3,
                    2,
                    2,
                    2,
                    2,
                    2,
                    2,
                    2
                  ],
                  "xaxis": "x18",
                  "y": [
                    0.8539999723434448,
                    0.902999997138977,
                    0.8706666827201843,
                    0.5215833187103271,
                    0.6632500290870667,
                    0.101583331823349,
                    0.856083333492279,
                    0.101583331823349,
                    0.8967499732971191,
                    0.9088333249092102,
                    0.9099166393280029,
                    0.8911666870117188,
                    0.8974166512489319,
                    0.9014166593551636,
                    0.9067500233650208
                  ],
                  "yaxis": "y18"
                },
                {
                  "marker": {
                    "color": [
                      1,
                      3,
                      5,
                      6,
                      9
                    ],
                    "colorbar": {
                      "title": {
                        "text": "Trial"
                      },
                      "x": 1,
                      "xpad": 40
                    },
                    "colorscale": [
                      [
                        0,
                        "rgb(247,251,255)"
                      ],
                      [
                        0.125,
                        "rgb(222,235,247)"
                      ],
                      [
                        0.25,
                        "rgb(198,219,239)"
                      ],
                      [
                        0.375,
                        "rgb(158,202,225)"
                      ],
                      [
                        0.5,
                        "rgb(107,174,214)"
                      ],
                      [
                        0.625,
                        "rgb(66,146,198)"
                      ],
                      [
                        0.75,
                        "rgb(33,113,181)"
                      ],
                      [
                        0.875,
                        "rgb(8,81,156)"
                      ],
                      [
                        1,
                        "rgb(8,48,107)"
                      ]
                    ],
                    "line": {
                      "color": "Grey",
                      "width": 0.5
                    },
                    "showscale": false
                  },
                  "mode": "markers",
                  "name": "Feasible Trial",
                  "showlegend": false,
                  "type": "scatter",
                  "x": [
                    2,
                    2,
                    2,
                    2,
                    2
                  ],
                  "xaxis": "x19",
                  "y": [
                    0.8539999723434448,
                    0.8706666827201843,
                    0.6632500290870667,
                    0.101583331823349,
                    0.101583331823349
                  ],
                  "yaxis": "y19"
                }
              ],
              "layout": {
                "template": {
                  "data": {
                    "bar": [
                      {
                        "error_x": {
                          "color": "#2a3f5f"
                        },
                        "error_y": {
                          "color": "#2a3f5f"
                        },
                        "marker": {
                          "line": {
                            "color": "#E5ECF6",
                            "width": 0.5
                          },
                          "pattern": {
                            "fillmode": "overlay",
                            "size": 10,
                            "solidity": 0.2
                          }
                        },
                        "type": "bar"
                      }
                    ],
                    "barpolar": [
                      {
                        "marker": {
                          "line": {
                            "color": "#E5ECF6",
                            "width": 0.5
                          },
                          "pattern": {
                            "fillmode": "overlay",
                            "size": 10,
                            "solidity": 0.2
                          }
                        },
                        "type": "barpolar"
                      }
                    ],
                    "carpet": [
                      {
                        "aaxis": {
                          "endlinecolor": "#2a3f5f",
                          "gridcolor": "white",
                          "linecolor": "white",
                          "minorgridcolor": "white",
                          "startlinecolor": "#2a3f5f"
                        },
                        "baxis": {
                          "endlinecolor": "#2a3f5f",
                          "gridcolor": "white",
                          "linecolor": "white",
                          "minorgridcolor": "white",
                          "startlinecolor": "#2a3f5f"
                        },
                        "type": "carpet"
                      }
                    ],
                    "choropleth": [
                      {
                        "colorbar": {
                          "outlinewidth": 0,
                          "ticks": ""
                        },
                        "type": "choropleth"
                      }
                    ],
                    "contour": [
                      {
                        "colorbar": {
                          "outlinewidth": 0,
                          "ticks": ""
                        },
                        "colorscale": [
                          [
                            0,
                            "#0d0887"
                          ],
                          [
                            0.1111111111111111,
                            "#46039f"
                          ],
                          [
                            0.2222222222222222,
                            "#7201a8"
                          ],
                          [
                            0.3333333333333333,
                            "#9c179e"
                          ],
                          [
                            0.4444444444444444,
                            "#bd3786"
                          ],
                          [
                            0.5555555555555556,
                            "#d8576b"
                          ],
                          [
                            0.6666666666666666,
                            "#ed7953"
                          ],
                          [
                            0.7777777777777778,
                            "#fb9f3a"
                          ],
                          [
                            0.8888888888888888,
                            "#fdca26"
                          ],
                          [
                            1,
                            "#f0f921"
                          ]
                        ],
                        "type": "contour"
                      }
                    ],
                    "contourcarpet": [
                      {
                        "colorbar": {
                          "outlinewidth": 0,
                          "ticks": ""
                        },
                        "type": "contourcarpet"
                      }
                    ],
                    "heatmap": [
                      {
                        "colorbar": {
                          "outlinewidth": 0,
                          "ticks": ""
                        },
                        "colorscale": [
                          [
                            0,
                            "#0d0887"
                          ],
                          [
                            0.1111111111111111,
                            "#46039f"
                          ],
                          [
                            0.2222222222222222,
                            "#7201a8"
                          ],
                          [
                            0.3333333333333333,
                            "#9c179e"
                          ],
                          [
                            0.4444444444444444,
                            "#bd3786"
                          ],
                          [
                            0.5555555555555556,
                            "#d8576b"
                          ],
                          [
                            0.6666666666666666,
                            "#ed7953"
                          ],
                          [
                            0.7777777777777778,
                            "#fb9f3a"
                          ],
                          [
                            0.8888888888888888,
                            "#fdca26"
                          ],
                          [
                            1,
                            "#f0f921"
                          ]
                        ],
                        "type": "heatmap"
                      }
                    ],
                    "heatmapgl": [
                      {
                        "colorbar": {
                          "outlinewidth": 0,
                          "ticks": ""
                        },
                        "colorscale": [
                          [
                            0,
                            "#0d0887"
                          ],
                          [
                            0.1111111111111111,
                            "#46039f"
                          ],
                          [
                            0.2222222222222222,
                            "#7201a8"
                          ],
                          [
                            0.3333333333333333,
                            "#9c179e"
                          ],
                          [
                            0.4444444444444444,
                            "#bd3786"
                          ],
                          [
                            0.5555555555555556,
                            "#d8576b"
                          ],
                          [
                            0.6666666666666666,
                            "#ed7953"
                          ],
                          [
                            0.7777777777777778,
                            "#fb9f3a"
                          ],
                          [
                            0.8888888888888888,
                            "#fdca26"
                          ],
                          [
                            1,
                            "#f0f921"
                          ]
                        ],
                        "type": "heatmapgl"
                      }
                    ],
                    "histogram": [
                      {
                        "marker": {
                          "pattern": {
                            "fillmode": "overlay",
                            "size": 10,
                            "solidity": 0.2
                          }
                        },
                        "type": "histogram"
                      }
                    ],
                    "histogram2d": [
                      {
                        "colorbar": {
                          "outlinewidth": 0,
                          "ticks": ""
                        },
                        "colorscale": [
                          [
                            0,
                            "#0d0887"
                          ],
                          [
                            0.1111111111111111,
                            "#46039f"
                          ],
                          [
                            0.2222222222222222,
                            "#7201a8"
                          ],
                          [
                            0.3333333333333333,
                            "#9c179e"
                          ],
                          [
                            0.4444444444444444,
                            "#bd3786"
                          ],
                          [
                            0.5555555555555556,
                            "#d8576b"
                          ],
                          [
                            0.6666666666666666,
                            "#ed7953"
                          ],
                          [
                            0.7777777777777778,
                            "#fb9f3a"
                          ],
                          [
                            0.8888888888888888,
                            "#fdca26"
                          ],
                          [
                            1,
                            "#f0f921"
                          ]
                        ],
                        "type": "histogram2d"
                      }
                    ],
                    "histogram2dcontour": [
                      {
                        "colorbar": {
                          "outlinewidth": 0,
                          "ticks": ""
                        },
                        "colorscale": [
                          [
                            0,
                            "#0d0887"
                          ],
                          [
                            0.1111111111111111,
                            "#46039f"
                          ],
                          [
                            0.2222222222222222,
                            "#7201a8"
                          ],
                          [
                            0.3333333333333333,
                            "#9c179e"
                          ],
                          [
                            0.4444444444444444,
                            "#bd3786"
                          ],
                          [
                            0.5555555555555556,
                            "#d8576b"
                          ],
                          [
                            0.6666666666666666,
                            "#ed7953"
                          ],
                          [
                            0.7777777777777778,
                            "#fb9f3a"
                          ],
                          [
                            0.8888888888888888,
                            "#fdca26"
                          ],
                          [
                            1,
                            "#f0f921"
                          ]
                        ],
                        "type": "histogram2dcontour"
                      }
                    ],
                    "mesh3d": [
                      {
                        "colorbar": {
                          "outlinewidth": 0,
                          "ticks": ""
                        },
                        "type": "mesh3d"
                      }
                    ],
                    "parcoords": [
                      {
                        "line": {
                          "colorbar": {
                            "outlinewidth": 0,
                            "ticks": ""
                          }
                        },
                        "type": "parcoords"
                      }
                    ],
                    "pie": [
                      {
                        "automargin": true,
                        "type": "pie"
                      }
                    ],
                    "scatter": [
                      {
                        "fillpattern": {
                          "fillmode": "overlay",
                          "size": 10,
                          "solidity": 0.2
                        },
                        "type": "scatter"
                      }
                    ],
                    "scatter3d": [
                      {
                        "line": {
                          "colorbar": {
                            "outlinewidth": 0,
                            "ticks": ""
                          }
                        },
                        "marker": {
                          "colorbar": {
                            "outlinewidth": 0,
                            "ticks": ""
                          }
                        },
                        "type": "scatter3d"
                      }
                    ],
                    "scattercarpet": [
                      {
                        "marker": {
                          "colorbar": {
                            "outlinewidth": 0,
                            "ticks": ""
                          }
                        },
                        "type": "scattercarpet"
                      }
                    ],
                    "scattergeo": [
                      {
                        "marker": {
                          "colorbar": {
                            "outlinewidth": 0,
                            "ticks": ""
                          }
                        },
                        "type": "scattergeo"
                      }
                    ],
                    "scattergl": [
                      {
                        "marker": {
                          "colorbar": {
                            "outlinewidth": 0,
                            "ticks": ""
                          }
                        },
                        "type": "scattergl"
                      }
                    ],
                    "scattermapbox": [
                      {
                        "marker": {
                          "colorbar": {
                            "outlinewidth": 0,
                            "ticks": ""
                          }
                        },
                        "type": "scattermapbox"
                      }
                    ],
                    "scatterpolar": [
                      {
                        "marker": {
                          "colorbar": {
                            "outlinewidth": 0,
                            "ticks": ""
                          }
                        },
                        "type": "scatterpolar"
                      }
                    ],
                    "scatterpolargl": [
                      {
                        "marker": {
                          "colorbar": {
                            "outlinewidth": 0,
                            "ticks": ""
                          }
                        },
                        "type": "scatterpolargl"
                      }
                    ],
                    "scatterternary": [
                      {
                        "marker": {
                          "colorbar": {
                            "outlinewidth": 0,
                            "ticks": ""
                          }
                        },
                        "type": "scatterternary"
                      }
                    ],
                    "surface": [
                      {
                        "colorbar": {
                          "outlinewidth": 0,
                          "ticks": ""
                        },
                        "colorscale": [
                          [
                            0,
                            "#0d0887"
                          ],
                          [
                            0.1111111111111111,
                            "#46039f"
                          ],
                          [
                            0.2222222222222222,
                            "#7201a8"
                          ],
                          [
                            0.3333333333333333,
                            "#9c179e"
                          ],
                          [
                            0.4444444444444444,
                            "#bd3786"
                          ],
                          [
                            0.5555555555555556,
                            "#d8576b"
                          ],
                          [
                            0.6666666666666666,
                            "#ed7953"
                          ],
                          [
                            0.7777777777777778,
                            "#fb9f3a"
                          ],
                          [
                            0.8888888888888888,
                            "#fdca26"
                          ],
                          [
                            1,
                            "#f0f921"
                          ]
                        ],
                        "type": "surface"
                      }
                    ],
                    "table": [
                      {
                        "cells": {
                          "fill": {
                            "color": "#EBF0F8"
                          },
                          "line": {
                            "color": "white"
                          }
                        },
                        "header": {
                          "fill": {
                            "color": "#C8D4E3"
                          },
                          "line": {
                            "color": "white"
                          }
                        },
                        "type": "table"
                      }
                    ]
                  },
                  "layout": {
                    "annotationdefaults": {
                      "arrowcolor": "#2a3f5f",
                      "arrowhead": 0,
                      "arrowwidth": 1
                    },
                    "autotypenumbers": "strict",
                    "coloraxis": {
                      "colorbar": {
                        "outlinewidth": 0,
                        "ticks": ""
                      }
                    },
                    "colorscale": {
                      "diverging": [
                        [
                          0,
                          "#8e0152"
                        ],
                        [
                          0.1,
                          "#c51b7d"
                        ],
                        [
                          0.2,
                          "#de77ae"
                        ],
                        [
                          0.3,
                          "#f1b6da"
                        ],
                        [
                          0.4,
                          "#fde0ef"
                        ],
                        [
                          0.5,
                          "#f7f7f7"
                        ],
                        [
                          0.6,
                          "#e6f5d0"
                        ],
                        [
                          0.7,
                          "#b8e186"
                        ],
                        [
                          0.8,
                          "#7fbc41"
                        ],
                        [
                          0.9,
                          "#4d9221"
                        ],
                        [
                          1,
                          "#276419"
                        ]
                      ],
                      "sequential": [
                        [
                          0,
                          "#0d0887"
                        ],
                        [
                          0.1111111111111111,
                          "#46039f"
                        ],
                        [
                          0.2222222222222222,
                          "#7201a8"
                        ],
                        [
                          0.3333333333333333,
                          "#9c179e"
                        ],
                        [
                          0.4444444444444444,
                          "#bd3786"
                        ],
                        [
                          0.5555555555555556,
                          "#d8576b"
                        ],
                        [
                          0.6666666666666666,
                          "#ed7953"
                        ],
                        [
                          0.7777777777777778,
                          "#fb9f3a"
                        ],
                        [
                          0.8888888888888888,
                          "#fdca26"
                        ],
                        [
                          1,
                          "#f0f921"
                        ]
                      ],
                      "sequentialminus": [
                        [
                          0,
                          "#0d0887"
                        ],
                        [
                          0.1111111111111111,
                          "#46039f"
                        ],
                        [
                          0.2222222222222222,
                          "#7201a8"
                        ],
                        [
                          0.3333333333333333,
                          "#9c179e"
                        ],
                        [
                          0.4444444444444444,
                          "#bd3786"
                        ],
                        [
                          0.5555555555555556,
                          "#d8576b"
                        ],
                        [
                          0.6666666666666666,
                          "#ed7953"
                        ],
                        [
                          0.7777777777777778,
                          "#fb9f3a"
                        ],
                        [
                          0.8888888888888888,
                          "#fdca26"
                        ],
                        [
                          1,
                          "#f0f921"
                        ]
                      ]
                    },
                    "colorway": [
                      "#636efa",
                      "#EF553B",
                      "#00cc96",
                      "#ab63fa",
                      "#FFA15A",
                      "#19d3f3",
                      "#FF6692",
                      "#B6E880",
                      "#FF97FF",
                      "#FECB52"
                    ],
                    "font": {
                      "color": "#2a3f5f"
                    },
                    "geo": {
                      "bgcolor": "white",
                      "lakecolor": "white",
                      "landcolor": "#E5ECF6",
                      "showlakes": true,
                      "showland": true,
                      "subunitcolor": "white"
                    },
                    "hoverlabel": {
                      "align": "left"
                    },
                    "hovermode": "closest",
                    "mapbox": {
                      "style": "light"
                    },
                    "paper_bgcolor": "white",
                    "plot_bgcolor": "#E5ECF6",
                    "polar": {
                      "angularaxis": {
                        "gridcolor": "white",
                        "linecolor": "white",
                        "ticks": ""
                      },
                      "bgcolor": "#E5ECF6",
                      "radialaxis": {
                        "gridcolor": "white",
                        "linecolor": "white",
                        "ticks": ""
                      }
                    },
                    "scene": {
                      "xaxis": {
                        "backgroundcolor": "#E5ECF6",
                        "gridcolor": "white",
                        "gridwidth": 2,
                        "linecolor": "white",
                        "showbackground": true,
                        "ticks": "",
                        "zerolinecolor": "white"
                      },
                      "yaxis": {
                        "backgroundcolor": "#E5ECF6",
                        "gridcolor": "white",
                        "gridwidth": 2,
                        "linecolor": "white",
                        "showbackground": true,
                        "ticks": "",
                        "zerolinecolor": "white"
                      },
                      "zaxis": {
                        "backgroundcolor": "#E5ECF6",
                        "gridcolor": "white",
                        "gridwidth": 2,
                        "linecolor": "white",
                        "showbackground": true,
                        "ticks": "",
                        "zerolinecolor": "white"
                      }
                    },
                    "shapedefaults": {
                      "line": {
                        "color": "#2a3f5f"
                      }
                    },
                    "ternary": {
                      "aaxis": {
                        "gridcolor": "white",
                        "linecolor": "white",
                        "ticks": ""
                      },
                      "baxis": {
                        "gridcolor": "white",
                        "linecolor": "white",
                        "ticks": ""
                      },
                      "bgcolor": "#E5ECF6",
                      "caxis": {
                        "gridcolor": "white",
                        "linecolor": "white",
                        "ticks": ""
                      }
                    },
                    "title": {
                      "x": 0.05
                    },
                    "xaxis": {
                      "automargin": true,
                      "gridcolor": "white",
                      "linecolor": "white",
                      "ticks": "",
                      "title": {
                        "standoff": 15
                      },
                      "zerolinecolor": "white",
                      "zerolinewidth": 2
                    },
                    "yaxis": {
                      "automargin": true,
                      "gridcolor": "white",
                      "linecolor": "white",
                      "ticks": "",
                      "title": {
                        "standoff": 15
                      },
                      "zerolinecolor": "white",
                      "zerolinewidth": 2
                    }
                  }
                },
                "title": {
                  "text": "Slice Plot"
                },
                "width": 5700,
                "xaxis": {
                  "anchor": "y",
                  "categoryarray": [
                    "relu",
                    "sigmoid",
                    "tanh"
                  ],
                  "categoryorder": "array",
                  "domain": [
                    0,
                    0.04265927977839335
                  ],
                  "title": {
                    "text": "activation"
                  },
                  "type": "category"
                },
                "xaxis10": {
                  "anchor": "y10",
                  "domain": [
                    0.47867036011080333,
                    0.5213296398891967
                  ],
                  "title": {
                    "text": "lr"
                  },
                  "type": "log"
                },
                "xaxis11": {
                  "anchor": "y11",
                  "domain": [
                    0.5318559556786704,
                    0.5745152354570637
                  ],
                  "title": {
                    "text": "num_conv_layers"
                  }
                },
                "xaxis12": {
                  "anchor": "y12",
                  "domain": [
                    0.5850415512465373,
                    0.6277008310249307
                  ],
                  "title": {
                    "text": "num_fc_layers"
                  }
                },
                "xaxis13": {
                  "anchor": "y13",
                  "categoryarray": [
                    16,
                    32,
                    64,
                    128
                  ],
                  "categoryorder": "array",
                  "domain": [
                    0.6382271468144045,
                    0.6808864265927979
                  ],
                  "title": {
                    "text": "num_filters_0"
                  },
                  "type": "category"
                },
                "xaxis14": {
                  "anchor": "y14",
                  "categoryarray": [
                    16,
                    32,
                    64,
                    128
                  ],
                  "categoryorder": "array",
                  "domain": [
                    0.6914127423822715,
                    0.7340720221606648
                  ],
                  "title": {
                    "text": "num_filters_1"
                  },
                  "type": "category"
                },
                "xaxis15": {
                  "anchor": "y15",
                  "categoryarray": [
                    16,
                    32,
                    64,
                    128
                  ],
                  "categoryorder": "array",
                  "domain": [
                    0.7445983379501385,
                    0.7872576177285319
                  ],
                  "title": {
                    "text": "num_filters_2"
                  },
                  "type": "category"
                },
                "xaxis16": {
                  "anchor": "y16",
                  "categoryarray": [
                    "SGD",
                    "Adam",
                    "RMSprop"
                  ],
                  "categoryorder": "array",
                  "domain": [
                    0.7977839335180055,
                    0.8404432132963988
                  ],
                  "title": {
                    "text": "optimizer"
                  },
                  "type": "category"
                },
                "xaxis17": {
                  "anchor": "y17",
                  "categoryarray": [
                    2,
                    3
                  ],
                  "categoryorder": "array",
                  "domain": [
                    0.8509695290858725,
                    0.8936288088642659
                  ],
                  "title": {
                    "text": "pool_size_0"
                  },
                  "type": "category"
                },
                "xaxis18": {
                  "anchor": "y18",
                  "categoryarray": [
                    2,
                    3
                  ],
                  "categoryorder": "array",
                  "domain": [
                    0.9041551246537396,
                    0.9468144044321329
                  ],
                  "title": {
                    "text": "pool_size_1"
                  },
                  "type": "category"
                },
                "xaxis19": {
                  "anchor": "y19",
                  "categoryarray": [
                    2,
                    3
                  ],
                  "categoryorder": "array",
                  "domain": [
                    0.9573407202216067,
                    1
                  ],
                  "title": {
                    "text": "pool_size_2"
                  },
                  "type": "category"
                },
                "xaxis2": {
                  "anchor": "y2",
                  "categoryarray": [
                    32,
                    64,
                    128
                  ],
                  "categoryorder": "array",
                  "domain": [
                    0.05318559556786703,
                    0.09584487534626038
                  ],
                  "title": {
                    "text": "batch_size"
                  },
                  "type": "category"
                },
                "xaxis3": {
                  "anchor": "y3",
                  "domain": [
                    0.10637119113573407,
                    0.1490304709141274
                  ],
                  "title": {
                    "text": "dropout_rate"
                  }
                },
                "xaxis4": {
                  "anchor": "y4",
                  "categoryarray": [
                    64,
                    128,
                    256
                  ],
                  "categoryorder": "array",
                  "domain": [
                    0.15955678670360113,
                    0.20221606648199447
                  ],
                  "title": {
                    "text": "fc_units_0"
                  },
                  "type": "category"
                },
                "xaxis5": {
                  "anchor": "y5",
                  "categoryarray": [
                    64,
                    128,
                    256
                  ],
                  "categoryorder": "array",
                  "domain": [
                    0.21274238227146813,
                    0.2554016620498615
                  ],
                  "title": {
                    "text": "fc_units_1"
                  },
                  "type": "category"
                },
                "xaxis6": {
                  "anchor": "y6",
                  "categoryarray": [
                    64,
                    128,
                    256
                  ],
                  "categoryorder": "array",
                  "domain": [
                    0.2659279778393352,
                    0.30858725761772854
                  ],
                  "title": {
                    "text": "fc_units_2"
                  },
                  "type": "category"
                },
                "xaxis7": {
                  "anchor": "y7",
                  "categoryarray": [
                    3,
                    5
                  ],
                  "categoryorder": "array",
                  "domain": [
                    0.31911357340720226,
                    0.3617728531855956
                  ],
                  "title": {
                    "text": "kernel_size_0"
                  },
                  "type": "category"
                },
                "xaxis8": {
                  "anchor": "y8",
                  "categoryarray": [
                    3,
                    5
                  ],
                  "categoryorder": "array",
                  "domain": [
                    0.37229916897506926,
                    0.4149584487534626
                  ],
                  "title": {
                    "text": "kernel_size_1"
                  },
                  "type": "category"
                },
                "xaxis9": {
                  "anchor": "y9",
                  "categoryarray": [
                    3,
                    5
                  ],
                  "categoryorder": "array",
                  "domain": [
                    0.42548476454293627,
                    0.4681440443213296
                  ],
                  "title": {
                    "text": "kernel_size_2"
                  },
                  "type": "category"
                },
                "yaxis": {
                  "anchor": "x",
                  "domain": [
                    0,
                    1
                  ],
                  "title": {
                    "text": "Objective Value"
                  }
                },
                "yaxis10": {
                  "anchor": "x10",
                  "domain": [
                    0,
                    1
                  ],
                  "matches": "y",
                  "showticklabels": false
                },
                "yaxis11": {
                  "anchor": "x11",
                  "domain": [
                    0,
                    1
                  ],
                  "matches": "y",
                  "showticklabels": false
                },
                "yaxis12": {
                  "anchor": "x12",
                  "domain": [
                    0,
                    1
                  ],
                  "matches": "y",
                  "showticklabels": false
                },
                "yaxis13": {
                  "anchor": "x13",
                  "domain": [
                    0,
                    1
                  ],
                  "matches": "y",
                  "showticklabels": false
                },
                "yaxis14": {
                  "anchor": "x14",
                  "domain": [
                    0,
                    1
                  ],
                  "matches": "y",
                  "showticklabels": false
                },
                "yaxis15": {
                  "anchor": "x15",
                  "domain": [
                    0,
                    1
                  ],
                  "matches": "y",
                  "showticklabels": false
                },
                "yaxis16": {
                  "anchor": "x16",
                  "domain": [
                    0,
                    1
                  ],
                  "matches": "y",
                  "showticklabels": false
                },
                "yaxis17": {
                  "anchor": "x17",
                  "domain": [
                    0,
                    1
                  ],
                  "matches": "y",
                  "showticklabels": false
                },
                "yaxis18": {
                  "anchor": "x18",
                  "domain": [
                    0,
                    1
                  ],
                  "matches": "y",
                  "showticklabels": false
                },
                "yaxis19": {
                  "anchor": "x19",
                  "domain": [
                    0,
                    1
                  ],
                  "matches": "y",
                  "showticklabels": false
                },
                "yaxis2": {
                  "anchor": "x2",
                  "domain": [
                    0,
                    1
                  ],
                  "matches": "y",
                  "showticklabels": false
                },
                "yaxis3": {
                  "anchor": "x3",
                  "domain": [
                    0,
                    1
                  ],
                  "matches": "y",
                  "showticklabels": false
                },
                "yaxis4": {
                  "anchor": "x4",
                  "domain": [
                    0,
                    1
                  ],
                  "matches": "y",
                  "showticklabels": false
                },
                "yaxis5": {
                  "anchor": "x5",
                  "domain": [
                    0,
                    1
                  ],
                  "matches": "y",
                  "showticklabels": false
                },
                "yaxis6": {
                  "anchor": "x6",
                  "domain": [
                    0,
                    1
                  ],
                  "matches": "y",
                  "showticklabels": false
                },
                "yaxis7": {
                  "anchor": "x7",
                  "domain": [
                    0,
                    1
                  ],
                  "matches": "y",
                  "showticklabels": false
                },
                "yaxis8": {
                  "anchor": "x8",
                  "domain": [
                    0,
                    1
                  ],
                  "matches": "y",
                  "showticklabels": false
                },
                "yaxis9": {
                  "anchor": "x9",
                  "domain": [
                    0,
                    1
                  ],
                  "matches": "y",
                  "showticklabels": false
                }
              }
            }
          },
          "metadata": {},
          "output_type": "display_data"
        }
      ],
      "source": [
        "optuna.visualization.plot_slice(fmnist_cnn_study)"
      ]
    },
    {
      "cell_type": "code",
      "execution_count": 82,
      "metadata": {},
      "outputs": [],
      "source": [
        "fmnist_cnn_df.to_csv('fmnist_cnn_trial_data.csv', index=False)"
      ]
    },
    {
      "cell_type": "code",
      "execution_count": 88,
      "metadata": {},
      "outputs": [
        {
          "data": {
            "text/html": [
              "<div>\n",
              "<style scoped>\n",
              "    .dataframe tbody tr th:only-of-type {\n",
              "        vertical-align: middle;\n",
              "    }\n",
              "\n",
              "    .dataframe tbody tr th {\n",
              "        vertical-align: top;\n",
              "    }\n",
              "\n",
              "    .dataframe thead th {\n",
              "        text-align: right;\n",
              "    }\n",
              "</style>\n",
              "<table border=\"1\" class=\"dataframe\">\n",
              "  <thead>\n",
              "    <tr style=\"text-align: right;\">\n",
              "      <th></th>\n",
              "      <th>number</th>\n",
              "      <th>value</th>\n",
              "      <th>datetime_start</th>\n",
              "      <th>datetime_complete</th>\n",
              "      <th>duration</th>\n",
              "      <th>params_activation</th>\n",
              "      <th>params_batch_size</th>\n",
              "      <th>params_dropout_rate</th>\n",
              "      <th>params_fc_units_0</th>\n",
              "      <th>params_fc_units_1</th>\n",
              "      <th>...</th>\n",
              "      <th>params_num_conv_layers</th>\n",
              "      <th>params_num_fc_layers</th>\n",
              "      <th>params_num_filters_0</th>\n",
              "      <th>params_num_filters_1</th>\n",
              "      <th>params_num_filters_2</th>\n",
              "      <th>params_optimizer</th>\n",
              "      <th>params_pool_size_0</th>\n",
              "      <th>params_pool_size_1</th>\n",
              "      <th>params_pool_size_2</th>\n",
              "      <th>state</th>\n",
              "    </tr>\n",
              "  </thead>\n",
              "  <tbody>\n",
              "    <tr>\n",
              "      <th>15</th>\n",
              "      <td>15</td>\n",
              "      <td>0.913750</td>\n",
              "      <td>2024-10-26 13:02:23.381318</td>\n",
              "      <td>2024-10-26 13:02:54.865400</td>\n",
              "      <td>0 days 00:00:31.484082</td>\n",
              "      <td>relu</td>\n",
              "      <td>32.0</td>\n",
              "      <td>0.172114</td>\n",
              "      <td>256.0</td>\n",
              "      <td>NaN</td>\n",
              "      <td>...</td>\n",
              "      <td>1</td>\n",
              "      <td>1.0</td>\n",
              "      <td>32</td>\n",
              "      <td>NaN</td>\n",
              "      <td>NaN</td>\n",
              "      <td>RMSprop</td>\n",
              "      <td>3.0</td>\n",
              "      <td>NaN</td>\n",
              "      <td>NaN</td>\n",
              "      <td>COMPLETE</td>\n",
              "    </tr>\n",
              "    <tr>\n",
              "      <th>0</th>\n",
              "      <td>0</td>\n",
              "      <td>0.912250</td>\n",
              "      <td>2024-10-26 12:43:15.050648</td>\n",
              "      <td>2024-10-26 12:44:52.174716</td>\n",
              "      <td>0 days 00:01:37.124068</td>\n",
              "      <td>relu</td>\n",
              "      <td>64.0</td>\n",
              "      <td>0.416872</td>\n",
              "      <td>256.0</td>\n",
              "      <td>NaN</td>\n",
              "      <td>...</td>\n",
              "      <td>1</td>\n",
              "      <td>1.0</td>\n",
              "      <td>32</td>\n",
              "      <td>NaN</td>\n",
              "      <td>NaN</td>\n",
              "      <td>RMSprop</td>\n",
              "      <td>3.0</td>\n",
              "      <td>NaN</td>\n",
              "      <td>NaN</td>\n",
              "      <td>COMPLETE</td>\n",
              "    </tr>\n",
              "    <tr>\n",
              "      <th>23</th>\n",
              "      <td>23</td>\n",
              "      <td>0.904333</td>\n",
              "      <td>2024-10-26 13:06:58.205207</td>\n",
              "      <td>2024-10-26 13:09:24.955038</td>\n",
              "      <td>0 days 00:02:26.749831</td>\n",
              "      <td>relu</td>\n",
              "      <td>64.0</td>\n",
              "      <td>0.002428</td>\n",
              "      <td>256.0</td>\n",
              "      <td>NaN</td>\n",
              "      <td>...</td>\n",
              "      <td>1</td>\n",
              "      <td>1.0</td>\n",
              "      <td>32</td>\n",
              "      <td>NaN</td>\n",
              "      <td>NaN</td>\n",
              "      <td>Adam</td>\n",
              "      <td>3.0</td>\n",
              "      <td>NaN</td>\n",
              "      <td>NaN</td>\n",
              "      <td>COMPLETE</td>\n",
              "    </tr>\n",
              "    <tr>\n",
              "      <th>13</th>\n",
              "      <td>13</td>\n",
              "      <td>0.897833</td>\n",
              "      <td>2024-10-26 13:01:23.925123</td>\n",
              "      <td>2024-10-26 13:02:06.703534</td>\n",
              "      <td>0 days 00:00:42.778411</td>\n",
              "      <td>relu</td>\n",
              "      <td>32.0</td>\n",
              "      <td>0.485512</td>\n",
              "      <td>64.0</td>\n",
              "      <td>NaN</td>\n",
              "      <td>...</td>\n",
              "      <td>1</td>\n",
              "      <td>1.0</td>\n",
              "      <td>32</td>\n",
              "      <td>NaN</td>\n",
              "      <td>NaN</td>\n",
              "      <td>RMSprop</td>\n",
              "      <td>3.0</td>\n",
              "      <td>NaN</td>\n",
              "      <td>NaN</td>\n",
              "      <td>COMPLETE</td>\n",
              "    </tr>\n",
              "    <tr>\n",
              "      <th>22</th>\n",
              "      <td>22</td>\n",
              "      <td>0.896083</td>\n",
              "      <td>2024-10-26 13:06:58.080208</td>\n",
              "      <td>2024-10-26 13:09:24.439032</td>\n",
              "      <td>0 days 00:02:26.358824</td>\n",
              "      <td>relu</td>\n",
              "      <td>64.0</td>\n",
              "      <td>0.349268</td>\n",
              "      <td>256.0</td>\n",
              "      <td>NaN</td>\n",
              "      <td>...</td>\n",
              "      <td>1</td>\n",
              "      <td>1.0</td>\n",
              "      <td>32</td>\n",
              "      <td>NaN</td>\n",
              "      <td>NaN</td>\n",
              "      <td>Adam</td>\n",
              "      <td>3.0</td>\n",
              "      <td>NaN</td>\n",
              "      <td>NaN</td>\n",
              "      <td>COMPLETE</td>\n",
              "    </tr>\n",
              "  </tbody>\n",
              "</table>\n",
              "<p>5 rows × 25 columns</p>\n",
              "</div>"
            ],
            "text/plain": [
              "    number     value             datetime_start          datetime_complete  \\\n",
              "15      15  0.913750 2024-10-26 13:02:23.381318 2024-10-26 13:02:54.865400   \n",
              "0        0  0.912250 2024-10-26 12:43:15.050648 2024-10-26 12:44:52.174716   \n",
              "23      23  0.904333 2024-10-26 13:06:58.205207 2024-10-26 13:09:24.955038   \n",
              "13      13  0.897833 2024-10-26 13:01:23.925123 2024-10-26 13:02:06.703534   \n",
              "22      22  0.896083 2024-10-26 13:06:58.080208 2024-10-26 13:09:24.439032   \n",
              "\n",
              "                 duration params_activation  params_batch_size  \\\n",
              "15 0 days 00:00:31.484082              relu               32.0   \n",
              "0  0 days 00:01:37.124068              relu               64.0   \n",
              "23 0 days 00:02:26.749831              relu               64.0   \n",
              "13 0 days 00:00:42.778411              relu               32.0   \n",
              "22 0 days 00:02:26.358824              relu               64.0   \n",
              "\n",
              "    params_dropout_rate  params_fc_units_0  params_fc_units_1  ...  \\\n",
              "15             0.172114              256.0                NaN  ...   \n",
              "0              0.416872              256.0                NaN  ...   \n",
              "23             0.002428              256.0                NaN  ...   \n",
              "13             0.485512               64.0                NaN  ...   \n",
              "22             0.349268              256.0                NaN  ...   \n",
              "\n",
              "    params_num_conv_layers  params_num_fc_layers  params_num_filters_0  \\\n",
              "15                       1                   1.0                    32   \n",
              "0                        1                   1.0                    32   \n",
              "23                       1                   1.0                    32   \n",
              "13                       1                   1.0                    32   \n",
              "22                       1                   1.0                    32   \n",
              "\n",
              "    params_num_filters_1  params_num_filters_2  params_optimizer  \\\n",
              "15                   NaN                   NaN           RMSprop   \n",
              "0                    NaN                   NaN           RMSprop   \n",
              "23                   NaN                   NaN              Adam   \n",
              "13                   NaN                   NaN           RMSprop   \n",
              "22                   NaN                   NaN              Adam   \n",
              "\n",
              "    params_pool_size_0  params_pool_size_1  params_pool_size_2     state  \n",
              "15                 3.0                 NaN                 NaN  COMPLETE  \n",
              "0                  3.0                 NaN                 NaN  COMPLETE  \n",
              "23                 3.0                 NaN                 NaN  COMPLETE  \n",
              "13                 3.0                 NaN                 NaN  COMPLETE  \n",
              "22                 3.0                 NaN                 NaN  COMPLETE  \n",
              "\n",
              "[5 rows x 25 columns]"
            ]
          },
          "execution_count": 88,
          "metadata": {},
          "output_type": "execute_result"
        }
      ],
      "source": [
        "fmnist_cnn_df[fmnist_cnn_df['params_num_conv_layers'] == 1].sort_values('value', ascending=False).head()"
      ]
    },
    {
      "cell_type": "code",
      "execution_count": 74,
      "metadata": {},
      "outputs": [
        {
          "data": {
            "text/plain": [
              "{'num_conv_layers': 3,\n",
              " 'num_filters_0': 64,\n",
              " 'num_filters_1': 128,\n",
              " 'num_filters_2': 128,\n",
              " 'fc_units_2': 64,\n",
              " 'activation': 'tanh',\n",
              " 'optimizer': 'Adam',\n",
              " 'lr': 0.0006224423091166731,\n",
              " 'dropout_rate': 0.12361946420484013}"
            ]
          },
          "execution_count": 74,
          "metadata": {},
          "output_type": "execute_result"
        }
      ],
      "source": [
        "best_params = fmnist_cnn_study.best_params\n",
        "best_params"
      ]
    },
    {
      "cell_type": "code",
      "execution_count": 89,
      "metadata": {},
      "outputs": [],
      "source": [
        "def build_model(best_params):\n",
        "    # Build the model\n",
        "    model = Sequential()\n",
        "    model.add(Input(shape=(28, 28, 1)))\n",
        "    model.add(Conv2D(best_params['num_filters_0'], kernel_size=(3, 3), # originally varied between 3 x 3 and 5 x 5\n",
        "                     activation=best_params['activation'], padding='same'))\n",
        "    model.add(MaxPooling2D(pool_size=(2, 2))) # originally varied between 2 x 2 and 3 x 3\n",
        "    if best_params['num_conv_layers'] > 1:\n",
        "        for i in range(1, best_params['num_conv_layers']):\n",
        "            model.add(Conv2D(best_params[f'num_filters_{i}'], kernel_size=(3, 3),\n",
        "                            activation=best_params['activation'], padding='same'))\n",
        "            model.add(MaxPooling2D(pool_size=(2, 2)))\n",
        "    model.add(Flatten())\n",
        "    model.add(Dense(best_params[f'fc_units_0'], activation=best_params['activation']))\n",
        "    if best_params['dropout_rate'] > 0:\n",
        "        model.add(Dropout(best_params['dropout_rate']))\n",
        "    model.add(Dense(10, activation='softmax'))\n",
        "    if best_params['optimizer'] == 'SGD':\n",
        "        optimizer = SGD(learning_rate=best_params['lr'])\n",
        "    elif best_params['optimizer'] == 'Adam':\n",
        "        optimizer = Adam(learning_rate=best_params['lr'])\n",
        "    else:\n",
        "        optimizer = RMSprop(learning_rate=best_params['lr'])\n",
        "    model.compile(optimizer=optimizer, loss='categorical_crossentropy', metrics=['accuracy'])\n",
        "    return model"
      ]
    },
    {
      "cell_type": "code",
      "execution_count": 79,
      "metadata": {},
      "outputs": [
        {
          "name": "stdout",
          "output_type": "stream",
          "text": [
            "Epoch 1/10\n",
            "\u001b[1m1500/1500\u001b[0m \u001b[32m━━━━━━━━━━━━━━━━━━━━\u001b[0m\u001b[37m\u001b[0m \u001b[1m15s\u001b[0m 9ms/step - accuracy: 0.7665 - loss: 0.9272 - val_accuracy: 0.8722 - val_loss: 0.5085\n",
            "Epoch 2/10\n",
            "\u001b[1m1500/1500\u001b[0m \u001b[32m━━━━━━━━━━━━━━━━━━━━\u001b[0m\u001b[37m\u001b[0m \u001b[1m14s\u001b[0m 9ms/step - accuracy: 0.8729 - loss: 0.4944 - val_accuracy: 0.8848 - val_loss: 0.4345\n",
            "Epoch 3/10\n",
            "\u001b[1m1500/1500\u001b[0m \u001b[32m━━━━━━━━━━━━━━━━━━━━\u001b[0m\u001b[37m\u001b[0m \u001b[1m14s\u001b[0m 9ms/step - accuracy: 0.8873 - loss: 0.4270 - val_accuracy: 0.8917 - val_loss: 0.4039\n",
            "Epoch 4/10\n",
            "\u001b[1m1500/1500\u001b[0m \u001b[32m━━━━━━━━━━━━━━━━━━━━\u001b[0m\u001b[37m\u001b[0m \u001b[1m14s\u001b[0m 9ms/step - accuracy: 0.8975 - loss: 0.3976 - val_accuracy: 0.8967 - val_loss: 0.3918\n",
            "Epoch 5/10\n",
            "\u001b[1m1500/1500\u001b[0m \u001b[32m━━━━━━━━━━━━━━━━━━━━\u001b[0m\u001b[37m\u001b[0m \u001b[1m14s\u001b[0m 9ms/step - accuracy: 0.9014 - loss: 0.3833 - val_accuracy: 0.8867 - val_loss: 0.4180\n",
            "Epoch 6/10\n",
            "\u001b[1m1500/1500\u001b[0m \u001b[32m━━━━━━━━━━━━━━━━━━━━\u001b[0m\u001b[37m\u001b[0m \u001b[1m14s\u001b[0m 10ms/step - accuracy: 0.9061 - loss: 0.3692 - val_accuracy: 0.8927 - val_loss: 0.3958\n",
            "Epoch 7/10\n",
            "\u001b[1m1500/1500\u001b[0m \u001b[32m━━━━━━━━━━━━━━━━━━━━\u001b[0m\u001b[37m\u001b[0m \u001b[1m14s\u001b[0m 9ms/step - accuracy: 0.9086 - loss: 0.3645 - val_accuracy: 0.8992 - val_loss: 0.3847\n",
            "Epoch 8/10\n",
            "\u001b[1m1500/1500\u001b[0m \u001b[32m━━━━━━━━━━━━━━━━━━━━\u001b[0m\u001b[37m\u001b[0m \u001b[1m14s\u001b[0m 9ms/step - accuracy: 0.9077 - loss: 0.3595 - val_accuracy: 0.8992 - val_loss: 0.3772\n",
            "Epoch 9/10\n",
            "\u001b[1m1500/1500\u001b[0m \u001b[32m━━━━━━━━━━━━━━━━━━━━\u001b[0m\u001b[37m\u001b[0m \u001b[1m14s\u001b[0m 9ms/step - accuracy: 0.9126 - loss: 0.3535 - val_accuracy: 0.9065 - val_loss: 0.3612\n",
            "Epoch 10/10\n",
            "\u001b[1m1500/1500\u001b[0m \u001b[32m━━━━━━━━━━━━━━━━━━━━\u001b[0m\u001b[37m\u001b[0m \u001b[1m14s\u001b[0m 10ms/step - accuracy: 0.9143 - loss: 0.3452 - val_accuracy: 0.8981 - val_loss: 0.3825\n",
            "\u001b[1m313/313\u001b[0m \u001b[32m━━━━━━━━━━━━━━━━━━━━\u001b[0m\u001b[37m\u001b[0m \u001b[1m1s\u001b[0m 3ms/step - accuracy: 0.8977 - loss: 0.3817\n",
            "Test accuracy: 0.8988999724388123\n"
          ]
        }
      ],
      "source": [
        "model = build_model(best_params)\n",
        "\n",
        "# Define early stopping callback\n",
        "early_stopping = EarlyStopping(monitor='val_loss', patience=6, restore_best_weights=True)\n",
        "\n",
        "# Train the model with early stopping\n",
        "model.fit(x_train, y_train, epochs=10, batch_size=32, verbose=1, validation_split=0.2, callbacks=[early_stopping])\n",
        "\n",
        "# Evaluate the model\n",
        "loss, accuracy = model.evaluate(x_test, y_test)\n",
        "print('Test accuracy:', accuracy)"
      ]
    },
    {
      "cell_type": "code",
      "execution_count": 90,
      "metadata": {},
      "outputs": [
        {
          "name": "stdout",
          "output_type": "stream",
          "text": [
            "Epoch 1/10\n",
            "\u001b[1m1500/1500\u001b[0m \u001b[32m━━━━━━━━━━━━━━━━━━━━\u001b[0m\u001b[37m\u001b[0m \u001b[1m11s\u001b[0m 7ms/step - accuracy: 0.7871 - loss: 0.6040 - val_accuracy: 0.8852 - val_loss: 0.3208\n",
            "Epoch 2/10\n",
            "\u001b[1m1500/1500\u001b[0m \u001b[32m━━━━━━━━━━━━━━━━━━━━\u001b[0m\u001b[37m\u001b[0m \u001b[1m10s\u001b[0m 7ms/step - accuracy: 0.8905 - loss: 0.3031 - val_accuracy: 0.8913 - val_loss: 0.2983\n",
            "Epoch 3/10\n",
            "\u001b[1m1500/1500\u001b[0m \u001b[32m━━━━━━━━━━━━━━━━━━━━\u001b[0m\u001b[37m\u001b[0m \u001b[1m10s\u001b[0m 7ms/step - accuracy: 0.9083 - loss: 0.2543 - val_accuracy: 0.9006 - val_loss: 0.2767\n",
            "Epoch 4/10\n",
            "\u001b[1m1500/1500\u001b[0m \u001b[32m━━━━━━━━━━━━━━━━━━━━\u001b[0m\u001b[37m\u001b[0m \u001b[1m10s\u001b[0m 7ms/step - accuracy: 0.9172 - loss: 0.2201 - val_accuracy: 0.9093 - val_loss: 0.2570\n",
            "Epoch 5/10\n",
            "\u001b[1m1500/1500\u001b[0m \u001b[32m━━━━━━━━━━━━━━━━━━━━\u001b[0m\u001b[37m\u001b[0m \u001b[1m10s\u001b[0m 7ms/step - accuracy: 0.9274 - loss: 0.1991 - val_accuracy: 0.9078 - val_loss: 0.2599\n",
            "Epoch 6/10\n",
            "\u001b[1m1500/1500\u001b[0m \u001b[32m━━━━━━━━━━━━━━━━━━━━\u001b[0m\u001b[37m\u001b[0m \u001b[1m10s\u001b[0m 7ms/step - accuracy: 0.9316 - loss: 0.1848 - val_accuracy: 0.9071 - val_loss: 0.2687\n",
            "Epoch 7/10\n",
            "\u001b[1m1500/1500\u001b[0m \u001b[32m━━━━━━━━━━━━━━━━━━━━\u001b[0m\u001b[37m\u001b[0m \u001b[1m10s\u001b[0m 7ms/step - accuracy: 0.9396 - loss: 0.1672 - val_accuracy: 0.9083 - val_loss: 0.2574\n",
            "Epoch 8/10\n",
            "\u001b[1m1500/1500\u001b[0m \u001b[32m━━━━━━━━━━━━━━━━━━━━\u001b[0m\u001b[37m\u001b[0m \u001b[1m10s\u001b[0m 7ms/step - accuracy: 0.9404 - loss: 0.1645 - val_accuracy: 0.9183 - val_loss: 0.2550\n",
            "Epoch 9/10\n",
            "\u001b[1m1500/1500\u001b[0m \u001b[32m━━━━━━━━━━━━━━━━━━━━\u001b[0m\u001b[37m\u001b[0m \u001b[1m10s\u001b[0m 7ms/step - accuracy: 0.9461 - loss: 0.1483 - val_accuracy: 0.9093 - val_loss: 0.2818\n",
            "Epoch 10/10\n",
            "\u001b[1m1500/1500\u001b[0m \u001b[32m━━━━━━━━━━━━━━━━━━━━\u001b[0m\u001b[37m\u001b[0m \u001b[1m10s\u001b[0m 7ms/step - accuracy: 0.9496 - loss: 0.1406 - val_accuracy: 0.9137 - val_loss: 0.2719\n",
            "\u001b[1m313/313\u001b[0m \u001b[32m━━━━━━━━━━━━━━━━━━━━\u001b[0m\u001b[37m\u001b[0m \u001b[1m0s\u001b[0m 968us/step - accuracy: 0.9118 - loss: 0.2766\n",
            "Test accuracy: 0.9103999733924866\n"
          ]
        }
      ],
      "source": [
        "adjusted_params = best_params\n",
        "adjusted_params['num_conv_layers'] = 1\n",
        "adjusted_params['activation'] = 'relu'\n",
        "adjusted_params['num_filters_0'] = 32\n",
        "adjusted_params['optimizer'] = 'RMSProp'\n",
        "adjusted_params['fc_units_0'] = 256\n",
        "adjusted_params['dropout_rate'] = 0.172114\n",
        "model = build_model(adjusted_params)\n",
        "\n",
        "# Define early stopping callback\n",
        "early_stopping = EarlyStopping(monitor='val_loss', patience=6, restore_best_weights=True)\n",
        "\n",
        "# Train the model with early stopping\n",
        "model.fit(x_train, y_train, epochs=10, batch_size=32, verbose=1, validation_split=0.2, callbacks=[early_stopping])\n",
        "\n",
        "# Evaluate the model\n",
        "loss, accuracy = model.evaluate(x_test, y_test)\n",
        "print('Test accuracy:', accuracy)"
      ]
    },
    {
      "cell_type": "code",
      "execution_count": 39,
      "metadata": {},
      "outputs": [
        {
          "name": "stdout",
          "output_type": "stream",
          "text": [
            "Epoch 1/5\n",
            "\u001b[1m1500/1500\u001b[0m \u001b[32m━━━━━━━━━━━━━━━━━━━━\u001b[0m\u001b[37m\u001b[0m \u001b[1m9s\u001b[0m 5ms/step - accuracy: 0.7707 - loss: 0.6598 - val_accuracy: 0.8772 - val_loss: 0.3397\n",
            "Epoch 2/5\n",
            "\u001b[1m1500/1500\u001b[0m \u001b[32m━━━━━━━━━━━━━━━━━━━━\u001b[0m\u001b[37m\u001b[0m \u001b[1m8s\u001b[0m 5ms/step - accuracy: 0.8816 - loss: 0.3293 - val_accuracy: 0.8943 - val_loss: 0.2900\n",
            "Epoch 3/5\n",
            "\u001b[1m1500/1500\u001b[0m \u001b[32m━━━━━━━━━━━━━━━━━━━━\u001b[0m\u001b[37m\u001b[0m \u001b[1m8s\u001b[0m 5ms/step - accuracy: 0.8984 - loss: 0.2797 - val_accuracy: 0.9025 - val_loss: 0.2718\n",
            "Epoch 4/5\n",
            "\u001b[1m1500/1500\u001b[0m \u001b[32m━━━━━━━━━━━━━━━━━━━━\u001b[0m\u001b[37m\u001b[0m \u001b[1m8s\u001b[0m 5ms/step - accuracy: 0.9124 - loss: 0.2428 - val_accuracy: 0.9046 - val_loss: 0.2612\n",
            "Epoch 5/5\n",
            "\u001b[1m1500/1500\u001b[0m \u001b[32m━━━━━━━━━━━━━━━━━━━━\u001b[0m\u001b[37m\u001b[0m \u001b[1m8s\u001b[0m 5ms/step - accuracy: 0.9230 - loss: 0.2175 - val_accuracy: 0.9099 - val_loss: 0.2516\n",
            "\u001b[1m313/313\u001b[0m \u001b[32m━━━━━━━━━━━━━━━━━━━━\u001b[0m\u001b[37m\u001b[0m \u001b[1m1s\u001b[0m 2ms/step - accuracy: 0.8755 - loss: 0.3495\n",
            "Val accuracy with dropout rate 0.2 and first layer # of filters 16: 0.8741000294685364\n",
            "Epoch 1/5\n",
            "\u001b[1m1500/1500\u001b[0m \u001b[32m━━━━━━━━━━━━━━━━━━━━\u001b[0m\u001b[37m\u001b[0m \u001b[1m10s\u001b[0m 6ms/step - accuracy: 0.7645 - loss: 0.6589 - val_accuracy: 0.8522 - val_loss: 0.3901\n",
            "Epoch 2/5\n",
            "\u001b[1m1500/1500\u001b[0m \u001b[32m━━━━━━━━━━━━━━━━━━━━\u001b[0m\u001b[37m\u001b[0m \u001b[1m10s\u001b[0m 6ms/step - accuracy: 0.8793 - loss: 0.3373 - val_accuracy: 0.8938 - val_loss: 0.2885\n",
            "Epoch 3/5\n",
            "\u001b[1m1500/1500\u001b[0m \u001b[32m━━━━━━━━━━━━━━━━━━━━\u001b[0m\u001b[37m\u001b[0m \u001b[1m10s\u001b[0m 6ms/step - accuracy: 0.9026 - loss: 0.2692 - val_accuracy: 0.9032 - val_loss: 0.2637\n",
            "Epoch 4/5\n",
            "\u001b[1m1500/1500\u001b[0m \u001b[32m━━━━━━━━━━━━━━━━━━━━\u001b[0m\u001b[37m\u001b[0m \u001b[1m10s\u001b[0m 6ms/step - accuracy: 0.9179 - loss: 0.2288 - val_accuracy: 0.9061 - val_loss: 0.2561\n",
            "Epoch 5/5\n",
            "\u001b[1m1500/1500\u001b[0m \u001b[32m━━━━━━━━━━━━━━━━━━━━\u001b[0m\u001b[37m\u001b[0m \u001b[1m10s\u001b[0m 6ms/step - accuracy: 0.9281 - loss: 0.1974 - val_accuracy: 0.9140 - val_loss: 0.2477\n",
            "\u001b[1m313/313\u001b[0m \u001b[32m━━━━━━━━━━━━━━━━━━━━\u001b[0m\u001b[37m\u001b[0m \u001b[1m1s\u001b[0m 2ms/step - accuracy: 0.8511 - loss: 0.4058\n",
            "Val accuracy with dropout rate 0.2 and first layer # of filters 32: 0.8489999771118164\n",
            "Epoch 1/5\n",
            "\u001b[1m1500/1500\u001b[0m \u001b[32m━━━━━━━━━━━━━━━━━━━━\u001b[0m\u001b[37m\u001b[0m \u001b[1m15s\u001b[0m 9ms/step - accuracy: 0.7733 - loss: 0.6426 - val_accuracy: 0.8802 - val_loss: 0.3347\n",
            "Epoch 2/5\n",
            "\u001b[1m1500/1500\u001b[0m \u001b[32m━━━━━━━━━━━━━━━━━━━━\u001b[0m\u001b[37m\u001b[0m \u001b[1m14s\u001b[0m 9ms/step - accuracy: 0.8880 - loss: 0.3136 - val_accuracy: 0.9002 - val_loss: 0.2815\n",
            "Epoch 3/5\n",
            "\u001b[1m1500/1500\u001b[0m \u001b[32m━━━━━━━━━━━━━━━━━━━━\u001b[0m\u001b[37m\u001b[0m \u001b[1m14s\u001b[0m 9ms/step - accuracy: 0.9066 - loss: 0.2608 - val_accuracy: 0.9080 - val_loss: 0.2594\n",
            "Epoch 4/5\n",
            "\u001b[1m1500/1500\u001b[0m \u001b[32m━━━━━━━━━━━━━━━━━━━━\u001b[0m\u001b[37m\u001b[0m \u001b[1m14s\u001b[0m 9ms/step - accuracy: 0.9174 - loss: 0.2246 - val_accuracy: 0.9040 - val_loss: 0.2663\n",
            "Epoch 5/5\n",
            "\u001b[1m1500/1500\u001b[0m \u001b[32m━━━━━━━━━━━━━━━━━━━━\u001b[0m\u001b[37m\u001b[0m \u001b[1m14s\u001b[0m 9ms/step - accuracy: 0.9294 - loss: 0.1925 - val_accuracy: 0.9103 - val_loss: 0.2464\n",
            "\u001b[1m313/313\u001b[0m \u001b[32m━━━━━━━━━━━━━━━━━━━━\u001b[0m\u001b[37m\u001b[0m \u001b[1m1s\u001b[0m 3ms/step - accuracy: 0.8744 - loss: 0.3490\n",
            "Val accuracy with dropout rate 0.2 and first layer # of filters 64: 0.8698999881744385\n",
            "Epoch 1/5\n",
            "\u001b[1m1500/1500\u001b[0m \u001b[32m━━━━━━━━━━━━━━━━━━━━\u001b[0m\u001b[37m\u001b[0m \u001b[1m24s\u001b[0m 16ms/step - accuracy: 0.7682 - loss: 0.6503 - val_accuracy: 0.8808 - val_loss: 0.3312\n",
            "Epoch 2/5\n",
            "\u001b[1m1500/1500\u001b[0m \u001b[32m━━━━━━━━━━━━━━━━━━━━\u001b[0m\u001b[37m\u001b[0m \u001b[1m23s\u001b[0m 16ms/step - accuracy: 0.8822 - loss: 0.3296 - val_accuracy: 0.8968 - val_loss: 0.2865\n",
            "Epoch 3/5\n",
            "\u001b[1m1500/1500\u001b[0m \u001b[32m━━━━━━━━━━━━━━━━━━━━\u001b[0m\u001b[37m\u001b[0m \u001b[1m23s\u001b[0m 15ms/step - accuracy: 0.9055 - loss: 0.2613 - val_accuracy: 0.9046 - val_loss: 0.2619\n",
            "Epoch 4/5\n",
            "\u001b[1m1500/1500\u001b[0m \u001b[32m━━━━━━━━━━━━━━━━━━━━\u001b[0m\u001b[37m\u001b[0m \u001b[1m24s\u001b[0m 16ms/step - accuracy: 0.9168 - loss: 0.2321 - val_accuracy: 0.9055 - val_loss: 0.2618\n",
            "Epoch 5/5\n",
            "\u001b[1m1500/1500\u001b[0m \u001b[32m━━━━━━━━━━━━━━━━━━━━\u001b[0m\u001b[37m\u001b[0m \u001b[1m23s\u001b[0m 15ms/step - accuracy: 0.9287 - loss: 0.1971 - val_accuracy: 0.9124 - val_loss: 0.2491\n",
            "\u001b[1m313/313\u001b[0m \u001b[32m━━━━━━━━━━━━━━━━━━━━\u001b[0m\u001b[37m\u001b[0m \u001b[1m2s\u001b[0m 5ms/step - accuracy: 0.8809 - loss: 0.3470\n",
            "Val accuracy with dropout rate 0.2 and first layer # of filters 128: 0.8766000270843506\n",
            "Epoch 1/5\n",
            "\u001b[1m1500/1500\u001b[0m \u001b[32m━━━━━━━━━━━━━━━━━━━━\u001b[0m\u001b[37m\u001b[0m \u001b[1m9s\u001b[0m 5ms/step - accuracy: 0.7557 - loss: 0.6876 - val_accuracy: 0.8807 - val_loss: 0.3402\n",
            "Epoch 2/5\n",
            "\u001b[1m1500/1500\u001b[0m \u001b[32m━━━━━━━━━━━━━━━━━━━━\u001b[0m\u001b[37m\u001b[0m \u001b[1m8s\u001b[0m 5ms/step - accuracy: 0.8778 - loss: 0.3439 - val_accuracy: 0.8918 - val_loss: 0.2973\n",
            "Epoch 3/5\n",
            "\u001b[1m1500/1500\u001b[0m \u001b[32m━━━━━━━━━━━━━━━━━━━━\u001b[0m\u001b[37m\u001b[0m \u001b[1m8s\u001b[0m 5ms/step - accuracy: 0.8985 - loss: 0.2866 - val_accuracy: 0.9020 - val_loss: 0.2728\n",
            "Epoch 4/5\n",
            "\u001b[1m1500/1500\u001b[0m \u001b[32m━━━━━━━━━━━━━━━━━━━━\u001b[0m\u001b[37m\u001b[0m \u001b[1m8s\u001b[0m 5ms/step - accuracy: 0.9103 - loss: 0.2530 - val_accuracy: 0.9013 - val_loss: 0.2676\n",
            "Epoch 5/5\n",
            "\u001b[1m1500/1500\u001b[0m \u001b[32m━━━━━━━━━━━━━━━━━━━━\u001b[0m\u001b[37m\u001b[0m \u001b[1m8s\u001b[0m 5ms/step - accuracy: 0.9229 - loss: 0.2180 - val_accuracy: 0.9105 - val_loss: 0.2522\n",
            "\u001b[1m313/313\u001b[0m \u001b[32m━━━━━━━━━━━━━━━━━━━━\u001b[0m\u001b[37m\u001b[0m \u001b[1m1s\u001b[0m 2ms/step - accuracy: 0.8764 - loss: 0.3485\n",
            "Val accuracy with dropout rate 0.3 and first layer # of filters 16: 0.8747000098228455\n",
            "Epoch 1/5\n",
            "\u001b[1m1500/1500\u001b[0m \u001b[32m━━━━━━━━━━━━━━━━━━━━\u001b[0m\u001b[37m\u001b[0m \u001b[1m10s\u001b[0m 6ms/step - accuracy: 0.7612 - loss: 0.6765 - val_accuracy: 0.8788 - val_loss: 0.3418\n",
            "Epoch 2/5\n",
            "\u001b[1m1500/1500\u001b[0m \u001b[32m━━━━━━━━━━━━━━━━━━━━\u001b[0m\u001b[37m\u001b[0m \u001b[1m10s\u001b[0m 6ms/step - accuracy: 0.8835 - loss: 0.3305 - val_accuracy: 0.8979 - val_loss: 0.2884\n",
            "Epoch 3/5\n",
            "\u001b[1m1500/1500\u001b[0m \u001b[32m━━━━━━━━━━━━━━━━━━━━\u001b[0m\u001b[37m\u001b[0m \u001b[1m10s\u001b[0m 6ms/step - accuracy: 0.9025 - loss: 0.2729 - val_accuracy: 0.9065 - val_loss: 0.2675\n",
            "Epoch 4/5\n",
            "\u001b[1m1500/1500\u001b[0m \u001b[32m━━━━━━━━━━━━━━━━━━━━\u001b[0m\u001b[37m\u001b[0m \u001b[1m10s\u001b[0m 6ms/step - accuracy: 0.9165 - loss: 0.2354 - val_accuracy: 0.9025 - val_loss: 0.2681\n",
            "Epoch 5/5\n",
            "\u001b[1m1500/1500\u001b[0m \u001b[32m━━━━━━━━━━━━━━━━━━━━\u001b[0m\u001b[37m\u001b[0m \u001b[1m10s\u001b[0m 6ms/step - accuracy: 0.9284 - loss: 0.1992 - val_accuracy: 0.9130 - val_loss: 0.2429\n",
            "\u001b[1m313/313\u001b[0m \u001b[32m━━━━━━━━━━━━━━━━━━━━\u001b[0m\u001b[37m\u001b[0m \u001b[1m1s\u001b[0m 2ms/step - accuracy: 0.9060 - loss: 0.2663\n",
            "Val accuracy with dropout rate 0.3 and first layer # of filters 32: 0.9068999886512756\n",
            "Epoch 1/5\n",
            "\u001b[1m1500/1500\u001b[0m \u001b[32m━━━━━━━━━━━━━━━━━━━━\u001b[0m\u001b[37m\u001b[0m \u001b[1m15s\u001b[0m 9ms/step - accuracy: 0.7586 - loss: 0.6767 - val_accuracy: 0.8792 - val_loss: 0.3361\n",
            "Epoch 2/5\n",
            "\u001b[1m1500/1500\u001b[0m \u001b[32m━━━━━━━━━━━━━━━━━━━━\u001b[0m\u001b[37m\u001b[0m \u001b[1m14s\u001b[0m 9ms/step - accuracy: 0.8787 - loss: 0.3386 - val_accuracy: 0.8938 - val_loss: 0.2957\n",
            "Epoch 3/5\n",
            "\u001b[1m1500/1500\u001b[0m \u001b[32m━━━━━━━━━━━━━━━━━━━━\u001b[0m\u001b[37m\u001b[0m \u001b[1m14s\u001b[0m 9ms/step - accuracy: 0.8998 - loss: 0.2769 - val_accuracy: 0.9065 - val_loss: 0.2610\n",
            "Epoch 4/5\n",
            "\u001b[1m1500/1500\u001b[0m \u001b[32m━━━━━━━━━━━━━━━━━━━━\u001b[0m\u001b[37m\u001b[0m \u001b[1m14s\u001b[0m 9ms/step - accuracy: 0.9150 - loss: 0.2399 - val_accuracy: 0.9107 - val_loss: 0.2499\n",
            "Epoch 5/5\n",
            "\u001b[1m1500/1500\u001b[0m \u001b[32m━━━━━━━━━━━━━━━━━━━━\u001b[0m\u001b[37m\u001b[0m \u001b[1m14s\u001b[0m 9ms/step - accuracy: 0.9244 - loss: 0.2075 - val_accuracy: 0.9099 - val_loss: 0.2513\n",
            "\u001b[1m313/313\u001b[0m \u001b[32m━━━━━━━━━━━━━━━━━━━━\u001b[0m\u001b[37m\u001b[0m \u001b[1m1s\u001b[0m 3ms/step - accuracy: 0.8751 - loss: 0.3559\n",
            "Val accuracy with dropout rate 0.3 and first layer # of filters 64: 0.8740000128746033\n",
            "Epoch 1/5\n",
            "\u001b[1m1500/1500\u001b[0m \u001b[32m━━━━━━━━━━━━━━━━━━━━\u001b[0m\u001b[37m\u001b[0m \u001b[1m24s\u001b[0m 16ms/step - accuracy: 0.7594 - loss: 0.6838 - val_accuracy: 0.8796 - val_loss: 0.3291\n",
            "Epoch 2/5\n",
            "\u001b[1m1500/1500\u001b[0m \u001b[32m━━━━━━━━━━━━━━━━━━━━\u001b[0m\u001b[37m\u001b[0m \u001b[1m23s\u001b[0m 15ms/step - accuracy: 0.8800 - loss: 0.3377 - val_accuracy: 0.8996 - val_loss: 0.2844\n",
            "Epoch 3/5\n",
            "\u001b[1m1500/1500\u001b[0m \u001b[32m━━━━━━━━━━━━━━━━━━━━\u001b[0m\u001b[37m\u001b[0m \u001b[1m23s\u001b[0m 16ms/step - accuracy: 0.9025 - loss: 0.2771 - val_accuracy: 0.9056 - val_loss: 0.2610\n",
            "Epoch 4/5\n",
            "\u001b[1m1500/1500\u001b[0m \u001b[32m━━━━━━━━━━━━━━━━━━━━\u001b[0m\u001b[37m\u001b[0m \u001b[1m23s\u001b[0m 16ms/step - accuracy: 0.9157 - loss: 0.2384 - val_accuracy: 0.9086 - val_loss: 0.2571\n",
            "Epoch 5/5\n",
            "\u001b[1m1500/1500\u001b[0m \u001b[32m━━━━━━━━━━━━━━━━━━━━\u001b[0m\u001b[37m\u001b[0m \u001b[1m23s\u001b[0m 15ms/step - accuracy: 0.9277 - loss: 0.2034 - val_accuracy: 0.9146 - val_loss: 0.2401\n",
            "\u001b[1m313/313\u001b[0m \u001b[32m━━━━━━━━━━━━━━━━━━━━\u001b[0m\u001b[37m\u001b[0m \u001b[1m2s\u001b[0m 5ms/step - accuracy: 0.9110 - loss: 0.2543\n",
            "Val accuracy with dropout rate 0.3 and first layer # of filters 128: 0.9111999869346619\n",
            "Epoch 1/5\n",
            "\u001b[1m1500/1500\u001b[0m \u001b[32m━━━━━━━━━━━━━━━━━━━━\u001b[0m\u001b[37m\u001b[0m \u001b[1m10s\u001b[0m 5ms/step - accuracy: 0.7494 - loss: 0.7192 - val_accuracy: 0.8714 - val_loss: 0.3508\n",
            "Epoch 2/5\n",
            "\u001b[1m1500/1500\u001b[0m \u001b[32m━━━━━━━━━━━━━━━━━━━━\u001b[0m\u001b[37m\u001b[0m \u001b[1m8s\u001b[0m 5ms/step - accuracy: 0.8758 - loss: 0.3515 - val_accuracy: 0.8832 - val_loss: 0.3203\n",
            "Epoch 3/5\n",
            "\u001b[1m1500/1500\u001b[0m \u001b[32m━━━━━━━━━━━━━━━━━━━━\u001b[0m\u001b[37m\u001b[0m \u001b[1m8s\u001b[0m 5ms/step - accuracy: 0.8938 - loss: 0.3024 - val_accuracy: 0.8877 - val_loss: 0.2958\n",
            "Epoch 4/5\n",
            "\u001b[1m1500/1500\u001b[0m \u001b[32m━━━━━━━━━━━━━━━━━━━━\u001b[0m\u001b[37m\u001b[0m \u001b[1m8s\u001b[0m 5ms/step - accuracy: 0.9089 - loss: 0.2610 - val_accuracy: 0.9033 - val_loss: 0.2708\n",
            "Epoch 5/5\n",
            "\u001b[1m1500/1500\u001b[0m \u001b[32m━━━━━━━━━━━━━━━━━━━━\u001b[0m\u001b[37m\u001b[0m \u001b[1m8s\u001b[0m 5ms/step - accuracy: 0.9212 - loss: 0.2251 - val_accuracy: 0.9110 - val_loss: 0.2471\n",
            "\u001b[1m313/313\u001b[0m \u001b[32m━━━━━━━━━━━━━━━━━━━━\u001b[0m\u001b[37m\u001b[0m \u001b[1m1s\u001b[0m 2ms/step - accuracy: 0.8756 - loss: 0.3624\n",
            "Val accuracy with dropout rate 0.4 and first layer # of filters 16: 0.8702999949455261\n",
            "Epoch 1/5\n",
            "\u001b[1m1500/1500\u001b[0m \u001b[32m━━━━━━━━━━━━━━━━━━━━\u001b[0m\u001b[37m\u001b[0m \u001b[1m11s\u001b[0m 7ms/step - accuracy: 0.7455 - loss: 0.7211 - val_accuracy: 0.8706 - val_loss: 0.3572\n",
            "Epoch 2/5\n",
            "\u001b[1m1500/1500\u001b[0m \u001b[32m━━━━━━━━━━━━━━━━━━━━\u001b[0m\u001b[37m\u001b[0m \u001b[1m10s\u001b[0m 7ms/step - accuracy: 0.8754 - loss: 0.3510 - val_accuracy: 0.8967 - val_loss: 0.2923\n",
            "Epoch 3/5\n",
            "\u001b[1m1500/1500\u001b[0m \u001b[32m━━━━━━━━━━━━━━━━━━━━\u001b[0m\u001b[37m\u001b[0m \u001b[1m10s\u001b[0m 7ms/step - accuracy: 0.8975 - loss: 0.2890 - val_accuracy: 0.8966 - val_loss: 0.2989\n",
            "Epoch 4/5\n",
            "\u001b[1m1500/1500\u001b[0m \u001b[32m━━━━━━━━━━━━━━━━━━━━\u001b[0m\u001b[37m\u001b[0m \u001b[1m10s\u001b[0m 6ms/step - accuracy: 0.9104 - loss: 0.2498 - val_accuracy: 0.9065 - val_loss: 0.2607\n",
            "Epoch 5/5\n",
            "\u001b[1m1500/1500\u001b[0m \u001b[32m━━━━━━━━━━━━━━━━━━━━\u001b[0m\u001b[37m\u001b[0m \u001b[1m10s\u001b[0m 7ms/step - accuracy: 0.9215 - loss: 0.2201 - val_accuracy: 0.9028 - val_loss: 0.2716\n",
            "\u001b[1m313/313\u001b[0m \u001b[32m━━━━━━━━━━━━━━━━━━━━\u001b[0m\u001b[37m\u001b[0m \u001b[1m1s\u001b[0m 2ms/step - accuracy: 0.8690 - loss: 0.3669\n",
            "Val accuracy with dropout rate 0.4 and first layer # of filters 32: 0.8644999861717224\n",
            "Epoch 1/5\n",
            "\u001b[1m1500/1500\u001b[0m \u001b[32m━━━━━━━━━━━━━━━━━━━━\u001b[0m\u001b[37m\u001b[0m \u001b[1m15s\u001b[0m 9ms/step - accuracy: 0.7506 - loss: 0.7088 - val_accuracy: 0.8846 - val_loss: 0.3203\n",
            "Epoch 2/5\n",
            "\u001b[1m1500/1500\u001b[0m \u001b[32m━━━━━━━━━━━━━━━━━━━━\u001b[0m\u001b[37m\u001b[0m \u001b[1m14s\u001b[0m 9ms/step - accuracy: 0.8789 - loss: 0.3430 - val_accuracy: 0.8987 - val_loss: 0.2777\n",
            "Epoch 3/5\n",
            "\u001b[1m1500/1500\u001b[0m \u001b[32m━━━━━━━━━━━━━━━━━━━━\u001b[0m\u001b[37m\u001b[0m \u001b[1m14s\u001b[0m 9ms/step - accuracy: 0.9016 - loss: 0.2806 - val_accuracy: 0.9056 - val_loss: 0.2591\n",
            "Epoch 4/5\n",
            "\u001b[1m1500/1500\u001b[0m \u001b[32m━━━━━━━━━━━━━━━━━━━━\u001b[0m\u001b[37m\u001b[0m \u001b[1m14s\u001b[0m 9ms/step - accuracy: 0.9127 - loss: 0.2419 - val_accuracy: 0.9047 - val_loss: 0.2587\n",
            "Epoch 5/5\n",
            "\u001b[1m1500/1500\u001b[0m \u001b[32m━━━━━━━━━━━━━━━━━━━━\u001b[0m\u001b[37m\u001b[0m \u001b[1m14s\u001b[0m 9ms/step - accuracy: 0.9259 - loss: 0.2120 - val_accuracy: 0.9119 - val_loss: 0.2500\n",
            "\u001b[1m313/313\u001b[0m \u001b[32m━━━━━━━━━━━━━━━━━━━━\u001b[0m\u001b[37m\u001b[0m \u001b[1m1s\u001b[0m 3ms/step - accuracy: 0.8829 - loss: 0.3370\n",
            "Val accuracy with dropout rate 0.4 and first layer # of filters 64: 0.878600001335144\n",
            "Epoch 1/5\n",
            "\u001b[1m1500/1500\u001b[0m \u001b[32m━━━━━━━━━━━━━━━━━━━━\u001b[0m\u001b[37m\u001b[0m \u001b[1m25s\u001b[0m 16ms/step - accuracy: 0.7541 - loss: 0.7006 - val_accuracy: 0.8812 - val_loss: 0.3276\n",
            "Epoch 2/5\n",
            "\u001b[1m1500/1500\u001b[0m \u001b[32m━━━━━━━━━━━━━━━━━━━━\u001b[0m\u001b[37m\u001b[0m \u001b[1m24s\u001b[0m 16ms/step - accuracy: 0.8809 - loss: 0.3370 - val_accuracy: 0.8933 - val_loss: 0.2915\n",
            "Epoch 3/5\n",
            "\u001b[1m1500/1500\u001b[0m \u001b[32m━━━━━━━━━━━━━━━━━━━━\u001b[0m\u001b[37m\u001b[0m \u001b[1m24s\u001b[0m 16ms/step - accuracy: 0.9001 - loss: 0.2814 - val_accuracy: 0.9059 - val_loss: 0.2569\n",
            "Epoch 4/5\n",
            "\u001b[1m1500/1500\u001b[0m \u001b[32m━━━━━━━━━━━━━━━━━━━━\u001b[0m\u001b[37m\u001b[0m \u001b[1m24s\u001b[0m 16ms/step - accuracy: 0.9132 - loss: 0.2426 - val_accuracy: 0.9058 - val_loss: 0.2656\n",
            "Epoch 5/5\n",
            "\u001b[1m1500/1500\u001b[0m \u001b[32m━━━━━━━━━━━━━━━━━━━━\u001b[0m\u001b[37m\u001b[0m \u001b[1m24s\u001b[0m 16ms/step - accuracy: 0.9273 - loss: 0.2082 - val_accuracy: 0.9073 - val_loss: 0.2606\n",
            "\u001b[1m313/313\u001b[0m \u001b[32m━━━━━━━━━━━━━━━━━━━━\u001b[0m\u001b[37m\u001b[0m \u001b[1m2s\u001b[0m 5ms/step - accuracy: 0.8787 - loss: 0.3493\n",
            "Val accuracy with dropout rate 0.4 and first layer # of filters 128: 0.8766999840736389\n",
            "Epoch 1/5\n",
            "\u001b[1m1500/1500\u001b[0m \u001b[32m━━━━━━━━━━━━━━━━━━━━\u001b[0m\u001b[37m\u001b[0m \u001b[1m9s\u001b[0m 5ms/step - accuracy: 0.7263 - loss: 0.7742 - val_accuracy: 0.8685 - val_loss: 0.3630\n",
            "Epoch 2/5\n",
            "\u001b[1m1500/1500\u001b[0m \u001b[32m━━━━━━━━━━━━━━━━━━━━\u001b[0m\u001b[37m\u001b[0m \u001b[1m8s\u001b[0m 5ms/step - accuracy: 0.8710 - loss: 0.3790 - val_accuracy: 0.8872 - val_loss: 0.3068\n",
            "Epoch 3/5\n",
            "\u001b[1m1500/1500\u001b[0m \u001b[32m━━━━━━━━━━━━━━━━━━━━\u001b[0m\u001b[37m\u001b[0m \u001b[1m8s\u001b[0m 5ms/step - accuracy: 0.8907 - loss: 0.3157 - val_accuracy: 0.8964 - val_loss: 0.2879\n",
            "Epoch 4/5\n",
            "\u001b[1m1500/1500\u001b[0m \u001b[32m━━━━━━━━━━━━━━━━━━━━\u001b[0m\u001b[37m\u001b[0m \u001b[1m8s\u001b[0m 5ms/step - accuracy: 0.9073 - loss: 0.2736 - val_accuracy: 0.9072 - val_loss: 0.2582\n",
            "Epoch 5/5\n",
            "\u001b[1m1500/1500\u001b[0m \u001b[32m━━━━━━━━━━━━━━━━━━━━\u001b[0m\u001b[37m\u001b[0m \u001b[1m8s\u001b[0m 5ms/step - accuracy: 0.9168 - loss: 0.2430 - val_accuracy: 0.9105 - val_loss: 0.2650\n",
            "\u001b[1m313/313\u001b[0m \u001b[32m━━━━━━━━━━━━━━━━━━━━\u001b[0m\u001b[37m\u001b[0m \u001b[1m1s\u001b[0m 2ms/step - accuracy: 0.8672 - loss: 0.3713\n",
            "Val accuracy with dropout rate 0.5 and first layer # of filters 16: 0.8654999732971191\n",
            "Epoch 1/5\n",
            "\u001b[1m1500/1500\u001b[0m \u001b[32m━━━━━━━━━━━━━━━━━━━━\u001b[0m\u001b[37m\u001b[0m \u001b[1m11s\u001b[0m 7ms/step - accuracy: 0.7375 - loss: 0.7408 - val_accuracy: 0.8767 - val_loss: 0.3416\n",
            "Epoch 2/5\n",
            "\u001b[1m1500/1500\u001b[0m \u001b[32m━━━━━━━━━━━━━━━━━━━━\u001b[0m\u001b[37m\u001b[0m \u001b[1m10s\u001b[0m 6ms/step - accuracy: 0.8717 - loss: 0.3673 - val_accuracy: 0.8983 - val_loss: 0.2854\n",
            "Epoch 3/5\n",
            "\u001b[1m1500/1500\u001b[0m \u001b[32m━━━━━━━━━━━━━━━━━━━━\u001b[0m\u001b[37m\u001b[0m \u001b[1m10s\u001b[0m 6ms/step - accuracy: 0.8969 - loss: 0.3001 - val_accuracy: 0.8979 - val_loss: 0.2792\n",
            "Epoch 4/5\n",
            "\u001b[1m1500/1500\u001b[0m \u001b[32m━━━━━━━━━━━━━━━━━━━━\u001b[0m\u001b[37m\u001b[0m \u001b[1m10s\u001b[0m 6ms/step - accuracy: 0.9099 - loss: 0.2615 - val_accuracy: 0.9083 - val_loss: 0.2537\n",
            "Epoch 5/5\n",
            "\u001b[1m1500/1500\u001b[0m \u001b[32m━━━━━━━━━━━━━━━━━━━━\u001b[0m\u001b[37m\u001b[0m \u001b[1m10s\u001b[0m 7ms/step - accuracy: 0.9204 - loss: 0.2325 - val_accuracy: 0.9100 - val_loss: 0.2461\n",
            "\u001b[1m313/313\u001b[0m \u001b[32m━━━━━━━━━━━━━━━━━━━━\u001b[0m\u001b[37m\u001b[0m \u001b[1m1s\u001b[0m 2ms/step - accuracy: 0.8708 - loss: 0.3603\n",
            "Val accuracy with dropout rate 0.5 and first layer # of filters 32: 0.870199978351593\n",
            "Epoch 1/5\n",
            "\u001b[1m1500/1500\u001b[0m \u001b[32m━━━━━━━━━━━━━━━━━━━━\u001b[0m\u001b[37m\u001b[0m \u001b[1m15s\u001b[0m 10ms/step - accuracy: 0.7419 - loss: 0.7394 - val_accuracy: 0.8744 - val_loss: 0.3518\n",
            "Epoch 2/5\n",
            "\u001b[1m1500/1500\u001b[0m \u001b[32m━━━━━━━━━━━━━━━━━━━━\u001b[0m\u001b[37m\u001b[0m \u001b[1m14s\u001b[0m 10ms/step - accuracy: 0.8758 - loss: 0.3598 - val_accuracy: 0.8866 - val_loss: 0.3131\n",
            "Epoch 3/5\n",
            "\u001b[1m1500/1500\u001b[0m \u001b[32m━━━━━━━━━━━━━━━━━━━━\u001b[0m\u001b[37m\u001b[0m \u001b[1m14s\u001b[0m 10ms/step - accuracy: 0.8990 - loss: 0.2898 - val_accuracy: 0.9063 - val_loss: 0.2608\n",
            "Epoch 4/5\n",
            "\u001b[1m1500/1500\u001b[0m \u001b[32m━━━━━━━━━━━━━━━━━━━━\u001b[0m\u001b[37m\u001b[0m \u001b[1m14s\u001b[0m 10ms/step - accuracy: 0.9141 - loss: 0.2498 - val_accuracy: 0.9106 - val_loss: 0.2458\n",
            "Epoch 5/5\n",
            "\u001b[1m1500/1500\u001b[0m \u001b[32m━━━━━━━━━━━━━━━━━━━━\u001b[0m\u001b[37m\u001b[0m \u001b[1m14s\u001b[0m 10ms/step - accuracy: 0.9232 - loss: 0.2233 - val_accuracy: 0.9129 - val_loss: 0.2447\n",
            "\u001b[1m313/313\u001b[0m \u001b[32m━━━━━━━━━━━━━━━━━━━━\u001b[0m\u001b[37m\u001b[0m \u001b[1m1s\u001b[0m 3ms/step - accuracy: 0.8701 - loss: 0.3704\n",
            "Val accuracy with dropout rate 0.5 and first layer # of filters 64: 0.8680999875068665\n",
            "Epoch 1/5\n",
            "\u001b[1m1500/1500\u001b[0m \u001b[32m━━━━━━━━━━━━━━━━━━━━\u001b[0m\u001b[37m\u001b[0m \u001b[1m26s\u001b[0m 17ms/step - accuracy: 0.7391 - loss: 0.7484 - val_accuracy: 0.8848 - val_loss: 0.3261\n",
            "Epoch 2/5\n",
            "\u001b[1m1500/1500\u001b[0m \u001b[32m━━━━━━━━━━━━━━━━━━━━\u001b[0m\u001b[37m\u001b[0m \u001b[1m25s\u001b[0m 17ms/step - accuracy: 0.8756 - loss: 0.3573 - val_accuracy: 0.8947 - val_loss: 0.2937\n",
            "Epoch 3/5\n",
            "\u001b[1m1500/1500\u001b[0m \u001b[32m━━━━━━━━━━━━━━━━━━━━\u001b[0m\u001b[37m\u001b[0m \u001b[1m25s\u001b[0m 17ms/step - accuracy: 0.8967 - loss: 0.2954 - val_accuracy: 0.8999 - val_loss: 0.2863\n",
            "Epoch 4/5\n",
            "\u001b[1m1500/1500\u001b[0m \u001b[32m━━━━━━━━━━━━━━━━━━━━\u001b[0m\u001b[37m\u001b[0m \u001b[1m25s\u001b[0m 17ms/step - accuracy: 0.9117 - loss: 0.2541 - val_accuracy: 0.9071 - val_loss: 0.2626\n",
            "Epoch 5/5\n",
            "\u001b[1m1500/1500\u001b[0m \u001b[32m━━━━━━━━━━━━━━━━━━━━\u001b[0m\u001b[37m\u001b[0m \u001b[1m25s\u001b[0m 17ms/step - accuracy: 0.9202 - loss: 0.2283 - val_accuracy: 0.9113 - val_loss: 0.2482\n",
            "\u001b[1m313/313\u001b[0m \u001b[32m━━━━━━━━━━━━━━━━━━━━\u001b[0m\u001b[37m\u001b[0m \u001b[1m2s\u001b[0m 5ms/step - accuracy: 0.8790 - loss: 0.3324\n",
            "Val accuracy with dropout rate 0.5 and first layer # of filters 128: 0.8780999779701233\n",
            "\u001b[1m313/313\u001b[0m \u001b[32m━━━━━━━━━━━━━━━━━━━━\u001b[0m\u001b[37m\u001b[0m \u001b[1m2s\u001b[0m 5ms/step - accuracy: 0.9110 - loss: 0.2543\n",
            "Test accuracy: 0.9111999869346619\n"
          ]
        }
      ],
      "source": [
        "adjusted_params['dropout_rate'] = 0.2\n",
        "dropout_rates = [0.2, 0.3, 0.4, 0.5]\n",
        "num_filters = [16, 32, 64, 128]\n",
        "best_accuracy = 0\n",
        "best_model = None\n",
        "for dropout_rate in dropout_rates:\n",
        "    adjusted_params['dropout_rate'] = dropout_rate\n",
        "    for num_filter in num_filters:\n",
        "        adjusted_params['num_filters_0'] = num_filter\n",
        "        model = build_model(adjusted_params)\n",
        "        model.fit(x_train, y_train, epochs=5, batch_size=32, verbose=1, validation_split=0.2, callbacks=[early_stopping])\n",
        "        loss, accuracy = model.evaluate(x_test, y_test)\n",
        "        if best_accuracy < accuracy:\n",
        "            best_accuracy = accuracy\n",
        "            best_model = model\n",
        "        print(f'Val accuracy with dropout rate {dropout_rate} and first layer # of filters {num_filter}: {accuracy}')\n",
        "\n",
        "# Evaluate the model\n",
        "loss, accuracy = best_model.evaluate(x_test, y_test)\n",
        "print('Test accuracy:', accuracy)"
      ]
    },
    {
      "cell_type": "code",
      "execution_count": 40,
      "metadata": {},
      "outputs": [
        {
          "data": {
            "text/html": [
              "<pre style=\"white-space:pre;overflow-x:auto;line-height:normal;font-family:Menlo,'DejaVu Sans Mono',consolas,'Courier New',monospace\"><span style=\"font-weight: bold\">Model: \"sequential_29\"</span>\n",
              "</pre>\n"
            ],
            "text/plain": [
              "\u001b[1mModel: \"sequential_29\"\u001b[0m\n"
            ]
          },
          "metadata": {},
          "output_type": "display_data"
        },
        {
          "data": {
            "text/html": [
              "<pre style=\"white-space:pre;overflow-x:auto;line-height:normal;font-family:Menlo,'DejaVu Sans Mono',consolas,'Courier New',monospace\">┏━━━━━━━━━━━━━━━━━━━━━━━━━━━━━━━━━┳━━━━━━━━━━━━━━━━━━━━━━━━┳━━━━━━━━━━━━━━━┓\n",
              "┃<span style=\"font-weight: bold\"> Layer (type)                    </span>┃<span style=\"font-weight: bold\"> Output Shape           </span>┃<span style=\"font-weight: bold\">       Param # </span>┃\n",
              "┡━━━━━━━━━━━━━━━━━━━━━━━━━━━━━━━━━╇━━━━━━━━━━━━━━━━━━━━━━━━╇━━━━━━━━━━━━━━━┩\n",
              "│ conv2d_80 (<span style=\"color: #0087ff; text-decoration-color: #0087ff\">Conv2D</span>)              │ (<span style=\"color: #00d7ff; text-decoration-color: #00d7ff\">None</span>, <span style=\"color: #00af00; text-decoration-color: #00af00\">28</span>, <span style=\"color: #00af00; text-decoration-color: #00af00\">28</span>, <span style=\"color: #00af00; text-decoration-color: #00af00\">128</span>)    │         <span style=\"color: #00af00; text-decoration-color: #00af00\">1,280</span> │\n",
              "├─────────────────────────────────┼────────────────────────┼───────────────┤\n",
              "│ max_pooling2d_80 (<span style=\"color: #0087ff; text-decoration-color: #0087ff\">MaxPooling2D</span>) │ (<span style=\"color: #00d7ff; text-decoration-color: #00d7ff\">None</span>, <span style=\"color: #00af00; text-decoration-color: #00af00\">14</span>, <span style=\"color: #00af00; text-decoration-color: #00af00\">14</span>, <span style=\"color: #00af00; text-decoration-color: #00af00\">128</span>)    │             <span style=\"color: #00af00; text-decoration-color: #00af00\">0</span> │\n",
              "├─────────────────────────────────┼────────────────────────┼───────────────┤\n",
              "│ conv2d_81 (<span style=\"color: #0087ff; text-decoration-color: #0087ff\">Conv2D</span>)              │ (<span style=\"color: #00d7ff; text-decoration-color: #00d7ff\">None</span>, <span style=\"color: #00af00; text-decoration-color: #00af00\">14</span>, <span style=\"color: #00af00; text-decoration-color: #00af00\">14</span>, <span style=\"color: #00af00; text-decoration-color: #00af00\">128</span>)    │       <span style=\"color: #00af00; text-decoration-color: #00af00\">147,584</span> │\n",
              "├─────────────────────────────────┼────────────────────────┼───────────────┤\n",
              "│ max_pooling2d_81 (<span style=\"color: #0087ff; text-decoration-color: #0087ff\">MaxPooling2D</span>) │ (<span style=\"color: #00d7ff; text-decoration-color: #00d7ff\">None</span>, <span style=\"color: #00af00; text-decoration-color: #00af00\">7</span>, <span style=\"color: #00af00; text-decoration-color: #00af00\">7</span>, <span style=\"color: #00af00; text-decoration-color: #00af00\">128</span>)      │             <span style=\"color: #00af00; text-decoration-color: #00af00\">0</span> │\n",
              "├─────────────────────────────────┼────────────────────────┼───────────────┤\n",
              "│ conv2d_82 (<span style=\"color: #0087ff; text-decoration-color: #0087ff\">Conv2D</span>)              │ (<span style=\"color: #00d7ff; text-decoration-color: #00d7ff\">None</span>, <span style=\"color: #00af00; text-decoration-color: #00af00\">7</span>, <span style=\"color: #00af00; text-decoration-color: #00af00\">7</span>, <span style=\"color: #00af00; text-decoration-color: #00af00\">128</span>)      │       <span style=\"color: #00af00; text-decoration-color: #00af00\">147,584</span> │\n",
              "├─────────────────────────────────┼────────────────────────┼───────────────┤\n",
              "│ max_pooling2d_82 (<span style=\"color: #0087ff; text-decoration-color: #0087ff\">MaxPooling2D</span>) │ (<span style=\"color: #00d7ff; text-decoration-color: #00d7ff\">None</span>, <span style=\"color: #00af00; text-decoration-color: #00af00\">3</span>, <span style=\"color: #00af00; text-decoration-color: #00af00\">3</span>, <span style=\"color: #00af00; text-decoration-color: #00af00\">128</span>)      │             <span style=\"color: #00af00; text-decoration-color: #00af00\">0</span> │\n",
              "├─────────────────────────────────┼────────────────────────┼───────────────┤\n",
              "│ flatten_28 (<span style=\"color: #0087ff; text-decoration-color: #0087ff\">Flatten</span>)            │ (<span style=\"color: #00d7ff; text-decoration-color: #00d7ff\">None</span>, <span style=\"color: #00af00; text-decoration-color: #00af00\">1152</span>)           │             <span style=\"color: #00af00; text-decoration-color: #00af00\">0</span> │\n",
              "├─────────────────────────────────┼────────────────────────┼───────────────┤\n",
              "│ dense_54 (<span style=\"color: #0087ff; text-decoration-color: #0087ff\">Dense</span>)                │ (<span style=\"color: #00d7ff; text-decoration-color: #00d7ff\">None</span>, <span style=\"color: #00af00; text-decoration-color: #00af00\">64</span>)             │        <span style=\"color: #00af00; text-decoration-color: #00af00\">73,792</span> │\n",
              "├─────────────────────────────────┼────────────────────────┼───────────────┤\n",
              "│ dropout_23 (<span style=\"color: #0087ff; text-decoration-color: #0087ff\">Dropout</span>)            │ (<span style=\"color: #00d7ff; text-decoration-color: #00d7ff\">None</span>, <span style=\"color: #00af00; text-decoration-color: #00af00\">64</span>)             │             <span style=\"color: #00af00; text-decoration-color: #00af00\">0</span> │\n",
              "├─────────────────────────────────┼────────────────────────┼───────────────┤\n",
              "│ dense_55 (<span style=\"color: #0087ff; text-decoration-color: #0087ff\">Dense</span>)                │ (<span style=\"color: #00d7ff; text-decoration-color: #00d7ff\">None</span>, <span style=\"color: #00af00; text-decoration-color: #00af00\">10</span>)             │           <span style=\"color: #00af00; text-decoration-color: #00af00\">650</span> │\n",
              "└─────────────────────────────────┴────────────────────────┴───────────────┘\n",
              "</pre>\n"
            ],
            "text/plain": [
              "┏━━━━━━━━━━━━━━━━━━━━━━━━━━━━━━━━━┳━━━━━━━━━━━━━━━━━━━━━━━━┳━━━━━━━━━━━━━━━┓\n",
              "┃\u001b[1m \u001b[0m\u001b[1mLayer (type)                   \u001b[0m\u001b[1m \u001b[0m┃\u001b[1m \u001b[0m\u001b[1mOutput Shape          \u001b[0m\u001b[1m \u001b[0m┃\u001b[1m \u001b[0m\u001b[1m      Param #\u001b[0m\u001b[1m \u001b[0m┃\n",
              "┡━━━━━━━━━━━━━━━━━━━━━━━━━━━━━━━━━╇━━━━━━━━━━━━━━━━━━━━━━━━╇━━━━━━━━━━━━━━━┩\n",
              "│ conv2d_80 (\u001b[38;5;33mConv2D\u001b[0m)              │ (\u001b[38;5;45mNone\u001b[0m, \u001b[38;5;34m28\u001b[0m, \u001b[38;5;34m28\u001b[0m, \u001b[38;5;34m128\u001b[0m)    │         \u001b[38;5;34m1,280\u001b[0m │\n",
              "├─────────────────────────────────┼────────────────────────┼───────────────┤\n",
              "│ max_pooling2d_80 (\u001b[38;5;33mMaxPooling2D\u001b[0m) │ (\u001b[38;5;45mNone\u001b[0m, \u001b[38;5;34m14\u001b[0m, \u001b[38;5;34m14\u001b[0m, \u001b[38;5;34m128\u001b[0m)    │             \u001b[38;5;34m0\u001b[0m │\n",
              "├─────────────────────────────────┼────────────────────────┼───────────────┤\n",
              "│ conv2d_81 (\u001b[38;5;33mConv2D\u001b[0m)              │ (\u001b[38;5;45mNone\u001b[0m, \u001b[38;5;34m14\u001b[0m, \u001b[38;5;34m14\u001b[0m, \u001b[38;5;34m128\u001b[0m)    │       \u001b[38;5;34m147,584\u001b[0m │\n",
              "├─────────────────────────────────┼────────────────────────┼───────────────┤\n",
              "│ max_pooling2d_81 (\u001b[38;5;33mMaxPooling2D\u001b[0m) │ (\u001b[38;5;45mNone\u001b[0m, \u001b[38;5;34m7\u001b[0m, \u001b[38;5;34m7\u001b[0m, \u001b[38;5;34m128\u001b[0m)      │             \u001b[38;5;34m0\u001b[0m │\n",
              "├─────────────────────────────────┼────────────────────────┼───────────────┤\n",
              "│ conv2d_82 (\u001b[38;5;33mConv2D\u001b[0m)              │ (\u001b[38;5;45mNone\u001b[0m, \u001b[38;5;34m7\u001b[0m, \u001b[38;5;34m7\u001b[0m, \u001b[38;5;34m128\u001b[0m)      │       \u001b[38;5;34m147,584\u001b[0m │\n",
              "├─────────────────────────────────┼────────────────────────┼───────────────┤\n",
              "│ max_pooling2d_82 (\u001b[38;5;33mMaxPooling2D\u001b[0m) │ (\u001b[38;5;45mNone\u001b[0m, \u001b[38;5;34m3\u001b[0m, \u001b[38;5;34m3\u001b[0m, \u001b[38;5;34m128\u001b[0m)      │             \u001b[38;5;34m0\u001b[0m │\n",
              "├─────────────────────────────────┼────────────────────────┼───────────────┤\n",
              "│ flatten_28 (\u001b[38;5;33mFlatten\u001b[0m)            │ (\u001b[38;5;45mNone\u001b[0m, \u001b[38;5;34m1152\u001b[0m)           │             \u001b[38;5;34m0\u001b[0m │\n",
              "├─────────────────────────────────┼────────────────────────┼───────────────┤\n",
              "│ dense_54 (\u001b[38;5;33mDense\u001b[0m)                │ (\u001b[38;5;45mNone\u001b[0m, \u001b[38;5;34m64\u001b[0m)             │        \u001b[38;5;34m73,792\u001b[0m │\n",
              "├─────────────────────────────────┼────────────────────────┼───────────────┤\n",
              "│ dropout_23 (\u001b[38;5;33mDropout\u001b[0m)            │ (\u001b[38;5;45mNone\u001b[0m, \u001b[38;5;34m64\u001b[0m)             │             \u001b[38;5;34m0\u001b[0m │\n",
              "├─────────────────────────────────┼────────────────────────┼───────────────┤\n",
              "│ dense_55 (\u001b[38;5;33mDense\u001b[0m)                │ (\u001b[38;5;45mNone\u001b[0m, \u001b[38;5;34m10\u001b[0m)             │           \u001b[38;5;34m650\u001b[0m │\n",
              "└─────────────────────────────────┴────────────────────────┴───────────────┘\n"
            ]
          },
          "metadata": {},
          "output_type": "display_data"
        },
        {
          "data": {
            "text/html": [
              "<pre style=\"white-space:pre;overflow-x:auto;line-height:normal;font-family:Menlo,'DejaVu Sans Mono',consolas,'Courier New',monospace\"><span style=\"font-weight: bold\"> Total params: </span><span style=\"color: #00af00; text-decoration-color: #00af00\">1,112,672</span> (4.24 MB)\n",
              "</pre>\n"
            ],
            "text/plain": [
              "\u001b[1m Total params: \u001b[0m\u001b[38;5;34m1,112,672\u001b[0m (4.24 MB)\n"
            ]
          },
          "metadata": {},
          "output_type": "display_data"
        },
        {
          "data": {
            "text/html": [
              "<pre style=\"white-space:pre;overflow-x:auto;line-height:normal;font-family:Menlo,'DejaVu Sans Mono',consolas,'Courier New',monospace\"><span style=\"font-weight: bold\"> Trainable params: </span><span style=\"color: #00af00; text-decoration-color: #00af00\">370,890</span> (1.41 MB)\n",
              "</pre>\n"
            ],
            "text/plain": [
              "\u001b[1m Trainable params: \u001b[0m\u001b[38;5;34m370,890\u001b[0m (1.41 MB)\n"
            ]
          },
          "metadata": {},
          "output_type": "display_data"
        },
        {
          "data": {
            "text/html": [
              "<pre style=\"white-space:pre;overflow-x:auto;line-height:normal;font-family:Menlo,'DejaVu Sans Mono',consolas,'Courier New',monospace\"><span style=\"font-weight: bold\"> Non-trainable params: </span><span style=\"color: #00af00; text-decoration-color: #00af00\">0</span> (0.00 B)\n",
              "</pre>\n"
            ],
            "text/plain": [
              "\u001b[1m Non-trainable params: \u001b[0m\u001b[38;5;34m0\u001b[0m (0.00 B)\n"
            ]
          },
          "metadata": {},
          "output_type": "display_data"
        },
        {
          "data": {
            "text/html": [
              "<pre style=\"white-space:pre;overflow-x:auto;line-height:normal;font-family:Menlo,'DejaVu Sans Mono',consolas,'Courier New',monospace\"><span style=\"font-weight: bold\"> Optimizer params: </span><span style=\"color: #00af00; text-decoration-color: #00af00\">741,782</span> (2.83 MB)\n",
              "</pre>\n"
            ],
            "text/plain": [
              "\u001b[1m Optimizer params: \u001b[0m\u001b[38;5;34m741,782\u001b[0m (2.83 MB)\n"
            ]
          },
          "metadata": {},
          "output_type": "display_data"
        }
      ],
      "source": [
        "best_model.summary()"
      ]
    },
    {
      "cell_type": "code",
      "execution_count": 45,
      "metadata": {},
      "outputs": [
        {
          "name": "stdout",
          "output_type": "stream",
          "text": [
            "Epoch 1/10\n",
            "\u001b[1m1500/1500\u001b[0m \u001b[32m━━━━━━━━━━━━━━━━━━━━\u001b[0m\u001b[37m\u001b[0m \u001b[1m27s\u001b[0m 17ms/step - accuracy: 0.7608 - loss: 0.6752 - val_accuracy: 0.8832 - val_loss: 0.3306 - learning_rate: 6.2244e-04\n",
            "Epoch 2/10\n",
            "\u001b[1m1500/1500\u001b[0m \u001b[32m━━━━━━━━━━━━━━━━━━━━\u001b[0m\u001b[37m\u001b[0m \u001b[1m25s\u001b[0m 17ms/step - accuracy: 0.8808 - loss: 0.3377 - val_accuracy: 0.8983 - val_loss: 0.2844 - learning_rate: 6.2244e-04\n",
            "Epoch 3/10\n",
            "\u001b[1m1500/1500\u001b[0m \u001b[32m━━━━━━━━━━━━━━━━━━━━\u001b[0m\u001b[37m\u001b[0m \u001b[1m26s\u001b[0m 17ms/step - accuracy: 0.9020 - loss: 0.2753 - val_accuracy: 0.9049 - val_loss: 0.2732 - learning_rate: 6.2244e-04\n",
            "Epoch 4/10\n",
            "\u001b[1m1500/1500\u001b[0m \u001b[32m━━━━━━━━━━━━━━━━━━━━\u001b[0m\u001b[37m\u001b[0m \u001b[1m26s\u001b[0m 17ms/step - accuracy: 0.9186 - loss: 0.2334 - val_accuracy: 0.9038 - val_loss: 0.2678 - learning_rate: 6.2244e-04\n",
            "Epoch 5/10\n",
            "\u001b[1m1500/1500\u001b[0m \u001b[32m━━━━━━━━━━━━━━━━━━━━\u001b[0m\u001b[37m\u001b[0m \u001b[1m26s\u001b[0m 17ms/step - accuracy: 0.9242 - loss: 0.2122 - val_accuracy: 0.9140 - val_loss: 0.2469 - learning_rate: 6.2244e-04\n",
            "Epoch 6/10\n",
            "\u001b[1m1500/1500\u001b[0m \u001b[32m━━━━━━━━━━━━━━━━━━━━\u001b[0m\u001b[37m\u001b[0m \u001b[1m27s\u001b[0m 18ms/step - accuracy: 0.9376 - loss: 0.1798 - val_accuracy: 0.9136 - val_loss: 0.2422 - learning_rate: 6.2244e-04\n",
            "\u001b[1m313/313\u001b[0m \u001b[32m━━━━━━━━━━━━━━━━━━━━\u001b[0m\u001b[37m\u001b[0m \u001b[1m2s\u001b[0m 5ms/step - accuracy: 0.8762 - loss: 0.3443\n",
            "Test accuracy: 0.8723000288009644\n"
          ]
        }
      ],
      "source": [
        "adjusted_params['dropout_rate'] = 0.3\n",
        "adjusted_params['num_filters_0'] = 128\n",
        "model = build_model(adjusted_params)\n",
        "reduce_lr = ReduceLROnPlateauKeras(monitor='val_loss', factor=0.2,\n",
        "                              patience=5, min_lr=1e-6)\n",
        "model.fit(x_train, y_train, epochs=10, batch_size=32, verbose=1, validation_split=0.2, callbacks=[early_stopping, reduce_lr])\n",
        "loss, acc = model.evaluate(x_test, y_test)\n",
        "print('Test accuracy:', acc)"
      ]
    },
    {
      "cell_type": "code",
      "execution_count": 18,
      "metadata": {
        "colab": {
          "base_uri": "https://localhost:8080/",
          "height": 445
        },
        "id": "zJa4Lf76KZDM",
        "outputId": "5f20b1c1-f05c-40d1-f0d1-930d6501c654"
      },
      "outputs": [
        {
          "name": "stdout",
          "output_type": "stream",
          "text": [
            "\u001b[1m1/1\u001b[0m \u001b[32m━━━━━━━━━━━━━━━━━━━━\u001b[0m\u001b[37m\u001b[0m \u001b[1m0s\u001b[0m 17ms/step\n"
          ]
        },
        {
          "data": {
            "image/png": "[encoded data removed]",
            "text/plain": [
              "<Figure size 640x480 with 1 Axes>"
            ]
          },
          "metadata": {},
          "output_type": "display_data"
        }
      ],
      "source": [
        "image_index = 27\n",
        "\n",
        "# Extract the test image and label\n",
        "test_image = x_test[image_index]\n",
        "test_label = np.argmax(y_test[image_index])\n",
        "\n",
        "# Reshape the test image for prediction (Keras expects a batch dimension)\n",
        "test_image_reshaped = np.expand_dims(test_image, axis=0)\n",
        "\n",
        "# Make predictions on the test image\n",
        "predicted_label = np.argmax(model.predict(test_image_reshaped), axis=-1)\n",
        "\n",
        "# Plot the test image with predicted and actual labels\n",
        "plt.imshow(test_image, cmap='gray')\n",
        "plt.title(f'Predicted Label: {predicted_label[0]}, Actual Label: {test_label}')\n",
        "plt.axis('off')\n",
        "plt.show()"
      ]
    },
    {
      "cell_type": "markdown",
      "metadata": {
        "id": "XWO9KNmgQ0VX"
      },
      "source": [
        "### Just to explore TensorFlow Implemenation of CNN.\n",
        "\n",
        "Not Required For Submission."
      ]
    },
    {
      "cell_type": "code",
      "execution_count": null,
      "metadata": {
        "colab": {
          "base_uri": "https://localhost:8080/"
        },
        "id": "cc8F7Lo_AOII",
        "outputId": "107054e4-528a-48a6-8b79-67bd294c8377"
      },
      "outputs": [
        {
          "name": "stdout",
          "output_type": "stream",
          "text": [
            "Epoch 1/5\n",
            "\u001b[1m1875/1875\u001b[0m \u001b[32m━━━━━━━━━━━━━━━━━━━━\u001b[0m\u001b[37m\u001b[0m \u001b[1m4s\u001b[0m 2ms/step - accuracy: 0.1010 - loss: 2.3026\n",
            "Epoch 2/5\n",
            "\u001b[1m1875/1875\u001b[0m \u001b[32m━━━━━━━━━━━━━━━━━━━━\u001b[0m\u001b[37m\u001b[0m \u001b[1m4s\u001b[0m 2ms/step - accuracy: 0.0984 - loss: 2.3026\n",
            "Epoch 3/5\n",
            "\u001b[1m1875/1875\u001b[0m \u001b[32m━━━━━━━━━━━━━━━━━━━━\u001b[0m\u001b[37m\u001b[0m \u001b[1m4s\u001b[0m 2ms/step - accuracy: 0.1009 - loss: 2.3026\n",
            "Epoch 4/5\n",
            "\u001b[1m1875/1875\u001b[0m \u001b[32m━━━━━━━━━━━━━━━━━━━━\u001b[0m\u001b[37m\u001b[0m \u001b[1m4s\u001b[0m 2ms/step - accuracy: 0.1026 - loss: 2.3025\n",
            "Epoch 5/5\n",
            "\u001b[1m1875/1875\u001b[0m \u001b[32m━━━━━━━━━━━━━━━━━━━━\u001b[0m\u001b[37m\u001b[0m \u001b[1m4s\u001b[0m 2ms/step - accuracy: 0.1026 - loss: 2.3024\n",
            "313/313 - 2s - 7ms/step - accuracy: 0.1000 - loss: 2.3023\n",
            "\n",
            "Test accuracy: 0.10000000149011612\n"
          ]
        }
      ],
      "source": [
        "import tensorflow as tf\n",
        "from tensorflow.keras import layers, models\n",
        "\n",
        "# Load the Fashion MNIST dataset\n",
        "fashion_mnist = tf.keras.datasets.fashion_mnist\n",
        "(train_images, train_labels), (test_images, test_labels) = fashion_mnist.load_data()\n",
        "\n",
        "# Normalize pixel values to be between 0 and 1\n",
        "train_images, test_images = train_images / 255.0, test_images / 255.0\n",
        "\n",
        "# Define the CNN model\n",
        "model = models.Sequential([\n",
        "    layers.Conv2D(16, (5, 5), activation='sigmoid', input_shape=(28, 28, 1)),\n",
        "    layers.MaxPooling2D((2, 2)),\n",
        "    layers.Conv2D(32, (3, 3), activation='tanh'),\n",
        "    layers.MaxPooling2D((3, 3)),\n",
        "    layers.Flatten(),\n",
        "    layers.Dense(128, activation='softmax'),\n",
        "    layers.Dense(10)\n",
        "])\n",
        "\n",
        "# Compile the model\n",
        "model.compile(optimizer='SGD',\n",
        "              loss=tf.keras.losses.SparseCategoricalCrossentropy(from_logits=True),\n",
        "              metrics=['accuracy'])\n",
        "\n",
        "# Train the model\n",
        "model.fit(train_images.reshape(-1, 28, 28, 1), train_labels, epochs=5)\n",
        "\n",
        "# Evaluate the model\n",
        "test_loss, test_acc = model.evaluate(test_images.reshape(-1, 28, 28, 1), test_labels, verbose=2)\n",
        "print('\\nTest accuracy:', test_acc)"
      ]
    },
    {
      "cell_type": "markdown",
      "metadata": {
        "id": "nK1xXT5W7cMS"
      },
      "source": [
        "## AUTOMATED TUNING (EXETENDED)"
      ]
    },
    {
      "cell_type": "code",
      "execution_count": null,
      "metadata": {
        "id": "yIeVei_C8sVB"
      },
      "outputs": [],
      "source": [
        "https://www.tensorflow.org/tensorboard/hyperparameter_tuning_with_hparams"
      ]
    }
  ],
  "metadata": {
    "accelerator": "GPU",
    "colab": {
      "gpuType": "T4",
      "provenance": [],
      "toc_visible": true
    },
    "kernelspec": {
      "display_name": "project2",
      "language": "python",
      "name": "python3"
    },
    "language_info": {
      "codemirror_mode": {
        "name": "ipython",
        "version": 3
      },
      "file_extension": ".py",
      "mimetype": "text/x-python",
      "name": "python",
      "nbconvert_exporter": "python",
      "pygments_lexer": "ipython3",
      "version": "3.11.0"
    }
  },
  "nbformat": 4,
  "nbformat_minor": 0
}
