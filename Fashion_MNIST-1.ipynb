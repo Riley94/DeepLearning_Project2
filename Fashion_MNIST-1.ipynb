{
  "cells": [
    {
      "cell_type": "code",
      "execution_count": 2,
      "metadata": {
        "id": "hASLpyncBmvt"
      },
      "outputs": [],
      "source": [
        "!pip install -U portalocker>=2.0.0 optuna-integration"
      ]
    },
    {
      "cell_type": "markdown",
      "metadata": {
        "id": "jum_uBK3SA8Q"
      },
      "source": [
        "## Task - 1\n",
        "\n",
        "### PyTorch FC ANN MNIST Implementation."
      ]
    },
    {
      "cell_type": "code",
      "execution_count": 2,
      "metadata": {
        "id": "1AShoC94SHM6"
      },
      "outputs": [],
      "source": [
        "import torch\n",
        "import torch.nn as nn\n",
        "import torch.optim as optim\n",
        "import torchvision\n",
        "import torchvision.transforms as transforms\n",
        "import matplotlib.pyplot as plt\n",
        "import numpy as np\n",
        "import optuna\n",
        "from tqdm import tqdm\n",
        "from torch.utils.data import random_split, DataLoader\n",
        "from optuna.integration import PyTorchLightningPruningCallback\n",
        "from torch.optim.lr_scheduler import ReduceLROnPlateau"
      ]
    },
    {
      "cell_type": "code",
      "execution_count": 3,
      "metadata": {
        "id": "YDg8ZzyzSKpu"
      },
      "outputs": [],
      "source": [
        "transform = transforms.Compose([\n",
        "    transforms.RandomRotation(10),\n",
        "    transforms.RandomAffine(0, shear=10, scale=(0.8, 1.2)),\n",
        "    transforms.ToTensor(),\n",
        "    transforms.Normalize((0.5,), (0.5,))\n",
        "])\n",
        "\n",
        "batch_size = 64\n",
        "train_val_split = 0.8\n",
        "\n",
        "# This dataset is already \"sorted\" as part of the import method, but no \"validation\" set has been selected in this case\n",
        "# Loading the FashionMNIST dataset\n",
        "train_dataset = torchvision.datasets.MNIST(root='./data', train=True, download=True, transform=transform)\n",
        "test_dataset = torchvision.datasets.MNIST(root='./data', train=False, download=True, transform=transform)\n",
        "\n",
        "# Calculate sizes\n",
        "train_size = int(train_val_split * len(train_dataset))\n",
        "val_size = len(train_dataset) - train_size\n",
        "\n",
        "# Split the dataset\n",
        "train_subset, val_subset = random_split(train_dataset, [train_size, val_size])"
      ]
    },
    {
      "cell_type": "code",
      "execution_count": 55,
      "metadata": {
        "id": "3DRu0tGPS0dy"
      },
      "outputs": [],
      "source": [
        "# Mapping the labels for the MNIST dataset -- later we'll see that this using the \"keras to_categorical\" method as discussed in class\n",
        "labels_map = {\n",
        "    0: \"0\", 1: \"1\", 2: \"2\", 3: \"3\", 4: \"4\",\n",
        "    5: \"5\", 6: \"6\", 7: \"7\", 8: \"8\", 9: \"9\"\n",
        "}"
      ]
    },
    {
      "cell_type": "code",
      "execution_count": 8,
      "metadata": {
        "id": "_z_Aj5LWS_-f"
      },
      "outputs": [],
      "source": [
        "# Here we define the model parameters -- the general strucutre as provided here will produce a fully connected network [28x28] --> 32 --> 16 --> 10\n",
        "class MLP(nn.Module): # MLP stands for \"Multi-Layer Perceptron\"\n",
        "    def __init__(self, layer_sizes, activation_functions): # this initializes the structure of the network\n",
        "        super(MLP, self).__init__()\n",
        "        self.layers = nn.ModuleList()\n",
        "        input_size = 28 * 28 ## 28*28 input features and 32 outputs\n",
        "        for size in layer_sizes:\n",
        "            self.layers.append(nn.Linear(input_size, size))\n",
        "            input_size = size\n",
        "        \n",
        "        self.activation_functions = activation_functions\n",
        "        self.output_layer = nn.Linear(input_size, 10) ## 10 output features because MNIST has 10 target classes\n",
        "\n",
        "    def forward(self, x): # this modifies the elements of the intial structure defined above\n",
        "        x = x.view(-1, 28 * 28)  # Flatten the input\n",
        "        for layer, activation in zip(self.layers, self.activation_functions):\n",
        "            x = activation(layer(x))\n",
        "        x = self.output_layer(x)\n",
        "        return x"
      ]
    },
    {
      "cell_type": "code",
      "execution_count": 59,
      "metadata": {},
      "outputs": [],
      "source": [
        "def objective(trial):\n",
        "    # Suggest hyperparameters\n",
        "    num_layers = trial.suggest_int('num_layers', 2, 5)\n",
        "    layer_sizes = []\n",
        "    activation_functions = []\n",
        "    activations = {\n",
        "        'relu': nn.ReLU(),\n",
        "        'sigmoid': nn.Sigmoid(),\n",
        "        'tanh': nn.Tanh(),\n",
        "        'gelu': nn.GELU(),\n",
        "        'leaky_relu': nn.LeakyReLU(),\n",
        "        'silu': nn.SiLU(),\n",
        "    }\n",
        "\n",
        "    optimizers = {\n",
        "        'SGD': optim.SGD,\n",
        "        'Adam': optim.Adam,\n",
        "        'RMSprop': optim.RMSprop,\n",
        "    }\n",
        "\n",
        "    for i in range(num_layers):\n",
        "        layer_size = trial.suggest_categorical(f'layer_size_{i}', [32, 64, 128, 256, 512])\n",
        "        activation_name = trial.suggest_categorical(f'activation_{i}', ['relu', 'sigmoid', 'tanh', 'gelu', 'leaky_relu', 'silu'])\n",
        "        layer_sizes.append(layer_size)\n",
        "        activation_functions.append(activations[activation_name])\n",
        "\n",
        "    # Suggest optimizer\n",
        "    optimizer_name = trial.suggest_categorical('optimizer', ['SGD', 'Adam', 'RMSprop'])\n",
        "\n",
        "    # Suggest learning rate\n",
        "    lr = trial.suggest_float('lr', 1e-5, 1e-1, log=True)\n",
        "\n",
        "    # Suggest weight decay (L2 regularization)\n",
        "    weight_decay = trial.suggest_float('weight_decay', 1e-6, 1e-2, log=True)\n",
        "\n",
        "    # Suggest batch size\n",
        "    batch_size = trial.suggest_categorical('batch_size', [32, 64, 128])\n",
        "\n",
        "    # Initialize the model\n",
        "    model = MLP(layer_sizes, activation_functions)\n",
        "    criterion = nn.CrossEntropyLoss()\n",
        "\n",
        "    # Create optimizer\n",
        "    optimizer_class = optimizers[optimizer_name]\n",
        "    if optimizer_name == 'SGD':\n",
        "        # Suggest momentum for SGD\n",
        "        momentum = trial.suggest_float('momentum', 0.0, 0.9)\n",
        "        optimizer = optimizer_class(model.parameters(), lr=lr, momentum=momentum, weight_decay=weight_decay)\n",
        "    else:\n",
        "        optimizer = optimizer_class(model.parameters(), lr=lr, weight_decay=weight_decay)\n",
        "\n",
        "    # Data loaders with suggested batch size\n",
        "    train_loader = DataLoader(train_subset, batch_size=batch_size, shuffle=True)\n",
        "    val_loader = DataLoader(val_subset, batch_size=batch_size, shuffle=False)\n",
        "\n",
        "    # Training loop\n",
        "    num_epochs = 20\n",
        "    for epoch in range(num_epochs):\n",
        "        model.train()\n",
        "        for images, labels in train_loader:\n",
        "            optimizer.zero_grad()\n",
        "            outputs = model(images)\n",
        "            loss = criterion(outputs, labels)\n",
        "            loss.backward()\n",
        "            optimizer.step()\n",
        "\n",
        "        # Validation at the end of each epoch\n",
        "        model.eval()\n",
        "        correct = 0\n",
        "        total = 0\n",
        "        val_loss = 0.0\n",
        "        with torch.no_grad():\n",
        "            for images, labels in val_loader:\n",
        "                outputs = model(images)\n",
        "                loss = criterion(outputs, labels)\n",
        "                val_loss += loss.item()\n",
        "                _, predicted = torch.max(outputs.data, 1)\n",
        "                total += labels.size(0)\n",
        "                correct += (predicted == labels).sum().item()\n",
        "        accuracy = correct / total\n",
        "\n",
        "        # Report intermediate objective value to the trial\n",
        "        trial.report(accuracy, epoch)\n",
        "\n",
        "        # Handle pruning based on the intermediate value\n",
        "        if trial.should_prune():\n",
        "            raise optuna.exceptions.TrialPruned()\n",
        "\n",
        "    return accuracy"
      ]
    },
    {
      "cell_type": "code",
      "execution_count": 58,
      "metadata": {},
      "outputs": [
        {
          "name": "stderr",
          "output_type": "stream",
          "text": [
            "[I 2024-10-18 15:24:59,009] A new study created in memory with name: no-name-77e2dc11-4de9-406a-8f9b-872de8135ce5\n",
            "[I 2024-10-18 15:27:12,745] Trial 0 finished with value: 0.8758333333333334 and parameters: {'num_layers': 3, 'layer_size_0': 32, 'activation_0': 'sigmoid', 'layer_size_1': 128, 'activation_1': 'tanh', 'layer_size_2': 256, 'activation_2': 'relu', 'optimizer': 'Adam', 'lr': 0.005828306766593578, 'weight_decay': 2.86220611377062e-05, 'batch_size': 64}. Best is trial 0 with value: 0.8758333333333334.\n",
            "[I 2024-10-18 15:29:29,962] Trial 1 finished with value: 0.8339166666666666 and parameters: {'num_layers': 4, 'layer_size_0': 256, 'activation_0': 'tanh', 'layer_size_1': 32, 'activation_1': 'sigmoid', 'layer_size_2': 64, 'activation_2': 'sigmoid', 'layer_size_3': 256, 'activation_3': 'tanh', 'optimizer': 'Adam', 'lr': 3.7962418963619765e-05, 'weight_decay': 0.0006165556740982419, 'batch_size': 128}. Best is trial 0 with value: 0.8758333333333334.\n",
            "[I 2024-10-18 15:31:37,998] Trial 2 finished with value: 0.78675 and parameters: {'num_layers': 3, 'layer_size_0': 32, 'activation_0': 'tanh', 'layer_size_1': 32, 'activation_1': 'sigmoid', 'layer_size_2': 64, 'activation_2': 'sigmoid', 'optimizer': 'Adam', 'lr': 0.01403345370659365, 'weight_decay': 9.813295615957774e-06, 'batch_size': 128}. Best is trial 0 with value: 0.8758333333333334.\n",
            "[I 2024-10-18 15:33:46,140] Trial 3 finished with value: 0.9181666666666667 and parameters: {'num_layers': 3, 'layer_size_0': 128, 'activation_0': 'sigmoid', 'layer_size_1': 32, 'activation_1': 'sigmoid', 'layer_size_2': 128, 'activation_2': 'tanh', 'optimizer': 'RMSprop', 'lr': 0.0003009394172958532, 'weight_decay': 1.2217852615248626e-06, 'batch_size': 128}. Best is trial 3 with value: 0.9181666666666667.\n",
            "C:\\Users\\rgbmr\\AppData\\Local\\Temp\\ipykernel_15316\\446451948.py:46: FutureWarning: suggest_uniform has been deprecated in v3.0.0. This feature will be removed in v6.0.0. See https://github.com/optuna/optuna/releases/tag/v3.0.0. Use suggest_float instead.\n",
            "  momentum = trial.suggest_uniform('momentum', 0.0, 0.9)\n",
            "[I 2024-10-18 15:35:52,466] Trial 4 finished with value: 0.11308333333333333 and parameters: {'num_layers': 3, 'layer_size_0': 32, 'activation_0': 'sigmoid', 'layer_size_1': 256, 'activation_1': 'relu', 'layer_size_2': 32, 'activation_2': 'tanh', 'optimizer': 'SGD', 'lr': 5.756424444083245e-05, 'weight_decay': 0.000833115047265065, 'batch_size': 128, 'momentum': 0.20362229518394592}. Best is trial 3 with value: 0.9181666666666667.\n",
            "[I 2024-10-18 15:38:11,991] Trial 5 finished with value: 0.9576666666666667 and parameters: {'num_layers': 2, 'layer_size_0': 256, 'activation_0': 'tanh', 'layer_size_1': 256, 'activation_1': 'sigmoid', 'optimizer': 'SGD', 'lr': 0.02218157619864022, 'weight_decay': 4.0637748326707205e-05, 'batch_size': 32, 'momentum': 0.7047380315057816}. Best is trial 5 with value: 0.9576666666666667.\n",
            "[I 2024-10-18 15:38:25,672] Trial 6 pruned. \n",
            "[I 2024-10-18 15:38:38,100] Trial 7 pruned. \n",
            "[I 2024-10-18 15:38:52,349] Trial 8 pruned. \n",
            "[I 2024-10-18 15:41:14,209] Trial 9 finished with value: 0.9381666666666667 and parameters: {'num_layers': 3, 'layer_size_0': 128, 'activation_0': 'tanh', 'layer_size_1': 256, 'activation_1': 'relu', 'layer_size_2': 64, 'activation_2': 'tanh', 'optimizer': 'RMSprop', 'lr': 6.615735744146115e-05, 'weight_decay': 0.0014659702307434827, 'batch_size': 32}. Best is trial 5 with value: 0.9576666666666667.\n",
            "[I 2024-10-18 15:41:28,207] Trial 10 pruned. \n",
            "[I 2024-10-18 15:43:47,248] Trial 11 finished with value: 0.87475 and parameters: {'num_layers': 2, 'layer_size_0': 128, 'activation_0': 'tanh', 'layer_size_1': 256, 'activation_1': 'relu', 'optimizer': 'RMSprop', 'lr': 0.001011212411993593, 'weight_decay': 0.005363181096756852, 'batch_size': 32}. Best is trial 5 with value: 0.9576666666666667.\n",
            "[I 2024-10-18 15:44:01,064] Trial 12 pruned. \n",
            "[I 2024-10-18 15:44:15,009] Trial 13 pruned. \n",
            "[I 2024-10-18 15:46:36,202] Trial 14 finished with value: 0.9431666666666667 and parameters: {'num_layers': 3, 'layer_size_0': 128, 'activation_0': 'relu', 'layer_size_1': 64, 'activation_1': 'tanh', 'layer_size_2': 64, 'activation_2': 'relu', 'optimizer': 'RMSprop', 'lr': 0.0017313657761020551, 'weight_decay': 2.863139425557669e-06, 'batch_size': 32}. Best is trial 5 with value: 0.9576666666666667.\n",
            "[I 2024-10-18 15:48:50,322] Trial 15 finished with value: 0.9509166666666666 and parameters: {'num_layers': 2, 'layer_size_0': 128, 'activation_0': 'relu', 'layer_size_1': 64, 'activation_1': 'tanh', 'optimizer': 'SGD', 'lr': 0.018394709008852855, 'weight_decay': 1.580400670777463e-06, 'batch_size': 32, 'momentum': 0.532818148348115}. Best is trial 5 with value: 0.9576666666666667.\n",
            "[I 2024-10-18 15:51:07,859] Trial 16 finished with value: 0.9621666666666666 and parameters: {'num_layers': 2, 'layer_size_0': 256, 'activation_0': 'relu', 'layer_size_1': 64, 'activation_1': 'tanh', 'optimizer': 'SGD', 'lr': 0.025472423173236586, 'weight_decay': 5.754345462080459e-06, 'batch_size': 32, 'momentum': 0.5413575236280163}. Best is trial 16 with value: 0.9621666666666666.\n",
            "[I 2024-10-18 15:53:19,209] Trial 17 finished with value: 0.95825 and parameters: {'num_layers': 2, 'layer_size_0': 256, 'activation_0': 'relu', 'layer_size_1': 64, 'activation_1': 'tanh', 'optimizer': 'SGD', 'lr': 0.029067417481734588, 'weight_decay': 6.010058714623543e-06, 'batch_size': 64, 'momentum': 0.537196349224073}. Best is trial 16 with value: 0.9621666666666666.\n",
            "[I 2024-10-18 15:55:32,981] Trial 18 finished with value: 0.9585 and parameters: {'num_layers': 2, 'layer_size_0': 256, 'activation_0': 'relu', 'layer_size_1': 64, 'activation_1': 'tanh', 'optimizer': 'SGD', 'lr': 0.03847472474657349, 'weight_decay': 6.962712539897688e-06, 'batch_size': 64, 'momentum': 0.4293946759094864}. Best is trial 16 with value: 0.9621666666666666.\n",
            "[I 2024-10-18 15:55:46,457] Trial 19 pruned. \n"
          ]
        },
        {
          "name": "stdout",
          "output_type": "stream",
          "text": [
            "Best hyperparameters: {'num_layers': 2, 'layer_size_0': 256, 'activation_0': 'relu', 'layer_size_1': 64, 'activation_1': 'tanh', 'optimizer': 'SGD', 'lr': 0.025472423173236586, 'weight_decay': 5.754345462080459e-06, 'batch_size': 32, 'momentum': 0.5413575236280163}\n"
          ]
        }
      ],
      "source": [
        "pruner = optuna.pruners.MedianPruner()\n",
        "study = optuna.create_study(direction='maximize', pruner=pruner)\n",
        "study.optimize(objective, n_trials=20)\n",
        "print('Best hyperparameters:', study.best_params)"
      ]
    },
    {
      "cell_type": "code",
      "execution_count": 59,
      "metadata": {},
      "outputs": [
        {
          "data": {
            "application/vnd.plotly.v1+json": {
              "config": {
                "plotlyServerURL": "https://plot.ly"
              },
              "data": [
                {
                  "cliponaxis": false,
                  "hovertemplate": [
                    "num_layers (IntDistribution): 0.0021900233111182585<extra></extra>",
                    "layer_size_1 (CategoricalDistribution): 0.03949652507481722<extra></extra>",
                    "activation_1 (CategoricalDistribution): 0.06460959774457153<extra></extra>",
                    "weight_decay (FloatDistribution): 0.06714224011081045<extra></extra>",
                    "batch_size (CategoricalDistribution): 0.07526226621226532<extra></extra>",
                    "activation_0 (CategoricalDistribution): 0.0842739337007564<extra></extra>",
                    "lr (FloatDistribution): 0.10437372947085138<extra></extra>",
                    "layer_size_0 (CategoricalDistribution): 0.196549464864548<extra></extra>",
                    "optimizer (CategoricalDistribution): 0.3661022195102614<extra></extra>"
                  ],
                  "name": "Objective Value",
                  "orientation": "h",
                  "text": [
                    "<0.01",
                    "0.04",
                    "0.06",
                    "0.07",
                    "0.08",
                    "0.08",
                    "0.10",
                    "0.20",
                    "0.37"
                  ],
                  "textposition": "outside",
                  "type": "bar",
                  "x": [
                    0.0021900233111182585,
                    0.03949652507481722,
                    0.06460959774457153,
                    0.06714224011081045,
                    0.07526226621226532,
                    0.0842739337007564,
                    0.10437372947085138,
                    0.196549464864548,
                    0.3661022195102614
                  ],
                  "y": [
                    "num_layers",
                    "layer_size_1",
                    "activation_1",
                    "weight_decay",
                    "batch_size",
                    "activation_0",
                    "lr",
                    "layer_size_0",
                    "optimizer"
                  ]
                }
              ],
              "layout": {
                "template": {
                  "data": {
                    "bar": [
                      {
                        "error_x": {
                          "color": "#2a3f5f"
                        },
                        "error_y": {
                          "color": "#2a3f5f"
                        },
                        "marker": {
                          "line": {
                            "color": "#E5ECF6",
                            "width": 0.5
                          },
                          "pattern": {
                            "fillmode": "overlay",
                            "size": 10,
                            "solidity": 0.2
                          }
                        },
                        "type": "bar"
                      }
                    ],
                    "barpolar": [
                      {
                        "marker": {
                          "line": {
                            "color": "#E5ECF6",
                            "width": 0.5
                          },
                          "pattern": {
                            "fillmode": "overlay",
                            "size": 10,
                            "solidity": 0.2
                          }
                        },
                        "type": "barpolar"
                      }
                    ],
                    "carpet": [
                      {
                        "aaxis": {
                          "endlinecolor": "#2a3f5f",
                          "gridcolor": "white",
                          "linecolor": "white",
                          "minorgridcolor": "white",
                          "startlinecolor": "#2a3f5f"
                        },
                        "baxis": {
                          "endlinecolor": "#2a3f5f",
                          "gridcolor": "white",
                          "linecolor": "white",
                          "minorgridcolor": "white",
                          "startlinecolor": "#2a3f5f"
                        },
                        "type": "carpet"
                      }
                    ],
                    "choropleth": [
                      {
                        "colorbar": {
                          "outlinewidth": 0,
                          "ticks": ""
                        },
                        "type": "choropleth"
                      }
                    ],
                    "contour": [
                      {
                        "colorbar": {
                          "outlinewidth": 0,
                          "ticks": ""
                        },
                        "colorscale": [
                          [
                            0,
                            "#0d0887"
                          ],
                          [
                            0.1111111111111111,
                            "#46039f"
                          ],
                          [
                            0.2222222222222222,
                            "#7201a8"
                          ],
                          [
                            0.3333333333333333,
                            "#9c179e"
                          ],
                          [
                            0.4444444444444444,
                            "#bd3786"
                          ],
                          [
                            0.5555555555555556,
                            "#d8576b"
                          ],
                          [
                            0.6666666666666666,
                            "#ed7953"
                          ],
                          [
                            0.7777777777777778,
                            "#fb9f3a"
                          ],
                          [
                            0.8888888888888888,
                            "#fdca26"
                          ],
                          [
                            1,
                            "#f0f921"
                          ]
                        ],
                        "type": "contour"
                      }
                    ],
                    "contourcarpet": [
                      {
                        "colorbar": {
                          "outlinewidth": 0,
                          "ticks": ""
                        },
                        "type": "contourcarpet"
                      }
                    ],
                    "heatmap": [
                      {
                        "colorbar": {
                          "outlinewidth": 0,
                          "ticks": ""
                        },
                        "colorscale": [
                          [
                            0,
                            "#0d0887"
                          ],
                          [
                            0.1111111111111111,
                            "#46039f"
                          ],
                          [
                            0.2222222222222222,
                            "#7201a8"
                          ],
                          [
                            0.3333333333333333,
                            "#9c179e"
                          ],
                          [
                            0.4444444444444444,
                            "#bd3786"
                          ],
                          [
                            0.5555555555555556,
                            "#d8576b"
                          ],
                          [
                            0.6666666666666666,
                            "#ed7953"
                          ],
                          [
                            0.7777777777777778,
                            "#fb9f3a"
                          ],
                          [
                            0.8888888888888888,
                            "#fdca26"
                          ],
                          [
                            1,
                            "#f0f921"
                          ]
                        ],
                        "type": "heatmap"
                      }
                    ],
                    "heatmapgl": [
                      {
                        "colorbar": {
                          "outlinewidth": 0,
                          "ticks": ""
                        },
                        "colorscale": [
                          [
                            0,
                            "#0d0887"
                          ],
                          [
                            0.1111111111111111,
                            "#46039f"
                          ],
                          [
                            0.2222222222222222,
                            "#7201a8"
                          ],
                          [
                            0.3333333333333333,
                            "#9c179e"
                          ],
                          [
                            0.4444444444444444,
                            "#bd3786"
                          ],
                          [
                            0.5555555555555556,
                            "#d8576b"
                          ],
                          [
                            0.6666666666666666,
                            "#ed7953"
                          ],
                          [
                            0.7777777777777778,
                            "#fb9f3a"
                          ],
                          [
                            0.8888888888888888,
                            "#fdca26"
                          ],
                          [
                            1,
                            "#f0f921"
                          ]
                        ],
                        "type": "heatmapgl"
                      }
                    ],
                    "histogram": [
                      {
                        "marker": {
                          "pattern": {
                            "fillmode": "overlay",
                            "size": 10,
                            "solidity": 0.2
                          }
                        },
                        "type": "histogram"
                      }
                    ],
                    "histogram2d": [
                      {
                        "colorbar": {
                          "outlinewidth": 0,
                          "ticks": ""
                        },
                        "colorscale": [
                          [
                            0,
                            "#0d0887"
                          ],
                          [
                            0.1111111111111111,
                            "#46039f"
                          ],
                          [
                            0.2222222222222222,
                            "#7201a8"
                          ],
                          [
                            0.3333333333333333,
                            "#9c179e"
                          ],
                          [
                            0.4444444444444444,
                            "#bd3786"
                          ],
                          [
                            0.5555555555555556,
                            "#d8576b"
                          ],
                          [
                            0.6666666666666666,
                            "#ed7953"
                          ],
                          [
                            0.7777777777777778,
                            "#fb9f3a"
                          ],
                          [
                            0.8888888888888888,
                            "#fdca26"
                          ],
                          [
                            1,
                            "#f0f921"
                          ]
                        ],
                        "type": "histogram2d"
                      }
                    ],
                    "histogram2dcontour": [
                      {
                        "colorbar": {
                          "outlinewidth": 0,
                          "ticks": ""
                        },
                        "colorscale": [
                          [
                            0,
                            "#0d0887"
                          ],
                          [
                            0.1111111111111111,
                            "#46039f"
                          ],
                          [
                            0.2222222222222222,
                            "#7201a8"
                          ],
                          [
                            0.3333333333333333,
                            "#9c179e"
                          ],
                          [
                            0.4444444444444444,
                            "#bd3786"
                          ],
                          [
                            0.5555555555555556,
                            "#d8576b"
                          ],
                          [
                            0.6666666666666666,
                            "#ed7953"
                          ],
                          [
                            0.7777777777777778,
                            "#fb9f3a"
                          ],
                          [
                            0.8888888888888888,
                            "#fdca26"
                          ],
                          [
                            1,
                            "#f0f921"
                          ]
                        ],
                        "type": "histogram2dcontour"
                      }
                    ],
                    "mesh3d": [
                      {
                        "colorbar": {
                          "outlinewidth": 0,
                          "ticks": ""
                        },
                        "type": "mesh3d"
                      }
                    ],
                    "parcoords": [
                      {
                        "line": {
                          "colorbar": {
                            "outlinewidth": 0,
                            "ticks": ""
                          }
                        },
                        "type": "parcoords"
                      }
                    ],
                    "pie": [
                      {
                        "automargin": true,
                        "type": "pie"
                      }
                    ],
                    "scatter": [
                      {
                        "fillpattern": {
                          "fillmode": "overlay",
                          "size": 10,
                          "solidity": 0.2
                        },
                        "type": "scatter"
                      }
                    ],
                    "scatter3d": [
                      {
                        "line": {
                          "colorbar": {
                            "outlinewidth": 0,
                            "ticks": ""
                          }
                        },
                        "marker": {
                          "colorbar": {
                            "outlinewidth": 0,
                            "ticks": ""
                          }
                        },
                        "type": "scatter3d"
                      }
                    ],
                    "scattercarpet": [
                      {
                        "marker": {
                          "colorbar": {
                            "outlinewidth": 0,
                            "ticks": ""
                          }
                        },
                        "type": "scattercarpet"
                      }
                    ],
                    "scattergeo": [
                      {
                        "marker": {
                          "colorbar": {
                            "outlinewidth": 0,
                            "ticks": ""
                          }
                        },
                        "type": "scattergeo"
                      }
                    ],
                    "scattergl": [
                      {
                        "marker": {
                          "colorbar": {
                            "outlinewidth": 0,
                            "ticks": ""
                          }
                        },
                        "type": "scattergl"
                      }
                    ],
                    "scattermapbox": [
                      {
                        "marker": {
                          "colorbar": {
                            "outlinewidth": 0,
                            "ticks": ""
                          }
                        },
                        "type": "scattermapbox"
                      }
                    ],
                    "scatterpolar": [
                      {
                        "marker": {
                          "colorbar": {
                            "outlinewidth": 0,
                            "ticks": ""
                          }
                        },
                        "type": "scatterpolar"
                      }
                    ],
                    "scatterpolargl": [
                      {
                        "marker": {
                          "colorbar": {
                            "outlinewidth": 0,
                            "ticks": ""
                          }
                        },
                        "type": "scatterpolargl"
                      }
                    ],
                    "scatterternary": [
                      {
                        "marker": {
                          "colorbar": {
                            "outlinewidth": 0,
                            "ticks": ""
                          }
                        },
                        "type": "scatterternary"
                      }
                    ],
                    "surface": [
                      {
                        "colorbar": {
                          "outlinewidth": 0,
                          "ticks": ""
                        },
                        "colorscale": [
                          [
                            0,
                            "#0d0887"
                          ],
                          [
                            0.1111111111111111,
                            "#46039f"
                          ],
                          [
                            0.2222222222222222,
                            "#7201a8"
                          ],
                          [
                            0.3333333333333333,
                            "#9c179e"
                          ],
                          [
                            0.4444444444444444,
                            "#bd3786"
                          ],
                          [
                            0.5555555555555556,
                            "#d8576b"
                          ],
                          [
                            0.6666666666666666,
                            "#ed7953"
                          ],
                          [
                            0.7777777777777778,
                            "#fb9f3a"
                          ],
                          [
                            0.8888888888888888,
                            "#fdca26"
                          ],
                          [
                            1,
                            "#f0f921"
                          ]
                        ],
                        "type": "surface"
                      }
                    ],
                    "table": [
                      {
                        "cells": {
                          "fill": {
                            "color": "#EBF0F8"
                          },
                          "line": {
                            "color": "white"
                          }
                        },
                        "header": {
                          "fill": {
                            "color": "#C8D4E3"
                          },
                          "line": {
                            "color": "white"
                          }
                        },
                        "type": "table"
                      }
                    ]
                  },
                  "layout": {
                    "annotationdefaults": {
                      "arrowcolor": "#2a3f5f",
                      "arrowhead": 0,
                      "arrowwidth": 1
                    },
                    "autotypenumbers": "strict",
                    "coloraxis": {
                      "colorbar": {
                        "outlinewidth": 0,
                        "ticks": ""
                      }
                    },
                    "colorscale": {
                      "diverging": [
                        [
                          0,
                          "#8e0152"
                        ],
                        [
                          0.1,
                          "#c51b7d"
                        ],
                        [
                          0.2,
                          "#de77ae"
                        ],
                        [
                          0.3,
                          "#f1b6da"
                        ],
                        [
                          0.4,
                          "#fde0ef"
                        ],
                        [
                          0.5,
                          "#f7f7f7"
                        ],
                        [
                          0.6,
                          "#e6f5d0"
                        ],
                        [
                          0.7,
                          "#b8e186"
                        ],
                        [
                          0.8,
                          "#7fbc41"
                        ],
                        [
                          0.9,
                          "#4d9221"
                        ],
                        [
                          1,
                          "#276419"
                        ]
                      ],
                      "sequential": [
                        [
                          0,
                          "#0d0887"
                        ],
                        [
                          0.1111111111111111,
                          "#46039f"
                        ],
                        [
                          0.2222222222222222,
                          "#7201a8"
                        ],
                        [
                          0.3333333333333333,
                          "#9c179e"
                        ],
                        [
                          0.4444444444444444,
                          "#bd3786"
                        ],
                        [
                          0.5555555555555556,
                          "#d8576b"
                        ],
                        [
                          0.6666666666666666,
                          "#ed7953"
                        ],
                        [
                          0.7777777777777778,
                          "#fb9f3a"
                        ],
                        [
                          0.8888888888888888,
                          "#fdca26"
                        ],
                        [
                          1,
                          "#f0f921"
                        ]
                      ],
                      "sequentialminus": [
                        [
                          0,
                          "#0d0887"
                        ],
                        [
                          0.1111111111111111,
                          "#46039f"
                        ],
                        [
                          0.2222222222222222,
                          "#7201a8"
                        ],
                        [
                          0.3333333333333333,
                          "#9c179e"
                        ],
                        [
                          0.4444444444444444,
                          "#bd3786"
                        ],
                        [
                          0.5555555555555556,
                          "#d8576b"
                        ],
                        [
                          0.6666666666666666,
                          "#ed7953"
                        ],
                        [
                          0.7777777777777778,
                          "#fb9f3a"
                        ],
                        [
                          0.8888888888888888,
                          "#fdca26"
                        ],
                        [
                          1,
                          "#f0f921"
                        ]
                      ]
                    },
                    "colorway": [
                      "#636efa",
                      "#EF553B",
                      "#00cc96",
                      "#ab63fa",
                      "#FFA15A",
                      "#19d3f3",
                      "#FF6692",
                      "#B6E880",
                      "#FF97FF",
                      "#FECB52"
                    ],
                    "font": {
                      "color": "#2a3f5f"
                    },
                    "geo": {
                      "bgcolor": "white",
                      "lakecolor": "white",
                      "landcolor": "#E5ECF6",
                      "showlakes": true,
                      "showland": true,
                      "subunitcolor": "white"
                    },
                    "hoverlabel": {
                      "align": "left"
                    },
                    "hovermode": "closest",
                    "mapbox": {
                      "style": "light"
                    },
                    "paper_bgcolor": "white",
                    "plot_bgcolor": "#E5ECF6",
                    "polar": {
                      "angularaxis": {
                        "gridcolor": "white",
                        "linecolor": "white",
                        "ticks": ""
                      },
                      "bgcolor": "#E5ECF6",
                      "radialaxis": {
                        "gridcolor": "white",
                        "linecolor": "white",
                        "ticks": ""
                      }
                    },
                    "scene": {
                      "xaxis": {
                        "backgroundcolor": "#E5ECF6",
                        "gridcolor": "white",
                        "gridwidth": 2,
                        "linecolor": "white",
                        "showbackground": true,
                        "ticks": "",
                        "zerolinecolor": "white"
                      },
                      "yaxis": {
                        "backgroundcolor": "#E5ECF6",
                        "gridcolor": "white",
                        "gridwidth": 2,
                        "linecolor": "white",
                        "showbackground": true,
                        "ticks": "",
                        "zerolinecolor": "white"
                      },
                      "zaxis": {
                        "backgroundcolor": "#E5ECF6",
                        "gridcolor": "white",
                        "gridwidth": 2,
                        "linecolor": "white",
                        "showbackground": true,
                        "ticks": "",
                        "zerolinecolor": "white"
                      }
                    },
                    "shapedefaults": {
                      "line": {
                        "color": "#2a3f5f"
                      }
                    },
                    "ternary": {
                      "aaxis": {
                        "gridcolor": "white",
                        "linecolor": "white",
                        "ticks": ""
                      },
                      "baxis": {
                        "gridcolor": "white",
                        "linecolor": "white",
                        "ticks": ""
                      },
                      "bgcolor": "#E5ECF6",
                      "caxis": {
                        "gridcolor": "white",
                        "linecolor": "white",
                        "ticks": ""
                      }
                    },
                    "title": {
                      "x": 0.05
                    },
                    "xaxis": {
                      "automargin": true,
                      "gridcolor": "white",
                      "linecolor": "white",
                      "ticks": "",
                      "title": {
                        "standoff": 15
                      },
                      "zerolinecolor": "white",
                      "zerolinewidth": 2
                    },
                    "yaxis": {
                      "automargin": true,
                      "gridcolor": "white",
                      "linecolor": "white",
                      "ticks": "",
                      "title": {
                        "standoff": 15
                      },
                      "zerolinecolor": "white",
                      "zerolinewidth": 2
                    }
                  }
                },
                "title": {
                  "text": "Hyperparameter Importances"
                },
                "xaxis": {
                  "title": {
                    "text": "Hyperparameter Importance"
                  }
                },
                "yaxis": {
                  "title": {
                    "text": "Hyperparameter"
                  }
                }
              }
            }
          },
          "metadata": {},
          "output_type": "display_data"
        }
      ],
      "source": [
        "optuna.visualization.plot_param_importances(study)"
      ]
    },
    {
      "cell_type": "code",
      "execution_count": 63,
      "metadata": {
        "colab": {
          "base_uri": "https://localhost:8080/"
        },
        "id": "OfpEh_TyTLBa",
        "outputId": "bd6acb53-37dd-446b-a37b-3e856476f51b"
      },
      "outputs": [
        {
          "name": "stdout",
          "output_type": "stream",
          "text": [
            "Epoch 1, Batch 100, Loss: 1.5542455327510833\n",
            "Epoch 1, Batch 200, Loss: 0.783762845993042\n",
            "Epoch 1, Batch 300, Loss: 0.6357443898916244\n",
            "Epoch 1, Batch 400, Loss: 0.5596389240026474\n",
            "Epoch 1, Batch 500, Loss: 0.5117665053904057\n",
            "Epoch 1, Batch 600, Loss: 0.5017480745911598\n",
            "Epoch 1, Batch 700, Loss: 0.45975630193948747\n",
            "Epoch 1, Batch 800, Loss: 0.4378963331878185\n",
            "Epoch 1, Batch 900, Loss: 0.43917261466383933\n",
            "Epoch 1, Batch 1000, Loss: 0.3881101483851671\n",
            "Epoch 1, Batch 1100, Loss: 0.36582449220120905\n",
            "Epoch 1, Batch 1200, Loss: 0.35698728293180465\n",
            "Epoch 1, Batch 1300, Loss: 0.36947081111371516\n",
            "Epoch 1, Batch 1400, Loss: 0.32349820967763665\n",
            "Epoch 1, Batch 1500, Loss: 0.32174250066280363\n",
            "Validation Loss: 0.3238230610589186\n",
            "Epoch 2, Batch 100, Loss: 0.30769499465823175\n",
            "Epoch 2, Batch 200, Loss: 0.27163708183914426\n",
            "Epoch 2, Batch 300, Loss: 0.3026940692216158\n",
            "Epoch 2, Batch 400, Loss: 0.3017319418117404\n",
            "Epoch 2, Batch 500, Loss: 0.2477607125788927\n",
            "Epoch 2, Batch 600, Loss: 0.27852833185344933\n",
            "Epoch 2, Batch 700, Loss: 0.2198875280097127\n",
            "Epoch 2, Batch 800, Loss: 0.2623356719687581\n",
            "Epoch 2, Batch 900, Loss: 0.23845325414091348\n",
            "Epoch 2, Batch 1000, Loss: 0.24071056758984924\n",
            "Epoch 2, Batch 1100, Loss: 0.23897252507507802\n",
            "Epoch 2, Batch 1200, Loss: 0.22118151519447565\n",
            "Epoch 2, Batch 1300, Loss: 0.2249906100332737\n",
            "Epoch 2, Batch 1400, Loss: 0.23305187448859216\n",
            "Epoch 2, Batch 1500, Loss: 0.2272943340241909\n",
            "Validation Loss: 0.24831263994177183\n",
            "Epoch 3, Batch 100, Loss: 0.21719450153410436\n",
            "Epoch 3, Batch 200, Loss: 0.22042605563998222\n",
            "Epoch 3, Batch 300, Loss: 0.20406376022845507\n",
            "Epoch 3, Batch 400, Loss: 0.2365279196202755\n",
            "Epoch 3, Batch 500, Loss: 0.18592458982020615\n",
            "Epoch 3, Batch 600, Loss: 0.20589625684544444\n",
            "Epoch 3, Batch 700, Loss: 0.19734750228002668\n",
            "Epoch 3, Batch 800, Loss: 0.182431725487113\n",
            "Epoch 3, Batch 900, Loss: 0.19037593979388476\n",
            "Epoch 3, Batch 1000, Loss: 0.17588848538696766\n",
            "Epoch 3, Batch 1100, Loss: 0.1855808017961681\n",
            "Epoch 3, Batch 1200, Loss: 0.20179666597396134\n",
            "Epoch 3, Batch 1300, Loss: 0.18239224335178733\n",
            "Epoch 3, Batch 1400, Loss: 0.1774083660915494\n",
            "Epoch 3, Batch 1500, Loss: 0.19602073337882758\n",
            "Validation Loss: 0.21470286592841148\n",
            "Epoch 4, Batch 100, Loss: 0.1508905435912311\n",
            "Epoch 4, Batch 200, Loss: 0.16001374794170262\n",
            "Epoch 4, Batch 300, Loss: 0.18043657520785927\n",
            "Epoch 4, Batch 400, Loss: 0.1702880886476487\n",
            "Epoch 4, Batch 500, Loss: 0.16527589445002377\n",
            "Epoch 4, Batch 600, Loss: 0.16710871359333396\n",
            "Epoch 4, Batch 700, Loss: 0.16308973494917153\n",
            "Epoch 4, Batch 800, Loss: 0.17095105724409224\n",
            "Epoch 4, Batch 900, Loss: 0.16897749157622458\n",
            "Epoch 4, Batch 1000, Loss: 0.17534100092947483\n",
            "Epoch 4, Batch 1100, Loss: 0.16466532191261649\n",
            "Epoch 4, Batch 1200, Loss: 0.17115237320773302\n",
            "Epoch 4, Batch 1300, Loss: 0.19281513607129455\n",
            "Epoch 4, Batch 1400, Loss: 0.15975234127603472\n",
            "Epoch 4, Batch 1500, Loss: 0.16461114337667823\n",
            "Validation Loss: 0.18406848854074875\n",
            "Epoch 5, Batch 100, Loss: 0.1503028143569827\n",
            "Epoch 5, Batch 200, Loss: 0.14819832218810916\n",
            "Epoch 5, Batch 300, Loss: 0.17504834643565118\n",
            "Epoch 5, Batch 400, Loss: 0.1442249022424221\n",
            "Epoch 5, Batch 500, Loss: 0.15064572890289127\n",
            "Epoch 5, Batch 600, Loss: 0.16297547235153614\n",
            "Epoch 5, Batch 700, Loss: 0.16132896322757007\n",
            "Epoch 5, Batch 800, Loss: 0.13868867933750154\n",
            "Epoch 5, Batch 900, Loss: 0.12506284086033703\n",
            "Epoch 5, Batch 1000, Loss: 0.1448497446998954\n",
            "Epoch 5, Batch 1100, Loss: 0.13251408542972057\n",
            "Epoch 5, Batch 1200, Loss: 0.16224146051332355\n",
            "Epoch 5, Batch 1300, Loss: 0.1303782325051725\n",
            "Epoch 5, Batch 1400, Loss: 0.14211648089811205\n",
            "Epoch 5, Batch 1500, Loss: 0.17148414905183018\n",
            "Validation Loss: 0.16495980198929708\n",
            "Epoch 6, Batch 100, Loss: 0.12289691025391221\n",
            "Epoch 6, Batch 200, Loss: 0.1545268600434065\n",
            "Epoch 6, Batch 300, Loss: 0.14008454959839584\n",
            "Epoch 6, Batch 400, Loss: 0.1347313446737826\n",
            "Epoch 6, Batch 500, Loss: 0.123639678042382\n",
            "Epoch 6, Batch 600, Loss: 0.13449049612507225\n",
            "Epoch 6, Batch 700, Loss: 0.13789926032535732\n",
            "Epoch 6, Batch 800, Loss: 0.13240843501873314\n",
            "Epoch 6, Batch 900, Loss: 0.1474347008857876\n",
            "Epoch 6, Batch 1000, Loss: 0.13791013211011888\n",
            "Epoch 6, Batch 1100, Loss: 0.13423268721438944\n",
            "Epoch 6, Batch 1200, Loss: 0.10767260852269828\n",
            "Epoch 6, Batch 1300, Loss: 0.13435736287385225\n",
            "Epoch 6, Batch 1400, Loss: 0.14461864923126996\n",
            "Epoch 6, Batch 1500, Loss: 0.11913767439313233\n",
            "Validation Loss: 0.14453691991666953\n",
            "Epoch 7, Batch 100, Loss: 0.14066227521747351\n",
            "Epoch 7, Batch 200, Loss: 0.13186896853148938\n",
            "Epoch 7, Batch 300, Loss: 0.11553680001292378\n",
            "Epoch 7, Batch 400, Loss: 0.12969130711629986\n",
            "Epoch 7, Batch 500, Loss: 0.10753027909435332\n",
            "Epoch 7, Batch 600, Loss: 0.12524182048626245\n",
            "Epoch 7, Batch 700, Loss: 0.13143932114355267\n",
            "Epoch 7, Batch 800, Loss: 0.11652621883433312\n",
            "Epoch 7, Batch 900, Loss: 0.11993158904835582\n",
            "Epoch 7, Batch 1000, Loss: 0.1274640898918733\n",
            "Epoch 7, Batch 1100, Loss: 0.12854122319258748\n",
            "Epoch 7, Batch 1200, Loss: 0.10503123655449599\n",
            "Epoch 7, Batch 1300, Loss: 0.14448655809275807\n",
            "Epoch 7, Batch 1400, Loss: 0.12682472803629935\n",
            "Epoch 7, Batch 1500, Loss: 0.1438341103680432\n",
            "Validation Loss: 0.13993068416292467\n",
            "Epoch 8, Batch 100, Loss: 0.10645669723860919\n",
            "Epoch 8, Batch 200, Loss: 0.11649217408150435\n",
            "Epoch 8, Batch 300, Loss: 0.10117077259346843\n",
            "Epoch 8, Batch 400, Loss: 0.11998297457117588\n",
            "Epoch 8, Batch 500, Loss: 0.1119209892489016\n",
            "Epoch 8, Batch 600, Loss: 0.13136309851892292\n",
            "Epoch 8, Batch 700, Loss: 0.11257315100170671\n",
            "Epoch 8, Batch 800, Loss: 0.12222620589658618\n",
            "Epoch 8, Batch 900, Loss: 0.11284208793193101\n",
            "Epoch 8, Batch 1000, Loss: 0.10214983141049742\n",
            "Epoch 8, Batch 1100, Loss: 0.10646025725640357\n",
            "Epoch 8, Batch 1200, Loss: 0.12348689756356179\n",
            "Epoch 8, Batch 1300, Loss: 0.0923692356562242\n",
            "Epoch 8, Batch 1400, Loss: 0.11695649071596563\n",
            "Epoch 8, Batch 1500, Loss: 0.11375929785659537\n",
            "Validation Loss: 0.1276179747891923\n",
            "Epoch 9, Batch 100, Loss: 0.12214155717752874\n",
            "Epoch 9, Batch 200, Loss: 0.10130977201741188\n",
            "Epoch 9, Batch 300, Loss: 0.11279735677875578\n",
            "Epoch 9, Batch 400, Loss: 0.1122621488943696\n",
            "Epoch 9, Batch 500, Loss: 0.1058476780820638\n",
            "Epoch 9, Batch 600, Loss: 0.10998732105828822\n",
            "Epoch 9, Batch 700, Loss: 0.10537218498066067\n",
            "Epoch 9, Batch 800, Loss: 0.11642291224561632\n",
            "Epoch 9, Batch 900, Loss: 0.09888780274428427\n",
            "Epoch 9, Batch 1000, Loss: 0.12080971161834896\n",
            "Epoch 9, Batch 1100, Loss: 0.10804899173323065\n",
            "Epoch 9, Batch 1200, Loss: 0.10867483118083328\n",
            "Epoch 9, Batch 1300, Loss: 0.11958075585775077\n",
            "Epoch 9, Batch 1400, Loss: 0.09703518566675484\n",
            "Epoch 9, Batch 1500, Loss: 0.11302795267198235\n",
            "Validation Loss: 0.1173367950382332\n",
            "Epoch 10, Batch 100, Loss: 0.10613301343284548\n",
            "Epoch 10, Batch 200, Loss: 0.09820191858801991\n",
            "Epoch 10, Batch 300, Loss: 0.11673749104142189\n",
            "Epoch 10, Batch 400, Loss: 0.1054017688636668\n",
            "Epoch 10, Batch 500, Loss: 0.11264719193335622\n",
            "Epoch 10, Batch 600, Loss: 0.1247652053553611\n",
            "Epoch 10, Batch 700, Loss: 0.09580488417297602\n",
            "Epoch 10, Batch 800, Loss: 0.10025837223045528\n",
            "Epoch 10, Batch 900, Loss: 0.09602691748179495\n",
            "Epoch 10, Batch 1000, Loss: 0.10266339719062671\n",
            "Epoch 10, Batch 1100, Loss: 0.10412177233956754\n",
            "Epoch 10, Batch 1200, Loss: 0.11036905834451317\n",
            "Epoch 10, Batch 1300, Loss: 0.11009858042001724\n",
            "Epoch 10, Batch 1400, Loss: 0.09910752460360527\n",
            "Epoch 10, Batch 1500, Loss: 0.10315103234723211\n",
            "Validation Loss: 0.11602895468721787\n",
            "Epoch 11, Batch 100, Loss: 0.08712989333551377\n",
            "Epoch 11, Batch 200, Loss: 0.08233411428984255\n",
            "Epoch 11, Batch 300, Loss: 0.09492851922288537\n",
            "Epoch 11, Batch 400, Loss: 0.08938962821848691\n",
            "Epoch 11, Batch 500, Loss: 0.09677108114585281\n",
            "Epoch 11, Batch 600, Loss: 0.11055612041149289\n",
            "Epoch 11, Batch 700, Loss: 0.10601804281584919\n",
            "Epoch 11, Batch 800, Loss: 0.10636557034216822\n",
            "Epoch 11, Batch 900, Loss: 0.10730725985951722\n",
            "Epoch 11, Batch 1000, Loss: 0.12790569997392595\n",
            "Epoch 11, Batch 1100, Loss: 0.10087019911967218\n",
            "Epoch 11, Batch 1200, Loss: 0.10334095393307507\n",
            "Epoch 11, Batch 1300, Loss: 0.10325283517129719\n",
            "Epoch 11, Batch 1400, Loss: 0.09586932458216324\n",
            "Epoch 11, Batch 1500, Loss: 0.09496300276368856\n",
            "Validation Loss: 0.11651484818321964\n",
            "Epoch 12, Batch 100, Loss: 0.09510637772735209\n",
            "Epoch 12, Batch 200, Loss: 0.10315659891813994\n",
            "Epoch 12, Batch 300, Loss: 0.0797658590041101\n",
            "Epoch 12, Batch 400, Loss: 0.0953668669029139\n",
            "Epoch 12, Batch 500, Loss: 0.0879647004045546\n",
            "Epoch 12, Batch 600, Loss: 0.07479523023124784\n",
            "Epoch 12, Batch 700, Loss: 0.08288650671020151\n",
            "Epoch 12, Batch 800, Loss: 0.09259919510921463\n",
            "Epoch 12, Batch 900, Loss: 0.10925772381480783\n",
            "Epoch 12, Batch 1000, Loss: 0.10489553813822568\n",
            "Epoch 12, Batch 1100, Loss: 0.08781497547868639\n",
            "Epoch 12, Batch 1200, Loss: 0.103834441867657\n",
            "Epoch 12, Batch 1300, Loss: 0.075605853269808\n",
            "Epoch 12, Batch 1400, Loss: 0.11055606797337532\n",
            "Epoch 12, Batch 1500, Loss: 0.10296355774626136\n",
            "Validation Loss: 0.12127414353067677\n",
            "Epoch 13, Batch 100, Loss: 0.09518884466262534\n",
            "Epoch 13, Batch 200, Loss: 0.09445193269755692\n",
            "Epoch 13, Batch 300, Loss: 0.07819047725060954\n",
            "Epoch 13, Batch 400, Loss: 0.09325311832362786\n",
            "Epoch 13, Batch 500, Loss: 0.09060747876297683\n",
            "Epoch 13, Batch 600, Loss: 0.09012067889794707\n",
            "Epoch 13, Batch 700, Loss: 0.08276743017602711\n",
            "Epoch 13, Batch 800, Loss: 0.0727511876844801\n",
            "Epoch 13, Batch 900, Loss: 0.10165718439733609\n",
            "Epoch 13, Batch 1000, Loss: 0.09783189783804119\n",
            "Epoch 13, Batch 1100, Loss: 0.08671567089855671\n",
            "Epoch 13, Batch 1200, Loss: 0.09586877112742513\n",
            "Epoch 13, Batch 1300, Loss: 0.08485707244835794\n",
            "Epoch 13, Batch 1400, Loss: 0.09326038251630962\n",
            "Epoch 13, Batch 1500, Loss: 0.07145239953650162\n",
            "Validation Loss: 0.11216079645852248\n",
            "Epoch 14, Batch 100, Loss: 0.09294319612672552\n",
            "Epoch 14, Batch 200, Loss: 0.09368448725901544\n",
            "Epoch 14, Batch 300, Loss: 0.09509464413393288\n",
            "Epoch 14, Batch 400, Loss: 0.0831422552303411\n",
            "Epoch 14, Batch 500, Loss: 0.09553749667014927\n",
            "Epoch 14, Batch 600, Loss: 0.08945401796838269\n",
            "Epoch 14, Batch 700, Loss: 0.09843976190779358\n",
            "Epoch 14, Batch 800, Loss: 0.08190188238862901\n",
            "Epoch 14, Batch 900, Loss: 0.09393646939657628\n",
            "Epoch 14, Batch 1000, Loss: 0.07768119177082554\n",
            "Epoch 14, Batch 1100, Loss: 0.09090777629520744\n",
            "Epoch 14, Batch 1200, Loss: 0.08136641962919385\n",
            "Epoch 14, Batch 1300, Loss: 0.11301927668042482\n",
            "Epoch 14, Batch 1400, Loss: 0.08176799557637424\n",
            "Epoch 14, Batch 1500, Loss: 0.0650640522968024\n",
            "Validation Loss: 0.11214326475653798\n",
            "Epoch 15, Batch 100, Loss: 0.08037568010855466\n",
            "Epoch 15, Batch 200, Loss: 0.0793102556001395\n",
            "Epoch 15, Batch 300, Loss: 0.07424299194011837\n",
            "Epoch 15, Batch 400, Loss: 0.09790621346794069\n",
            "Epoch 15, Batch 500, Loss: 0.08537894209381193\n",
            "Epoch 15, Batch 600, Loss: 0.09049975529313087\n",
            "Epoch 15, Batch 700, Loss: 0.08909581459593027\n",
            "Epoch 15, Batch 800, Loss: 0.0826467784610577\n",
            "Epoch 15, Batch 900, Loss: 0.08424174695974215\n",
            "Epoch 15, Batch 1000, Loss: 0.07022848652210087\n",
            "Epoch 15, Batch 1100, Loss: 0.0705222714971751\n",
            "Epoch 15, Batch 1200, Loss: 0.08773568144766614\n",
            "Epoch 15, Batch 1300, Loss: 0.09526539776474237\n",
            "Epoch 15, Batch 1400, Loss: 0.07824966663494706\n",
            "Epoch 15, Batch 1500, Loss: 0.08803601105697453\n",
            "Validation Loss: 0.11671746578253805\n",
            "Epoch 16, Batch 100, Loss: 0.09026826955378056\n",
            "Epoch 16, Batch 200, Loss: 0.08980201588943601\n",
            "Epoch 16, Batch 300, Loss: 0.07478892164770513\n",
            "Epoch 16, Batch 400, Loss: 0.08433175410144031\n",
            "Epoch 16, Batch 500, Loss: 0.08531339596025646\n",
            "Epoch 16, Batch 600, Loss: 0.11465110266115516\n",
            "Epoch 16, Batch 700, Loss: 0.08746045085834339\n",
            "Epoch 16, Batch 800, Loss: 0.08165864433161914\n",
            "Epoch 16, Batch 900, Loss: 0.07833267461508513\n",
            "Epoch 16, Batch 1000, Loss: 0.07408074971637689\n",
            "Epoch 16, Batch 1100, Loss: 0.06219589374028146\n",
            "Epoch 16, Batch 1200, Loss: 0.07264723698608577\n",
            "Epoch 16, Batch 1300, Loss: 0.099410195434466\n",
            "Epoch 16, Batch 1400, Loss: 0.0841274707391858\n",
            "Epoch 16, Batch 1500, Loss: 0.09369982568547129\n",
            "Validation Loss: 0.10372886425070464\n",
            "Epoch 17, Batch 100, Loss: 0.07642112145200372\n",
            "Epoch 17, Batch 200, Loss: 0.07014244351536035\n",
            "Epoch 17, Batch 300, Loss: 0.08897646364755929\n",
            "Epoch 17, Batch 400, Loss: 0.07601076575461775\n",
            "Epoch 17, Batch 500, Loss: 0.08611132327001542\n",
            "Epoch 17, Batch 600, Loss: 0.06976405415218323\n",
            "Epoch 17, Batch 700, Loss: 0.10374847819330171\n",
            "Epoch 17, Batch 800, Loss: 0.07267508680233732\n",
            "Epoch 17, Batch 900, Loss: 0.07084438418736681\n",
            "Epoch 17, Batch 1000, Loss: 0.07257032552035525\n",
            "Epoch 17, Batch 1100, Loss: 0.07831043881364166\n",
            "Epoch 17, Batch 1200, Loss: 0.0916194043518044\n",
            "Epoch 17, Batch 1300, Loss: 0.07549817436840385\n",
            "Epoch 17, Batch 1400, Loss: 0.08792257807217538\n",
            "Epoch 17, Batch 1500, Loss: 0.08008108717389405\n",
            "Validation Loss: 0.11268147767831882\n",
            "Epoch 18, Batch 100, Loss: 0.08150743276812136\n",
            "Epoch 18, Batch 200, Loss: 0.07432096713921055\n",
            "Epoch 18, Batch 300, Loss: 0.07614090336370281\n",
            "Epoch 18, Batch 400, Loss: 0.06289708264521324\n",
            "Epoch 18, Batch 500, Loss: 0.08117462831549346\n",
            "Epoch 18, Batch 600, Loss: 0.07009909534128383\n",
            "Epoch 18, Batch 700, Loss: 0.08811420194804669\n",
            "Epoch 18, Batch 800, Loss: 0.08428541405592113\n",
            "Epoch 18, Batch 900, Loss: 0.08480882996227593\n",
            "Epoch 18, Batch 1000, Loss: 0.10045369469095021\n",
            "Epoch 18, Batch 1100, Loss: 0.07551136462017893\n",
            "Epoch 18, Batch 1200, Loss: 0.08086152004543692\n",
            "Epoch 18, Batch 1300, Loss: 0.05906042771646753\n",
            "Epoch 18, Batch 1400, Loss: 0.07352857857011258\n",
            "Epoch 18, Batch 1500, Loss: 0.0797844863543287\n",
            "Validation Loss: 0.103158783039699\n",
            "Epoch 19, Batch 100, Loss: 0.06634624605532735\n",
            "Epoch 19, Batch 200, Loss: 0.0501115816400852\n",
            "Epoch 19, Batch 300, Loss: 0.07322068495675921\n",
            "Epoch 19, Batch 400, Loss: 0.08476100075757131\n",
            "Epoch 19, Batch 500, Loss: 0.06815696365199983\n",
            "Epoch 19, Batch 600, Loss: 0.09677891218336299\n",
            "Epoch 19, Batch 700, Loss: 0.08461186206201092\n",
            "Epoch 19, Batch 800, Loss: 0.08085135472007096\n",
            "Epoch 19, Batch 900, Loss: 0.08113370029721409\n",
            "Epoch 19, Batch 1000, Loss: 0.07452464683912695\n",
            "Epoch 19, Batch 1100, Loss: 0.08040448752231896\n",
            "Epoch 19, Batch 1200, Loss: 0.07503676664084197\n",
            "Epoch 19, Batch 1300, Loss: 0.07198998000007123\n",
            "Epoch 19, Batch 1400, Loss: 0.05866283262614161\n",
            "Epoch 19, Batch 1500, Loss: 0.08078162905294448\n",
            "Validation Loss: 0.09749211739376187\n",
            "Epoch 20, Batch 100, Loss: 0.07293791946023703\n",
            "Epoch 20, Batch 200, Loss: 0.0743858949036803\n",
            "Epoch 20, Batch 300, Loss: 0.07786553538404405\n",
            "Epoch 20, Batch 400, Loss: 0.06580012032587547\n",
            "Epoch 20, Batch 500, Loss: 0.060241434806957844\n",
            "Epoch 20, Batch 600, Loss: 0.07422715701744892\n",
            "Epoch 20, Batch 700, Loss: 0.0688517342088744\n",
            "Epoch 20, Batch 800, Loss: 0.07841575815342366\n",
            "Epoch 20, Batch 900, Loss: 0.06830655382014811\n",
            "Epoch 20, Batch 1000, Loss: 0.07335160627961158\n",
            "Epoch 20, Batch 1100, Loss: 0.07051552672404796\n",
            "Epoch 20, Batch 1200, Loss: 0.0776141418539919\n",
            "Epoch 20, Batch 1300, Loss: 0.06519184590084479\n",
            "Epoch 20, Batch 1400, Loss: 0.07843272403115406\n",
            "Epoch 20, Batch 1500, Loss: 0.07833197647938504\n",
            "Validation Loss: 0.09733838447276502\n",
            "Finished Training\n"
          ]
        }
      ],
      "source": [
        "model = MLP([256, 64], [nn.ReLU(), nn.Tanh()]) # from best params above\n",
        "# 0.002, 0.001\n",
        "learning_rate = 0.025472423173236586\n",
        "weight_decay = 5.754345462080459e-06\n",
        "momentum = 0.5413575236280163\n",
        "batch_size = 32\n",
        "# Loss function and optimizer\n",
        "criterion = nn.CrossEntropyLoss()\n",
        "optimizer = optim.SGD(model.parameters(), lr=learning_rate, weight_decay=weight_decay, momentum=momentum)\n",
        "\n",
        "# Data loaders with suggested batch size\n",
        "train_loader = DataLoader(train_subset, batch_size=batch_size, shuffle=True)\n",
        "val_loader = DataLoader(val_subset, batch_size=batch_size, shuffle=False)\n",
        "\n",
        "scheduler = optim.lr_scheduler.ReduceLROnPlateau(optimizer, mode='min', factor=0.1, patience=3)\n",
        "\n",
        "# Training the neural network\n",
        "# 3, 10, 20\n",
        "num_epochs = 20\n",
        "for epoch in range(num_epochs):\n",
        "    model.train()\n",
        "    running_loss = 0.0\n",
        "    for i, data in enumerate(train_loader, 0):\n",
        "        inputs, labels = data\n",
        "        optimizer.zero_grad()\n",
        "        outputs = model(inputs)\n",
        "        loss = criterion(outputs, labels)\n",
        "        loss.backward()\n",
        "        optimizer.step()\n",
        "        running_loss += loss.item()\n",
        "        if i % 100 == 99:  # print every 100 mini-batches\n",
        "            print(f'Epoch {epoch + 1}, Batch {i + 1}, Loss: {running_loss / 100}')\n",
        "            running_loss = 0.0\n",
        "\n",
        "    running_loss = 0.0  # Reset running loss\n",
        "    model.eval()  # Set model to evaluation mode\n",
        "    with torch.no_grad():  # Disable gradient computation\n",
        "        for i, data in enumerate(val_loader, 0):\n",
        "            inputs, labels = data\n",
        "            outputs = model(inputs)\n",
        "            loss = criterion(outputs, labels)\n",
        "            running_loss += loss.item()\n",
        "    print(f'Validation Loss: {running_loss / len(val_loader)}')\n",
        "    scheduler.step(running_loss)\n",
        "    model.train()  # Set model back to training mode\n",
        "\n",
        "print('Finished Training')"
      ]
    },
    {
      "cell_type": "code",
      "execution_count": 64,
      "metadata": {
        "colab": {
          "base_uri": "https://localhost:8080/"
        },
        "id": "TfYr_0XlT-Cb",
        "outputId": "e298b73f-543d-49a6-dbf5-b3c0099fae75"
      },
      "outputs": [
        {
          "name": "stdout",
          "output_type": "stream",
          "text": [
            "Accuracy on test set: 0.9738\n"
          ]
        }
      ],
      "source": [
        "# Evaluating the model\n",
        "model.eval()\n",
        "correct = 0\n",
        "total = 0\n",
        "test_loader = DataLoader(test_dataset, batch_size=32, shuffle=False)\n",
        "with torch.no_grad():\n",
        "    for data in test_loader:\n",
        "        images, labels = data\n",
        "        outputs = model(images)\n",
        "        _, predicted = torch.max(outputs.data, 1)\n",
        "        total += labels.size(0)\n",
        "        correct += (predicted == labels).sum().item()\n",
        "\n",
        "print(f'Accuracy on test set: { correct / total}')"
      ]
    },
    {
      "cell_type": "code",
      "execution_count": 65,
      "metadata": {
        "colab": {
          "base_uri": "https://localhost:8080/",
          "height": 428
        },
        "id": "kNM8-ijzUE9w",
        "outputId": "a07af0ed-e731-461f-d8c1-35750b29394c"
      },
      "outputs": [
        {
          "data": {
            "image/png": "[encoded data removed]",
            "text/plain": [
              "<Figure size 640x480 with 1 Axes>"
            ]
          },
          "metadata": {},
          "output_type": "display_data"
        }
      ],
      "source": [
        "image_index = 27\n",
        "test_image, test_label = test_dataset[image_index]\n",
        "\n",
        "with torch.no_grad():\n",
        "    model.eval()\n",
        "    output = model(test_image.unsqueeze(0))\n",
        "    _, predicted_label = torch.max(output, 1)\n",
        "\n",
        "test_image_numpy = test_image.squeeze().numpy()\n",
        "\n",
        "plt.imshow(test_image_numpy, cmap='gray')\n",
        "plt.title(f'Predicted Label: {predicted_label.item()}, Actual Label: {test_label}')\n",
        "plt.axis('off')\n",
        "plt.show()"
      ]
    },
    {
      "cell_type": "markdown",
      "metadata": {
        "id": "FoypxOXgGjuC"
      },
      "source": [
        "Notes for Part 1\n",
        "\n",
        "1. Activation function:\n",
        "\n",
        "class Net(torch.nn.Module):\n",
        "    def __init__(self):\n",
        "        super(Net, self).__init__()\n",
        "        self.fc1 = torch.nn.Linear(28*28, 128)\n",
        "        self.fc2 = torch.nn.Linear(128, 64)\n",
        "        self.fc3 = torch.nn.Linear(64, 10)\n",
        "\n",
        "    def forward(self, x):\n",
        "        x = x.view(-1, 28*28)\n",
        "        x = torch.relu(self.fc1(x))  # Change activation function here\n",
        "        x = torch.relu(self.fc2(x))\n",
        "        x = self.fc3(x)\n",
        "        return x\n",
        "\n",
        "2. loss function and optimizer\n",
        "\n",
        "model = Net()\n",
        "criterion = torch.nn.CrossEntropyLoss()  # Change loss function\n",
        "optimizer = torch.optim.Adam(model.parameters(), lr=0.001)\n",
        "\n",
        "3. ~adding a dropout layer\n",
        "\n",
        "class Net(torch.nn.Module):\n",
        "    def __init__(self):\n",
        "        super(Net, self).__init__()\n",
        "        self.fc1 = torch.nn.Linear(28*28, 128)\n",
        "        self.dropout = torch.nn.Dropout(0.2)  # Add a Dropout layer here\n",
        "        self.fc2 = torch.nn.Linear(128, 64)\n",
        "        self.fc3 = torch.nn.Linear(64, 10)\n",
        "\n",
        "    def forward(self, x):\n",
        "        x = x.view(-1, 28*28)\n",
        "        x = torch.relu(self.fc1(x))\n",
        "        x = self.dropout(x)  # Apply Dropout\n",
        "        x = torch.relu(self.fc2(x))\n",
        "        x = self.fc3(x)\n",
        "        return x\n",
        "\n",
        "4. model configurations / epochs\n",
        "\n",
        "epochs = 10  # Change number of epochs\n",
        "for epoch in range(epochs):\n",
        "    # Training loop\n",
        "    for i, data in enumerate(train_loader, 0):\n",
        "        # Training steps"
      ]
    },
    {
      "cell_type": "markdown",
      "metadata": {
        "id": "L3IIK5kzHGH0"
      },
      "source": [
        "## Task - 2\n",
        "\n",
        "### PyTorch FC ANN FMNIST Implementation\n"
      ]
    },
    {
      "cell_type": "code",
      "execution_count": 3,
      "metadata": {
        "id": "jOCzfnBvB_bQ"
      },
      "outputs": [],
      "source": [
        "# Transformations --> this is a \"pre-processing step\" that's typical for image processing methods\n",
        "transform = transforms.Compose([transforms.ToTensor(),\n",
        "                                transforms.RandomRotation(10),\n",
        "                                transforms.RandomHorizontalFlip(),\n",
        "                                transforms.RandomVerticalFlip(),\n",
        "                                transforms.RandomAffine(0, shear=10, scale=(0.8, 1.2)),\n",
        "                                transforms.Normalize((0.5,), (0.5,))])\n",
        "\n",
        "train_val_split = 0.8\n",
        "\n",
        "# This dataset is already \"sorted\" as part of the import method, but no \"validation\" set has been selected in this case\n",
        "# Loading the FashionMNIST dataset\n",
        "train_dataset = torchvision.datasets.FashionMNIST(root='./data', train=True, download=True, transform=transform)\n",
        "test_dataset = torchvision.datasets.FashionMNIST(root='./data', train=False, download=True, transform=transform)\n",
        "\n",
        "# Calculate sizes\n",
        "train_size = int(train_val_split * len(train_dataset))\n",
        "val_size = len(train_dataset) - train_size\n",
        "\n",
        "# Split the dataset\n",
        "train_subset, val_subset = random_split(train_dataset, [train_size, val_size])"
      ]
    },
    {
      "cell_type": "code",
      "execution_count": 4,
      "metadata": {
        "id": "jZk_FS9JCLOH"
      },
      "outputs": [],
      "source": [
        "# Mapping the labels for the FashionMNIST dataset -- later we'll see that this using the \"keras to_categorical\" method as discussed in class\n",
        "labels_map = {\n",
        "    0: \"T-shirt/top\", 1: \"Trouser\", 2: \"Pullover\", 3: \"Dress\", 4: \"Coat\",\n",
        "    5: \"Sandal\", 6: \"Shirt\", 7: \"Sneaker\", 8: \"Bag\", 9: \"Ankle boot\"\n",
        "}"
      ]
    },
    {
      "cell_type": "code",
      "execution_count": 5,
      "metadata": {
        "colab": {
          "base_uri": "https://localhost:8080/",
          "height": 675
        },
        "id": "ykrRIGSdCMu5",
        "outputId": "a6737577-19d7-459e-aa83-ccebed56246c"
      },
      "outputs": [
        {
          "data": {
            "image/png": "[encoded data removed]",
            "text/plain": [
              "<Figure size 800x800 with 9 Axes>"
            ]
          },
          "metadata": {},
          "output_type": "display_data"
        }
      ],
      "source": [
        "#This cell is designed to display a few images from the dataset\n",
        "#It isn't necessary to run this, but it can help give a better idea of the challanges your model will face\n",
        "figure = plt.figure(figsize=(8, 8))\n",
        "cols, rows = 3, 3\n",
        "\n",
        "# Displaying figures from the dataset randomly\n",
        "for i in range(1, cols * rows + 1):\n",
        "    sample_idx = torch.randint(len(train_dataset), size=(1,)).item()\n",
        "    img, label = train_dataset[sample_idx]\n",
        "    figure.add_subplot(rows, cols, i)\n",
        "    plt.title(labels_map[label])\n",
        "    plt.axis(\"off\")\n",
        "    plt.imshow(img.squeeze(), cmap=\"gray\")\n",
        "plt.show()"
      ]
    },
    {
      "cell_type": "code",
      "execution_count": 60,
      "metadata": {},
      "outputs": [
        {
          "name": "stderr",
          "output_type": "stream",
          "text": [
            "[I 2024-10-21 15:42:13,909] A new study created in memory with name: no-name-76c6205c-d7e9-414a-9ab2-34af32a4144c\n",
            "[I 2024-10-21 15:57:03,359] Trial 0 finished with value: 0.7394166666666667 and parameters: {'num_layers': 5, 'layer_size_0': 512, 'activation_0': 'sigmoid', 'layer_size_1': 128, 'activation_1': 'sigmoid', 'layer_size_2': 128, 'activation_2': 'silu', 'layer_size_3': 128, 'activation_3': 'gelu', 'layer_size_4': 512, 'activation_4': 'gelu', 'optimizer': 'RMSprop', 'lr': 0.00019716788737518756, 'weight_decay': 0.000326821966050165, 'batch_size': 128}. Best is trial 0 with value: 0.7394166666666667.\n",
            "[I 2024-10-21 16:12:43,191] Trial 1 finished with value: 0.2545 and parameters: {'num_layers': 4, 'layer_size_0': 128, 'activation_0': 'tanh', 'layer_size_1': 512, 'activation_1': 'relu', 'layer_size_2': 128, 'activation_2': 'tanh', 'layer_size_3': 256, 'activation_3': 'silu', 'optimizer': 'Adam', 'lr': 0.022408285119180724, 'weight_decay': 0.0030367280453241583, 'batch_size': 32}. Best is trial 0 with value: 0.7394166666666667.\n",
            "[I 2024-10-21 16:27:33,425] Trial 2 finished with value: 0.74225 and parameters: {'num_layers': 3, 'layer_size_0': 128, 'activation_0': 'gelu', 'layer_size_1': 128, 'activation_1': 'tanh', 'layer_size_2': 256, 'activation_2': 'leaky_relu', 'optimizer': 'Adam', 'lr': 0.0005164772996142973, 'weight_decay': 0.00971555282983965, 'batch_size': 64}. Best is trial 2 with value: 0.74225.\n",
            "[I 2024-10-21 16:41:38,570] Trial 3 finished with value: 0.80475 and parameters: {'num_layers': 2, 'layer_size_0': 64, 'activation_0': 'silu', 'layer_size_1': 64, 'activation_1': 'leaky_relu', 'optimizer': 'RMSprop', 'lr': 0.0014834734738072616, 'weight_decay': 0.00018345300153987877, 'batch_size': 128}. Best is trial 3 with value: 0.80475.\n",
            "[I 2024-10-21 16:56:49,424] Trial 4 finished with value: 0.8089166666666666 and parameters: {'num_layers': 5, 'layer_size_0': 256, 'activation_0': 'sigmoid', 'layer_size_1': 64, 'activation_1': 'leaky_relu', 'layer_size_2': 512, 'activation_2': 'tanh', 'layer_size_3': 32, 'activation_3': 'tanh', 'layer_size_4': 64, 'activation_4': 'gelu', 'optimizer': 'RMSprop', 'lr': 0.00045263037059631306, 'weight_decay': 7.584796557294862e-05, 'batch_size': 32}. Best is trial 4 with value: 0.8089166666666666.\n",
            "[I 2024-10-21 16:57:32,635] Trial 5 pruned. \n",
            "[I 2024-10-21 16:58:16,897] Trial 6 pruned. \n",
            "[I 2024-10-21 16:59:01,041] Trial 7 pruned. \n",
            "[I 2024-10-21 16:59:44,702] Trial 8 pruned. \n",
            "[I 2024-10-21 17:00:28,525] Trial 9 pruned. \n",
            "[I 2024-10-21 17:01:13,343] Trial 10 pruned. \n",
            "[I 2024-10-21 17:15:23,055] Trial 11 finished with value: 0.7989166666666667 and parameters: {'num_layers': 3, 'layer_size_0': 64, 'activation_0': 'silu', 'layer_size_1': 64, 'activation_1': 'leaky_relu', 'layer_size_2': 64, 'activation_2': 'relu', 'optimizer': 'RMSprop', 'lr': 0.0015906776427229306, 'weight_decay': 9.492418224537291e-05, 'batch_size': 128}. Best is trial 4 with value: 0.8089166666666666.\n",
            "[I 2024-10-21 17:16:05,615] Trial 12 pruned. \n",
            "[I 2024-10-21 17:16:48,170] Trial 13 pruned. \n",
            "[I 2024-10-21 17:17:31,666] Trial 14 pruned. \n",
            "[I 2024-10-21 17:18:15,349] Trial 15 pruned. \n",
            "[I 2024-10-21 17:32:37,806] Trial 16 finished with value: 0.8215833333333333 and parameters: {'num_layers': 3, 'layer_size_0': 512, 'activation_0': 'leaky_relu', 'layer_size_1': 64, 'activation_1': 'leaky_relu', 'layer_size_2': 256, 'activation_2': 'leaky_relu', 'optimizer': 'RMSprop', 'lr': 0.0013955403193994667, 'weight_decay': 6.998375163685557e-06, 'batch_size': 128}. Best is trial 16 with value: 0.8215833333333333.\n",
            "[I 2024-10-21 17:33:21,336] Trial 17 pruned. \n",
            "[I 2024-10-21 17:48:54,645] Trial 18 finished with value: 0.827 and parameters: {'num_layers': 5, 'layer_size_0': 512, 'activation_0': 'leaky_relu', 'layer_size_1': 64, 'activation_1': 'gelu', 'layer_size_2': 256, 'activation_2': 'leaky_relu', 'layer_size_3': 256, 'activation_3': 'tanh', 'layer_size_4': 64, 'activation_4': 'leaky_relu', 'optimizer': 'RMSprop', 'lr': 0.0003211015932835766, 'weight_decay': 6.128782742220545e-06, 'batch_size': 32}. Best is trial 18 with value: 0.827.\n",
            "[I 2024-10-21 17:49:38,846] Trial 19 pruned. \n",
            "[I 2024-10-21 17:50:22,286] Trial 20 pruned. \n",
            "[I 2024-10-21 17:51:08,141] Trial 21 pruned. \n",
            "[I 2024-10-21 18:08:06,169] Trial 22 finished with value: 0.8266666666666667 and parameters: {'num_layers': 5, 'layer_size_0': 256, 'activation_0': 'relu', 'layer_size_1': 64, 'activation_1': 'gelu', 'layer_size_2': 512, 'activation_2': 'relu', 'layer_size_3': 64, 'activation_3': 'tanh', 'layer_size_4': 64, 'activation_4': 'tanh', 'optimizer': 'RMSprop', 'lr': 0.0003493332301114186, 'weight_decay': 4.403368600884136e-05, 'batch_size': 32}. Best is trial 18 with value: 0.827.\n",
            "[I 2024-10-21 18:08:58,087] Trial 23 pruned. \n",
            "[I 2024-10-21 18:15:54,301] Trial 24 pruned. \n",
            "[I 2024-10-21 18:16:41,573] Trial 25 pruned. \n",
            "[I 2024-10-21 18:17:26,762] Trial 26 pruned. \n",
            "[I 2024-10-21 18:18:11,042] Trial 27 pruned. \n",
            "[I 2024-10-21 18:18:54,736] Trial 28 pruned. \n",
            "[I 2024-10-21 18:19:39,266] Trial 29 pruned. \n"
          ]
        },
        {
          "name": "stdout",
          "output_type": "stream",
          "text": [
            "Best hyperparameters: {'num_layers': 5, 'layer_size_0': 512, 'activation_0': 'leaky_relu', 'layer_size_1': 64, 'activation_1': 'gelu', 'layer_size_2': 256, 'activation_2': 'leaky_relu', 'layer_size_3': 256, 'activation_3': 'tanh', 'layer_size_4': 64, 'activation_4': 'leaky_relu', 'optimizer': 'RMSprop', 'lr': 0.0003211015932835766, 'weight_decay': 6.128782742220545e-06, 'batch_size': 32}\n"
          ]
        }
      ],
      "source": [
        "pruner = optuna.pruners.MedianPruner()\n",
        "study = optuna.create_study(direction='maximize', pruner=pruner)\n",
        "study.optimize(objective, n_trials=30)\n",
        "\n",
        "print('Best hyperparameters:', study.best_params)"
      ]
    },
    {
      "cell_type": "code",
      "execution_count": 73,
      "metadata": {},
      "outputs": [
        {
          "data": {
            "application/vnd.plotly.v1+json": {
              "config": {
                "plotlyServerURL": "https://plot.ly"
              },
              "data": [
                {
                  "cliponaxis": false,
                  "hovertemplate": [
                    "num_layers (IntDistribution): 0.00023197032645173393<extra></extra>",
                    "optimizer (CategoricalDistribution): 0.017310368323553038<extra></extra>",
                    "lr (FloatDistribution): 0.023861423350910807<extra></extra>",
                    "layer_size_1 (CategoricalDistribution): 0.02950234936288835<extra></extra>",
                    "batch_size (CategoricalDistribution): 0.11397653657947042<extra></extra>",
                    "activation_0 (CategoricalDistribution): 0.155860752677655<extra></extra>",
                    "layer_size_0 (CategoricalDistribution): 0.19036186695212207<extra></extra>",
                    "activation_1 (CategoricalDistribution): 0.19454438217494358<extra></extra>",
                    "weight_decay (FloatDistribution): 0.27435035025200505<extra></extra>"
                  ],
                  "name": "Objective Value",
                  "orientation": "h",
                  "text": [
                    "<0.01",
                    "0.02",
                    "0.02",
                    "0.03",
                    "0.11",
                    "0.16",
                    "0.19",
                    "0.19",
                    "0.27"
                  ],
                  "textposition": "outside",
                  "type": "bar",
                  "x": [
                    0.00023197032645173393,
                    0.017310368323553038,
                    0.023861423350910807,
                    0.02950234936288835,
                    0.11397653657947042,
                    0.155860752677655,
                    0.19036186695212207,
                    0.19454438217494358,
                    0.27435035025200505
                  ],
                  "y": [
                    "num_layers",
                    "optimizer",
                    "lr",
                    "layer_size_1",
                    "batch_size",
                    "activation_0",
                    "layer_size_0",
                    "activation_1",
                    "weight_decay"
                  ]
                }
              ],
              "layout": {
                "template": {
                  "data": {
                    "bar": [
                      {
                        "error_x": {
                          "color": "#2a3f5f"
                        },
                        "error_y": {
                          "color": "#2a3f5f"
                        },
                        "marker": {
                          "line": {
                            "color": "#E5ECF6",
                            "width": 0.5
                          },
                          "pattern": {
                            "fillmode": "overlay",
                            "size": 10,
                            "solidity": 0.2
                          }
                        },
                        "type": "bar"
                      }
                    ],
                    "barpolar": [
                      {
                        "marker": {
                          "line": {
                            "color": "#E5ECF6",
                            "width": 0.5
                          },
                          "pattern": {
                            "fillmode": "overlay",
                            "size": 10,
                            "solidity": 0.2
                          }
                        },
                        "type": "barpolar"
                      }
                    ],
                    "carpet": [
                      {
                        "aaxis": {
                          "endlinecolor": "#2a3f5f",
                          "gridcolor": "white",
                          "linecolor": "white",
                          "minorgridcolor": "white",
                          "startlinecolor": "#2a3f5f"
                        },
                        "baxis": {
                          "endlinecolor": "#2a3f5f",
                          "gridcolor": "white",
                          "linecolor": "white",
                          "minorgridcolor": "white",
                          "startlinecolor": "#2a3f5f"
                        },
                        "type": "carpet"
                      }
                    ],
                    "choropleth": [
                      {
                        "colorbar": {
                          "outlinewidth": 0,
                          "ticks": ""
                        },
                        "type": "choropleth"
                      }
                    ],
                    "contour": [
                      {
                        "colorbar": {
                          "outlinewidth": 0,
                          "ticks": ""
                        },
                        "colorscale": [
                          [
                            0,
                            "#0d0887"
                          ],
                          [
                            0.1111111111111111,
                            "#46039f"
                          ],
                          [
                            0.2222222222222222,
                            "#7201a8"
                          ],
                          [
                            0.3333333333333333,
                            "#9c179e"
                          ],
                          [
                            0.4444444444444444,
                            "#bd3786"
                          ],
                          [
                            0.5555555555555556,
                            "#d8576b"
                          ],
                          [
                            0.6666666666666666,
                            "#ed7953"
                          ],
                          [
                            0.7777777777777778,
                            "#fb9f3a"
                          ],
                          [
                            0.8888888888888888,
                            "#fdca26"
                          ],
                          [
                            1,
                            "#f0f921"
                          ]
                        ],
                        "type": "contour"
                      }
                    ],
                    "contourcarpet": [
                      {
                        "colorbar": {
                          "outlinewidth": 0,
                          "ticks": ""
                        },
                        "type": "contourcarpet"
                      }
                    ],
                    "heatmap": [
                      {
                        "colorbar": {
                          "outlinewidth": 0,
                          "ticks": ""
                        },
                        "colorscale": [
                          [
                            0,
                            "#0d0887"
                          ],
                          [
                            0.1111111111111111,
                            "#46039f"
                          ],
                          [
                            0.2222222222222222,
                            "#7201a8"
                          ],
                          [
                            0.3333333333333333,
                            "#9c179e"
                          ],
                          [
                            0.4444444444444444,
                            "#bd3786"
                          ],
                          [
                            0.5555555555555556,
                            "#d8576b"
                          ],
                          [
                            0.6666666666666666,
                            "#ed7953"
                          ],
                          [
                            0.7777777777777778,
                            "#fb9f3a"
                          ],
                          [
                            0.8888888888888888,
                            "#fdca26"
                          ],
                          [
                            1,
                            "#f0f921"
                          ]
                        ],
                        "type": "heatmap"
                      }
                    ],
                    "heatmapgl": [
                      {
                        "colorbar": {
                          "outlinewidth": 0,
                          "ticks": ""
                        },
                        "colorscale": [
                          [
                            0,
                            "#0d0887"
                          ],
                          [
                            0.1111111111111111,
                            "#46039f"
                          ],
                          [
                            0.2222222222222222,
                            "#7201a8"
                          ],
                          [
                            0.3333333333333333,
                            "#9c179e"
                          ],
                          [
                            0.4444444444444444,
                            "#bd3786"
                          ],
                          [
                            0.5555555555555556,
                            "#d8576b"
                          ],
                          [
                            0.6666666666666666,
                            "#ed7953"
                          ],
                          [
                            0.7777777777777778,
                            "#fb9f3a"
                          ],
                          [
                            0.8888888888888888,
                            "#fdca26"
                          ],
                          [
                            1,
                            "#f0f921"
                          ]
                        ],
                        "type": "heatmapgl"
                      }
                    ],
                    "histogram": [
                      {
                        "marker": {
                          "pattern": {
                            "fillmode": "overlay",
                            "size": 10,
                            "solidity": 0.2
                          }
                        },
                        "type": "histogram"
                      }
                    ],
                    "histogram2d": [
                      {
                        "colorbar": {
                          "outlinewidth": 0,
                          "ticks": ""
                        },
                        "colorscale": [
                          [
                            0,
                            "#0d0887"
                          ],
                          [
                            0.1111111111111111,
                            "#46039f"
                          ],
                          [
                            0.2222222222222222,
                            "#7201a8"
                          ],
                          [
                            0.3333333333333333,
                            "#9c179e"
                          ],
                          [
                            0.4444444444444444,
                            "#bd3786"
                          ],
                          [
                            0.5555555555555556,
                            "#d8576b"
                          ],
                          [
                            0.6666666666666666,
                            "#ed7953"
                          ],
                          [
                            0.7777777777777778,
                            "#fb9f3a"
                          ],
                          [
                            0.8888888888888888,
                            "#fdca26"
                          ],
                          [
                            1,
                            "#f0f921"
                          ]
                        ],
                        "type": "histogram2d"
                      }
                    ],
                    "histogram2dcontour": [
                      {
                        "colorbar": {
                          "outlinewidth": 0,
                          "ticks": ""
                        },
                        "colorscale": [
                          [
                            0,
                            "#0d0887"
                          ],
                          [
                            0.1111111111111111,
                            "#46039f"
                          ],
                          [
                            0.2222222222222222,
                            "#7201a8"
                          ],
                          [
                            0.3333333333333333,
                            "#9c179e"
                          ],
                          [
                            0.4444444444444444,
                            "#bd3786"
                          ],
                          [
                            0.5555555555555556,
                            "#d8576b"
                          ],
                          [
                            0.6666666666666666,
                            "#ed7953"
                          ],
                          [
                            0.7777777777777778,
                            "#fb9f3a"
                          ],
                          [
                            0.8888888888888888,
                            "#fdca26"
                          ],
                          [
                            1,
                            "#f0f921"
                          ]
                        ],
                        "type": "histogram2dcontour"
                      }
                    ],
                    "mesh3d": [
                      {
                        "colorbar": {
                          "outlinewidth": 0,
                          "ticks": ""
                        },
                        "type": "mesh3d"
                      }
                    ],
                    "parcoords": [
                      {
                        "line": {
                          "colorbar": {
                            "outlinewidth": 0,
                            "ticks": ""
                          }
                        },
                        "type": "parcoords"
                      }
                    ],
                    "pie": [
                      {
                        "automargin": true,
                        "type": "pie"
                      }
                    ],
                    "scatter": [
                      {
                        "fillpattern": {
                          "fillmode": "overlay",
                          "size": 10,
                          "solidity": 0.2
                        },
                        "type": "scatter"
                      }
                    ],
                    "scatter3d": [
                      {
                        "line": {
                          "colorbar": {
                            "outlinewidth": 0,
                            "ticks": ""
                          }
                        },
                        "marker": {
                          "colorbar": {
                            "outlinewidth": 0,
                            "ticks": ""
                          }
                        },
                        "type": "scatter3d"
                      }
                    ],
                    "scattercarpet": [
                      {
                        "marker": {
                          "colorbar": {
                            "outlinewidth": 0,
                            "ticks": ""
                          }
                        },
                        "type": "scattercarpet"
                      }
                    ],
                    "scattergeo": [
                      {
                        "marker": {
                          "colorbar": {
                            "outlinewidth": 0,
                            "ticks": ""
                          }
                        },
                        "type": "scattergeo"
                      }
                    ],
                    "scattergl": [
                      {
                        "marker": {
                          "colorbar": {
                            "outlinewidth": 0,
                            "ticks": ""
                          }
                        },
                        "type": "scattergl"
                      }
                    ],
                    "scattermapbox": [
                      {
                        "marker": {
                          "colorbar": {
                            "outlinewidth": 0,
                            "ticks": ""
                          }
                        },
                        "type": "scattermapbox"
                      }
                    ],
                    "scatterpolar": [
                      {
                        "marker": {
                          "colorbar": {
                            "outlinewidth": 0,
                            "ticks": ""
                          }
                        },
                        "type": "scatterpolar"
                      }
                    ],
                    "scatterpolargl": [
                      {
                        "marker": {
                          "colorbar": {
                            "outlinewidth": 0,
                            "ticks": ""
                          }
                        },
                        "type": "scatterpolargl"
                      }
                    ],
                    "scatterternary": [
                      {
                        "marker": {
                          "colorbar": {
                            "outlinewidth": 0,
                            "ticks": ""
                          }
                        },
                        "type": "scatterternary"
                      }
                    ],
                    "surface": [
                      {
                        "colorbar": {
                          "outlinewidth": 0,
                          "ticks": ""
                        },
                        "colorscale": [
                          [
                            0,
                            "#0d0887"
                          ],
                          [
                            0.1111111111111111,
                            "#46039f"
                          ],
                          [
                            0.2222222222222222,
                            "#7201a8"
                          ],
                          [
                            0.3333333333333333,
                            "#9c179e"
                          ],
                          [
                            0.4444444444444444,
                            "#bd3786"
                          ],
                          [
                            0.5555555555555556,
                            "#d8576b"
                          ],
                          [
                            0.6666666666666666,
                            "#ed7953"
                          ],
                          [
                            0.7777777777777778,
                            "#fb9f3a"
                          ],
                          [
                            0.8888888888888888,
                            "#fdca26"
                          ],
                          [
                            1,
                            "#f0f921"
                          ]
                        ],
                        "type": "surface"
                      }
                    ],
                    "table": [
                      {
                        "cells": {
                          "fill": {
                            "color": "#EBF0F8"
                          },
                          "line": {
                            "color": "white"
                          }
                        },
                        "header": {
                          "fill": {
                            "color": "#C8D4E3"
                          },
                          "line": {
                            "color": "white"
                          }
                        },
                        "type": "table"
                      }
                    ]
                  },
                  "layout": {
                    "annotationdefaults": {
                      "arrowcolor": "#2a3f5f",
                      "arrowhead": 0,
                      "arrowwidth": 1
                    },
                    "autotypenumbers": "strict",
                    "coloraxis": {
                      "colorbar": {
                        "outlinewidth": 0,
                        "ticks": ""
                      }
                    },
                    "colorscale": {
                      "diverging": [
                        [
                          0,
                          "#8e0152"
                        ],
                        [
                          0.1,
                          "#c51b7d"
                        ],
                        [
                          0.2,
                          "#de77ae"
                        ],
                        [
                          0.3,
                          "#f1b6da"
                        ],
                        [
                          0.4,
                          "#fde0ef"
                        ],
                        [
                          0.5,
                          "#f7f7f7"
                        ],
                        [
                          0.6,
                          "#e6f5d0"
                        ],
                        [
                          0.7,
                          "#b8e186"
                        ],
                        [
                          0.8,
                          "#7fbc41"
                        ],
                        [
                          0.9,
                          "#4d9221"
                        ],
                        [
                          1,
                          "#276419"
                        ]
                      ],
                      "sequential": [
                        [
                          0,
                          "#0d0887"
                        ],
                        [
                          0.1111111111111111,
                          "#46039f"
                        ],
                        [
                          0.2222222222222222,
                          "#7201a8"
                        ],
                        [
                          0.3333333333333333,
                          "#9c179e"
                        ],
                        [
                          0.4444444444444444,
                          "#bd3786"
                        ],
                        [
                          0.5555555555555556,
                          "#d8576b"
                        ],
                        [
                          0.6666666666666666,
                          "#ed7953"
                        ],
                        [
                          0.7777777777777778,
                          "#fb9f3a"
                        ],
                        [
                          0.8888888888888888,
                          "#fdca26"
                        ],
                        [
                          1,
                          "#f0f921"
                        ]
                      ],
                      "sequentialminus": [
                        [
                          0,
                          "#0d0887"
                        ],
                        [
                          0.1111111111111111,
                          "#46039f"
                        ],
                        [
                          0.2222222222222222,
                          "#7201a8"
                        ],
                        [
                          0.3333333333333333,
                          "#9c179e"
                        ],
                        [
                          0.4444444444444444,
                          "#bd3786"
                        ],
                        [
                          0.5555555555555556,
                          "#d8576b"
                        ],
                        [
                          0.6666666666666666,
                          "#ed7953"
                        ],
                        [
                          0.7777777777777778,
                          "#fb9f3a"
                        ],
                        [
                          0.8888888888888888,
                          "#fdca26"
                        ],
                        [
                          1,
                          "#f0f921"
                        ]
                      ]
                    },
                    "colorway": [
                      "#636efa",
                      "#EF553B",
                      "#00cc96",
                      "#ab63fa",
                      "#FFA15A",
                      "#19d3f3",
                      "#FF6692",
                      "#B6E880",
                      "#FF97FF",
                      "#FECB52"
                    ],
                    "font": {
                      "color": "#2a3f5f"
                    },
                    "geo": {
                      "bgcolor": "white",
                      "lakecolor": "white",
                      "landcolor": "#E5ECF6",
                      "showlakes": true,
                      "showland": true,
                      "subunitcolor": "white"
                    },
                    "hoverlabel": {
                      "align": "left"
                    },
                    "hovermode": "closest",
                    "mapbox": {
                      "style": "light"
                    },
                    "paper_bgcolor": "white",
                    "plot_bgcolor": "#E5ECF6",
                    "polar": {
                      "angularaxis": {
                        "gridcolor": "white",
                        "linecolor": "white",
                        "ticks": ""
                      },
                      "bgcolor": "#E5ECF6",
                      "radialaxis": {
                        "gridcolor": "white",
                        "linecolor": "white",
                        "ticks": ""
                      }
                    },
                    "scene": {
                      "xaxis": {
                        "backgroundcolor": "#E5ECF6",
                        "gridcolor": "white",
                        "gridwidth": 2,
                        "linecolor": "white",
                        "showbackground": true,
                        "ticks": "",
                        "zerolinecolor": "white"
                      },
                      "yaxis": {
                        "backgroundcolor": "#E5ECF6",
                        "gridcolor": "white",
                        "gridwidth": 2,
                        "linecolor": "white",
                        "showbackground": true,
                        "ticks": "",
                        "zerolinecolor": "white"
                      },
                      "zaxis": {
                        "backgroundcolor": "#E5ECF6",
                        "gridcolor": "white",
                        "gridwidth": 2,
                        "linecolor": "white",
                        "showbackground": true,
                        "ticks": "",
                        "zerolinecolor": "white"
                      }
                    },
                    "shapedefaults": {
                      "line": {
                        "color": "#2a3f5f"
                      }
                    },
                    "ternary": {
                      "aaxis": {
                        "gridcolor": "white",
                        "linecolor": "white",
                        "ticks": ""
                      },
                      "baxis": {
                        "gridcolor": "white",
                        "linecolor": "white",
                        "ticks": ""
                      },
                      "bgcolor": "#E5ECF6",
                      "caxis": {
                        "gridcolor": "white",
                        "linecolor": "white",
                        "ticks": ""
                      }
                    },
                    "title": {
                      "x": 0.05
                    },
                    "xaxis": {
                      "automargin": true,
                      "gridcolor": "white",
                      "linecolor": "white",
                      "ticks": "",
                      "title": {
                        "standoff": 15
                      },
                      "zerolinecolor": "white",
                      "zerolinewidth": 2
                    },
                    "yaxis": {
                      "automargin": true,
                      "gridcolor": "white",
                      "linecolor": "white",
                      "ticks": "",
                      "title": {
                        "standoff": 15
                      },
                      "zerolinecolor": "white",
                      "zerolinewidth": 2
                    }
                  }
                },
                "title": {
                  "text": "Hyperparameter Importances"
                },
                "xaxis": {
                  "title": {
                    "text": "Hyperparameter Importance"
                  }
                },
                "yaxis": {
                  "title": {
                    "text": "Hyperparameter"
                  }
                }
              }
            }
          },
          "metadata": {},
          "output_type": "display_data"
        }
      ],
      "source": [
        "optuna.visualization.plot_param_importances(study)"
      ]
    },
    {
      "cell_type": "code",
      "execution_count": 50,
      "metadata": {},
      "outputs": [
        {
          "name": "stdout",
          "output_type": "stream",
          "text": [
            "[0.001, 0.0001, 1e-05]\n"
          ]
        }
      ],
      "source": [
        "best_rate = 9.111332423026142e-05\n",
        "learning_rates = [0.001, 0.0001, 0.00001]\n",
        "print(learning_rates)"
      ]
    },
    {
      "cell_type": "code",
      "execution_count": 6,
      "metadata": {},
      "outputs": [],
      "source": [
        "def train_config(model, train_data, val_data, optimizer, num_epochs=3, use_tqdm=True):\n",
        "    # Data loaders with suggested batch size\n",
        "    train_loader = DataLoader(train_data, batch_size=32, shuffle=True)\n",
        "    val_loader = DataLoader(val_data, batch_size=32, shuffle=False)\n",
        "    train_losses = []\n",
        "    val_losses = []\n",
        "    criterion = nn.CrossEntropyLoss()\n",
        "\n",
        "    scheduler = ReduceLROnPlateau(\n",
        "        optimizer,\n",
        "        mode='min',\n",
        "        factor=0.1,\n",
        "        patience=2,\n",
        "        verbose=True,\n",
        "        min_lr=1e-6\n",
        "    )\n",
        "\n",
        "    # Training the neural network\n",
        "    if use_tqdm:\n",
        "        epochs = tqdm(range(num_epochs))\n",
        "    else:\n",
        "        epochs = range(num_epochs)\n",
        "\n",
        "    for epoch in epochs:\n",
        "        model.train()\n",
        "        running_loss = 0.0\n",
        "        for i, data in enumerate(train_loader, 0):\n",
        "            inputs, labels = data\n",
        "            optimizer.zero_grad()\n",
        "            outputs = model(inputs)\n",
        "            loss = criterion(outputs, labels)\n",
        "            loss.backward()\n",
        "            optimizer.step()\n",
        "            running_loss += loss.item()\n",
        "            if i % 100 == 99:  # print every 100 mini-batches\n",
        "                train_losses.append(running_loss / 100)\n",
        "                running_loss = 0.0\n",
        "                if not use_tqdm:\n",
        "                    print(f'Epoch {epoch + 1}, Batch {i + 1}, Loss: {train_losses[-1]}')\n",
        "\n",
        "        running_loss = 0.0  # Reset running loss\n",
        "        model.eval()  # Set model to evaluation mode\n",
        "        with torch.no_grad():  # Disable gradient computation\n",
        "            for i, data in enumerate(val_loader, 0):\n",
        "                inputs, labels = data\n",
        "                outputs = model(inputs)\n",
        "                loss = criterion(outputs, labels)\n",
        "                running_loss += loss.item()\n",
        "\n",
        "        scheduler.step(running_loss)\n",
        "        # Log learning rate\n",
        "        current_lr = optimizer.param_groups[0]['lr']\n",
        "        print(f'Validation Loss: {running_loss / len(val_loader)}, Learning Rate: {current_lr:.6f}')\n",
        "        val_losses.append(running_loss / len(val_loader))\n",
        "        model.train()  # Set model back to training mode\n",
        "\n",
        "    return train_losses, val_losses"
      ]
    },
    {
      "cell_type": "code",
      "execution_count": 31,
      "metadata": {},
      "outputs": [
        {
          "data": {
            "text/plain": [
              "array([1.00000000e-05, 2.78255940e-05, 7.74263683e-05, 2.15443469e-04,\n",
              "       5.99484250e-04, 1.66810054e-03, 4.64158883e-03, 1.29154967e-02,\n",
              "       3.59381366e-02, 1.00000000e-01])"
            ]
          },
          "execution_count": 31,
          "metadata": {},
          "output_type": "execute_result"
        }
      ],
      "source": [
        "learning_rates = np.logspace(-5, -1, num=10)\n",
        "learning_rates"
      ]
    },
    {
      "cell_type": "code",
      "execution_count": 12,
      "metadata": {
        "colab": {
          "base_uri": "https://localhost:8080/"
        },
        "id": "2hFOEXCPEVTw",
        "outputId": "6c4d33e6-8624-4eae-d51b-7008e6826780"
      },
      "outputs": [
        {
          "name": "stderr",
          "output_type": "stream",
          "text": [
            " 10%|█         | 1/10 [00:46<07:00, 46.75s/it]"
          ]
        },
        {
          "name": "stdout",
          "output_type": "stream",
          "text": [
            "Validation Loss: 0.7106702228387197, Learning Rate: 0.000321\n"
          ]
        },
        {
          "name": "stderr",
          "output_type": "stream",
          "text": [
            " 20%|██        | 2/10 [01:33<06:13, 46.71s/it]"
          ]
        },
        {
          "name": "stdout",
          "output_type": "stream",
          "text": [
            "Validation Loss: 0.6462413430213928, Learning Rate: 0.000321\n"
          ]
        },
        {
          "name": "stderr",
          "output_type": "stream",
          "text": [
            " 30%|███       | 3/10 [02:20<05:27, 46.75s/it]"
          ]
        },
        {
          "name": "stdout",
          "output_type": "stream",
          "text": [
            "Validation Loss: 0.5932924262682597, Learning Rate: 0.000321\n"
          ]
        },
        {
          "name": "stderr",
          "output_type": "stream",
          "text": [
            " 40%|████      | 4/10 [03:07<04:40, 46.81s/it]"
          ]
        },
        {
          "name": "stdout",
          "output_type": "stream",
          "text": [
            "Validation Loss: 0.5842608303229014, Learning Rate: 0.000321\n"
          ]
        },
        {
          "name": "stderr",
          "output_type": "stream",
          "text": [
            " 50%|█████     | 5/10 [03:53<03:53, 46.75s/it]"
          ]
        },
        {
          "name": "stdout",
          "output_type": "stream",
          "text": [
            "Validation Loss: 0.5409990511735281, Learning Rate: 0.000321\n"
          ]
        },
        {
          "name": "stderr",
          "output_type": "stream",
          "text": [
            " 60%|██████    | 6/10 [04:40<03:07, 46.82s/it]"
          ]
        },
        {
          "name": "stdout",
          "output_type": "stream",
          "text": [
            "Validation Loss: 0.5522206047375997, Learning Rate: 0.000321\n"
          ]
        },
        {
          "name": "stderr",
          "output_type": "stream",
          "text": [
            " 70%|███████   | 7/10 [05:27<02:20, 46.94s/it]"
          ]
        },
        {
          "name": "stdout",
          "output_type": "stream",
          "text": [
            "Validation Loss: 0.5331588935057322, Learning Rate: 0.000321\n"
          ]
        },
        {
          "name": "stderr",
          "output_type": "stream",
          "text": [
            " 80%|████████  | 8/10 [06:15<01:34, 47.21s/it]"
          ]
        },
        {
          "name": "stdout",
          "output_type": "stream",
          "text": [
            "Validation Loss: 0.5336280425389608, Learning Rate: 0.000321\n"
          ]
        },
        {
          "name": "stderr",
          "output_type": "stream",
          "text": [
            " 90%|█████████ | 9/10 [07:03<00:47, 47.30s/it]"
          ]
        },
        {
          "name": "stdout",
          "output_type": "stream",
          "text": [
            "Validation Loss: 0.5137516343196233, Learning Rate: 0.000321\n"
          ]
        },
        {
          "name": "stderr",
          "output_type": "stream",
          "text": [
            "100%|██████████| 10/10 [07:53<00:00, 47.32s/it]\n"
          ]
        },
        {
          "name": "stdout",
          "output_type": "stream",
          "text": [
            "Validation Loss: 0.5042142977317174, Learning Rate: 0.000321\n",
            "Finished Training for decay value: 1e-06\n"
          ]
        },
        {
          "name": "stderr",
          "output_type": "stream",
          "text": [
            " 10%|█         | 1/10 [00:48<07:12, 48.10s/it]"
          ]
        },
        {
          "name": "stdout",
          "output_type": "stream",
          "text": [
            "Validation Loss: 0.7494317576885223, Learning Rate: 0.000321\n"
          ]
        },
        {
          "name": "stderr",
          "output_type": "stream",
          "text": [
            " 20%|██        | 2/10 [01:36<06:26, 48.26s/it]"
          ]
        },
        {
          "name": "stdout",
          "output_type": "stream",
          "text": [
            "Validation Loss: 0.6544753835995992, Learning Rate: 0.000321\n"
          ]
        },
        {
          "name": "stderr",
          "output_type": "stream",
          "text": [
            " 30%|███       | 3/10 [02:24<05:37, 48.16s/it]"
          ]
        },
        {
          "name": "stdout",
          "output_type": "stream",
          "text": [
            "Validation Loss: 0.6131693232456843, Learning Rate: 0.000321\n"
          ]
        },
        {
          "name": "stderr",
          "output_type": "stream",
          "text": [
            " 40%|████      | 4/10 [03:12<04:48, 48.08s/it]"
          ]
        },
        {
          "name": "stdout",
          "output_type": "stream",
          "text": [
            "Validation Loss: 0.5997854974667232, Learning Rate: 0.000321\n"
          ]
        },
        {
          "name": "stderr",
          "output_type": "stream",
          "text": [
            " 50%|█████     | 5/10 [04:02<04:03, 48.62s/it]"
          ]
        },
        {
          "name": "stdout",
          "output_type": "stream",
          "text": [
            "Validation Loss: 0.5762532177766164, Learning Rate: 0.000321\n"
          ]
        },
        {
          "name": "stderr",
          "output_type": "stream",
          "text": [
            " 60%|██████    | 6/10 [04:50<03:14, 48.72s/it]"
          ]
        },
        {
          "name": "stdout",
          "output_type": "stream",
          "text": [
            "Validation Loss: 0.5537528429826101, Learning Rate: 0.000321\n"
          ]
        },
        {
          "name": "stderr",
          "output_type": "stream",
          "text": [
            " 70%|███████   | 7/10 [05:40<02:26, 48.93s/it]"
          ]
        },
        {
          "name": "stdout",
          "output_type": "stream",
          "text": [
            "Validation Loss: 0.5257064646482468, Learning Rate: 0.000321\n"
          ]
        },
        {
          "name": "stderr",
          "output_type": "stream",
          "text": [
            " 80%|████████  | 8/10 [06:29<01:37, 48.97s/it]"
          ]
        },
        {
          "name": "stdout",
          "output_type": "stream",
          "text": [
            "Validation Loss: 0.5307119858264923, Learning Rate: 0.000321\n"
          ]
        },
        {
          "name": "stderr",
          "output_type": "stream",
          "text": [
            " 90%|█████████ | 9/10 [07:18<00:48, 48.94s/it]"
          ]
        },
        {
          "name": "stdout",
          "output_type": "stream",
          "text": [
            "Validation Loss: 0.5583608630895615, Learning Rate: 0.000321\n"
          ]
        },
        {
          "name": "stderr",
          "output_type": "stream",
          "text": [
            "100%|██████████| 10/10 [08:07<00:00, 48.71s/it]\n"
          ]
        },
        {
          "name": "stdout",
          "output_type": "stream",
          "text": [
            "Validation Loss: 0.5040216606855392, Learning Rate: 0.000321\n",
            "Finished Training for decay value: 1.778279410038923e-06\n"
          ]
        },
        {
          "name": "stderr",
          "output_type": "stream",
          "text": [
            " 10%|█         | 1/10 [00:48<07:17, 48.56s/it]"
          ]
        },
        {
          "name": "stdout",
          "output_type": "stream",
          "text": [
            "Validation Loss: 0.7749093406200409, Learning Rate: 0.000321\n"
          ]
        },
        {
          "name": "stderr",
          "output_type": "stream",
          "text": [
            " 20%|██        | 2/10 [01:37<06:30, 48.81s/it]"
          ]
        },
        {
          "name": "stdout",
          "output_type": "stream",
          "text": [
            "Validation Loss: 0.6520744573275248, Learning Rate: 0.000321\n"
          ]
        },
        {
          "name": "stderr",
          "output_type": "stream",
          "text": [
            " 30%|███       | 3/10 [02:26<05:43, 49.04s/it]"
          ]
        },
        {
          "name": "stdout",
          "output_type": "stream",
          "text": [
            "Validation Loss: 0.6071478714148204, Learning Rate: 0.000321\n"
          ]
        },
        {
          "name": "stderr",
          "output_type": "stream",
          "text": [
            " 40%|████      | 4/10 [03:15<04:53, 48.92s/it]"
          ]
        },
        {
          "name": "stdout",
          "output_type": "stream",
          "text": [
            "Validation Loss: 0.5762890643676122, Learning Rate: 0.000321\n"
          ]
        },
        {
          "name": "stderr",
          "output_type": "stream",
          "text": [
            " 50%|█████     | 5/10 [04:04<04:04, 48.92s/it]"
          ]
        },
        {
          "name": "stdout",
          "output_type": "stream",
          "text": [
            "Validation Loss: 0.5618327259222666, Learning Rate: 0.000321\n"
          ]
        },
        {
          "name": "stderr",
          "output_type": "stream",
          "text": [
            " 60%|██████    | 6/10 [04:53<03:15, 48.79s/it]"
          ]
        },
        {
          "name": "stdout",
          "output_type": "stream",
          "text": [
            "Validation Loss: 0.5499708769321442, Learning Rate: 0.000321\n"
          ]
        },
        {
          "name": "stderr",
          "output_type": "stream",
          "text": [
            " 70%|███████   | 7/10 [05:42<02:26, 48.93s/it]"
          ]
        },
        {
          "name": "stdout",
          "output_type": "stream",
          "text": [
            "Validation Loss: 0.5246781694491705, Learning Rate: 0.000321\n"
          ]
        },
        {
          "name": "stderr",
          "output_type": "stream",
          "text": [
            " 80%|████████  | 8/10 [06:30<01:37, 48.56s/it]"
          ]
        },
        {
          "name": "stdout",
          "output_type": "stream",
          "text": [
            "Validation Loss: 0.5136812406778336, Learning Rate: 0.000321\n"
          ]
        },
        {
          "name": "stderr",
          "output_type": "stream",
          "text": [
            " 90%|█████████ | 9/10 [07:17<00:48, 48.32s/it]"
          ]
        },
        {
          "name": "stdout",
          "output_type": "stream",
          "text": [
            "Validation Loss: 0.5012653450965882, Learning Rate: 0.000321\n"
          ]
        },
        {
          "name": "stderr",
          "output_type": "stream",
          "text": [
            "100%|██████████| 10/10 [08:05<00:00, 48.54s/it]\n"
          ]
        },
        {
          "name": "stdout",
          "output_type": "stream",
          "text": [
            "Validation Loss: 0.511138550043106, Learning Rate: 0.000321\n",
            "Finished Training for decay value: 3.162277660168379e-06\n"
          ]
        },
        {
          "name": "stderr",
          "output_type": "stream",
          "text": [
            " 10%|█         | 1/10 [00:47<07:08, 47.63s/it]"
          ]
        },
        {
          "name": "stdout",
          "output_type": "stream",
          "text": [
            "Validation Loss: 0.7400857988993327, Learning Rate: 0.000321\n"
          ]
        },
        {
          "name": "stderr",
          "output_type": "stream",
          "text": [
            " 20%|██        | 2/10 [01:35<06:20, 47.53s/it]"
          ]
        },
        {
          "name": "stdout",
          "output_type": "stream",
          "text": [
            "Validation Loss: 0.7426152731577556, Learning Rate: 0.000321\n"
          ]
        },
        {
          "name": "stderr",
          "output_type": "stream",
          "text": [
            " 30%|███       | 3/10 [02:22<05:32, 47.47s/it]"
          ]
        },
        {
          "name": "stdout",
          "output_type": "stream",
          "text": [
            "Validation Loss: 0.5960188544591268, Learning Rate: 0.000321\n"
          ]
        },
        {
          "name": "stderr",
          "output_type": "stream",
          "text": [
            " 40%|████      | 4/10 [03:10<04:45, 47.52s/it]"
          ]
        },
        {
          "name": "stdout",
          "output_type": "stream",
          "text": [
            "Validation Loss: 0.5747482202847799, Learning Rate: 0.000321\n"
          ]
        },
        {
          "name": "stderr",
          "output_type": "stream",
          "text": [
            " 50%|█████     | 5/10 [03:57<03:56, 47.40s/it]"
          ]
        },
        {
          "name": "stdout",
          "output_type": "stream",
          "text": [
            "Validation Loss: 0.6064400207599004, Learning Rate: 0.000321\n"
          ]
        },
        {
          "name": "stderr",
          "output_type": "stream",
          "text": [
            " 60%|██████    | 6/10 [04:44<03:09, 47.44s/it]"
          ]
        },
        {
          "name": "stdout",
          "output_type": "stream",
          "text": [
            "Validation Loss: 0.5550276738405228, Learning Rate: 0.000321\n"
          ]
        },
        {
          "name": "stderr",
          "output_type": "stream",
          "text": [
            " 70%|███████   | 7/10 [05:32<02:22, 47.45s/it]"
          ]
        },
        {
          "name": "stdout",
          "output_type": "stream",
          "text": [
            "Validation Loss: 0.5425753126144409, Learning Rate: 0.000321\n"
          ]
        },
        {
          "name": "stderr",
          "output_type": "stream",
          "text": [
            " 80%|████████  | 8/10 [06:19<01:34, 47.47s/it]"
          ]
        },
        {
          "name": "stdout",
          "output_type": "stream",
          "text": [
            "Validation Loss: 0.5180317168235778, Learning Rate: 0.000321\n"
          ]
        },
        {
          "name": "stderr",
          "output_type": "stream",
          "text": [
            " 90%|█████████ | 9/10 [07:07<00:47, 47.45s/it]"
          ]
        },
        {
          "name": "stdout",
          "output_type": "stream",
          "text": [
            "Validation Loss: 0.5145441443125407, Learning Rate: 0.000321\n"
          ]
        },
        {
          "name": "stderr",
          "output_type": "stream",
          "text": [
            "100%|██████████| 10/10 [07:54<00:00, 47.45s/it]\n"
          ]
        },
        {
          "name": "stdout",
          "output_type": "stream",
          "text": [
            "Validation Loss: 0.509024555126826, Learning Rate: 0.000321\n",
            "Finished Training for decay value: 5.623413251903491e-06\n"
          ]
        },
        {
          "name": "stderr",
          "output_type": "stream",
          "text": [
            " 10%|█         | 1/10 [00:47<07:07, 47.46s/it]"
          ]
        },
        {
          "name": "stdout",
          "output_type": "stream",
          "text": [
            "Validation Loss: 0.7810188834667205, Learning Rate: 0.000321\n"
          ]
        },
        {
          "name": "stderr",
          "output_type": "stream",
          "text": [
            " 20%|██        | 2/10 [01:34<06:18, 47.31s/it]"
          ]
        },
        {
          "name": "stdout",
          "output_type": "stream",
          "text": [
            "Validation Loss: 0.6407890509764353, Learning Rate: 0.000321\n"
          ]
        },
        {
          "name": "stderr",
          "output_type": "stream",
          "text": [
            " 30%|███       | 3/10 [02:22<05:31, 47.38s/it]"
          ]
        },
        {
          "name": "stdout",
          "output_type": "stream",
          "text": [
            "Validation Loss: 0.6264274330536524, Learning Rate: 0.000321\n"
          ]
        },
        {
          "name": "stderr",
          "output_type": "stream",
          "text": [
            " 40%|████      | 4/10 [03:09<04:44, 47.40s/it]"
          ]
        },
        {
          "name": "stdout",
          "output_type": "stream",
          "text": [
            "Validation Loss: 0.5923071438074112, Learning Rate: 0.000321\n"
          ]
        },
        {
          "name": "stderr",
          "output_type": "stream",
          "text": [
            " 50%|█████     | 5/10 [03:57<03:57, 47.42s/it]"
          ]
        },
        {
          "name": "stdout",
          "output_type": "stream",
          "text": [
            "Validation Loss: 0.5446747327248256, Learning Rate: 0.000321\n"
          ]
        },
        {
          "name": "stderr",
          "output_type": "stream",
          "text": [
            " 60%|██████    | 6/10 [04:44<03:09, 47.43s/it]"
          ]
        },
        {
          "name": "stdout",
          "output_type": "stream",
          "text": [
            "Validation Loss: 0.5392938052415848, Learning Rate: 0.000321\n"
          ]
        },
        {
          "name": "stderr",
          "output_type": "stream",
          "text": [
            " 70%|███████   | 7/10 [05:31<02:22, 47.42s/it]"
          ]
        },
        {
          "name": "stdout",
          "output_type": "stream",
          "text": [
            "Validation Loss: 0.5186433062156042, Learning Rate: 0.000321\n"
          ]
        },
        {
          "name": "stderr",
          "output_type": "stream",
          "text": [
            " 80%|████████  | 8/10 [06:19<01:34, 47.47s/it]"
          ]
        },
        {
          "name": "stdout",
          "output_type": "stream",
          "text": [
            "Validation Loss: 0.5042101879517238, Learning Rate: 0.000321\n"
          ]
        },
        {
          "name": "stderr",
          "output_type": "stream",
          "text": [
            " 90%|█████████ | 9/10 [07:06<00:47, 47.44s/it]"
          ]
        },
        {
          "name": "stdout",
          "output_type": "stream",
          "text": [
            "Validation Loss: 0.5055508513450623, Learning Rate: 0.000321\n"
          ]
        },
        {
          "name": "stderr",
          "output_type": "stream",
          "text": [
            "100%|██████████| 10/10 [07:54<00:00, 47.41s/it]"
          ]
        },
        {
          "name": "stdout",
          "output_type": "stream",
          "text": [
            "Validation Loss: 0.49351706222693126, Learning Rate: 0.000321\n",
            "Finished Training for decay value: 1e-05\n"
          ]
        },
        {
          "name": "stderr",
          "output_type": "stream",
          "text": [
            "\n"
          ]
        }
      ],
      "source": [
        "all_losses = []\n",
        "all_val_losses = []\n",
        "# first_layer_sizes = [32, 64, 128, 256, 512, 1024]\n",
        "# learning_rate = 0.00017126243071531458\n",
        "# best: [nn.ReLU(), nn.Sigmoid()], dropped: nn.Tanh()\n",
        "# activations = [nn.ReLU(), nn.SiLU(), nn.ELU()]\n",
        "best_decay_so_far = 6.128782742220545e-06\n",
        "weight_decays = np.logspace(-7, -3, num=5)\n",
        "for weight_decay in weight_decays:\n",
        "    # Loss function and optimizer\n",
        "    model = MLP([512, 64, 256, 256, 64], [nn.LeakyReLU(), nn.GELU(), nn.LeakyReLU(), nn.Tanh(), nn.LeakyReLU()])\n",
        "    optimizer = optim.RMSprop(model.parameters(), lr=0.0003211015932835766, weight_decay=weight_decay)\n",
        "\n",
        "    train_losses, val_losses = train_config(model, train_subset, val_subset, optimizer, num_epochs=10)\n",
        "    \n",
        "    all_losses.append(train_losses)\n",
        "    all_val_losses.append(val_losses)\n",
        "\n",
        "    print('Finished Training for decay value:', weight_decay)\n"
      ]
    },
    {
      "cell_type": "markdown",
      "metadata": {},
      "source": [
        "512/1024 seems to give the best results"
      ]
    },
    {
      "cell_type": "code",
      "execution_count": 48,
      "metadata": {},
      "outputs": [
        {
          "name": "stdout",
          "output_type": "stream",
          "text": [
            "Epoch 1, Batch 100, Loss: 1.3081545346975327\n",
            "Epoch 1, Batch 200, Loss: 0.9423140254616738\n",
            "Epoch 1, Batch 300, Loss: 0.815935997068882\n",
            "Epoch 1, Batch 400, Loss: 0.8281712657213212\n",
            "Epoch 1, Batch 500, Loss: 0.7762675866484642\n",
            "Epoch 1, Batch 600, Loss: 0.7798599237203598\n",
            "Epoch 1, Batch 700, Loss: 0.7880303609371185\n",
            "Epoch 1, Batch 800, Loss: 0.7494754737615585\n",
            "Epoch 1, Batch 900, Loss: 0.7560584396123886\n",
            "Epoch 1, Batch 1000, Loss: 0.7405584028363228\n",
            "Epoch 1, Batch 1100, Loss: 0.7307098439335823\n",
            "Epoch 1, Batch 1200, Loss: 0.7421681144833565\n",
            "Epoch 1, Batch 1300, Loss: 0.7009399497509002\n",
            "Epoch 1, Batch 1400, Loss: 0.7256912609934807\n",
            "Epoch 1, Batch 1500, Loss: 0.684276611506939\n",
            "Validation Loss: 0.6780378988186518, Learning Rate: 0.000600\n",
            "Epoch 2, Batch 100, Loss: 0.6466052797436714\n",
            "Epoch 2, Batch 200, Loss: 0.6895584952831268\n",
            "Epoch 2, Batch 300, Loss: 0.6781314605474472\n",
            "Epoch 2, Batch 400, Loss: 0.6804203292727471\n",
            "Epoch 2, Batch 500, Loss: 0.6670074480772018\n",
            "Epoch 2, Batch 600, Loss: 0.686046601831913\n",
            "Epoch 2, Batch 700, Loss: 0.6386635363101959\n",
            "Epoch 2, Batch 800, Loss: 0.6215637248754501\n",
            "Epoch 2, Batch 900, Loss: 0.661886599957943\n",
            "Epoch 2, Batch 1000, Loss: 0.6364353075623512\n",
            "Epoch 2, Batch 1100, Loss: 0.6637040534615517\n",
            "Epoch 2, Batch 1200, Loss: 0.614393898844719\n",
            "Epoch 2, Batch 1300, Loss: 0.6344946876168251\n",
            "Epoch 2, Batch 1400, Loss: 0.6346085104346275\n",
            "Epoch 2, Batch 1500, Loss: 0.6346505175530911\n",
            "Validation Loss: 0.649333877881368, Learning Rate: 0.000600\n",
            "Epoch 3, Batch 100, Loss: 0.6045753008127213\n",
            "Epoch 3, Batch 200, Loss: 0.6184294033050537\n",
            "Epoch 3, Batch 300, Loss: 0.6463447615504265\n",
            "Epoch 3, Batch 400, Loss: 0.5707942387461662\n",
            "Epoch 3, Batch 500, Loss: 0.6037499198317527\n",
            "Epoch 3, Batch 600, Loss: 0.5888083833456039\n",
            "Epoch 3, Batch 700, Loss: 0.6276777422428131\n",
            "Epoch 3, Batch 800, Loss: 0.5819707584381103\n",
            "Epoch 3, Batch 900, Loss: 0.5889845559000969\n",
            "Epoch 3, Batch 1000, Loss: 0.6084691181778907\n",
            "Epoch 3, Batch 1100, Loss: 0.6157763239741325\n",
            "Epoch 3, Batch 1200, Loss: 0.5750612986087799\n",
            "Epoch 3, Batch 1300, Loss: 0.6230546352267265\n",
            "Epoch 3, Batch 1400, Loss: 0.6010745510458946\n",
            "Epoch 3, Batch 1500, Loss: 0.6284567877650261\n",
            "Validation Loss: 0.6093280341625213, Learning Rate: 0.000600\n",
            "Epoch 4, Batch 100, Loss: 0.594195781648159\n",
            "Epoch 4, Batch 200, Loss: 0.5838311097025871\n",
            "Epoch 4, Batch 300, Loss: 0.6072778591513633\n",
            "Epoch 4, Batch 400, Loss: 0.5969359135627746\n",
            "Epoch 4, Batch 500, Loss: 0.5751507967710495\n",
            "Epoch 4, Batch 600, Loss: 0.5805993288755417\n",
            "Epoch 4, Batch 700, Loss: 0.5647510576248169\n",
            "Epoch 4, Batch 800, Loss: 0.5486887508630752\n",
            "Epoch 4, Batch 900, Loss: 0.5973125737905502\n",
            "Epoch 4, Batch 1000, Loss: 0.5901021987199784\n",
            "Epoch 4, Batch 1100, Loss: 0.5492532581090928\n",
            "Epoch 4, Batch 1200, Loss: 0.5607336163520813\n",
            "Epoch 4, Batch 1300, Loss: 0.5774159625172615\n",
            "Epoch 4, Batch 1400, Loss: 0.5556705641746521\n",
            "Epoch 4, Batch 1500, Loss: 0.5799344803392887\n",
            "Validation Loss: 0.5770376608769099, Learning Rate: 0.000600\n",
            "Epoch 5, Batch 100, Loss: 0.5479381701350212\n",
            "Epoch 5, Batch 200, Loss: 0.5483887021243572\n",
            "Epoch 5, Batch 300, Loss: 0.5640781201422215\n",
            "Epoch 5, Batch 400, Loss: 0.5864248490333557\n",
            "Epoch 5, Batch 500, Loss: 0.5667456111311913\n",
            "Epoch 5, Batch 600, Loss: 0.589191270172596\n",
            "Epoch 5, Batch 700, Loss: 0.5610314579308033\n",
            "Epoch 5, Batch 800, Loss: 0.5496995168924331\n",
            "Epoch 5, Batch 900, Loss: 0.5652675005793572\n",
            "Epoch 5, Batch 1000, Loss: 0.5702389952540398\n",
            "Epoch 5, Batch 1100, Loss: 0.5411300802230835\n",
            "Epoch 5, Batch 1200, Loss: 0.5502395087480545\n",
            "Epoch 5, Batch 1300, Loss: 0.5530204060673714\n",
            "Epoch 5, Batch 1400, Loss: 0.5378297436237335\n",
            "Epoch 5, Batch 1500, Loss: 0.5580663219094276\n",
            "Validation Loss: 0.5725797854661941, Learning Rate: 0.000600\n",
            "Epoch 6, Batch 100, Loss: 0.5623791453242302\n",
            "Epoch 6, Batch 200, Loss: 0.549094770848751\n",
            "Epoch 6, Batch 300, Loss: 0.5407874715328217\n",
            "Epoch 6, Batch 400, Loss: 0.5589748060703278\n",
            "Epoch 6, Batch 500, Loss: 0.5548593431711197\n",
            "Epoch 6, Batch 600, Loss: 0.5294926095008851\n",
            "Epoch 6, Batch 700, Loss: 0.5627058120071888\n",
            "Epoch 6, Batch 800, Loss: 0.5557757177948952\n",
            "Epoch 6, Batch 900, Loss: 0.5496558547019958\n",
            "Epoch 6, Batch 1000, Loss: 0.5219769476354122\n",
            "Epoch 6, Batch 1100, Loss: 0.5438600152730941\n",
            "Epoch 6, Batch 1200, Loss: 0.535708686709404\n",
            "Epoch 6, Batch 1300, Loss: 0.5180692653357982\n",
            "Epoch 6, Batch 1400, Loss: 0.5583260747790336\n",
            "Epoch 6, Batch 1500, Loss: 0.5582424128055572\n",
            "Validation Loss: 0.5573625585238139, Learning Rate: 0.000600\n",
            "Epoch 7, Batch 100, Loss: 0.5363739450275898\n",
            "Epoch 7, Batch 200, Loss: 0.5312342524528504\n",
            "Epoch 7, Batch 300, Loss: 0.5328388765454293\n",
            "Epoch 7, Batch 400, Loss: 0.5279915860295296\n",
            "Epoch 7, Batch 500, Loss: 0.5521902932226658\n",
            "Epoch 7, Batch 600, Loss: 0.5354898396134377\n",
            "Epoch 7, Batch 700, Loss: 0.5415950644016266\n",
            "Epoch 7, Batch 800, Loss: 0.539067208468914\n",
            "Epoch 7, Batch 900, Loss: 0.5127592478692532\n",
            "Epoch 7, Batch 1000, Loss: 0.517399617433548\n",
            "Epoch 7, Batch 1100, Loss: 0.5261803209781647\n",
            "Epoch 7, Batch 1200, Loss: 0.5520848481357098\n",
            "Epoch 7, Batch 1300, Loss: 0.5469671854376793\n",
            "Epoch 7, Batch 1400, Loss: 0.5130166271328926\n",
            "Epoch 7, Batch 1500, Loss: 0.5132309444248676\n",
            "Validation Loss: 0.5572991150220236, Learning Rate: 0.000600\n",
            "Epoch 8, Batch 100, Loss: 0.5434681206941605\n",
            "Epoch 8, Batch 200, Loss: 0.5068883235752583\n",
            "Epoch 8, Batch 300, Loss: 0.5242868250608445\n",
            "Epoch 8, Batch 400, Loss: 0.5344011777639389\n",
            "Epoch 8, Batch 500, Loss: 0.5409939286112785\n",
            "Epoch 8, Batch 600, Loss: 0.5146097084879875\n",
            "Epoch 8, Batch 700, Loss: 0.5308089646697044\n",
            "Epoch 8, Batch 800, Loss: 0.5267353095114231\n",
            "Epoch 8, Batch 900, Loss: 0.5157948397099972\n",
            "Epoch 8, Batch 1000, Loss: 0.5247323179244995\n",
            "Epoch 8, Batch 1100, Loss: 0.5301180177927017\n",
            "Epoch 8, Batch 1200, Loss: 0.5012696638703347\n",
            "Epoch 8, Batch 1300, Loss: 0.5226492008566856\n",
            "Epoch 8, Batch 1400, Loss: 0.5397393661737442\n",
            "Epoch 8, Batch 1500, Loss: 0.5157226096093654\n",
            "Validation Loss: 0.5479491684436798, Learning Rate: 0.000600\n",
            "Epoch 9, Batch 100, Loss: 0.5194049045443535\n",
            "Epoch 9, Batch 200, Loss: 0.54708585947752\n",
            "Epoch 9, Batch 300, Loss: 0.509965259283781\n",
            "Epoch 9, Batch 400, Loss: 0.5244383531808853\n",
            "Epoch 9, Batch 500, Loss: 0.513773244023323\n",
            "Epoch 9, Batch 600, Loss: 0.5119544281065465\n",
            "Epoch 9, Batch 700, Loss: 0.5147375470399856\n",
            "Epoch 9, Batch 800, Loss: 0.5242266595363617\n",
            "Epoch 9, Batch 900, Loss: 0.4868975383043289\n",
            "Epoch 9, Batch 1000, Loss: 0.5257908210158349\n",
            "Epoch 9, Batch 1100, Loss: 0.5241137002408505\n",
            "Epoch 9, Batch 1200, Loss: 0.5514727169275284\n",
            "Epoch 9, Batch 1300, Loss: 0.5252136090397834\n",
            "Epoch 9, Batch 1400, Loss: 0.5090354497730732\n",
            "Epoch 9, Batch 1500, Loss: 0.49864166259765624\n",
            "Validation Loss: 0.5118147977987926, Learning Rate: 0.000600\n",
            "Epoch 10, Batch 100, Loss: 0.5111668249964714\n",
            "Epoch 10, Batch 200, Loss: 0.5128927418589592\n",
            "Epoch 10, Batch 300, Loss: 0.4924898529052734\n",
            "Epoch 10, Batch 400, Loss: 0.5427362555265427\n",
            "Epoch 10, Batch 500, Loss: 0.5241916896402836\n",
            "Epoch 10, Batch 600, Loss: 0.5024206636846066\n",
            "Epoch 10, Batch 700, Loss: 0.5223260737955571\n",
            "Epoch 10, Batch 800, Loss: 0.5328257203102111\n",
            "Epoch 10, Batch 900, Loss: 0.475993577092886\n",
            "Epoch 10, Batch 1000, Loss: 0.5094670768082142\n",
            "Epoch 10, Batch 1100, Loss: 0.49634237721562385\n",
            "Epoch 10, Batch 1200, Loss: 0.5107414618134498\n",
            "Epoch 10, Batch 1300, Loss: 0.5240769121050834\n",
            "Epoch 10, Batch 1400, Loss: 0.5107079528272152\n",
            "Epoch 10, Batch 1500, Loss: 0.4938724799454212\n",
            "Validation Loss: 0.5435629288355509, Learning Rate: 0.000600\n",
            "Epoch 11, Batch 100, Loss: 0.5361581440269947\n",
            "Epoch 11, Batch 200, Loss: 0.5144574609398842\n",
            "Epoch 11, Batch 300, Loss: 0.49993041425943374\n",
            "Epoch 11, Batch 400, Loss: 0.5223024782538414\n",
            "Epoch 11, Batch 500, Loss: 0.511075499355793\n",
            "Epoch 11, Batch 600, Loss: 0.491077296435833\n",
            "Epoch 11, Batch 700, Loss: 0.4882649219036102\n",
            "Epoch 11, Batch 800, Loss: 0.4838745364546776\n",
            "Epoch 11, Batch 900, Loss: 0.5060520361363888\n",
            "Epoch 11, Batch 1000, Loss: 0.5121874727308751\n",
            "Epoch 11, Batch 1100, Loss: 0.47877499252557754\n",
            "Epoch 11, Batch 1200, Loss: 0.5091810797154903\n",
            "Epoch 11, Batch 1300, Loss: 0.5119338619709015\n",
            "Epoch 11, Batch 1400, Loss: 0.4999605257809162\n",
            "Epoch 11, Batch 1500, Loss: 0.48079388454556465\n",
            "Validation Loss: 0.50347629348437, Learning Rate: 0.000600\n",
            "Epoch 12, Batch 100, Loss: 0.4733638551831245\n",
            "Epoch 12, Batch 200, Loss: 0.4966531392931938\n",
            "Epoch 12, Batch 300, Loss: 0.48690634727478027\n",
            "Epoch 12, Batch 400, Loss: 0.5011321504414081\n",
            "Epoch 12, Batch 500, Loss: 0.4923738020658493\n",
            "Epoch 12, Batch 600, Loss: 0.48450709372758866\n",
            "Epoch 12, Batch 700, Loss: 0.4964268571138382\n",
            "Epoch 12, Batch 800, Loss: 0.5169502283632755\n",
            "Epoch 12, Batch 900, Loss: 0.48124657601118087\n",
            "Epoch 12, Batch 1000, Loss: 0.5119653823971748\n",
            "Epoch 12, Batch 1100, Loss: 0.5074808479845524\n",
            "Epoch 12, Batch 1200, Loss: 0.5315726065635681\n",
            "Epoch 12, Batch 1300, Loss: 0.5035478547215462\n",
            "Epoch 12, Batch 1400, Loss: 0.4884277203679085\n",
            "Epoch 12, Batch 1500, Loss: 0.5009633222222328\n",
            "Validation Loss: 0.5127381191651026, Learning Rate: 0.000600\n",
            "Epoch 13, Batch 100, Loss: 0.5078785322606564\n",
            "Epoch 13, Batch 200, Loss: 0.4747065369784832\n",
            "Epoch 13, Batch 300, Loss: 0.4896128976345062\n",
            "Epoch 13, Batch 400, Loss: 0.4865191365778446\n",
            "Epoch 13, Batch 500, Loss: 0.4831617633998394\n",
            "Epoch 13, Batch 600, Loss: 0.479745804220438\n",
            "Epoch 13, Batch 700, Loss: 0.5000579130649566\n",
            "Epoch 13, Batch 800, Loss: 0.4783397151529789\n",
            "Epoch 13, Batch 900, Loss: 0.5156843526661397\n",
            "Epoch 13, Batch 1000, Loss: 0.5011199009418488\n",
            "Epoch 13, Batch 1100, Loss: 0.5030184830725193\n",
            "Epoch 13, Batch 1200, Loss: 0.5161545820534229\n",
            "Epoch 13, Batch 1300, Loss: 0.4850208385288715\n",
            "Epoch 13, Batch 1400, Loss: 0.5331424316763878\n",
            "Epoch 13, Batch 1500, Loss: 0.47177316948771475\n",
            "Validation Loss: 0.5024314109881719, Learning Rate: 0.000600\n",
            "Epoch 14, Batch 100, Loss: 0.4643740627169609\n",
            "Epoch 14, Batch 200, Loss: 0.45724694058299065\n",
            "Epoch 14, Batch 300, Loss: 0.4849517047405243\n",
            "Epoch 14, Batch 400, Loss: 0.47406756430864333\n",
            "Epoch 14, Batch 500, Loss: 0.4969500458240509\n",
            "Epoch 14, Batch 600, Loss: 0.5270514750480652\n",
            "Epoch 14, Batch 700, Loss: 0.45514240697026254\n",
            "Epoch 14, Batch 800, Loss: 0.5174031592905521\n",
            "Epoch 14, Batch 900, Loss: 0.5139866797626018\n",
            "Epoch 14, Batch 1000, Loss: 0.4829097960889339\n",
            "Epoch 14, Batch 1100, Loss: 0.49849709421396254\n",
            "Epoch 14, Batch 1200, Loss: 0.48752072542905805\n",
            "Epoch 14, Batch 1300, Loss: 0.5009715934097767\n",
            "Epoch 14, Batch 1400, Loss: 0.48511373564600946\n",
            "Epoch 14, Batch 1500, Loss: 0.4890721483528614\n",
            "Validation Loss: 0.5403883725404739, Learning Rate: 0.000600\n",
            "Epoch 15, Batch 100, Loss: 0.4755810543894768\n",
            "Epoch 15, Batch 200, Loss: 0.4628800010681152\n",
            "Epoch 15, Batch 300, Loss: 0.5045131725072861\n",
            "Epoch 15, Batch 400, Loss: 0.5072135286033154\n",
            "Epoch 15, Batch 500, Loss: 0.4881348516047001\n",
            "Epoch 15, Batch 600, Loss: 0.4683415049314499\n",
            "Epoch 15, Batch 700, Loss: 0.5059959617257118\n",
            "Epoch 15, Batch 800, Loss: 0.4885737231373787\n",
            "Epoch 15, Batch 900, Loss: 0.469826742708683\n",
            "Epoch 15, Batch 1000, Loss: 0.5062360939383507\n",
            "Epoch 15, Batch 1100, Loss: 0.4896550770103931\n",
            "Epoch 15, Batch 1200, Loss: 0.4846386218070984\n",
            "Epoch 15, Batch 1300, Loss: 0.5026667454838752\n",
            "Epoch 15, Batch 1400, Loss: 0.47596464231610297\n",
            "Epoch 15, Batch 1500, Loss: 0.480163686722517\n",
            "Validation Loss: 0.515192010362943, Learning Rate: 0.000600\n",
            "Epoch 16, Batch 100, Loss: 0.4906954763829708\n",
            "Epoch 16, Batch 200, Loss: 0.49801330268383026\n",
            "Epoch 16, Batch 300, Loss: 0.4811829634010792\n",
            "Epoch 16, Batch 400, Loss: 0.4724387834966183\n",
            "Epoch 16, Batch 500, Loss: 0.46290735006332395\n",
            "Epoch 16, Batch 600, Loss: 0.4839123809337616\n",
            "Epoch 16, Batch 700, Loss: 0.4781975810229778\n",
            "Epoch 16, Batch 800, Loss: 0.4848079520463944\n",
            "Epoch 16, Batch 900, Loss: 0.487310092151165\n",
            "Epoch 16, Batch 1000, Loss: 0.49674409344792364\n",
            "Epoch 16, Batch 1100, Loss: 0.4638910521566868\n",
            "Epoch 16, Batch 1200, Loss: 0.4669328767061234\n",
            "Epoch 16, Batch 1300, Loss: 0.48558898314833643\n",
            "Epoch 16, Batch 1400, Loss: 0.49729892909526824\n",
            "Epoch 16, Batch 1500, Loss: 0.4594937362521887\n",
            "Validation Loss: 0.5022736318508784, Learning Rate: 0.000600\n",
            "Epoch 17, Batch 100, Loss: 0.4754041774570942\n",
            "Epoch 17, Batch 200, Loss: 0.4781896497309208\n",
            "Epoch 17, Batch 300, Loss: 0.4763996408879757\n",
            "Epoch 17, Batch 400, Loss: 0.4893716377019882\n",
            "Epoch 17, Batch 500, Loss: 0.4868718984723091\n",
            "Epoch 17, Batch 600, Loss: 0.4872766497731209\n",
            "Epoch 17, Batch 700, Loss: 0.49303424268960955\n",
            "Epoch 17, Batch 800, Loss: 0.4594137345254421\n",
            "Epoch 17, Batch 900, Loss: 0.45288427263498304\n",
            "Epoch 17, Batch 1000, Loss: 0.4583275727927685\n",
            "Epoch 17, Batch 1100, Loss: 0.4832649555802345\n",
            "Epoch 17, Batch 1200, Loss: 0.5053711819648743\n",
            "Epoch 17, Batch 1300, Loss: 0.48534652501344683\n",
            "Epoch 17, Batch 1400, Loss: 0.49018072366714477\n",
            "Epoch 17, Batch 1500, Loss: 0.4695692291855812\n",
            "Validation Loss: 0.485934321920077, Learning Rate: 0.000600\n",
            "Epoch 18, Batch 100, Loss: 0.48288030430674556\n",
            "Epoch 18, Batch 200, Loss: 0.47629681617021563\n",
            "Epoch 18, Batch 300, Loss: 0.46338061690330506\n",
            "Epoch 18, Batch 400, Loss: 0.4642626275122166\n",
            "Epoch 18, Batch 500, Loss: 0.45699037417769434\n",
            "Epoch 18, Batch 600, Loss: 0.47093707203865054\n",
            "Epoch 18, Batch 700, Loss: 0.47020007282495496\n",
            "Epoch 18, Batch 800, Loss: 0.4815441545844078\n",
            "Epoch 18, Batch 900, Loss: 0.48537448078393935\n",
            "Epoch 18, Batch 1000, Loss: 0.4947250600159168\n",
            "Epoch 18, Batch 1100, Loss: 0.4799021293222904\n",
            "Epoch 18, Batch 1200, Loss: 0.4431184883415699\n",
            "Epoch 18, Batch 1300, Loss: 0.4941441735625267\n",
            "Epoch 18, Batch 1400, Loss: 0.4660484881699085\n",
            "Epoch 18, Batch 1500, Loss: 0.4621862068772316\n",
            "Validation Loss: 0.4865882096687953, Learning Rate: 0.000600\n",
            "Epoch 19, Batch 100, Loss: 0.45551564410328865\n",
            "Epoch 19, Batch 200, Loss: 0.48137846514582633\n",
            "Epoch 19, Batch 300, Loss: 0.4693275833129883\n",
            "Epoch 19, Batch 400, Loss: 0.48185289680957794\n",
            "Epoch 19, Batch 500, Loss: 0.45609067618846894\n",
            "Epoch 19, Batch 600, Loss: 0.48697857931256294\n",
            "Epoch 19, Batch 700, Loss: 0.4712457777559757\n",
            "Epoch 19, Batch 800, Loss: 0.4508016110956669\n",
            "Epoch 19, Batch 900, Loss: 0.4621430119872093\n",
            "Epoch 19, Batch 1000, Loss: 0.47465246796607974\n",
            "Epoch 19, Batch 1100, Loss: 0.4494518886506558\n",
            "Epoch 19, Batch 1200, Loss: 0.4756325013935566\n",
            "Epoch 19, Batch 1300, Loss: 0.47593104854226115\n",
            "Epoch 19, Batch 1400, Loss: 0.48482959568500517\n",
            "Epoch 19, Batch 1500, Loss: 0.4939666172862053\n",
            "Validation Loss: 0.4671695015033086, Learning Rate: 0.000600\n",
            "Epoch 20, Batch 100, Loss: 0.4623846632242203\n",
            "Epoch 20, Batch 200, Loss: 0.46812390148639677\n",
            "Epoch 20, Batch 300, Loss: 0.4580496047437191\n",
            "Epoch 20, Batch 400, Loss: 0.47742620021104815\n",
            "Epoch 20, Batch 500, Loss: 0.46313934057950973\n",
            "Epoch 20, Batch 600, Loss: 0.4868577712774277\n",
            "Epoch 20, Batch 700, Loss: 0.47432413071393964\n",
            "Epoch 20, Batch 800, Loss: 0.4557001908123493\n",
            "Epoch 20, Batch 900, Loss: 0.47040980488061906\n",
            "Epoch 20, Batch 1000, Loss: 0.47549919635057447\n",
            "Epoch 20, Batch 1100, Loss: 0.4764660368859768\n",
            "Epoch 20, Batch 1200, Loss: 0.4464131328463554\n",
            "Epoch 20, Batch 1300, Loss: 0.46933689281344415\n",
            "Epoch 20, Batch 1400, Loss: 0.4956917677819729\n",
            "Epoch 20, Batch 1500, Loss: 0.4611580200493336\n",
            "Validation Loss: 0.4760577637354533, Learning Rate: 0.000600\n",
            "Epoch 21, Batch 100, Loss: 0.4498217661678791\n",
            "Epoch 21, Batch 200, Loss: 0.47626660361886025\n",
            "Epoch 21, Batch 300, Loss: 0.45619735181331633\n",
            "Epoch 21, Batch 400, Loss: 0.4787766246497631\n",
            "Epoch 21, Batch 500, Loss: 0.47108806572854517\n",
            "Epoch 21, Batch 600, Loss: 0.4671025878190994\n",
            "Epoch 21, Batch 700, Loss: 0.4766739468276501\n",
            "Epoch 21, Batch 800, Loss: 0.4536990086734295\n",
            "Epoch 21, Batch 900, Loss: 0.44874520987272265\n",
            "Epoch 21, Batch 1000, Loss: 0.4539052215218544\n",
            "Epoch 21, Batch 1100, Loss: 0.477133405059576\n",
            "Epoch 21, Batch 1200, Loss: 0.4662228772044182\n",
            "Epoch 21, Batch 1300, Loss: 0.5023577518761158\n",
            "Epoch 21, Batch 1400, Loss: 0.45050885692238807\n",
            "Epoch 21, Batch 1500, Loss: 0.46332320585846903\n",
            "Validation Loss: 0.4852720534801483, Learning Rate: 0.000600\n",
            "Epoch 22, Batch 100, Loss: 0.451185512393713\n",
            "Epoch 22, Batch 200, Loss: 0.47242733389139174\n",
            "Epoch 22, Batch 300, Loss: 0.4407401531934738\n",
            "Epoch 22, Batch 400, Loss: 0.47527546614408495\n",
            "Epoch 22, Batch 500, Loss: 0.4703408600389957\n",
            "Epoch 22, Batch 600, Loss: 0.45652558997273446\n",
            "Epoch 22, Batch 700, Loss: 0.4718546549975872\n",
            "Epoch 22, Batch 800, Loss: 0.4715228973329067\n",
            "Epoch 22, Batch 900, Loss: 0.46667045548558234\n",
            "Epoch 22, Batch 1000, Loss: 0.4844131803512573\n",
            "Epoch 22, Batch 1100, Loss: 0.4454059265553951\n",
            "Epoch 22, Batch 1200, Loss: 0.4706194308400154\n",
            "Epoch 22, Batch 1300, Loss: 0.46769490391016005\n",
            "Epoch 22, Batch 1400, Loss: 0.4310756534337997\n",
            "Epoch 22, Batch 1500, Loss: 0.467812133282423\n",
            "Validation Loss: 0.4851798632939657, Learning Rate: 0.000060\n",
            "Epoch 23, Batch 100, Loss: 0.45501045264303686\n",
            "Epoch 23, Batch 200, Loss: 0.45792931139469145\n",
            "Epoch 23, Batch 300, Loss: 0.4131258264183998\n",
            "Epoch 23, Batch 400, Loss: 0.4306501816213131\n",
            "Epoch 23, Batch 500, Loss: 0.4035542333126068\n",
            "Epoch 23, Batch 600, Loss: 0.4319963240623474\n",
            "Epoch 23, Batch 700, Loss: 0.4065540458261967\n",
            "Epoch 23, Batch 800, Loss: 0.40445425525307654\n",
            "Epoch 23, Batch 900, Loss: 0.4335124200582504\n",
            "Epoch 23, Batch 1000, Loss: 0.4186056534945965\n",
            "Epoch 23, Batch 1100, Loss: 0.41876299411058426\n",
            "Epoch 23, Batch 1200, Loss: 0.42729571416974066\n",
            "Epoch 23, Batch 1300, Loss: 0.42862485274672507\n",
            "Epoch 23, Batch 1400, Loss: 0.40409428499639033\n",
            "Epoch 23, Batch 1500, Loss: 0.4026425275206566\n",
            "Validation Loss: 0.4366053358912468, Learning Rate: 0.000060\n",
            "Epoch 24, Batch 100, Loss: 0.400740589350462\n",
            "Epoch 24, Batch 200, Loss: 0.42177939012646676\n",
            "Epoch 24, Batch 300, Loss: 0.4144126570224762\n",
            "Epoch 24, Batch 400, Loss: 0.41883239686489104\n",
            "Epoch 24, Batch 500, Loss: 0.415687527731061\n",
            "Epoch 24, Batch 600, Loss: 0.39526426658034325\n",
            "Epoch 24, Batch 700, Loss: 0.4195553055405617\n",
            "Epoch 24, Batch 800, Loss: 0.4091747476160526\n",
            "Epoch 24, Batch 900, Loss: 0.4313307270407677\n",
            "Epoch 24, Batch 1000, Loss: 0.4130194491147995\n",
            "Epoch 24, Batch 1100, Loss: 0.42670433774590494\n",
            "Epoch 24, Batch 1200, Loss: 0.3941089504957199\n",
            "Epoch 24, Batch 1300, Loss: 0.41069487139582633\n",
            "Epoch 24, Batch 1400, Loss: 0.43688745141029356\n",
            "Epoch 24, Batch 1500, Loss: 0.41798228681087496\n",
            "Validation Loss: 0.43771789558728535, Learning Rate: 0.000060\n",
            "Epoch 25, Batch 100, Loss: 0.40654186248779295\n",
            "Epoch 25, Batch 200, Loss: 0.407376874089241\n",
            "Epoch 25, Batch 300, Loss: 0.4222893685102463\n",
            "Epoch 25, Batch 400, Loss: 0.41806395918130873\n",
            "Epoch 25, Batch 500, Loss: 0.42723777443170546\n",
            "Epoch 25, Batch 600, Loss: 0.410670355707407\n",
            "Epoch 25, Batch 700, Loss: 0.38021321713924405\n",
            "Epoch 25, Batch 800, Loss: 0.39932272911071776\n",
            "Epoch 25, Batch 900, Loss: 0.43529565885663035\n",
            "Epoch 25, Batch 1000, Loss: 0.41577519476413727\n",
            "Epoch 25, Batch 1100, Loss: 0.38711994782090187\n",
            "Epoch 25, Batch 1200, Loss: 0.40236045241355894\n",
            "Epoch 25, Batch 1300, Loss: 0.40575044810771943\n",
            "Epoch 25, Batch 1400, Loss: 0.42681041672825815\n",
            "Epoch 25, Batch 1500, Loss: 0.4130456157028675\n",
            "Validation Loss: 0.43290047645568847, Learning Rate: 0.000060\n",
            "Epoch 26, Batch 100, Loss: 0.3937880567461252\n",
            "Epoch 26, Batch 200, Loss: 0.3953424255549908\n",
            "Epoch 26, Batch 300, Loss: 0.4178439021110535\n",
            "Epoch 26, Batch 400, Loss: 0.4050281985104084\n",
            "Epoch 26, Batch 500, Loss: 0.3995643223077059\n",
            "Epoch 26, Batch 600, Loss: 0.40964940294623375\n",
            "Epoch 26, Batch 700, Loss: 0.40534561008214953\n",
            "Epoch 26, Batch 800, Loss: 0.42320594266057016\n",
            "Epoch 26, Batch 900, Loss: 0.4166349908709526\n",
            "Epoch 26, Batch 1000, Loss: 0.40953643932938577\n",
            "Epoch 26, Batch 1100, Loss: 0.40250780031085015\n",
            "Epoch 26, Batch 1200, Loss: 0.3955838166177273\n",
            "Epoch 26, Batch 1300, Loss: 0.4074075748026371\n",
            "Epoch 26, Batch 1400, Loss: 0.4199648089706898\n",
            "Epoch 26, Batch 1500, Loss: 0.38184557750821113\n",
            "Validation Loss: 0.43366620333989464, Learning Rate: 0.000060\n",
            "Epoch 27, Batch 100, Loss: 0.39843425780534747\n",
            "Epoch 27, Batch 200, Loss: 0.4067357447743416\n",
            "Epoch 27, Batch 300, Loss: 0.3996973049640655\n",
            "Epoch 27, Batch 400, Loss: 0.40714130431413653\n",
            "Epoch 27, Batch 500, Loss: 0.40313616320490836\n",
            "Epoch 27, Batch 600, Loss: 0.4181711421906948\n",
            "Epoch 27, Batch 700, Loss: 0.4075186079740524\n",
            "Epoch 27, Batch 800, Loss: 0.4018425005674362\n",
            "Epoch 27, Batch 900, Loss: 0.39055133014917376\n",
            "Epoch 27, Batch 1000, Loss: 0.39576948434114456\n",
            "Epoch 27, Batch 1100, Loss: 0.40870933622121813\n",
            "Epoch 27, Batch 1200, Loss: 0.41372253119945523\n",
            "Epoch 27, Batch 1300, Loss: 0.40734047174453736\n",
            "Epoch 27, Batch 1400, Loss: 0.40784854143857957\n",
            "Epoch 27, Batch 1500, Loss: 0.4256014575064182\n",
            "Validation Loss: 0.42930457456906634, Learning Rate: 0.000060\n",
            "Epoch 28, Batch 100, Loss: 0.401267564445734\n",
            "Epoch 28, Batch 200, Loss: 0.4094571624696255\n",
            "Epoch 28, Batch 300, Loss: 0.38838950872421263\n",
            "Epoch 28, Batch 400, Loss: 0.3932333573698997\n",
            "Epoch 28, Batch 500, Loss: 0.3944842605292797\n",
            "Epoch 28, Batch 600, Loss: 0.4175326684117317\n",
            "Epoch 28, Batch 700, Loss: 0.4082267248630524\n",
            "Epoch 28, Batch 800, Loss: 0.4127714541554451\n",
            "Epoch 28, Batch 900, Loss: 0.405226216390729\n",
            "Epoch 28, Batch 1000, Loss: 0.4058164808154106\n",
            "Epoch 28, Batch 1100, Loss: 0.39710094407200813\n",
            "Epoch 28, Batch 1200, Loss: 0.4106041760742664\n",
            "Epoch 28, Batch 1300, Loss: 0.40280444324016573\n",
            "Epoch 28, Batch 1400, Loss: 0.41674191892147067\n",
            "Epoch 28, Batch 1500, Loss: 0.3829875598847866\n",
            "Validation Loss: 0.424399218082428, Learning Rate: 0.000060\n",
            "Epoch 29, Batch 100, Loss: 0.38466224998235704\n",
            "Epoch 29, Batch 200, Loss: 0.4052437010407448\n",
            "Epoch 29, Batch 300, Loss: 0.39757070675492284\n",
            "Epoch 29, Batch 400, Loss: 0.41822340682148934\n",
            "Epoch 29, Batch 500, Loss: 0.41653893440961837\n",
            "Epoch 29, Batch 600, Loss: 0.4086759489774704\n",
            "Epoch 29, Batch 700, Loss: 0.3935242064297199\n",
            "Epoch 29, Batch 800, Loss: 0.4141669349372387\n",
            "Epoch 29, Batch 900, Loss: 0.3829734821617603\n",
            "Epoch 29, Batch 1000, Loss: 0.3978315407037735\n",
            "Epoch 29, Batch 1100, Loss: 0.43145297065377236\n",
            "Epoch 29, Batch 1200, Loss: 0.4049643644690514\n",
            "Epoch 29, Batch 1300, Loss: 0.4011244679987431\n",
            "Epoch 29, Batch 1400, Loss: 0.38579105272889136\n",
            "Epoch 29, Batch 1500, Loss: 0.39209637299180033\n",
            "Validation Loss: 0.4279816590150197, Learning Rate: 0.000060\n",
            "Epoch 30, Batch 100, Loss: 0.4018874908983707\n",
            "Epoch 30, Batch 200, Loss: 0.4132275928556919\n",
            "Epoch 30, Batch 300, Loss: 0.3829480826854706\n",
            "Epoch 30, Batch 400, Loss: 0.38517775788903236\n",
            "Epoch 30, Batch 500, Loss: 0.4034327557682991\n",
            "Epoch 30, Batch 600, Loss: 0.4024625015258789\n",
            "Epoch 30, Batch 700, Loss: 0.41668102830648424\n",
            "Epoch 30, Batch 800, Loss: 0.4136126485466957\n",
            "Epoch 30, Batch 900, Loss: 0.41577225491404535\n",
            "Epoch 30, Batch 1000, Loss: 0.374083601385355\n",
            "Epoch 30, Batch 1100, Loss: 0.4134184118360281\n",
            "Epoch 30, Batch 1200, Loss: 0.41929580226540564\n",
            "Epoch 30, Batch 1300, Loss: 0.4064988188445568\n",
            "Epoch 30, Batch 1400, Loss: 0.38973007634282114\n",
            "Epoch 30, Batch 1500, Loss: 0.3884242977201939\n",
            "Validation Loss: 0.42654234637816746, Learning Rate: 0.000060\n"
          ]
        }
      ],
      "source": [
        "model = MLP([512, 128], [nn.ReLU(), nn.Tanh()])\n",
        "optimizer = optim.Adam(model.parameters(), lr=0.0006, weight_decay=0.00016056123553795924)\n",
        "train_losses, val_losses = train_config(model, train_subset, val_subset, optimizer, num_epochs=30, use_tqdm=False)"
      ]
    },
    {
      "cell_type": "code",
      "execution_count": 10,
      "metadata": {},
      "outputs": [
        {
          "name": "stderr",
          "output_type": "stream",
          "text": [
            "C:\\Users\\rgbmr\\AppData\\Local\\Temp\\ipykernel_8696\\3062637867.py:4: MatplotlibDeprecationWarning: The get_cmap function was deprecated in Matplotlib 3.7 and will be removed two minor releases later. Use ``matplotlib.colormaps[name]`` or ``matplotlib.colormaps.get_cmap(obj)`` instead.\n",
            "  colors = plt.cm.get_cmap('tab10', num_configs)  # Get a color map with enough colors\n"
          ]
        },
        {
          "data": {
            "image/png": "[encoded data removed]",
            "text/plain": [
              "<Figure size 1200x600 with 1 Axes>"
            ]
          },
          "metadata": {},
          "output_type": "display_data"
        }
      ],
      "source": [
        "def plot_losses(all_train_losses, all_val_losses):\n",
        "    plt.figure(figsize=(12, 6))  # Set a suitable figure size\n",
        "    num_configs = len(all_train_losses)\n",
        "    colors = plt.cm.get_cmap('tab10', num_configs)  # Get a color map with enough colors\n",
        "\n",
        "    for idx, (train_losses, val_losses) in enumerate(zip(all_train_losses, all_val_losses)):\n",
        "        # Use different colors for each configuration\n",
        "        color = colors(idx)\n",
        "        # Plot training losses with solid lines\n",
        "        plt.plot(train_losses[:len(val_losses)], label=f'Train Loss Config {idx+1}', color=color, linestyle='-')\n",
        "        # Plot validation losses with dashed lines\n",
        "        plt.plot(val_losses, label=f'Val Loss Config {idx+1}', color=color, linestyle='--')\n",
        "\n",
        "    plt.xlabel('Epoch')\n",
        "    plt.ylabel('Loss')\n",
        "    plt.title('Training and Validation Losses for All Configurations')\n",
        "    plt.legend()\n",
        "    plt.grid(True)\n",
        "    plt.show()\n",
        "\n",
        "plot_losses(all_losses, all_val_losses)\n",
        "#plot_losses([train_losses], [val_losses]) # only one configuration"
      ]
    },
    {
      "cell_type": "code",
      "execution_count": 50,
      "metadata": {
        "colab": {
          "base_uri": "https://localhost:8080/"
        },
        "id": "RNMCpk60EaXr",
        "outputId": "c8ffbf3e-bd21-4e29-8428-8405792a0d9a"
      },
      "outputs": [
        {
          "name": "stdout",
          "output_type": "stream",
          "text": [
            "Accuracy on test set: 0.8385\n"
          ]
        }
      ],
      "source": [
        "# Evaluating the model\n",
        "model.eval()\n",
        "correct = 0\n",
        "total = 0\n",
        "test_loader = DataLoader(test_dataset, batch_size=32, shuffle=False)\n",
        "with torch.no_grad():\n",
        "    for data in test_loader:\n",
        "        images, labels = data\n",
        "        outputs = model(images)\n",
        "        _, predicted = torch.max(outputs.data, 1)\n",
        "        total += labels.size(0)\n",
        "        correct += (predicted == labels).sum().item()\n",
        "\n",
        "print(f'Accuracy on test set: { correct / total}')"
      ]
    },
    {
      "cell_type": "code",
      "execution_count": 23,
      "metadata": {
        "colab": {
          "base_uri": "https://localhost:8080/",
          "height": 428
        },
        "id": "J2GkmLeQEeZV",
        "outputId": "cb5bae66-d3d2-4163-deef-5828aad6b068"
      },
      "outputs": [
        {
          "data": {
            "image/png": "[encoded data removed]",
            "text/plain": [
              "<Figure size 640x480 with 1 Axes>"
            ]
          },
          "metadata": {},
          "output_type": "display_data"
        }
      ],
      "source": [
        "image_index = 27\n",
        "test_image, test_label = test_dataset[image_index]\n",
        "\n",
        "with torch.no_grad():\n",
        "    model.eval()\n",
        "    output = model(test_image.unsqueeze(0))\n",
        "    _, predicted_label = torch.max(output, 1)\n",
        "\n",
        "test_image_numpy = test_image.squeeze().numpy()\n",
        "\n",
        "plt.imshow(test_image_numpy, cmap='gray')\n",
        "plt.title(f'Predicted Label: {labels_map[predicted_label.item()]}, Actual Label: {labels_map[test_label]}')\n",
        "plt.axis('off')\n",
        "plt.show()"
      ]
    },
    {
      "cell_type": "markdown",
      "metadata": {
        "id": "K5nxrEoAHAUX"
      },
      "source": [
        "## PART - 3\n",
        "\n",
        "### FMNIST CNN Implimentation with Keras"
      ]
    },
    {
      "cell_type": "code",
      "execution_count": 6,
      "metadata": {
        "id": "ccRJi8VXH3_O"
      },
      "outputs": [],
      "source": [
        "import keras\n",
        "from keras.datasets import fashion_mnist\n",
        "from keras.models import Sequential\n",
        "from keras.layers import Conv2D, MaxPooling2D, Dense, Flatten\n",
        "from keras.optimizers import SGD\n",
        "from keras.utils import to_categorical\n",
        "import numpy as np"
      ]
    },
    {
      "cell_type": "code",
      "execution_count": 2,
      "metadata": {
        "id": "k41uN-aAIH6Y"
      },
      "outputs": [],
      "source": [
        "# Mapping the labels for the MNIST dataset\n",
        "labels_map = {\n",
        "    0: \"0\", 1: \"1\", 2: \"2\", 3: \"3\", 4: \"4\",\n",
        "    5: \"5\", 6: \"6\", 7: \"7\", 8: \"8\", 9: \"9\"\n",
        "}"
      ]
    },
    {
      "cell_type": "code",
      "execution_count": 3,
      "metadata": {
        "colab": {
          "base_uri": "https://localhost:8080/"
        },
        "id": "4_MUVyZ5Iksr",
        "outputId": "fee20814-4805-46b6-9c2a-cea97192b605"
      },
      "outputs": [
        {
          "name": "stdout",
          "output_type": "stream",
          "text": [
            "Downloading data from https://storage.googleapis.com/tensorflow/tf-keras-datasets/train-labels-idx1-ubyte.gz\n",
            "\u001b[1m29515/29515\u001b[0m \u001b[32m━━━━━━━━━━━━━━━━━━━━\u001b[0m\u001b[37m\u001b[0m \u001b[1m0s\u001b[0m 0us/step\n",
            "Downloading data from https://storage.googleapis.com/tensorflow/tf-keras-datasets/train-images-idx3-ubyte.gz\n",
            "\u001b[1m26421880/26421880\u001b[0m \u001b[32m━━━━━━━━━━━━━━━━━━━━\u001b[0m\u001b[37m\u001b[0m \u001b[1m2s\u001b[0m 0us/step\n",
            "Downloading data from https://storage.googleapis.com/tensorflow/tf-keras-datasets/t10k-labels-idx1-ubyte.gz\n",
            "\u001b[1m5148/5148\u001b[0m \u001b[32m━━━━━━━━━━━━━━━━━━━━\u001b[0m\u001b[37m\u001b[0m \u001b[1m0s\u001b[0m 1us/step\n",
            "Downloading data from https://storage.googleapis.com/tensorflow/tf-keras-datasets/t10k-images-idx3-ubyte.gz\n",
            "\u001b[1m4422102/4422102\u001b[0m \u001b[32m━━━━━━━━━━━━━━━━━━━━\u001b[0m\u001b[37m\u001b[0m \u001b[1m1s\u001b[0m 0us/step\n"
          ]
        }
      ],
      "source": [
        "# Load and preprocess the data\n",
        "(x_train, y_train), (x_test, y_test) = fashion_mnist.load_data()\n",
        "x_train = x_train / 255.0\n",
        "x_test = x_test / 255.0\n",
        "y_train = to_categorical(y_train)\n",
        "y_test = to_categorical(y_test)"
      ]
    },
    {
      "cell_type": "code",
      "execution_count": 4,
      "metadata": {
        "id": "AEoqWEFz5Ms-"
      },
      "outputs": [],
      "source": [
        "(x_train, y_train), (x_test, y_test) = fashion_mnist.load_data()\n",
        "\n",
        "# Preprocess the data\n",
        "x_train = x_train.reshape(x_train.shape[0], 28, 28, 1).astype('float32') / 255\n",
        "x_test = x_test.reshape(x_test.shape[0], 28, 28, 1).astype('float32') / 255\n",
        "\n",
        "# Convert labels to one-hot encoding\n",
        "y_train = to_categorical(y_train, 10)\n",
        "y_test = to_categorical(y_test, 10)"
      ]
    },
    {
      "cell_type": "code",
      "execution_count": 19,
      "metadata": {
        "colab": {
          "base_uri": "https://localhost:8080/"
        },
        "id": "eX_tkHuwEK7B",
        "outputId": "6914193e-b027-4100-ce9b-c27788c30802"
      },
      "outputs": [
        {
          "name": "stderr",
          "output_type": "stream",
          "text": [
            "/usr/local/lib/python3.10/dist-packages/keras/src/layers/convolutional/base_conv.py:107: UserWarning: Do not pass an `input_shape`/`input_dim` argument to a layer. When using Sequential models, prefer using an `Input(shape)` object as the first layer in the model instead.\n",
            "  super().__init__(activity_regularizer=activity_regularizer, **kwargs)\n"
          ]
        }
      ],
      "source": [
        "model = Sequential([\n",
        "    Conv2D(16, (3, 3), activation='sigmoid', input_shape=(28, 28, 1)),  # 16 filters (reduced), 3x3 kernel\n",
        "    MaxPooling2D(pool_size=(5, 5)),  # Max pooling with 2x2 pool size\n",
        "    # Flatten the output before passing to Dense layers\n",
        "    Flatten(),\n",
        "    Dense(64, activation='softmax'),  # Reduced from 128 to 64 units\n",
        "    Dense(10, activation='softmax')  # Output layer with 10 units for classification\n",
        "])\n",
        "\n",
        "## change the architecture with CONV2D, Pooling, and Dense."
      ]
    },
    {
      "cell_type": "code",
      "execution_count": 11,
      "metadata": {
        "id": "nPfHtKytJd9Q"
      },
      "outputs": [],
      "source": [
        "learning_rate = 0.01\n",
        "epochs = 5\n",
        "batch_size = 48\n",
        "\n",
        "# Compile the model\n",
        "model.compile(optimizer=SGD(learning_rate=learning_rate),\n",
        "              loss='categorical_crossentropy',\n",
        "              metrics=['accuracy'])"
      ]
    },
    {
      "cell_type": "code",
      "execution_count": 12,
      "metadata": {
        "colab": {
          "base_uri": "https://localhost:8080/"
        },
        "id": "JlPkc9auJkET",
        "outputId": "ed426026-a519-43d4-a811-039b74e7c7d4"
      },
      "outputs": [
        {
          "name": "stdout",
          "output_type": "stream",
          "text": [
            "Epoch 1/5\n",
            "\u001b[1m1250/1250\u001b[0m \u001b[32m━━━━━━━━━━━━━━━━━━━━\u001b[0m\u001b[37m\u001b[0m \u001b[1m3s\u001b[0m 2ms/step - accuracy: 0.0981 - loss: 2.3028\n",
            "Epoch 2/5\n",
            "\u001b[1m1250/1250\u001b[0m \u001b[32m━━━━━━━━━━━━━━━━━━━━\u001b[0m\u001b[37m\u001b[0m \u001b[1m5s\u001b[0m 2ms/step - accuracy: 0.0969 - loss: 2.3024\n",
            "Epoch 3/5\n",
            "\u001b[1m1250/1250\u001b[0m \u001b[32m━━━━━━━━━━━━━━━━━━━━\u001b[0m\u001b[37m\u001b[0m \u001b[1m2s\u001b[0m 2ms/step - accuracy: 0.0964 - loss: 2.3020\n",
            "Epoch 4/5\n",
            "\u001b[1m1250/1250\u001b[0m \u001b[32m━━━━━━━━━━━━━━━━━━━━\u001b[0m\u001b[37m\u001b[0m \u001b[1m3s\u001b[0m 2ms/step - accuracy: 0.1077 - loss: 2.3015\n",
            "Epoch 5/5\n",
            "\u001b[1m1250/1250\u001b[0m \u001b[32m━━━━━━━━━━━━━━━━━━━━\u001b[0m\u001b[37m\u001b[0m \u001b[1m2s\u001b[0m 2ms/step - accuracy: 0.0918 - loss: 2.3002\n",
            "\u001b[1m313/313\u001b[0m \u001b[32m━━━━━━━━━━━━━━━━━━━━\u001b[0m\u001b[37m\u001b[0m \u001b[1m2s\u001b[0m 3ms/step - accuracy: 0.0962 - loss: 2.2981\n",
            "Test accuracy: 0.10000000149011612\n"
          ]
        }
      ],
      "source": [
        "model.fit(x_train, y_train, epochs=epochs, batch_size=batch_size, verbose=1)\n",
        "\n",
        "# Evaluate the model\n",
        "loss, accuracy = model.evaluate(x_test, y_test)\n",
        "print('Test accuracy:', accuracy)"
      ]
    },
    {
      "cell_type": "code",
      "execution_count": 13,
      "metadata": {
        "colab": {
          "base_uri": "https://localhost:8080/"
        },
        "id": "ig5GXhcG5fy6",
        "outputId": "b41b841c-b2e6-4520-e664-518039d33b4a"
      },
      "outputs": [
        {
          "name": "stdout",
          "output_type": "stream",
          "text": [
            "Epoch 1/5\n",
            "\u001b[1m1000/1000\u001b[0m \u001b[32m━━━━━━━━━━━━━━━━━━━━\u001b[0m\u001b[37m\u001b[0m \u001b[1m3s\u001b[0m 3ms/step - accuracy: 0.0951 - loss: 2.2976 - val_accuracy: 0.0782 - val_loss: 2.2944\n",
            "Epoch 2/5\n",
            "\u001b[1m1000/1000\u001b[0m \u001b[32m━━━━━━━━━━━━━━━━━━━━\u001b[0m\u001b[37m\u001b[0m \u001b[1m4s\u001b[0m 2ms/step - accuracy: 0.1121 - loss: 2.2928 - val_accuracy: 0.1810 - val_loss: 2.2860\n",
            "Epoch 3/5\n",
            "\u001b[1m1000/1000\u001b[0m \u001b[32m━━━━━━━━━━━━━━━━━━━━\u001b[0m\u001b[37m\u001b[0m \u001b[1m2s\u001b[0m 2ms/step - accuracy: 0.1941 - loss: 2.2815 - val_accuracy: 0.1964 - val_loss: 2.2593\n",
            "Epoch 4/5\n",
            "\u001b[1m1000/1000\u001b[0m \u001b[32m━━━━━━━━━━━━━━━━━━━━\u001b[0m\u001b[37m\u001b[0m \u001b[1m2s\u001b[0m 2ms/step - accuracy: 0.2090 - loss: 2.2439 - val_accuracy: 0.2071 - val_loss: 2.1862\n",
            "Epoch 5/5\n",
            "\u001b[1m1000/1000\u001b[0m \u001b[32m━━━━━━━━━━━━━━━━━━━━\u001b[0m\u001b[37m\u001b[0m \u001b[1m2s\u001b[0m 2ms/step - accuracy: 0.2047 - loss: 2.1652 - val_accuracy: 0.2084 - val_loss: 2.1000\n",
            "\u001b[1m313/313\u001b[0m \u001b[32m━━━━━━━━━━━━━━━━━━━━\u001b[0m\u001b[37m\u001b[0m \u001b[1m0s\u001b[0m 1ms/step - accuracy: 0.2142 - loss: 2.0979\n",
            "Test accuracy: 0.2093999981880188\n"
          ]
        }
      ],
      "source": [
        "from keras.callbacks import EarlyStopping\n",
        "\n",
        "# Define early stopping callback\n",
        "early_stopping = EarlyStopping(monitor='val_loss', patience=6, restore_best_weights=True)\n",
        "\n",
        "# Train the model with early stopping\n",
        "model.fit(x_train, y_train, epochs=epochs, batch_size=batch_size, verbose=1, validation_split=0.2, callbacks=[early_stopping])\n",
        "\n",
        "# Evaluate the model\n",
        "loss, accuracy = model.evaluate(x_test, y_test)\n",
        "print('Test accuracy:', accuracy)"
      ]
    },
    {
      "cell_type": "code",
      "execution_count": 18,
      "metadata": {
        "colab": {
          "base_uri": "https://localhost:8080/",
          "height": 445
        },
        "id": "zJa4Lf76KZDM",
        "outputId": "5f20b1c1-f05c-40d1-f0d1-930d6501c654"
      },
      "outputs": [
        {
          "name": "stdout",
          "output_type": "stream",
          "text": [
            "\u001b[1m1/1\u001b[0m \u001b[32m━━━━━━━━━━━━━━━━━━━━\u001b[0m\u001b[37m\u001b[0m \u001b[1m0s\u001b[0m 17ms/step\n"
          ]
        },
        {
          "data": {
            "image/png": "[encoded data removed]",
            "text/plain": [
              "<Figure size 640x480 with 1 Axes>"
            ]
          },
          "metadata": {},
          "output_type": "display_data"
        }
      ],
      "source": [
        "image_index = 27\n",
        "\n",
        "# Extract the test image and label\n",
        "test_image = x_test[image_index]\n",
        "test_label = np.argmax(y_test[image_index])\n",
        "\n",
        "# Reshape the test image for prediction (Keras expects a batch dimension)\n",
        "test_image_reshaped = np.expand_dims(test_image, axis=0)\n",
        "\n",
        "# Make predictions on the test image\n",
        "predicted_label = np.argmax(model.predict(test_image_reshaped), axis=-1)\n",
        "\n",
        "# Plot the test image with predicted and actual labels\n",
        "plt.imshow(test_image, cmap='gray')\n",
        "plt.title(f'Predicted Label: {predicted_label[0]}, Actual Label: {test_label}')\n",
        "plt.axis('off')\n",
        "plt.show()"
      ]
    },
    {
      "cell_type": "markdown",
      "metadata": {
        "id": "XWO9KNmgQ0VX"
      },
      "source": [
        "### Just to explore TensorFlow Implemenation of CNN.\n",
        "\n",
        "Not Required For Submission."
      ]
    },
    {
      "cell_type": "code",
      "execution_count": null,
      "metadata": {
        "colab": {
          "base_uri": "https://localhost:8080/"
        },
        "id": "cc8F7Lo_AOII",
        "outputId": "107054e4-528a-48a6-8b79-67bd294c8377"
      },
      "outputs": [
        {
          "name": "stdout",
          "output_type": "stream",
          "text": [
            "Epoch 1/5\n",
            "\u001b[1m1875/1875\u001b[0m \u001b[32m━━━━━━━━━━━━━━━━━━━━\u001b[0m\u001b[37m\u001b[0m \u001b[1m4s\u001b[0m 2ms/step - accuracy: 0.1010 - loss: 2.3026\n",
            "Epoch 2/5\n",
            "\u001b[1m1875/1875\u001b[0m \u001b[32m━━━━━━━━━━━━━━━━━━━━\u001b[0m\u001b[37m\u001b[0m \u001b[1m4s\u001b[0m 2ms/step - accuracy: 0.0984 - loss: 2.3026\n",
            "Epoch 3/5\n",
            "\u001b[1m1875/1875\u001b[0m \u001b[32m━━━━━━━━━━━━━━━━━━━━\u001b[0m\u001b[37m\u001b[0m \u001b[1m4s\u001b[0m 2ms/step - accuracy: 0.1009 - loss: 2.3026\n",
            "Epoch 4/5\n",
            "\u001b[1m1875/1875\u001b[0m \u001b[32m━━━━━━━━━━━━━━━━━━━━\u001b[0m\u001b[37m\u001b[0m \u001b[1m4s\u001b[0m 2ms/step - accuracy: 0.1026 - loss: 2.3025\n",
            "Epoch 5/5\n",
            "\u001b[1m1875/1875\u001b[0m \u001b[32m━━━━━━━━━━━━━━━━━━━━\u001b[0m\u001b[37m\u001b[0m \u001b[1m4s\u001b[0m 2ms/step - accuracy: 0.1026 - loss: 2.3024\n",
            "313/313 - 2s - 7ms/step - accuracy: 0.1000 - loss: 2.3023\n",
            "\n",
            "Test accuracy: 0.10000000149011612\n"
          ]
        }
      ],
      "source": [
        "import tensorflow as tf\n",
        "from tensorflow.keras import layers, models\n",
        "\n",
        "# Load the Fashion MNIST dataset\n",
        "fashion_mnist = tf.keras.datasets.fashion_mnist\n",
        "(train_images, train_labels), (test_images, test_labels) = fashion_mnist.load_data()\n",
        "\n",
        "# Normalize pixel values to be between 0 and 1\n",
        "train_images, test_images = train_images / 255.0, test_images / 255.0\n",
        "\n",
        "# Define the CNN model\n",
        "model = models.Sequential([\n",
        "    layers.Conv2D(16, (5, 5), activation='sigmoid', input_shape=(28, 28, 1)),\n",
        "    layers.MaxPooling2D((2, 2)),\n",
        "    layers.Conv2D(32, (3, 3), activation='tanh'),\n",
        "    layers.MaxPooling2D((3, 3)),\n",
        "    layers.Flatten(),\n",
        "    layers.Dense(128, activation='softmax'),\n",
        "    layers.Dense(10)\n",
        "])\n",
        "\n",
        "# Compile the model\n",
        "model.compile(optimizer='SGD',\n",
        "              loss=tf.keras.losses.SparseCategoricalCrossentropy(from_logits=True),\n",
        "              metrics=['accuracy'])\n",
        "\n",
        "# Train the model\n",
        "model.fit(train_images.reshape(-1, 28, 28, 1), train_labels, epochs=5)\n",
        "\n",
        "# Evaluate the model\n",
        "test_loss, test_acc = model.evaluate(test_images.reshape(-1, 28, 28, 1), test_labels, verbose=2)\n",
        "print('\\nTest accuracy:', test_acc)"
      ]
    },
    {
      "cell_type": "markdown",
      "metadata": {
        "id": "nK1xXT5W7cMS"
      },
      "source": [
        "## AUTOMATED TUNING (EXETENDED)"
      ]
    },
    {
      "cell_type": "code",
      "execution_count": null,
      "metadata": {
        "id": "yIeVei_C8sVB"
      },
      "outputs": [],
      "source": [
        "https://www.tensorflow.org/tensorboard/hyperparameter_tuning_with_hparams"
      ]
    }
  ],
  "metadata": {
    "accelerator": "GPU",
    "colab": {
      "gpuType": "T4",
      "provenance": [],
      "toc_visible": true
    },
    "kernelspec": {
      "display_name": "Python 3",
      "name": "python3"
    },
    "language_info": {
      "codemirror_mode": {
        "name": "ipython",
        "version": 3
      },
      "file_extension": ".py",
      "mimetype": "text/x-python",
      "name": "python",
      "nbconvert_exporter": "python",
      "pygments_lexer": "ipython3",
      "version": "3.12.5"
    }
  },
  "nbformat": 4,
  "nbformat_minor": 0
}
